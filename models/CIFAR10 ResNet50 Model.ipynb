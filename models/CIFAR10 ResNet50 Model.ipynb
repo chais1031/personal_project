{
 "metadata": {
  "kernelspec": {
   "display_name": "Python 3",
   "language": "python",
   "name": "python3"
  },
  "language_info": {
   "codemirror_mode": {
    "name": "ipython",
    "version": 3
   },
   "file_extension": ".py",
   "mimetype": "text/x-python",
   "name": "python",
   "nbconvert_exporter": "python",
   "pygments_lexer": "ipython3",
   "version": "3.7.4"
  },
  "name": ""
 },
 "nbformat": 3,
 "nbformat_minor": 0,
 "worksheets": [
  {
   "cells": [
    {
     "cell_type": "heading",
     "level": 1,
     "metadata": {},
     "source": [
      "Exploring Contextural Bias of ResNet50 on CIFAR10 Dataset"
     ]
    },
    {
     "cell_type": "markdown",
     "metadata": {},
     "source": [
      "### Introduction\n",
      "\n",
      "This notebook trains and tests a vanilla ResNet50 model and a stylised ResNet50 model with the CIFAR10 dataset. It includes functions for loading the dataset, turning them into tensors, model training and testing."
     ]
    },
    {
     "cell_type": "code",
     "collapsed": false,
     "input": [
      "import torch\n",
      "import torchvision\n",
      "import torch.nn as nn\n",
      "import torch.nn.functional as F\n",
      "import torch.optim as optim\n",
      "from torch.nn import Conv2d, AvgPool2d\n",
      "from torch.utils.data import DataLoader, Dataset\n",
      "from torchvision import transforms\n",
      "import os\n",
      "from skimage import io\n",
      "import numpy as np\n",
      "from PIL import Image"
     ],
     "language": "python",
     "metadata": {},
     "outputs": [],
     "prompt_number": 1
    },
    {
     "cell_type": "markdown",
     "metadata": {},
     "source": [
      "### Data Loading\n",
      "\n",
      "The following cell provides a class that loads the CIFAR dataset given the relevant path, processes it into a dictionary format of class labels and content then processes the images into tensors. The class also has helper functions to extract information about the dataset needed for model training and testing."
     ]
    },
    {
     "cell_type": "code",
     "collapsed": false,
     "input": [
      "class CifarDataset(Dataset):\n",
      "    \n",
      "    def __init__(self, data_path):\n",
      "        \n",
      "        super(CifarDataset, self).__init__()\n",
      "        self.data_path = data_path\n",
      "        self.num_classes = 0\n",
      "        self.classes = []\n",
      "        \n",
      "        classes_list = []\n",
      "        for class_name in os.listdir(data_path):\n",
      "            if not os.path.isdir(os.path.join(data_path,class_name)):\n",
      "                continue\n",
      "            classes_list.append(class_name)\n",
      "        classes_list.sort()\n",
      "        self.classes = [dict(class_idx = k, class_name = v) for k, v in enumerate(classes_list)]\n",
      "        \n",
      "\n",
      "        self.num_classes = len(self.classes)\n",
      "\n",
      "        self.image_list = []\n",
      "        for cls in self.classes:\n",
      "            class_path = os.path.join(data_path, cls['class_name'])\n",
      "            for image_name in os.listdir(class_path):\n",
      "                image_path = os.path.join(class_path, image_name)\n",
      "                self.image_list.append(dict(\n",
      "                    cls = cls,\n",
      "                    image_path = image_path,\n",
      "                    image_name = image_name,\n",
      "                ))\n",
      "\n",
      "        self.img_idxes = np.arange(0,len(self.image_list))\n",
      "\n",
      "    def __len__(self):\n",
      "        return len(self.img_idxes)\n",
      "\n",
      "    def __getitem__(self, index):\n",
      "\n",
      "        img_idx = self.img_idxes[index]\n",
      "        img_info = self.image_list[img_idx]\n",
      "\n",
      "        img = Image.open(img_info['image_path'])\n",
      "\n",
      "        tr = transforms.ToTensor()\n",
      "        img = tr(img)\n",
      "        tr = transforms.Normalize((0.4914, 0.4822, 0.4465), (0.2023, 0.1994, 0.2010))\n",
      "        img = tr(img)\n",
      "        return dict(image = img, cls = img_info['cls']['class_idx'], class_name = img_info['cls']['class_name'])\n",
      "\n",
      "    def get_number_of_classes(self):\n",
      "        return self.num_classes\n",
      "\n",
      "    def get_number_of_samples(self):\n",
      "        return self.__len__()\n",
      "\n",
      "    def get_class_names(self):\n",
      "        return [cls['class_name'] for cls in self.classes]\n",
      "\n",
      "    def get_class_name(self, class_idx):\n",
      "        return self.classes[class_idx]['class_name']"
     ],
     "language": "python",
     "metadata": {},
     "outputs": [],
     "prompt_number": 2
    },
    {
     "cell_type": "code",
     "collapsed": false,
     "input": [
      "def get_cifar_datasets(data_path):\n",
      "    dataset = CifarDataset(data_path)\n",
      "    return dataset"
     ],
     "language": "python",
     "metadata": {},
     "outputs": [],
     "prompt_number": 3
    },
    {
     "cell_type": "markdown",
     "metadata": {},
     "source": [
      "The data being used for this experiment are normal CIFAR10 dataset and the stylised version of the CIFAR10 dataset created using AdaIN style transfer.\n",
      "\n",
      "The following cell calls the function created above to load the training, validation and testing datasets of both normal and stylised CIFAR10 and transforms them into data loaders."
     ]
    },
    {
     "cell_type": "code",
     "collapsed": false,
     "input": [
      "# Load normal CIFAR10\n",
      "data_path_train = \"../../CIFAR/cifar32/training\"\n",
      "dataset_train = get_cifar_datasets(data_path_train)\n",
      "\n",
      "data_path_val = \"../../CIFAR/cifar32/validation/\"\n",
      "dataset_val = get_cifar_datasets(data_path_val)\n",
      "\n",
      "data_path_test = \"../../CIFAR/cifar32/testing/\"\n",
      "dataset_test = get_cifar_datasets(data_path_test)\n",
      "\n",
      "print(f\"Number of train samples {dataset_train.__len__()}\")\n",
      "print(\"Class names are: \" + str(dataset_train.get_class_names()))\n",
      "\n",
      "print(f\"Number of val samples {dataset_val.__len__()}\")\n",
      "print(\"Class names are: \" + str(dataset_val.get_class_names()))\n",
      "\n",
      "print(f\"Number of test samples {dataset_test.__len__()}\")\n",
      "print(\"Class names are: \" + str(dataset_test.get_class_names()))\n",
      "\n",
      "BATCH_SIZE = 64\n",
      "\n",
      "data_loader_train = DataLoader(dataset_train, BATCH_SIZE, shuffle = True)\n",
      "data_loader_val = DataLoader(dataset_val, BATCH_SIZE, shuffle = True)\n",
      "data_loader_test = DataLoader(dataset_test, BATCH_SIZE, shuffle = True)"
     ],
     "language": "python",
     "metadata": {},
     "outputs": [
      {
       "output_type": "stream",
       "stream": "stdout",
       "text": [
        "Number of train samples 36000\n",
        "Class names are: ['0000000001', '0000000010', '0000000100', '0000001000', '0000010000', '0000100000', '0001000000', '0010000000', '0100000000', '1000000000']\n",
        "Number of val samples 4000\n",
        "Class names are: ['0000000001', '0000000010', '0000000100', '0000001000', '0000010000', '0000100000', '0001000000', '0010000000', '0100000000', '1000000000']\n",
        "Number of test samples 10000\n",
        "Class names are: ['0000000001', '0000000010', '0000000100', '0000001000', '0000010000', '0000100000', '0001000000', '0010000000', '0100000000', '1000000000']\n"
       ]
      }
     ],
     "prompt_number": 4
    },
    {
     "cell_type": "code",
     "collapsed": false,
     "input": [
      "# Load stylised CIFAR10 with original kaggle images\n",
      "data_path_train_style = \"../../CIFAR/cifar32_style/training\"\n",
      "dataset_train_style = get_cifar_datasets(data_path_train_style)\n",
      "\n",
      "data_path_val_style = \"../../CIFAR/cifar32_style/validation/\"\n",
      "dataset_val_style = get_cifar_datasets(data_path_val_style)\n",
      "\n",
      "data_path_test_style = \"../../CIFAR/cifar32_style/testing/\"\n",
      "dataset_test_style = get_cifar_datasets(data_path_test_style)\n",
      "\n",
      "print(f\"Number of stylised train samples {dataset_train_style.__len__()}\")\n",
      "print(\"Class names are: \" + str(dataset_train_style.get_class_names()))\n",
      "\n",
      "print(f\"Number of stylised val samples {dataset_val_style.__len__()}\")\n",
      "print(\"Class names are: \" + str(dataset_val_style.get_class_names()))\n",
      "\n",
      "print(f\"Number of stylised test samples {dataset_test_style.__len__()}\")\n",
      "print(\"Class names are: \" + str(dataset_test_style.get_class_names()))\n",
      "\n",
      "BATCH_SIZE = 64\n",
      "\n",
      "data_loader_train_style = DataLoader(dataset_train_style, BATCH_SIZE, shuffle = True)\n",
      "data_loader_val_style = DataLoader(dataset_val_style, BATCH_SIZE, shuffle = True)\n",
      "data_loader_test_style = DataLoader(dataset_test_style, BATCH_SIZE, shuffle = True)"
     ],
     "language": "python",
     "metadata": {},
     "outputs": [
      {
       "output_type": "stream",
       "stream": "stdout",
       "text": [
        "Number of stylised train samples 216000\n",
        "Class names are: ['0000000001', '0000000010', '0000000100', '0000001000', '0000010000', '0000100000', '0001000000', '0010000000', '0100000000', '1000000000']\n",
        "Number of stylised val samples 4000\n",
        "Class names are: ['0000000001', '0000000010', '0000000100', '0000001000', '0000010000', '0000100000', '0001000000', '0010000000', '0100000000', '1000000000']\n",
        "Number of stylised test samples 10000\n",
        "Class names are: ['0000000001', '0000000010', '0000000100', '0000001000', '0000010000', '0000100000', '0001000000', '0010000000', '0100000000', '1000000000']\n"
       ]
      }
     ],
     "prompt_number": 5
    },
    {
     "cell_type": "code",
     "collapsed": false,
     "input": [
      "# Load stylised CIFAR10 with reduced kaggle images\n",
      "data_path_train_style_red = \"../../CIFAR/cifar32_style_red/training\"\n",
      "dataset_train_style_red = get_cifar_datasets(data_path_train_style_red)\n",
      "\n",
      "data_path_val_style_red = \"../../CIFAR/cifar32_style_red/validation/\"\n",
      "dataset_val_style_red = get_cifar_datasets(data_path_val_style_red)\n",
      "\n",
      "data_path_test_style_red = \"../../CIFAR/cifar32_style_red/testing/\"\n",
      "dataset_test_style_red = get_cifar_datasets(data_path_test_style_red)\n",
      "\n",
      "print(f\"Number of reduced stylised train samples {dataset_train_style_red.__len__()}\")\n",
      "print(\"Class names are: \" + str(dataset_train_style_red.get_class_names()))\n",
      "\n",
      "print(f\"Number of reduced stylised val samples {dataset_val_style_red.__len__()}\")\n",
      "print(\"Class names are: \" + str(dataset_val_style_red.get_class_names()))\n",
      "\n",
      "print(f\"Number of reduced stylised test samples {dataset_test_style_red.__len__()}\")\n",
      "print(\"Class names are: \" + str(dataset_test_style_red.get_class_names()))\n",
      "\n",
      "BATCH_SIZE = 64\n",
      "\n",
      "data_loader_train_style_red = DataLoader(dataset_train_style_red, BATCH_SIZE, shuffle = True)\n",
      "data_loader_val_style_red = DataLoader(dataset_val_style_red, BATCH_SIZE, shuffle = True)\n",
      "data_loader_test_style_red = DataLoader(dataset_test_style_red, BATCH_SIZE, shuffle = True)"
     ],
     "language": "python",
     "metadata": {},
     "outputs": [
      {
       "output_type": "stream",
       "stream": "stdout",
       "text": [
        "Number of reduced stylised train samples 216000\n",
        "Class names are: ['0000000001', '0000000010', '0000000100', '0000001000', '0000010000', '0000100000', '0001000000', '0010000000', '0100000000', '1000000000']\n",
        "Number of reduced stylised val samples 4000\n",
        "Class names are: ['0000000001', '0000000010', '0000000100', '0000001000', '0000010000', '0000100000', '0001000000', '0010000000', '0100000000', '1000000000']\n",
        "Number of reduced stylised test samples 10000\n",
        "Class names are: ['0000000001', '0000000010', '0000000100', '0000001000', '0000010000', '0000100000', '0001000000', '0010000000', '0100000000', '1000000000']\n"
       ]
      }
     ],
     "prompt_number": 6
    },
    {
     "cell_type": "code",
     "collapsed": false,
     "input": [
      "# Load largely stylised CIFAR10\n",
      "data_path_train_style_big = \"../../CIFAR/cifar512_style/training\"\n",
      "dataset_train_style_big = get_cifar_datasets(data_path_train_style_big)\n",
      "\n",
      "data_path_val_style_big = \"../../CIFAR/cifar512_style/validation/\"\n",
      "dataset_val_style_big = get_cifar_datasets(data_path_val_style_big)\n",
      "\n",
      "data_path_test_style_big = \"../../CIFAR/cifar512_style/testing/\"\n",
      "dataset_test_style_big = get_cifar_datasets(data_path_test_style_big)\n",
      "\n",
      "print(f\"Number of stylised train samples {dataset_train_style_big.__len__()}\")\n",
      "print(\"Class names are: \" + str(dataset_train_style.get_class_names()))\n",
      "\n",
      "print(f\"Number of stylised val samples {dataset_val_style_big.__len__()}\")\n",
      "print(\"Class names are: \" + str(dataset_val_style.get_class_names()))\n",
      "\n",
      "print(f\"Number of stylised test samples {dataset_test_style_big.__len__()}\")\n",
      "print(\"Class names are: \" + str(dataset_test_style.get_class_names()))\n",
      "\n",
      "BATCH_SIZE = 32\n",
      "\n",
      "data_loader_train_style_big = DataLoader(dataset_train_style_big, BATCH_SIZE, shuffle = True)\n",
      "data_loader_val_style_big = DataLoader(dataset_val_style_big, BATCH_SIZE, shuffle = True)\n",
      "data_loader_test_style_big = DataLoader(dataset_test_style_big, BATCH_SIZE, shuffle = True)"
     ],
     "language": "python",
     "metadata": {},
     "outputs": [
      {
       "output_type": "stream",
       "stream": "stdout",
       "text": [
        "Number of stylised train samples 216000\n",
        "Class names are: ['0000000001', '0000000010', '0000000100', '0000001000', '0000010000', '0000100000', '0001000000', '0010000000', '0100000000', '1000000000']\n",
        "Number of stylised val samples 4000\n",
        "Class names are: ['0000000001', '0000000010', '0000000100', '0000001000', '0000010000', '0000100000', '0001000000', '0010000000', '0100000000', '1000000000']\n",
        "Number of stylised test samples 10000\n",
        "Class names are: ['0000000001', '0000000010', '0000000100', '0000001000', '0000010000', '0000100000', '0001000000', '0010000000', '0100000000', '1000000000']\n"
       ]
      }
     ],
     "prompt_number": 7
    },
    {
     "cell_type": "code",
     "collapsed": false,
     "input": [
      "# Check if the data was loaded correctly\n",
      "import matplotlib.pyplot as plt\n",
      "\n",
      "fig, axes = plt.subplots(4,4, figsize=(8, 8))\n",
      "\n",
      "for batch in data_loader_test_style_big:\n",
      "\n",
      "    print(f\"Shape of batch['image'] {batch['image'].shape}\")\n",
      "    print(f\"Shape of batch['cls'] {batch['cls'].shape}\")\n",
      "\n",
      "    for i in range(BATCH_SIZE):\n",
      "        col = i % 4\n",
      "        row = i // 4\n",
      "\n",
      "        img = batch['image'][i].numpy()\n",
      "\n",
      "        axes[row,col].set_axis_off()\n",
      "        axes[row,col].set_title(batch['class_name'][i])\n",
      "        axes[row,col].imshow(np.transpose(img,(1,2,0)))\n",
      "                         \n",
      "        if i >= 15:\n",
      "            break\n",
      "\n",
      "    plt.show()\n",
      "    break"
     ],
     "language": "python",
     "metadata": {},
     "outputs": [
      {
       "output_type": "stream",
       "stream": "stderr",
       "text": [
        "Clipping input data to the valid range for imshow with RGB data ([0..1] for floats or [0..255] for integers).\n"
       ]
      },
      {
       "output_type": "stream",
       "stream": "stderr",
       "text": [
        "Clipping input data to the valid range for imshow with RGB data ([0..1] for floats or [0..255] for integers).\n"
       ]
      },
      {
       "output_type": "stream",
       "stream": "stderr",
       "text": [
        "Clipping input data to the valid range for imshow with RGB data ([0..1] for floats or [0..255] for integers).\n"
       ]
      },
      {
       "output_type": "stream",
       "stream": "stderr",
       "text": [
        "Clipping input data to the valid range for imshow with RGB data ([0..1] for floats or [0..255] for integers).\n"
       ]
      },
      {
       "output_type": "stream",
       "stream": "stderr",
       "text": [
        "Clipping input data to the valid range for imshow with RGB data ([0..1] for floats or [0..255] for integers).\n"
       ]
      },
      {
       "output_type": "stream",
       "stream": "stderr",
       "text": [
        "Clipping input data to the valid range for imshow with RGB data ([0..1] for floats or [0..255] for integers).\n"
       ]
      },
      {
       "output_type": "stream",
       "stream": "stderr",
       "text": [
        "Clipping input data to the valid range for imshow with RGB data ([0..1] for floats or [0..255] for integers).\n"
       ]
      },
      {
       "output_type": "stream",
       "stream": "stderr",
       "text": [
        "Clipping input data to the valid range for imshow with RGB data ([0..1] for floats or [0..255] for integers).\n"
       ]
      },
      {
       "output_type": "stream",
       "stream": "stderr",
       "text": [
        "Clipping input data to the valid range for imshow with RGB data ([0..1] for floats or [0..255] for integers).\n"
       ]
      },
      {
       "output_type": "stream",
       "stream": "stderr",
       "text": [
        "Clipping input data to the valid range for imshow with RGB data ([0..1] for floats or [0..255] for integers).\n"
       ]
      },
      {
       "output_type": "stream",
       "stream": "stderr",
       "text": [
        "Clipping input data to the valid range for imshow with RGB data ([0..1] for floats or [0..255] for integers).\n"
       ]
      },
      {
       "output_type": "stream",
       "stream": "stderr",
       "text": [
        "Clipping input data to the valid range for imshow with RGB data ([0..1] for floats or [0..255] for integers).\n"
       ]
      },
      {
       "output_type": "stream",
       "stream": "stderr",
       "text": [
        "Clipping input data to the valid range for imshow with RGB data ([0..1] for floats or [0..255] for integers).\n"
       ]
      },
      {
       "output_type": "stream",
       "stream": "stderr",
       "text": [
        "Clipping input data to the valid range for imshow with RGB data ([0..1] for floats or [0..255] for integers).\n"
       ]
      },
      {
       "output_type": "stream",
       "stream": "stderr",
       "text": [
        "Clipping input data to the valid range for imshow with RGB data ([0..1] for floats or [0..255] for integers).\n"
       ]
      },
      {
       "output_type": "stream",
       "stream": "stderr",
       "text": [
        "Clipping input data to the valid range for imshow with RGB data ([0..1] for floats or [0..255] for integers).\n"
       ]
      },
      {
       "output_type": "stream",
       "stream": "stdout",
       "text": [
        "Shape of batch['image'] torch.Size([32, 3, 512, 512])\n",
        "Shape of batch['cls'] torch.Size([32])\n"
       ]
      },
      {
       "output_type": "display_data",
       "png": "[encoded data removed]",
       "text": [
        "<Figure size 576x576 with 16 Axes>"
       ]
      }
     ],
     "prompt_number": 8
    },
    {
     "cell_type": "markdown",
     "metadata": {},
     "source": [
      "### Defining ResNet50\n",
      "\n",
      "The following code defines Resnet50 architecture that will be used to train and test the CIFAR dataset."
     ]
    },
    {
     "cell_type": "code",
     "collapsed": false,
     "input": [
      "# define resnet building blocks\n",
      "class ResidualBlock(nn.Module): \n",
      "    expansion = 4\n",
      "    \n",
      "    def __init__(self, inchannel, outchannel, stride=1): \n",
      "        \n",
      "        super(ResidualBlock, self).__init__() \n",
      "        \n",
      "        self.left = nn.Sequential(\n",
      "            Conv2d(inchannel, outchannel, kernel_size=1, bias=False),\n",
      "            nn.BatchNorm2d(outchannel),\n",
      "            nn.ReLU(inplace=True),\n",
      "            Conv2d(outchannel, outchannel, kernel_size=3, stride=stride, padding=1, bias=False),\n",
      "            nn.BatchNorm2d(outchannel),\n",
      "            nn.ReLU(inplace=True),\n",
      "            Conv2d(outchannel, self.expansion*outchannel, kernel_size=1, bias=False),\n",
      "            nn.BatchNorm2d(self.expansion*outchannel)\n",
      "        ) \n",
      "        \n",
      "        self.shortcut = nn.Sequential()\n",
      "        \n",
      "        if stride != 1 or inchannel != self.expansion*outchannel: \n",
      "            self.shortcut = nn.Sequential(\n",
      "                Conv2d(inchannel, self.expansion*outchannel, kernel_size=1, stride=stride, bias=False),\n",
      "                nn.BatchNorm2d(self.expansion*outchannel)\n",
      "            ) \n",
      "            \n",
      "    def forward(self, x): \n",
      "        out = self.left(x) \n",
      "        out += self.shortcut(x) \n",
      "        out = F.relu(out) \n",
      "        return out\n",
      "\n",
      "    \n",
      "# define resnet\n",
      "class ResNet(nn.Module):\n",
      "    \n",
      "    def __init__(self, ResidualBlock, num_classes = 10):\n",
      "        \n",
      "        super(ResNet, self).__init__()\n",
      "        \n",
      "        self.inchannel = 64\n",
      "        self.conv1 = nn.Sequential(\n",
      "            Conv2d(3, 64, kernel_size = 3, stride = 1,padding = 1, bias = False),\n",
      "            nn.BatchNorm2d(64), \n",
      "            nn.ReLU()\n",
      "        )\n",
      "        self.layer1 = self.make_layer(ResidualBlock, 64, 3, stride = 1)\n",
      "        self.layer2 = self.make_layer(ResidualBlock, 128, 4, stride = 2)\n",
      "        self.layer3 = self.make_layer(ResidualBlock, 256, 6, stride = 2)\n",
      "        self.layer4 = self.make_layer(ResidualBlock, 512, 3, stride = 2)\n",
      "        self.avgpool = AvgPool2d(4)\n",
      "        self.fc = nn.Linear(512*ResidualBlock.expansion, num_classes)\n",
      "        \n",
      "    \n",
      "    def make_layer(self, block, channels, num_blocks, stride):\n",
      "        \n",
      "        strides = [stride] + [1] * (num_blocks - 1)\n",
      "        \n",
      "        layers = []\n",
      "        for stride in strides:\n",
      "            layers.append(block(self.inchannel, channels, stride))\n",
      "            self.inchannel = channels * block.expansion\n",
      "        return nn.Sequential(*layers)\n",
      "    \n",
      "    \n",
      "    def forward(self, x):\n",
      "        \n",
      "        x = self.conv1(x)\n",
      "        x = self.layer1(x)\n",
      "        x = self.layer2(x)\n",
      "        x = self.layer3(x)\n",
      "        x = self.layer4(x)\n",
      "        x = self.avgpool(x)\n",
      "        x = x.view(x.size(0), -1)\n",
      "        x = self.fc(x)\n",
      "        return x\n",
      "    \n",
      "    \n",
      "def ResNet50():\n",
      "    return ResNet(ResidualBlock)"
     ],
     "language": "python",
     "metadata": {},
     "outputs": [],
     "prompt_number": 9
    },
    {
     "cell_type": "markdown",
     "metadata": {},
     "source": [
      "Following are the training, validation and testing functions for the experiment. train_part() function trains and updates gradients on each batch of the training set and once that is done, it tests its accuracy on the validation set. Every time the validation test returns a better accuracy than the current maximum, the model is saved and carries on with the next epoch. Then it checks with the learning reate scheduler for any changes in learning rate."
     ]
    },
    {
     "cell_type": "code",
     "collapsed": false,
     "input": [
      "device = torch.device('cuda:3' if torch.cuda.is_available() else 'cpu')\n",
      "print(device)\n",
      "    \n",
      "print_every = 100\n",
      "def check_accuracy(loader, model):\n",
      "    # function for test accuracy on validation and test set\n",
      "    num_correct = 0\n",
      "    num_samples = 0\n",
      "    model.eval()  # set model to evaluation mode\n",
      "    with torch.no_grad():\n",
      "        for i, batch in enumerate(loader, 0):\n",
      "            # get the inputs; data is a list of [inputs, labels]\n",
      "            inputs = batch['image'].to(device)\n",
      "            labels = batch['cls'].to(device)\n",
      "            scores = model(inputs)\n",
      "            _, preds = scores.max(1)\n",
      "            num_correct += (preds == labels).sum()\n",
      "            num_samples += preds.size(0)\n",
      "        acc = float(num_correct) / num_samples\n",
      "        print('Got %d / %d correct, accuracy of the dataset is: %.3f %%' % (num_correct, num_samples, 100 * acc))\n",
      "\n",
      "\n",
      "def train_part(model, train_data, val_data, model_path, optimizer, lr_scheduler, epochs=1):\n",
      "    model.to(device)\n",
      "    val_acc = 0\n",
      "    num_epoch = 2\n",
      "    # Main Loop\n",
      "    for epoch in range(epochs):  # loop over the dataset multiple times\n",
      "        val_loss = 0\n",
      "        running_loss = 0\n",
      "\n",
      "        # Training Loop\n",
      "        for i, batch in enumerate(train_data, 0):\n",
      "            # set model to training mode\n",
      "            model.train()\n",
      "            # get the inputs; data is a list of [inputs, labels]\n",
      "            inputs = batch['image'].to(device)\n",
      "            labels = batch['cls'].to(device)\n",
      "\n",
      "            # get outputs from the input data and calculate the cross entropy loss\n",
      "            scores = model(inputs)\n",
      "            loss = F.cross_entropy(scores, labels)\n",
      "\n",
      "            # zero and update the gradients and optimise\n",
      "            optimizer.zero_grad()\n",
      "            loss.backward()\n",
      "            optimizer.step()\n",
      "\n",
      "            # print statistics\n",
      "            running_loss += loss.item()\n",
      "            if i % 200 == 199:    # print every 200 mini-batches\n",
      "                print('[%d, %5d] loss: %.6f' %\n",
      "                      (epoch + 1, i + 1, running_loss / 200))\n",
      "                running_loss = 0.0\n",
      "\n",
      "        # set model to evaluation mode\n",
      "        model.eval()\n",
      "\n",
      "        # Validation Loop\n",
      "        with torch.no_grad():\n",
      "            num_correct = 0\n",
      "            num_samples = 0\n",
      "            for i, batch in enumerate(val_data, 0):\n",
      "                # get the inputs; data is a list of [inputs, labels]\n",
      "                inputs = batch['image'].to(device)\n",
      "                labels = batch['cls'].to(device)\n",
      "\n",
      "                # get the outputs from the model\n",
      "                outputs = model(inputs)\n",
      "\n",
      "                # compute accuracy based on the outputs\n",
      "                _, preds = outputs.max(1)\n",
      "                num_correct += (preds == labels).sum()\n",
      "                num_samples += preds.size(0)\n",
      "            acc = float(num_correct) / num_samples\n",
      "            print('Got %d / %d correct (%.2f)' % (num_correct, num_samples, 100 * acc))\n",
      "\n",
      "            if acc > val_acc:\n",
      "                print('saving model')\n",
      "                torch.save(model.state_dict(), model_path)\n",
      "                val_acc = acc\n",
      "            else:\n",
      "                print('skip model saving')\n",
      "        lr_scheduler.step()"
     ],
     "language": "python",
     "metadata": {
      "scrolled": true
     },
     "outputs": [
      {
       "output_type": "stream",
       "stream": "stdout",
       "text": [
        "cuda:3\n"
       ]
      }
     ],
     "prompt_number": 10
    },
    {
     "cell_type": "markdown",
     "metadata": {},
     "source": [
      "### Vanilla ResNet50 Training\n",
      "\n",
      "The model used in this experiment is ResNet50 with Adam optimiser with learning rate scheduler and default settings. Learning rate changes every 80, 120, 160, 180th epoch."
     ]
    },
    {
     "cell_type": "code",
     "collapsed": false,
     "input": [
      "torch.cuda.empty_cache()\n",
      "\n",
      "# define and train the network\n",
      "vanilla_model_path = './cifar32_model.pth'\n",
      "vanilla_model = ResNet50()\n",
      "lr=0.1\n",
      "vanilla_optimizer = optim.Adam(vanilla_model.parameters(), lr=lr)\n",
      "vanilla_lr_scheduler = optim.lr_scheduler.MultiStepLR(vanilla_optimizer, milestones=[150, 250])\n",
      "train_part(vanilla_model, data_loader_train, data_loader_val, vanilla_model_path, vanilla_optimizer, vanilla_lr_scheduler, epochs = 350)"
     ],
     "language": "python",
     "metadata": {
      "scrolled": true
     },
     "outputs": [
      {
       "output_type": "stream",
       "stream": "stdout",
       "text": [
        "[1,   200] loss: 3.598853\n"
       ]
      },
      {
       "output_type": "stream",
       "stream": "stdout",
       "text": [
        "[1,   400] loss: 2.021459\n"
       ]
      },
      {
       "output_type": "stream",
       "stream": "stdout",
       "text": [
        "Got 974 / 4000 correct (24.35)\n",
        "saving model\n"
       ]
      },
      {
       "output_type": "stream",
       "stream": "stdout",
       "text": [
        "[2,   200] loss: 1.851733\n"
       ]
      },
      {
       "output_type": "stream",
       "stream": "stdout",
       "text": [
        "[2,   400] loss: 1.798656\n"
       ]
      },
      {
       "output_type": "stream",
       "stream": "stdout",
       "text": [
        "Got 1530 / 4000 correct (38.25)\n",
        "saving model\n"
       ]
      },
      {
       "output_type": "stream",
       "stream": "stdout",
       "text": [
        "[3,   200] loss: 1.665520\n"
       ]
      },
      {
       "output_type": "stream",
       "stream": "stdout",
       "text": [
        "[3,   400] loss: 1.584996\n"
       ]
      },
      {
       "output_type": "stream",
       "stream": "stdout",
       "text": [
        "Got 1760 / 4000 correct (44.00)\n",
        "saving model\n"
       ]
      },
      {
       "output_type": "stream",
       "stream": "stdout",
       "text": [
        "[4,   200] loss: 1.441373\n"
       ]
      },
      {
       "output_type": "stream",
       "stream": "stdout",
       "text": [
        "[4,   400] loss: 1.483538\n"
       ]
      },
      {
       "output_type": "stream",
       "stream": "stdout",
       "text": [
        "Got 1861 / 4000 correct (46.52)\n",
        "saving model\n"
       ]
      },
      {
       "output_type": "stream",
       "stream": "stdout",
       "text": [
        "[5,   200] loss: 1.304863\n"
       ]
      },
      {
       "output_type": "stream",
       "stream": "stdout",
       "text": [
        "[5,   400] loss: 1.293829\n"
       ]
      },
      {
       "output_type": "stream",
       "stream": "stdout",
       "text": [
        "Got 2073 / 4000 correct (51.82)\n",
        "saving model\n"
       ]
      },
      {
       "output_type": "stream",
       "stream": "stdout",
       "text": [
        "[6,   200] loss: 1.258562\n"
       ]
      },
      {
       "output_type": "stream",
       "stream": "stdout",
       "text": [
        "[6,   400] loss: 1.205399\n"
       ]
      },
      {
       "output_type": "stream",
       "stream": "stdout",
       "text": [
        "Got 2268 / 4000 correct (56.70)\n",
        "saving model\n"
       ]
      },
      {
       "output_type": "stream",
       "stream": "stdout",
       "text": [
        "[7,   200] loss: 1.097656\n"
       ]
      },
      {
       "output_type": "stream",
       "stream": "stdout",
       "text": [
        "[7,   400] loss: 1.091432\n"
       ]
      },
      {
       "output_type": "stream",
       "stream": "stdout",
       "text": [
        "Got 2234 / 4000 correct (55.85)\n",
        "skip model saving\n"
       ]
      },
      {
       "output_type": "stream",
       "stream": "stdout",
       "text": [
        "[8,   200] loss: 1.009811\n"
       ]
      },
      {
       "output_type": "stream",
       "stream": "stdout",
       "text": [
        "[8,   400] loss: 1.004631\n"
       ]
      },
      {
       "output_type": "stream",
       "stream": "stdout",
       "text": [
        "Got 2524 / 4000 correct (63.10)\n",
        "saving model\n"
       ]
      },
      {
       "output_type": "stream",
       "stream": "stdout",
       "text": [
        "[9,   200] loss: 0.960038\n"
       ]
      },
      {
       "output_type": "stream",
       "stream": "stdout",
       "text": [
        "[9,   400] loss: 0.943464\n"
       ]
      },
      {
       "output_type": "stream",
       "stream": "stdout",
       "text": [
        "Got 2581 / 4000 correct (64.53)\n",
        "saving model\n"
       ]
      },
      {
       "output_type": "stream",
       "stream": "stdout",
       "text": [
        "[10,   200] loss: 0.902805\n"
       ]
      },
      {
       "output_type": "stream",
       "stream": "stdout",
       "text": [
        "[10,   400] loss: 1.030621\n"
       ]
      },
      {
       "output_type": "stream",
       "stream": "stdout",
       "text": [
        "Got 2108 / 4000 correct (52.70)\n",
        "skip model saving\n"
       ]
      },
      {
       "output_type": "stream",
       "stream": "stdout",
       "text": [
        "[11,   200] loss: 0.828310\n"
       ]
      },
      {
       "output_type": "stream",
       "stream": "stdout",
       "text": [
        "[11,   400] loss: 0.838679\n"
       ]
      },
      {
       "output_type": "stream",
       "stream": "stdout",
       "text": [
        "Got 2651 / 4000 correct (66.27)\n",
        "saving model\n"
       ]
      },
      {
       "output_type": "stream",
       "stream": "stdout",
       "text": [
        "[12,   200] loss: 0.770959\n"
       ]
      },
      {
       "output_type": "stream",
       "stream": "stdout",
       "text": [
        "[12,   400] loss: 0.776816\n"
       ]
      },
      {
       "output_type": "stream",
       "stream": "stdout",
       "text": [
        "Got 2772 / 4000 correct (69.30)\n",
        "saving model\n"
       ]
      },
      {
       "output_type": "stream",
       "stream": "stdout",
       "text": [
        "[13,   200] loss: 0.737984\n"
       ]
      },
      {
       "output_type": "stream",
       "stream": "stdout",
       "text": [
        "[13,   400] loss: 0.775721\n"
       ]
      },
      {
       "output_type": "stream",
       "stream": "stdout",
       "text": [
        "Got 2606 / 4000 correct (65.15)\n",
        "skip model saving\n"
       ]
      },
      {
       "output_type": "stream",
       "stream": "stdout",
       "text": [
        "[14,   200] loss: 0.676484\n"
       ]
      },
      {
       "output_type": "stream",
       "stream": "stdout",
       "text": [
        "[14,   400] loss: 0.713433\n"
       ]
      },
      {
       "output_type": "stream",
       "stream": "stdout",
       "text": [
        "Got 2939 / 4000 correct (73.47)\n",
        "saving model\n"
       ]
      },
      {
       "output_type": "stream",
       "stream": "stdout",
       "text": [
        "[15,   200] loss: 0.611226\n"
       ]
      },
      {
       "output_type": "stream",
       "stream": "stdout",
       "text": [
        "[15,   400] loss: 0.639139\n"
       ]
      },
      {
       "output_type": "stream",
       "stream": "stdout",
       "text": [
        "Got 2899 / 4000 correct (72.47)\n",
        "skip model saving\n"
       ]
      },
      {
       "output_type": "stream",
       "stream": "stdout",
       "text": [
        "[16,   200] loss: 0.582869\n"
       ]
      },
      {
       "output_type": "stream",
       "stream": "stdout",
       "text": [
        "[16,   400] loss: 0.634607\n"
       ]
      },
      {
       "output_type": "stream",
       "stream": "stdout",
       "text": [
        "Got 2620 / 4000 correct (65.50)\n",
        "skip model saving\n"
       ]
      },
      {
       "output_type": "stream",
       "stream": "stdout",
       "text": [
        "[17,   200] loss: 0.530226\n"
       ]
      },
      {
       "output_type": "stream",
       "stream": "stdout",
       "text": [
        "[17,   400] loss: 0.561482\n"
       ]
      },
      {
       "output_type": "stream",
       "stream": "stdout",
       "text": [
        "Got 3007 / 4000 correct (75.17)\n",
        "saving model\n"
       ]
      },
      {
       "output_type": "stream",
       "stream": "stdout",
       "text": [
        "[18,   200] loss: 0.494938\n"
       ]
      },
      {
       "output_type": "stream",
       "stream": "stdout",
       "text": [
        "[18,   400] loss: 0.507437\n"
       ]
      },
      {
       "output_type": "stream",
       "stream": "stdout",
       "text": [
        "Got 3019 / 4000 correct (75.48)\n",
        "saving model\n"
       ]
      },
      {
       "output_type": "stream",
       "stream": "stdout",
       "text": [
        "[19,   200] loss: 0.436132\n"
       ]
      },
      {
       "output_type": "stream",
       "stream": "stdout",
       "text": [
        "[19,   400] loss: 0.501509\n"
       ]
      },
      {
       "output_type": "stream",
       "stream": "stdout",
       "text": [
        "Got 2992 / 4000 correct (74.80)\n",
        "skip model saving\n"
       ]
      },
      {
       "output_type": "stream",
       "stream": "stdout",
       "text": [
        "[20,   200] loss: 0.407134\n"
       ]
      },
      {
       "output_type": "stream",
       "stream": "stdout",
       "text": [
        "[20,   400] loss: 0.453832\n"
       ]
      },
      {
       "output_type": "stream",
       "stream": "stdout",
       "text": [
        "Got 2913 / 4000 correct (72.82)\n",
        "skip model saving\n"
       ]
      },
      {
       "output_type": "stream",
       "stream": "stdout",
       "text": [
        "[21,   200] loss: 0.359086\n"
       ]
      },
      {
       "output_type": "stream",
       "stream": "stdout",
       "text": [
        "[21,   400] loss: 0.404211\n"
       ]
      },
      {
       "output_type": "stream",
       "stream": "stdout",
       "text": [
        "Got 2928 / 4000 correct (73.20)\n",
        "skip model saving\n"
       ]
      },
      {
       "output_type": "stream",
       "stream": "stdout",
       "text": [
        "[22,   200] loss: 0.386262\n"
       ]
      },
      {
       "output_type": "stream",
       "stream": "stdout",
       "text": [
        "[22,   400] loss: 0.387145\n"
       ]
      },
      {
       "output_type": "stream",
       "stream": "stdout",
       "text": [
        "Got 3036 / 4000 correct (75.90)\n",
        "saving model\n"
       ]
      },
      {
       "output_type": "stream",
       "stream": "stdout",
       "text": [
        "[23,   200] loss: 0.288443\n"
       ]
      },
      {
       "output_type": "stream",
       "stream": "stdout",
       "text": [
        "[23,   400] loss: 0.320813\n"
       ]
      },
      {
       "output_type": "stream",
       "stream": "stdout",
       "text": [
        "Got 2952 / 4000 correct (73.80)\n",
        "skip model saving\n"
       ]
      },
      {
       "output_type": "stream",
       "stream": "stdout",
       "text": [
        "[24,   200] loss: 0.275802\n"
       ]
      },
      {
       "output_type": "stream",
       "stream": "stdout",
       "text": [
        "[24,   400] loss: 0.283324\n"
       ]
      },
      {
       "output_type": "stream",
       "stream": "stdout",
       "text": [
        "Got 3011 / 4000 correct (75.28)\n",
        "skip model saving\n"
       ]
      },
      {
       "output_type": "stream",
       "stream": "stdout",
       "text": [
        "[25,   200] loss: 0.260716\n"
       ]
      },
      {
       "output_type": "stream",
       "stream": "stdout",
       "text": [
        "[25,   400] loss: 0.289704\n"
       ]
      },
      {
       "output_type": "stream",
       "stream": "stdout",
       "text": [
        "Got 3051 / 4000 correct (76.28)\n",
        "saving model\n"
       ]
      },
      {
       "output_type": "stream",
       "stream": "stdout",
       "text": [
        "[26,   200] loss: 0.215794\n"
       ]
      },
      {
       "output_type": "stream",
       "stream": "stdout",
       "text": [
        "[26,   400] loss: 0.225222\n"
       ]
      },
      {
       "output_type": "stream",
       "stream": "stdout",
       "text": [
        "Got 3079 / 4000 correct (76.98)\n",
        "saving model\n"
       ]
      },
      {
       "output_type": "stream",
       "stream": "stdout",
       "text": [
        "[27,   200] loss: 0.191556\n"
       ]
      },
      {
       "output_type": "stream",
       "stream": "stdout",
       "text": [
        "[27,   400] loss: 0.234857\n"
       ]
      },
      {
       "output_type": "stream",
       "stream": "stdout",
       "text": [
        "Got 3026 / 4000 correct (75.65)\n",
        "skip model saving\n"
       ]
      },
      {
       "output_type": "stream",
       "stream": "stdout",
       "text": [
        "[28,   200] loss: 0.177980\n"
       ]
      },
      {
       "output_type": "stream",
       "stream": "stdout",
       "text": [
        "[28,   400] loss: 0.222914\n"
       ]
      },
      {
       "output_type": "stream",
       "stream": "stdout",
       "text": [
        "Got 3037 / 4000 correct (75.92)\n",
        "skip model saving\n"
       ]
      },
      {
       "output_type": "stream",
       "stream": "stdout",
       "text": [
        "[29,   200] loss: 0.158635\n"
       ]
      },
      {
       "output_type": "stream",
       "stream": "stdout",
       "text": [
        "[29,   400] loss: 0.237986\n"
       ]
      },
      {
       "output_type": "stream",
       "stream": "stdout",
       "text": [
        "Got 3085 / 4000 correct (77.12)\n",
        "saving model\n"
       ]
      },
      {
       "output_type": "stream",
       "stream": "stdout",
       "text": [
        "[30,   200] loss: 0.146515\n"
       ]
      },
      {
       "output_type": "stream",
       "stream": "stdout",
       "text": [
        "[30,   400] loss: 0.172536\n"
       ]
      },
      {
       "output_type": "stream",
       "stream": "stdout",
       "text": [
        "Got 2925 / 4000 correct (73.12)\n",
        "skip model saving\n"
       ]
      },
      {
       "output_type": "stream",
       "stream": "stdout",
       "text": [
        "[31,   200] loss: 0.143632\n"
       ]
      },
      {
       "output_type": "stream",
       "stream": "stdout",
       "text": [
        "[31,   400] loss: 0.140385\n"
       ]
      },
      {
       "output_type": "stream",
       "stream": "stdout",
       "text": [
        "Got 3070 / 4000 correct (76.75)\n",
        "skip model saving\n"
       ]
      },
      {
       "output_type": "stream",
       "stream": "stdout",
       "text": [
        "[32,   200] loss: 0.133335\n"
       ]
      },
      {
       "output_type": "stream",
       "stream": "stdout",
       "text": [
        "[32,   400] loss: 0.146153\n"
       ]
      },
      {
       "output_type": "stream",
       "stream": "stdout",
       "text": [
        "Got 2800 / 4000 correct (70.00)\n",
        "skip model saving\n"
       ]
      },
      {
       "output_type": "stream",
       "stream": "stdout",
       "text": [
        "[33,   200] loss: 0.220263\n"
       ]
      },
      {
       "output_type": "stream",
       "stream": "stdout",
       "text": [
        "[33,   400] loss: 0.167741\n"
       ]
      },
      {
       "output_type": "stream",
       "stream": "stdout",
       "text": [
        "Got 3065 / 4000 correct (76.62)\n",
        "skip model saving\n"
       ]
      },
      {
       "output_type": "stream",
       "stream": "stdout",
       "text": [
        "[34,   200] loss: 0.094389\n"
       ]
      },
      {
       "output_type": "stream",
       "stream": "stdout",
       "text": [
        "[34,   400] loss: 0.119799\n"
       ]
      },
      {
       "output_type": "stream",
       "stream": "stdout",
       "text": [
        "Got 3075 / 4000 correct (76.88)\n",
        "skip model saving\n"
       ]
      },
      {
       "output_type": "stream",
       "stream": "stdout",
       "text": [
        "[35,   200] loss: 0.123370\n"
       ]
      },
      {
       "output_type": "stream",
       "stream": "stdout",
       "text": [
        "[35,   400] loss: 0.141666\n"
       ]
      },
      {
       "output_type": "stream",
       "stream": "stdout",
       "text": [
        "Got 3148 / 4000 correct (78.70)\n",
        "saving model\n"
       ]
      },
      {
       "output_type": "stream",
       "stream": "stdout",
       "text": [
        "[36,   200] loss: 0.118013\n"
       ]
      },
      {
       "output_type": "stream",
       "stream": "stdout",
       "text": [
        "[36,   400] loss: 0.125066\n"
       ]
      },
      {
       "output_type": "stream",
       "stream": "stdout",
       "text": [
        "Got 3094 / 4000 correct (77.35)\n",
        "skip model saving\n"
       ]
      },
      {
       "output_type": "stream",
       "stream": "stdout",
       "text": [
        "[37,   200] loss: 0.103564\n"
       ]
      },
      {
       "output_type": "stream",
       "stream": "stdout",
       "text": [
        "[37,   400] loss: 0.108611\n"
       ]
      },
      {
       "output_type": "stream",
       "stream": "stdout",
       "text": [
        "Got 3124 / 4000 correct (78.10)\n",
        "skip model saving\n"
       ]
      },
      {
       "output_type": "stream",
       "stream": "stdout",
       "text": [
        "[38,   200] loss: 0.093618\n"
       ]
      },
      {
       "output_type": "stream",
       "stream": "stdout",
       "text": [
        "[38,   400] loss: 0.152449\n"
       ]
      },
      {
       "output_type": "stream",
       "stream": "stdout",
       "text": [
        "Got 3064 / 4000 correct (76.60)\n",
        "skip model saving\n"
       ]
      },
      {
       "output_type": "stream",
       "stream": "stdout",
       "text": [
        "[39,   200] loss: 0.100903\n"
       ]
      },
      {
       "output_type": "stream",
       "stream": "stdout",
       "text": [
        "[39,   400] loss: 0.106134\n"
       ]
      },
      {
       "output_type": "stream",
       "stream": "stdout",
       "text": [
        "Got 3098 / 4000 correct (77.45)\n",
        "skip model saving\n"
       ]
      },
      {
       "output_type": "stream",
       "stream": "stdout",
       "text": [
        "[40,   200] loss: 0.095278\n"
       ]
      },
      {
       "output_type": "stream",
       "stream": "stdout",
       "text": [
        "[40,   400] loss: 0.120544\n"
       ]
      },
      {
       "output_type": "stream",
       "stream": "stdout",
       "text": [
        "Got 3143 / 4000 correct (78.57)\n",
        "skip model saving\n"
       ]
      },
      {
       "output_type": "stream",
       "stream": "stdout",
       "text": [
        "[41,   200] loss: 0.083830\n"
       ]
      },
      {
       "output_type": "stream",
       "stream": "stdout",
       "text": [
        "[41,   400] loss: 0.099683\n"
       ]
      },
      {
       "output_type": "stream",
       "stream": "stdout",
       "text": [
        "Got 3080 / 4000 correct (77.00)\n",
        "skip model saving\n"
       ]
      },
      {
       "output_type": "stream",
       "stream": "stdout",
       "text": [
        "[42,   200] loss: 0.158879\n"
       ]
      },
      {
       "output_type": "stream",
       "stream": "stdout",
       "text": [
        "[42,   400] loss: 0.105026\n"
       ]
      },
      {
       "output_type": "stream",
       "stream": "stdout",
       "text": [
        "Got 3114 / 4000 correct (77.85)\n",
        "skip model saving\n"
       ]
      },
      {
       "output_type": "stream",
       "stream": "stdout",
       "text": [
        "[43,   200] loss: 0.084372\n"
       ]
      },
      {
       "output_type": "stream",
       "stream": "stdout",
       "text": [
        "[43,   400] loss: 0.101655\n"
       ]
      },
      {
       "output_type": "stream",
       "stream": "stdout",
       "text": [
        "Got 3102 / 4000 correct (77.55)\n",
        "skip model saving\n"
       ]
      },
      {
       "output_type": "stream",
       "stream": "stdout",
       "text": [
        "[44,   200] loss: 0.100151\n"
       ]
      },
      {
       "output_type": "stream",
       "stream": "stdout",
       "text": [
        "[44,   400] loss: 0.088228\n"
       ]
      },
      {
       "output_type": "stream",
       "stream": "stdout",
       "text": [
        "Got 3131 / 4000 correct (78.27)\n",
        "skip model saving\n"
       ]
      },
      {
       "output_type": "stream",
       "stream": "stdout",
       "text": [
        "[45,   200] loss: 0.075565\n"
       ]
      },
      {
       "output_type": "stream",
       "stream": "stdout",
       "text": [
        "[45,   400] loss: 0.095296\n"
       ]
      },
      {
       "output_type": "stream",
       "stream": "stdout",
       "text": [
        "Got 3129 / 4000 correct (78.22)\n",
        "skip model saving\n"
       ]
      },
      {
       "output_type": "stream",
       "stream": "stdout",
       "text": [
        "[46,   200] loss: 0.074085\n"
       ]
      },
      {
       "output_type": "stream",
       "stream": "stdout",
       "text": [
        "[46,   400] loss: 0.084926\n"
       ]
      },
      {
       "output_type": "stream",
       "stream": "stdout",
       "text": [
        "Got 3108 / 4000 correct (77.70)\n",
        "skip model saving\n"
       ]
      },
      {
       "output_type": "stream",
       "stream": "stdout",
       "text": [
        "[47,   200] loss: 0.059235\n"
       ]
      },
      {
       "output_type": "stream",
       "stream": "stdout",
       "text": [
        "[47,   400] loss: 0.073563\n"
       ]
      },
      {
       "output_type": "stream",
       "stream": "stdout",
       "text": [
        "Got 3063 / 4000 correct (76.58)\n",
        "skip model saving\n"
       ]
      },
      {
       "output_type": "stream",
       "stream": "stdout",
       "text": [
        "[48,   200] loss: 0.081040\n"
       ]
      },
      {
       "output_type": "stream",
       "stream": "stdout",
       "text": [
        "[48,   400] loss: 0.092036\n"
       ]
      },
      {
       "output_type": "stream",
       "stream": "stdout",
       "text": [
        "Got 3110 / 4000 correct (77.75)\n",
        "skip model saving\n"
       ]
      },
      {
       "output_type": "stream",
       "stream": "stdout",
       "text": [
        "[49,   200] loss: 0.103564\n"
       ]
      },
      {
       "output_type": "stream",
       "stream": "stdout",
       "text": [
        "[49,   400] loss: 0.094614\n"
       ]
      },
      {
       "output_type": "stream",
       "stream": "stdout",
       "text": [
        "Got 3122 / 4000 correct (78.05)\n",
        "skip model saving\n"
       ]
      },
      {
       "output_type": "stream",
       "stream": "stdout",
       "text": [
        "[50,   200] loss: 0.053818\n"
       ]
      },
      {
       "output_type": "stream",
       "stream": "stdout",
       "text": [
        "[50,   400] loss: 0.064696\n"
       ]
      },
      {
       "output_type": "stream",
       "stream": "stdout",
       "text": [
        "Got 3114 / 4000 correct (77.85)\n",
        "skip model saving\n"
       ]
      },
      {
       "output_type": "stream",
       "stream": "stdout",
       "text": [
        "[51,   200] loss: 0.056202\n"
       ]
      },
      {
       "output_type": "stream",
       "stream": "stdout",
       "text": [
        "[51,   400] loss: 0.077045\n"
       ]
      },
      {
       "output_type": "stream",
       "stream": "stdout",
       "text": [
        "Got 3141 / 4000 correct (78.53)\n",
        "skip model saving\n"
       ]
      },
      {
       "output_type": "stream",
       "stream": "stdout",
       "text": [
        "[52,   200] loss: 0.070587\n"
       ]
      },
      {
       "output_type": "stream",
       "stream": "stdout",
       "text": [
        "[52,   400] loss: 0.091344\n"
       ]
      },
      {
       "output_type": "stream",
       "stream": "stdout",
       "text": [
        "Got 3094 / 4000 correct (77.35)\n",
        "skip model saving\n"
       ]
      },
      {
       "output_type": "stream",
       "stream": "stdout",
       "text": [
        "[53,   200] loss: 0.115818\n"
       ]
      },
      {
       "output_type": "stream",
       "stream": "stdout",
       "text": [
        "[53,   400] loss: 0.072542\n"
       ]
      },
      {
       "output_type": "stream",
       "stream": "stdout",
       "text": [
        "Got 3104 / 4000 correct (77.60)\n",
        "skip model saving\n"
       ]
      },
      {
       "output_type": "stream",
       "stream": "stdout",
       "text": [
        "[54,   200] loss: 0.052832\n"
       ]
      },
      {
       "output_type": "stream",
       "stream": "stdout",
       "text": [
        "[54,   400] loss: 0.061686\n"
       ]
      },
      {
       "output_type": "stream",
       "stream": "stdout",
       "text": [
        "Got 3072 / 4000 correct (76.80)\n",
        "skip model saving\n"
       ]
      },
      {
       "output_type": "stream",
       "stream": "stdout",
       "text": [
        "[55,   200] loss: 0.075815\n"
       ]
      },
      {
       "output_type": "stream",
       "stream": "stdout",
       "text": [
        "[55,   400] loss: 0.081549\n"
       ]
      },
      {
       "output_type": "stream",
       "stream": "stdout",
       "text": [
        "Got 3130 / 4000 correct (78.25)\n",
        "skip model saving\n"
       ]
      },
      {
       "output_type": "stream",
       "stream": "stdout",
       "text": [
        "[56,   200] loss: 0.056549\n"
       ]
      },
      {
       "output_type": "stream",
       "stream": "stdout",
       "text": [
        "[56,   400] loss: 0.061896\n"
       ]
      },
      {
       "output_type": "stream",
       "stream": "stdout",
       "text": [
        "Got 3123 / 4000 correct (78.08)\n",
        "skip model saving\n"
       ]
      },
      {
       "output_type": "stream",
       "stream": "stdout",
       "text": [
        "[57,   200] loss: 0.053549\n"
       ]
      },
      {
       "output_type": "stream",
       "stream": "stdout",
       "text": [
        "[57,   400] loss: 0.070051\n"
       ]
      },
      {
       "output_type": "stream",
       "stream": "stdout",
       "text": [
        "Got 3090 / 4000 correct (77.25)\n",
        "skip model saving\n"
       ]
      },
      {
       "output_type": "stream",
       "stream": "stdout",
       "text": [
        "[58,   200] loss: 0.060722\n"
       ]
      },
      {
       "output_type": "stream",
       "stream": "stdout",
       "text": [
        "[58,   400] loss: 0.067787\n"
       ]
      },
      {
       "output_type": "stream",
       "stream": "stdout",
       "text": [
        "Got 3122 / 4000 correct (78.05)\n",
        "skip model saving\n"
       ]
      },
      {
       "output_type": "stream",
       "stream": "stdout",
       "text": [
        "[59,   200] loss: 0.059341\n"
       ]
      },
      {
       "output_type": "stream",
       "stream": "stdout",
       "text": [
        "[59,   400] loss: 0.047814\n"
       ]
      },
      {
       "output_type": "stream",
       "stream": "stdout",
       "text": [
        "Got 3165 / 4000 correct (79.12)\n",
        "saving model\n"
       ]
      },
      {
       "output_type": "stream",
       "stream": "stdout",
       "text": [
        "[60,   200] loss: 0.038558\n"
       ]
      },
      {
       "output_type": "stream",
       "stream": "stdout",
       "text": [
        "[60,   400] loss: 0.116733\n"
       ]
      },
      {
       "output_type": "stream",
       "stream": "stdout",
       "text": [
        "Got 3123 / 4000 correct (78.08)\n",
        "skip model saving\n"
       ]
      },
      {
       "output_type": "stream",
       "stream": "stdout",
       "text": [
        "[61,   200] loss: 0.060411\n"
       ]
      },
      {
       "output_type": "stream",
       "stream": "stdout",
       "text": [
        "[61,   400] loss: 0.045074\n"
       ]
      },
      {
       "output_type": "stream",
       "stream": "stdout",
       "text": [
        "Got 3154 / 4000 correct (78.85)\n",
        "skip model saving\n"
       ]
      },
      {
       "output_type": "stream",
       "stream": "stdout",
       "text": [
        "[62,   200] loss: 0.040189\n"
       ]
      },
      {
       "output_type": "stream",
       "stream": "stdout",
       "text": [
        "[62,   400] loss: 0.065679\n"
       ]
      },
      {
       "output_type": "stream",
       "stream": "stdout",
       "text": [
        "Got 3149 / 4000 correct (78.72)\n",
        "skip model saving\n"
       ]
      },
      {
       "output_type": "stream",
       "stream": "stdout",
       "text": [
        "[63,   200] loss: 0.055354\n"
       ]
      },
      {
       "output_type": "stream",
       "stream": "stdout",
       "text": [
        "[63,   400] loss: 0.061728\n"
       ]
      },
      {
       "output_type": "stream",
       "stream": "stdout",
       "text": [
        "Got 3174 / 4000 correct (79.35)\n",
        "saving model\n"
       ]
      },
      {
       "output_type": "stream",
       "stream": "stdout",
       "text": [
        "[64,   200] loss: 0.065142\n"
       ]
      },
      {
       "output_type": "stream",
       "stream": "stdout",
       "text": [
        "[64,   400] loss: 0.086195\n"
       ]
      },
      {
       "output_type": "stream",
       "stream": "stdout",
       "text": [
        "Got 3146 / 4000 correct (78.65)\n",
        "skip model saving\n"
       ]
      },
      {
       "output_type": "stream",
       "stream": "stdout",
       "text": [
        "[65,   200] loss: 0.063604\n"
       ]
      },
      {
       "output_type": "stream",
       "stream": "stdout",
       "text": [
        "[65,   400] loss: 0.044101\n"
       ]
      },
      {
       "output_type": "stream",
       "stream": "stdout",
       "text": [
        "Got 3108 / 4000 correct (77.70)\n",
        "skip model saving\n"
       ]
      },
      {
       "output_type": "stream",
       "stream": "stdout",
       "text": [
        "[66,   200] loss: 0.042550\n"
       ]
      },
      {
       "output_type": "stream",
       "stream": "stdout",
       "text": [
        "[66,   400] loss: 0.058060\n"
       ]
      },
      {
       "output_type": "stream",
       "stream": "stdout",
       "text": [
        "Got 3137 / 4000 correct (78.42)\n",
        "skip model saving\n"
       ]
      },
      {
       "output_type": "stream",
       "stream": "stdout",
       "text": [
        "[67,   200] loss: 0.055269\n"
       ]
      },
      {
       "output_type": "stream",
       "stream": "stdout",
       "text": [
        "[67,   400] loss: 0.038509\n"
       ]
      },
      {
       "output_type": "stream",
       "stream": "stdout",
       "text": [
        "Got 3102 / 4000 correct (77.55)\n",
        "skip model saving\n"
       ]
      },
      {
       "output_type": "stream",
       "stream": "stdout",
       "text": [
        "[68,   200] loss: 0.055298\n"
       ]
      },
      {
       "output_type": "stream",
       "stream": "stdout",
       "text": [
        "[68,   400] loss: 0.057069\n"
       ]
      },
      {
       "output_type": "stream",
       "stream": "stdout",
       "text": [
        "Got 3159 / 4000 correct (78.97)\n",
        "skip model saving\n"
       ]
      },
      {
       "output_type": "stream",
       "stream": "stdout",
       "text": [
        "[69,   200] loss: 0.046560\n"
       ]
      },
      {
       "output_type": "stream",
       "stream": "stdout",
       "text": [
        "[69,   400] loss: 0.078651\n"
       ]
      },
      {
       "output_type": "stream",
       "stream": "stdout",
       "text": [
        "Got 3144 / 4000 correct (78.60)\n",
        "skip model saving\n"
       ]
      },
      {
       "output_type": "stream",
       "stream": "stdout",
       "text": [
        "[70,   200] loss: 0.050210\n"
       ]
      },
      {
       "output_type": "stream",
       "stream": "stdout",
       "text": [
        "[70,   400] loss: 0.046519\n"
       ]
      },
      {
       "output_type": "stream",
       "stream": "stdout",
       "text": [
        "Got 3115 / 4000 correct (77.88)\n",
        "skip model saving\n"
       ]
      },
      {
       "output_type": "stream",
       "stream": "stdout",
       "text": [
        "[71,   200] loss: 0.030566\n"
       ]
      },
      {
       "output_type": "stream",
       "stream": "stdout",
       "text": [
        "[71,   400] loss: 0.035222\n"
       ]
      },
      {
       "output_type": "stream",
       "stream": "stdout",
       "text": [
        "Got 3012 / 4000 correct (75.30)\n",
        "skip model saving\n"
       ]
      },
      {
       "output_type": "stream",
       "stream": "stdout",
       "text": [
        "[72,   200] loss: 0.072053\n"
       ]
      },
      {
       "output_type": "stream",
       "stream": "stdout",
       "text": [
        "[72,   400] loss: 0.050287\n"
       ]
      },
      {
       "output_type": "stream",
       "stream": "stdout",
       "text": [
        "Got 3168 / 4000 correct (79.20)\n",
        "skip model saving\n"
       ]
      },
      {
       "output_type": "stream",
       "stream": "stdout",
       "text": [
        "[73,   200] loss: 0.044594\n"
       ]
      },
      {
       "output_type": "stream",
       "stream": "stdout",
       "text": [
        "[73,   400] loss: 0.044084\n"
       ]
      },
      {
       "output_type": "stream",
       "stream": "stdout",
       "text": [
        "Got 3105 / 4000 correct (77.62)\n",
        "skip model saving\n"
       ]
      },
      {
       "output_type": "stream",
       "stream": "stdout",
       "text": [
        "[74,   200] loss: 0.052994\n"
       ]
      },
      {
       "output_type": "stream",
       "stream": "stdout",
       "text": [
        "[74,   400] loss: 0.068044\n"
       ]
      },
      {
       "output_type": "stream",
       "stream": "stdout",
       "text": [
        "Got 3186 / 4000 correct (79.65)\n",
        "saving model\n"
       ]
      },
      {
       "output_type": "stream",
       "stream": "stdout",
       "text": [
        "[75,   200] loss: 0.036930\n"
       ]
      },
      {
       "output_type": "stream",
       "stream": "stdout",
       "text": [
        "[75,   400] loss: 0.061951\n"
       ]
      },
      {
       "output_type": "stream",
       "stream": "stdout",
       "text": [
        "Got 3181 / 4000 correct (79.53)\n",
        "skip model saving\n"
       ]
      },
      {
       "output_type": "stream",
       "stream": "stdout",
       "text": [
        "[76,   200] loss: 0.030376\n"
       ]
      },
      {
       "output_type": "stream",
       "stream": "stdout",
       "text": [
        "[76,   400] loss: 0.048972\n"
       ]
      },
      {
       "output_type": "stream",
       "stream": "stdout",
       "text": [
        "Got 3160 / 4000 correct (79.00)\n",
        "skip model saving\n"
       ]
      },
      {
       "output_type": "stream",
       "stream": "stdout",
       "text": [
        "[77,   200] loss: 0.054937\n"
       ]
      },
      {
       "output_type": "stream",
       "stream": "stdout",
       "text": [
        "[77,   400] loss: 0.039436\n"
       ]
      },
      {
       "output_type": "stream",
       "stream": "stdout",
       "text": [
        "Got 3116 / 4000 correct (77.90)\n",
        "skip model saving\n"
       ]
      },
      {
       "output_type": "stream",
       "stream": "stdout",
       "text": [
        "[78,   200] loss: 0.046180\n"
       ]
      },
      {
       "output_type": "stream",
       "stream": "stdout",
       "text": [
        "[78,   400] loss: 0.082116\n"
       ]
      },
      {
       "output_type": "stream",
       "stream": "stdout",
       "text": [
        "Got 3132 / 4000 correct (78.30)\n",
        "skip model saving\n"
       ]
      },
      {
       "output_type": "stream",
       "stream": "stdout",
       "text": [
        "[79,   200] loss: 0.031899\n"
       ]
      },
      {
       "output_type": "stream",
       "stream": "stdout",
       "text": [
        "[79,   400] loss: 0.035927\n"
       ]
      },
      {
       "output_type": "stream",
       "stream": "stdout",
       "text": [
        "Got 3140 / 4000 correct (78.50)\n",
        "skip model saving\n"
       ]
      },
      {
       "output_type": "stream",
       "stream": "stdout",
       "text": [
        "[80,   200] loss: 0.054901\n"
       ]
      },
      {
       "output_type": "stream",
       "stream": "stdout",
       "text": [
        "[80,   400] loss: 0.076131\n"
       ]
      },
      {
       "output_type": "stream",
       "stream": "stdout",
       "text": [
        "Got 3145 / 4000 correct (78.62)\n",
        "skip model saving\n"
       ]
      },
      {
       "output_type": "stream",
       "stream": "stdout",
       "text": [
        "[81,   200] loss: 0.037780\n"
       ]
      },
      {
       "output_type": "stream",
       "stream": "stdout",
       "text": [
        "[81,   400] loss: 0.052734\n"
       ]
      },
      {
       "output_type": "stream",
       "stream": "stdout",
       "text": [
        "Got 3176 / 4000 correct (79.40)\n",
        "skip model saving\n"
       ]
      },
      {
       "output_type": "stream",
       "stream": "stdout",
       "text": [
        "[82,   200] loss: 0.041081\n"
       ]
      },
      {
       "output_type": "stream",
       "stream": "stdout",
       "text": [
        "[82,   400] loss: 0.044112\n"
       ]
      },
      {
       "output_type": "stream",
       "stream": "stdout",
       "text": [
        "Got 3135 / 4000 correct (78.38)\n",
        "skip model saving\n"
       ]
      },
      {
       "output_type": "stream",
       "stream": "stdout",
       "text": [
        "[83,   200] loss: 0.061669\n"
       ]
      },
      {
       "output_type": "stream",
       "stream": "stdout",
       "text": [
        "[83,   400] loss: 0.060997\n"
       ]
      },
      {
       "output_type": "stream",
       "stream": "stdout",
       "text": [
        "Got 3174 / 4000 correct (79.35)\n",
        "skip model saving\n"
       ]
      },
      {
       "output_type": "stream",
       "stream": "stdout",
       "text": [
        "[84,   200] loss: 0.024607\n"
       ]
      },
      {
       "output_type": "stream",
       "stream": "stdout",
       "text": [
        "[84,   400] loss: 0.045983\n"
       ]
      },
      {
       "output_type": "stream",
       "stream": "stdout",
       "text": [
        "Got 3180 / 4000 correct (79.50)\n",
        "skip model saving\n"
       ]
      },
      {
       "output_type": "stream",
       "stream": "stdout",
       "text": [
        "[85,   200] loss: 0.041620\n"
       ]
      },
      {
       "output_type": "stream",
       "stream": "stdout",
       "text": [
        "[85,   400] loss: 0.042359\n"
       ]
      },
      {
       "output_type": "stream",
       "stream": "stdout",
       "text": [
        "Got 3159 / 4000 correct (78.97)\n",
        "skip model saving\n"
       ]
      },
      {
       "output_type": "stream",
       "stream": "stdout",
       "text": [
        "[86,   200] loss: 0.045329\n"
       ]
      },
      {
       "output_type": "stream",
       "stream": "stdout",
       "text": [
        "[86,   400] loss: 0.051611\n"
       ]
      },
      {
       "output_type": "stream",
       "stream": "stdout",
       "text": [
        "Got 3122 / 4000 correct (78.05)\n",
        "skip model saving\n"
       ]
      },
      {
       "output_type": "stream",
       "stream": "stdout",
       "text": [
        "[87,   200] loss: 0.032658\n"
       ]
      },
      {
       "output_type": "stream",
       "stream": "stdout",
       "text": [
        "[87,   400] loss: 0.050101\n"
       ]
      },
      {
       "output_type": "stream",
       "stream": "stdout",
       "text": [
        "Got 3203 / 4000 correct (80.08)\n",
        "saving model\n"
       ]
      },
      {
       "output_type": "stream",
       "stream": "stdout",
       "text": [
        "[88,   200] loss: 0.030600\n"
       ]
      },
      {
       "output_type": "stream",
       "stream": "stdout",
       "text": [
        "[88,   400] loss: 0.035854\n"
       ]
      },
      {
       "output_type": "stream",
       "stream": "stdout",
       "text": [
        "Got 3216 / 4000 correct (80.40)\n",
        "saving model\n"
       ]
      },
      {
       "output_type": "stream",
       "stream": "stdout",
       "text": [
        "[89,   200] loss: 0.050119\n"
       ]
      },
      {
       "output_type": "stream",
       "stream": "stdout",
       "text": [
        "[89,   400] loss: 0.056535\n"
       ]
      },
      {
       "output_type": "stream",
       "stream": "stdout",
       "text": [
        "Got 3155 / 4000 correct (78.88)\n",
        "skip model saving\n"
       ]
      },
      {
       "output_type": "stream",
       "stream": "stdout",
       "text": [
        "[90,   200] loss: 0.040081\n"
       ]
      },
      {
       "output_type": "stream",
       "stream": "stdout",
       "text": [
        "[90,   400] loss: 0.039269\n"
       ]
      },
      {
       "output_type": "stream",
       "stream": "stdout",
       "text": [
        "Got 3075 / 4000 correct (76.88)\n",
        "skip model saving\n"
       ]
      },
      {
       "output_type": "stream",
       "stream": "stdout",
       "text": [
        "[91,   200] loss: 0.036528\n"
       ]
      },
      {
       "output_type": "stream",
       "stream": "stdout",
       "text": [
        "[91,   400] loss: 0.027408\n"
       ]
      },
      {
       "output_type": "stream",
       "stream": "stdout",
       "text": [
        "Got 3177 / 4000 correct (79.42)\n",
        "skip model saving\n"
       ]
      },
      {
       "output_type": "stream",
       "stream": "stdout",
       "text": [
        "[92,   200] loss: 0.043613\n"
       ]
      },
      {
       "output_type": "stream",
       "stream": "stdout",
       "text": [
        "[92,   400] loss: 0.057317\n"
       ]
      },
      {
       "output_type": "stream",
       "stream": "stdout",
       "text": [
        "Got 3148 / 4000 correct (78.70)\n",
        "skip model saving\n"
       ]
      },
      {
       "output_type": "stream",
       "stream": "stdout",
       "text": [
        "[93,   200] loss: 0.032089\n"
       ]
      },
      {
       "output_type": "stream",
       "stream": "stdout",
       "text": [
        "[93,   400] loss: 0.036196\n"
       ]
      },
      {
       "output_type": "stream",
       "stream": "stdout",
       "text": [
        "Got 3167 / 4000 correct (79.17)\n",
        "skip model saving\n"
       ]
      },
      {
       "output_type": "stream",
       "stream": "stdout",
       "text": [
        "[94,   200] loss: 0.036274\n"
       ]
      },
      {
       "output_type": "stream",
       "stream": "stdout",
       "text": [
        "[94,   400] loss: 0.035004\n"
       ]
      },
      {
       "output_type": "stream",
       "stream": "stdout",
       "text": [
        "Got 3145 / 4000 correct (78.62)\n",
        "skip model saving\n"
       ]
      },
      {
       "output_type": "stream",
       "stream": "stdout",
       "text": [
        "[95,   200] loss: 0.050246\n"
       ]
      },
      {
       "output_type": "stream",
       "stream": "stdout",
       "text": [
        "[95,   400] loss: 0.050818\n"
       ]
      },
      {
       "output_type": "stream",
       "stream": "stdout",
       "text": [
        "Got 3170 / 4000 correct (79.25)\n",
        "skip model saving\n"
       ]
      },
      {
       "output_type": "stream",
       "stream": "stdout",
       "text": [
        "[96,   200] loss: 0.025688\n"
       ]
      },
      {
       "output_type": "stream",
       "stream": "stdout",
       "text": [
        "[96,   400] loss: 0.028628\n"
       ]
      },
      {
       "output_type": "stream",
       "stream": "stdout",
       "text": [
        "Got 3098 / 4000 correct (77.45)\n",
        "skip model saving\n"
       ]
      },
      {
       "output_type": "stream",
       "stream": "stdout",
       "text": [
        "[97,   200] loss: 0.048932\n"
       ]
      },
      {
       "output_type": "stream",
       "stream": "stdout",
       "text": [
        "[97,   400] loss: 0.045435\n"
       ]
      },
      {
       "output_type": "stream",
       "stream": "stdout",
       "text": [
        "Got 3163 / 4000 correct (79.07)\n",
        "skip model saving\n"
       ]
      },
      {
       "output_type": "stream",
       "stream": "stdout",
       "text": [
        "[98,   200] loss: 0.023460\n"
       ]
      },
      {
       "output_type": "stream",
       "stream": "stdout",
       "text": [
        "[98,   400] loss: 0.021139\n"
       ]
      },
      {
       "output_type": "stream",
       "stream": "stdout",
       "text": [
        "Got 3155 / 4000 correct (78.88)\n",
        "skip model saving\n"
       ]
      },
      {
       "output_type": "stream",
       "stream": "stdout",
       "text": [
        "[99,   200] loss: 0.029194\n"
       ]
      },
      {
       "output_type": "stream",
       "stream": "stdout",
       "text": [
        "[99,   400] loss: 0.031403\n"
       ]
      },
      {
       "output_type": "stream",
       "stream": "stdout",
       "text": [
        "Got 3166 / 4000 correct (79.15)\n",
        "skip model saving\n"
       ]
      },
      {
       "output_type": "stream",
       "stream": "stdout",
       "text": [
        "[100,   200] loss: 0.040317\n"
       ]
      },
      {
       "output_type": "stream",
       "stream": "stdout",
       "text": [
        "[100,   400] loss: 0.029650\n"
       ]
      },
      {
       "output_type": "stream",
       "stream": "stdout",
       "text": [
        "Got 3161 / 4000 correct (79.03)\n",
        "skip model saving\n"
       ]
      },
      {
       "output_type": "stream",
       "stream": "stdout",
       "text": [
        "[101,   200] loss: 0.041235\n"
       ]
      },
      {
       "output_type": "stream",
       "stream": "stdout",
       "text": [
        "[101,   400] loss: 0.029362\n"
       ]
      },
      {
       "output_type": "stream",
       "stream": "stdout",
       "text": [
        "Got 3180 / 4000 correct (79.50)\n",
        "skip model saving\n"
       ]
      },
      {
       "output_type": "stream",
       "stream": "stdout",
       "text": [
        "[102,   200] loss: 0.029324\n"
       ]
      },
      {
       "output_type": "stream",
       "stream": "stdout",
       "text": [
        "[102,   400] loss: 0.045921\n"
       ]
      },
      {
       "output_type": "stream",
       "stream": "stdout",
       "text": [
        "Got 3155 / 4000 correct (78.88)\n",
        "skip model saving\n"
       ]
      },
      {
       "output_type": "stream",
       "stream": "stdout",
       "text": [
        "[103,   200] loss: 0.044254\n"
       ]
      },
      {
       "output_type": "stream",
       "stream": "stdout",
       "text": [
        "[103,   400] loss: 0.041371\n"
       ]
      },
      {
       "output_type": "stream",
       "stream": "stdout",
       "text": [
        "Got 3184 / 4000 correct (79.60)\n",
        "skip model saving\n"
       ]
      },
      {
       "output_type": "stream",
       "stream": "stdout",
       "text": [
        "[104,   200] loss: 0.018350\n"
       ]
      },
      {
       "output_type": "stream",
       "stream": "stdout",
       "text": [
        "[104,   400] loss: 0.026622\n"
       ]
      },
      {
       "output_type": "stream",
       "stream": "stdout",
       "text": [
        "Got 3180 / 4000 correct (79.50)\n",
        "skip model saving\n"
       ]
      },
      {
       "output_type": "stream",
       "stream": "stdout",
       "text": [
        "[105,   200] loss: 0.026011\n"
       ]
      },
      {
       "output_type": "stream",
       "stream": "stdout",
       "text": [
        "[105,   400] loss: 0.054818\n"
       ]
      },
      {
       "output_type": "stream",
       "stream": "stdout",
       "text": [
        "Got 3134 / 4000 correct (78.35)\n",
        "skip model saving\n"
       ]
      },
      {
       "output_type": "stream",
       "stream": "stdout",
       "text": [
        "[106,   200] loss: 0.055228\n"
       ]
      },
      {
       "output_type": "stream",
       "stream": "stdout",
       "text": [
        "[106,   400] loss: 0.042480\n"
       ]
      },
      {
       "output_type": "stream",
       "stream": "stdout",
       "text": [
        "Got 3153 / 4000 correct (78.83)\n",
        "skip model saving\n"
       ]
      },
      {
       "output_type": "stream",
       "stream": "stdout",
       "text": [
        "[107,   200] loss: 0.035250\n"
       ]
      },
      {
       "output_type": "stream",
       "stream": "stdout",
       "text": [
        "[107,   400] loss: 0.029348\n"
       ]
      },
      {
       "output_type": "stream",
       "stream": "stdout",
       "text": [
        "Got 3130 / 4000 correct (78.25)\n",
        "skip model saving\n"
       ]
      },
      {
       "output_type": "stream",
       "stream": "stdout",
       "text": [
        "[108,   200] loss: 0.029364\n"
       ]
      },
      {
       "output_type": "stream",
       "stream": "stdout",
       "text": [
        "[108,   400] loss: 0.023359\n"
       ]
      },
      {
       "output_type": "stream",
       "stream": "stdout",
       "text": [
        "Got 3125 / 4000 correct (78.12)\n",
        "skip model saving\n"
       ]
      },
      {
       "output_type": "stream",
       "stream": "stdout",
       "text": [
        "[109,   200] loss: 0.024284\n"
       ]
      },
      {
       "output_type": "stream",
       "stream": "stdout",
       "text": [
        "[109,   400] loss: 0.043270\n"
       ]
      },
      {
       "output_type": "stream",
       "stream": "stdout",
       "text": [
        "Got 3127 / 4000 correct (78.17)\n",
        "skip model saving\n"
       ]
      },
      {
       "output_type": "stream",
       "stream": "stdout",
       "text": [
        "[110,   200] loss: 0.046176\n"
       ]
      },
      {
       "output_type": "stream",
       "stream": "stdout",
       "text": [
        "[110,   400] loss: 0.035299\n"
       ]
      },
      {
       "output_type": "stream",
       "stream": "stdout",
       "text": [
        "Got 2954 / 4000 correct (73.85)\n",
        "skip model saving\n"
       ]
      },
      {
       "output_type": "stream",
       "stream": "stdout",
       "text": [
        "[111,   200] loss: 0.028883\n"
       ]
      },
      {
       "output_type": "stream",
       "stream": "stdout",
       "text": [
        "[111,   400] loss: 0.035145\n"
       ]
      },
      {
       "output_type": "stream",
       "stream": "stdout",
       "text": [
        "Got 3151 / 4000 correct (78.77)\n",
        "skip model saving\n"
       ]
      },
      {
       "output_type": "stream",
       "stream": "stdout",
       "text": [
        "[112,   200] loss: 0.054222\n"
       ]
      },
      {
       "output_type": "stream",
       "stream": "stdout",
       "text": [
        "[112,   400] loss: 0.046070\n"
       ]
      },
      {
       "output_type": "stream",
       "stream": "stdout",
       "text": [
        "Got 3144 / 4000 correct (78.60)\n",
        "skip model saving\n"
       ]
      },
      {
       "output_type": "stream",
       "stream": "stdout",
       "text": [
        "[113,   200] loss: 0.031010\n"
       ]
      },
      {
       "output_type": "stream",
       "stream": "stdout",
       "text": [
        "[113,   400] loss: 0.026887\n"
       ]
      },
      {
       "output_type": "stream",
       "stream": "stdout",
       "text": [
        "Got 3156 / 4000 correct (78.90)\n",
        "skip model saving\n"
       ]
      },
      {
       "output_type": "stream",
       "stream": "stdout",
       "text": [
        "[114,   200] loss: 0.025404\n"
       ]
      },
      {
       "output_type": "stream",
       "stream": "stdout",
       "text": [
        "[114,   400] loss: 0.026957\n"
       ]
      },
      {
       "output_type": "stream",
       "stream": "stdout",
       "text": [
        "Got 3167 / 4000 correct (79.17)\n",
        "skip model saving\n"
       ]
      },
      {
       "output_type": "stream",
       "stream": "stdout",
       "text": [
        "[115,   200] loss: 0.024841\n"
       ]
      },
      {
       "output_type": "stream",
       "stream": "stdout",
       "text": [
        "[115,   400] loss: 0.031303\n"
       ]
      },
      {
       "output_type": "stream",
       "stream": "stdout",
       "text": [
        "Got 3184 / 4000 correct (79.60)\n",
        "skip model saving\n"
       ]
      },
      {
       "output_type": "stream",
       "stream": "stdout",
       "text": [
        "[116,   200] loss: 0.024702\n"
       ]
      },
      {
       "output_type": "stream",
       "stream": "stdout",
       "text": [
        "[116,   400] loss: 0.029005\n"
       ]
      },
      {
       "output_type": "stream",
       "stream": "stdout",
       "text": [
        "Got 3122 / 4000 correct (78.05)\n",
        "skip model saving\n"
       ]
      },
      {
       "output_type": "stream",
       "stream": "stdout",
       "text": [
        "[117,   200] loss: 0.033638\n"
       ]
      },
      {
       "output_type": "stream",
       "stream": "stdout",
       "text": [
        "[117,   400] loss: 0.024365\n"
       ]
      },
      {
       "output_type": "stream",
       "stream": "stdout",
       "text": [
        "Got 3169 / 4000 correct (79.22)\n",
        "skip model saving\n"
       ]
      },
      {
       "output_type": "stream",
       "stream": "stdout",
       "text": [
        "[118,   200] loss: 0.028202\n"
       ]
      },
      {
       "output_type": "stream",
       "stream": "stdout",
       "text": [
        "[118,   400] loss: 0.027727\n"
       ]
      },
      {
       "output_type": "stream",
       "stream": "stdout",
       "text": [
        "Got 3190 / 4000 correct (79.75)\n",
        "skip model saving\n"
       ]
      },
      {
       "output_type": "stream",
       "stream": "stdout",
       "text": [
        "[119,   200] loss: 0.029043\n"
       ]
      },
      {
       "output_type": "stream",
       "stream": "stdout",
       "text": [
        "[119,   400] loss: 0.025385\n"
       ]
      },
      {
       "output_type": "stream",
       "stream": "stdout",
       "text": [
        "Got 3173 / 4000 correct (79.33)\n",
        "skip model saving\n"
       ]
      },
      {
       "output_type": "stream",
       "stream": "stdout",
       "text": [
        "[120,   200] loss: 0.032464\n"
       ]
      },
      {
       "output_type": "stream",
       "stream": "stdout",
       "text": [
        "[120,   400] loss: 0.030065\n"
       ]
      },
      {
       "output_type": "stream",
       "stream": "stdout",
       "text": [
        "Got 3146 / 4000 correct (78.65)\n",
        "skip model saving\n"
       ]
      },
      {
       "output_type": "stream",
       "stream": "stdout",
       "text": [
        "[121,   200] loss: 0.022030\n"
       ]
      },
      {
       "output_type": "stream",
       "stream": "stdout",
       "text": [
        "[121,   400] loss: 0.043926\n"
       ]
      },
      {
       "output_type": "stream",
       "stream": "stdout",
       "text": [
        "Got 3171 / 4000 correct (79.27)\n",
        "skip model saving\n"
       ]
      },
      {
       "output_type": "stream",
       "stream": "stdout",
       "text": [
        "[122,   200] loss: 0.023472\n"
       ]
      },
      {
       "output_type": "stream",
       "stream": "stdout",
       "text": [
        "[122,   400] loss: 0.021669\n"
       ]
      },
      {
       "output_type": "stream",
       "stream": "stdout",
       "text": [
        "Got 3162 / 4000 correct (79.05)\n",
        "skip model saving\n"
       ]
      },
      {
       "output_type": "stream",
       "stream": "stdout",
       "text": [
        "[123,   200] loss: 0.021420\n"
       ]
      },
      {
       "output_type": "stream",
       "stream": "stdout",
       "text": [
        "[123,   400] loss: 0.026048\n"
       ]
      },
      {
       "output_type": "stream",
       "stream": "stdout",
       "text": [
        "Got 3122 / 4000 correct (78.05)\n",
        "skip model saving\n"
       ]
      },
      {
       "output_type": "stream",
       "stream": "stdout",
       "text": [
        "[124,   200] loss: 0.056229\n"
       ]
      },
      {
       "output_type": "stream",
       "stream": "stdout",
       "text": [
        "[124,   400] loss: 0.048001\n"
       ]
      },
      {
       "output_type": "stream",
       "stream": "stdout",
       "text": [
        "Got 3142 / 4000 correct (78.55)\n",
        "skip model saving\n"
       ]
      },
      {
       "output_type": "stream",
       "stream": "stdout",
       "text": [
        "[125,   200] loss: 0.030406\n"
       ]
      },
      {
       "output_type": "stream",
       "stream": "stdout",
       "text": [
        "[125,   400] loss: 0.018698\n"
       ]
      },
      {
       "output_type": "stream",
       "stream": "stdout",
       "text": [
        "Got 3179 / 4000 correct (79.47)\n",
        "skip model saving\n"
       ]
      },
      {
       "output_type": "stream",
       "stream": "stdout",
       "text": [
        "[126,   200] loss: 0.023132\n"
       ]
      },
      {
       "output_type": "stream",
       "stream": "stdout",
       "text": [
        "[126,   400] loss: 0.022423\n"
       ]
      },
      {
       "output_type": "stream",
       "stream": "stdout",
       "text": [
        "Got 3188 / 4000 correct (79.70)\n",
        "skip model saving\n"
       ]
      },
      {
       "output_type": "stream",
       "stream": "stdout",
       "text": [
        "[127,   200] loss: 0.032153\n"
       ]
      },
      {
       "output_type": "stream",
       "stream": "stdout",
       "text": [
        "[127,   400] loss: 0.026576\n"
       ]
      },
      {
       "output_type": "stream",
       "stream": "stdout",
       "text": [
        "Got 3131 / 4000 correct (78.27)\n",
        "skip model saving\n"
       ]
      },
      {
       "output_type": "stream",
       "stream": "stdout",
       "text": [
        "[128,   200] loss: 0.037287\n"
       ]
      },
      {
       "output_type": "stream",
       "stream": "stdout",
       "text": [
        "[128,   400] loss: 0.030292\n"
       ]
      },
      {
       "output_type": "stream",
       "stream": "stdout",
       "text": [
        "Got 3171 / 4000 correct (79.27)\n",
        "skip model saving\n"
       ]
      },
      {
       "output_type": "stream",
       "stream": "stdout",
       "text": [
        "[129,   200] loss: 0.025277\n"
       ]
      },
      {
       "output_type": "stream",
       "stream": "stdout",
       "text": [
        "[129,   400] loss: 0.024945\n"
       ]
      },
      {
       "output_type": "stream",
       "stream": "stdout",
       "text": [
        "Got 3189 / 4000 correct (79.72)\n",
        "skip model saving\n"
       ]
      },
      {
       "output_type": "stream",
       "stream": "stdout",
       "text": [
        "[130,   200] loss: 0.025199\n"
       ]
      },
      {
       "output_type": "stream",
       "stream": "stdout",
       "text": [
        "[130,   400] loss: 0.025389\n"
       ]
      },
      {
       "output_type": "stream",
       "stream": "stdout",
       "text": [
        "Got 3181 / 4000 correct (79.53)\n",
        "skip model saving\n"
       ]
      },
      {
       "output_type": "stream",
       "stream": "stdout",
       "text": [
        "[131,   200] loss: 0.021069\n"
       ]
      },
      {
       "output_type": "stream",
       "stream": "stdout",
       "text": [
        "[131,   400] loss: 0.027913\n"
       ]
      },
      {
       "output_type": "stream",
       "stream": "stdout",
       "text": [
        "Got 3116 / 4000 correct (77.90)\n",
        "skip model saving\n"
       ]
      },
      {
       "output_type": "stream",
       "stream": "stdout",
       "text": [
        "[132,   200] loss: 0.041784\n"
       ]
      },
      {
       "output_type": "stream",
       "stream": "stdout",
       "text": [
        "[132,   400] loss: 0.033341\n"
       ]
      },
      {
       "output_type": "stream",
       "stream": "stdout",
       "text": [
        "Got 3168 / 4000 correct (79.20)\n",
        "skip model saving\n"
       ]
      },
      {
       "output_type": "stream",
       "stream": "stdout",
       "text": [
        "[133,   200] loss: 0.026790\n"
       ]
      },
      {
       "output_type": "stream",
       "stream": "stdout",
       "text": [
        "[133,   400] loss: 0.023764\n"
       ]
      },
      {
       "output_type": "stream",
       "stream": "stdout",
       "text": [
        "Got 3156 / 4000 correct (78.90)\n",
        "skip model saving\n"
       ]
      },
      {
       "output_type": "stream",
       "stream": "stdout",
       "text": [
        "[134,   200] loss: 0.024004\n"
       ]
      },
      {
       "output_type": "stream",
       "stream": "stdout",
       "text": [
        "[134,   400] loss: 0.025742\n"
       ]
      },
      {
       "output_type": "stream",
       "stream": "stdout",
       "text": [
        "Got 3171 / 4000 correct (79.27)\n",
        "skip model saving\n"
       ]
      },
      {
       "output_type": "stream",
       "stream": "stdout",
       "text": [
        "[135,   200] loss: 0.023775\n"
       ]
      },
      {
       "output_type": "stream",
       "stream": "stdout",
       "text": [
        "[135,   400] loss: 0.030787\n"
       ]
      },
      {
       "output_type": "stream",
       "stream": "stdout",
       "text": [
        "Got 3131 / 4000 correct (78.27)\n",
        "skip model saving\n"
       ]
      },
      {
       "output_type": "stream",
       "stream": "stdout",
       "text": [
        "[136,   200] loss: 0.030853\n"
       ]
      },
      {
       "output_type": "stream",
       "stream": "stdout",
       "text": [
        "[136,   400] loss: 0.027800\n"
       ]
      },
      {
       "output_type": "stream",
       "stream": "stdout",
       "text": [
        "Got 3211 / 4000 correct (80.27)\n",
        "skip model saving\n"
       ]
      },
      {
       "output_type": "stream",
       "stream": "stdout",
       "text": [
        "[137,   200] loss: 0.021328\n"
       ]
      },
      {
       "output_type": "stream",
       "stream": "stdout",
       "text": [
        "[137,   400] loss: 0.020056\n"
       ]
      },
      {
       "output_type": "stream",
       "stream": "stdout",
       "text": [
        "Got 3170 / 4000 correct (79.25)\n",
        "skip model saving\n"
       ]
      },
      {
       "output_type": "stream",
       "stream": "stdout",
       "text": [
        "[138,   200] loss: 0.022273\n"
       ]
      },
      {
       "output_type": "stream",
       "stream": "stdout",
       "text": [
        "[138,   400] loss: 0.029473\n"
       ]
      },
      {
       "output_type": "stream",
       "stream": "stdout",
       "text": [
        "Got 3178 / 4000 correct (79.45)\n",
        "skip model saving\n"
       ]
      },
      {
       "output_type": "stream",
       "stream": "stdout",
       "text": [
        "[139,   200] loss: 0.025470\n"
       ]
      },
      {
       "output_type": "stream",
       "stream": "stdout",
       "text": [
        "[139,   400] loss: 0.032953\n"
       ]
      },
      {
       "output_type": "stream",
       "stream": "stdout",
       "text": [
        "Got 3133 / 4000 correct (78.33)\n",
        "skip model saving\n"
       ]
      },
      {
       "output_type": "stream",
       "stream": "stdout",
       "text": [
        "[140,   200] loss: 0.029172\n"
       ]
      },
      {
       "output_type": "stream",
       "stream": "stdout",
       "text": [
        "[140,   400] loss: 0.036958\n"
       ]
      },
      {
       "output_type": "stream",
       "stream": "stdout",
       "text": [
        "Got 3189 / 4000 correct (79.72)\n",
        "skip model saving\n"
       ]
      },
      {
       "output_type": "stream",
       "stream": "stdout",
       "text": [
        "[141,   200] loss: 0.013812\n"
       ]
      },
      {
       "output_type": "stream",
       "stream": "stdout",
       "text": [
        "[141,   400] loss: 0.065219\n"
       ]
      },
      {
       "output_type": "stream",
       "stream": "stdout",
       "text": [
        "Got 3164 / 4000 correct (79.10)\n",
        "skip model saving\n"
       ]
      },
      {
       "output_type": "stream",
       "stream": "stdout",
       "text": [
        "[142,   200] loss: 0.025469\n"
       ]
      },
      {
       "output_type": "stream",
       "stream": "stdout",
       "text": [
        "[142,   400] loss: 0.018013\n"
       ]
      },
      {
       "output_type": "stream",
       "stream": "stdout",
       "text": [
        "Got 3147 / 4000 correct (78.67)\n",
        "skip model saving\n"
       ]
      },
      {
       "output_type": "stream",
       "stream": "stdout",
       "text": [
        "[143,   200] loss: 0.019100\n"
       ]
      },
      {
       "output_type": "stream",
       "stream": "stdout",
       "text": [
        "[143,   400] loss: 0.015026\n"
       ]
      },
      {
       "output_type": "stream",
       "stream": "stdout",
       "text": [
        "Got 3125 / 4000 correct (78.12)\n",
        "skip model saving\n"
       ]
      },
      {
       "output_type": "stream",
       "stream": "stdout",
       "text": [
        "[144,   200] loss: 0.053972\n"
       ]
      },
      {
       "output_type": "stream",
       "stream": "stdout",
       "text": [
        "[144,   400] loss: 0.028474\n"
       ]
      },
      {
       "output_type": "stream",
       "stream": "stdout",
       "text": [
        "Got 3196 / 4000 correct (79.90)\n",
        "skip model saving\n"
       ]
      },
      {
       "output_type": "stream",
       "stream": "stdout",
       "text": [
        "[145,   200] loss: 0.025385\n"
       ]
      },
      {
       "output_type": "stream",
       "stream": "stdout",
       "text": [
        "[145,   400] loss: 0.025294\n"
       ]
      },
      {
       "output_type": "stream",
       "stream": "stdout",
       "text": [
        "Got 3156 / 4000 correct (78.90)\n",
        "skip model saving\n"
       ]
      },
      {
       "output_type": "stream",
       "stream": "stdout",
       "text": [
        "[146,   200] loss: 0.017823\n"
       ]
      },
      {
       "output_type": "stream",
       "stream": "stdout",
       "text": [
        "[146,   400] loss: 0.096165\n"
       ]
      },
      {
       "output_type": "stream",
       "stream": "stdout",
       "text": [
        "Got 3194 / 4000 correct (79.85)\n",
        "skip model saving\n"
       ]
      },
      {
       "output_type": "stream",
       "stream": "stdout",
       "text": [
        "[147,   200] loss: 0.027389\n"
       ]
      },
      {
       "output_type": "stream",
       "stream": "stdout",
       "text": [
        "[147,   400] loss: 0.021076\n"
       ]
      },
      {
       "output_type": "stream",
       "stream": "stdout",
       "text": [
        "Got 3162 / 4000 correct (79.05)\n",
        "skip model saving\n"
       ]
      },
      {
       "output_type": "stream",
       "stream": "stdout",
       "text": [
        "[148,   200] loss: 0.016794\n"
       ]
      },
      {
       "output_type": "stream",
       "stream": "stdout",
       "text": [
        "[148,   400] loss: 0.015972\n"
       ]
      },
      {
       "output_type": "stream",
       "stream": "stdout",
       "text": [
        "Got 3155 / 4000 correct (78.88)\n",
        "skip model saving\n"
       ]
      },
      {
       "output_type": "stream",
       "stream": "stdout",
       "text": [
        "[149,   200] loss: 0.025602\n"
       ]
      },
      {
       "output_type": "stream",
       "stream": "stdout",
       "text": [
        "[149,   400] loss: 0.025956\n"
       ]
      },
      {
       "output_type": "stream",
       "stream": "stdout",
       "text": [
        "Got 3198 / 4000 correct (79.95)\n",
        "skip model saving\n"
       ]
      },
      {
       "output_type": "stream",
       "stream": "stdout",
       "text": [
        "[150,   200] loss: 0.019538\n"
       ]
      },
      {
       "output_type": "stream",
       "stream": "stdout",
       "text": [
        "[150,   400] loss: 0.022121\n"
       ]
      },
      {
       "output_type": "stream",
       "stream": "stdout",
       "text": [
        "Got 3183 / 4000 correct (79.57)\n",
        "skip model saving\n"
       ]
      },
      {
       "output_type": "stream",
       "stream": "stdout",
       "text": [
        "[151,   200] loss: 0.014989\n"
       ]
      },
      {
       "output_type": "stream",
       "stream": "stdout",
       "text": [
        "[151,   400] loss: 0.008348\n"
       ]
      },
      {
       "output_type": "stream",
       "stream": "stdout",
       "text": [
        "Got 3230 / 4000 correct (80.75)\n",
        "saving model\n"
       ]
      },
      {
       "output_type": "stream",
       "stream": "stdout",
       "text": [
        "[152,   200] loss: 0.002923\n"
       ]
      },
      {
       "output_type": "stream",
       "stream": "stdout",
       "text": [
        "[152,   400] loss: 0.003457\n"
       ]
      },
      {
       "output_type": "stream",
       "stream": "stdout",
       "text": [
        "Got 3247 / 4000 correct (81.17)\n",
        "saving model\n"
       ]
      },
      {
       "output_type": "stream",
       "stream": "stdout",
       "text": [
        "[153,   200] loss: 0.001076\n"
       ]
      },
      {
       "output_type": "stream",
       "stream": "stdout",
       "text": [
        "[153,   400] loss: 0.001779\n"
       ]
      },
      {
       "output_type": "stream",
       "stream": "stdout",
       "text": [
        "Got 3246 / 4000 correct (81.15)\n",
        "skip model saving\n"
       ]
      },
      {
       "output_type": "stream",
       "stream": "stdout",
       "text": [
        "[154,   200] loss: 0.001115\n"
       ]
      },
      {
       "output_type": "stream",
       "stream": "stdout",
       "text": [
        "[154,   400] loss: 0.001077\n"
       ]
      },
      {
       "output_type": "stream",
       "stream": "stdout",
       "text": [
        "Got 3250 / 4000 correct (81.25)\n",
        "saving model\n"
       ]
      },
      {
       "output_type": "stream",
       "stream": "stdout",
       "text": [
        "[155,   200] loss: 0.001046\n"
       ]
      },
      {
       "output_type": "stream",
       "stream": "stdout",
       "text": [
        "[155,   400] loss: 0.000703\n"
       ]
      },
      {
       "output_type": "stream",
       "stream": "stdout",
       "text": [
        "Got 3257 / 4000 correct (81.42)\n",
        "saving model\n"
       ]
      },
      {
       "output_type": "stream",
       "stream": "stdout",
       "text": [
        "[156,   200] loss: 0.000634\n"
       ]
      },
      {
       "output_type": "stream",
       "stream": "stdout",
       "text": [
        "[156,   400] loss: 0.000505\n"
       ]
      },
      {
       "output_type": "stream",
       "stream": "stdout",
       "text": [
        "Got 3260 / 4000 correct (81.50)\n",
        "saving model\n"
       ]
      },
      {
       "output_type": "stream",
       "stream": "stdout",
       "text": [
        "[157,   200] loss: 0.000462\n"
       ]
      },
      {
       "output_type": "stream",
       "stream": "stdout",
       "text": [
        "[157,   400] loss: 0.000286\n"
       ]
      },
      {
       "output_type": "stream",
       "stream": "stdout",
       "text": [
        "Got 3256 / 4000 correct (81.40)\n",
        "skip model saving\n"
       ]
      },
      {
       "output_type": "stream",
       "stream": "stdout",
       "text": [
        "[158,   200] loss: 0.000218\n"
       ]
      },
      {
       "output_type": "stream",
       "stream": "stdout",
       "text": [
        "[158,   400] loss: 0.000276\n"
       ]
      },
      {
       "output_type": "stream",
       "stream": "stdout",
       "text": [
        "Got 3244 / 4000 correct (81.10)\n",
        "skip model saving\n"
       ]
      },
      {
       "output_type": "stream",
       "stream": "stdout",
       "text": [
        "[159,   200] loss: 0.000210\n"
       ]
      },
      {
       "output_type": "stream",
       "stream": "stdout",
       "text": [
        "[159,   400] loss: 0.000206\n"
       ]
      },
      {
       "output_type": "stream",
       "stream": "stdout",
       "text": [
        "Got 3255 / 4000 correct (81.38)\n",
        "skip model saving\n"
       ]
      },
      {
       "output_type": "stream",
       "stream": "stdout",
       "text": [
        "[160,   200] loss: 0.000241\n"
       ]
      },
      {
       "output_type": "stream",
       "stream": "stdout",
       "text": [
        "[160,   400] loss: 0.000416\n"
       ]
      },
      {
       "output_type": "stream",
       "stream": "stdout",
       "text": [
        "Got 3252 / 4000 correct (81.30)\n",
        "skip model saving\n"
       ]
      },
      {
       "output_type": "stream",
       "stream": "stdout",
       "text": [
        "[161,   200] loss: 0.000203\n"
       ]
      },
      {
       "output_type": "stream",
       "stream": "stdout",
       "text": [
        "[161,   400] loss: 0.000615\n"
       ]
      },
      {
       "output_type": "stream",
       "stream": "stdout",
       "text": [
        "Got 3264 / 4000 correct (81.60)\n",
        "saving model\n"
       ]
      },
      {
       "output_type": "stream",
       "stream": "stdout",
       "text": [
        "[162,   200] loss: 0.000178\n"
       ]
      },
      {
       "output_type": "stream",
       "stream": "stdout",
       "text": [
        "[162,   400] loss: 0.000289\n"
       ]
      },
      {
       "output_type": "stream",
       "stream": "stdout",
       "text": [
        "Got 3264 / 4000 correct (81.60)\n",
        "skip model saving\n"
       ]
      },
      {
       "output_type": "stream",
       "stream": "stdout",
       "text": [
        "[163,   200] loss: 0.000664\n"
       ]
      },
      {
       "output_type": "stream",
       "stream": "stdout",
       "text": [
        "[163,   400] loss: 0.000306\n"
       ]
      },
      {
       "output_type": "stream",
       "stream": "stdout",
       "text": [
        "Got 3270 / 4000 correct (81.75)\n",
        "saving model\n"
       ]
      },
      {
       "output_type": "stream",
       "stream": "stdout",
       "text": [
        "[164,   200] loss: 0.000245\n"
       ]
      },
      {
       "output_type": "stream",
       "stream": "stdout",
       "text": [
        "[164,   400] loss: 0.000292\n"
       ]
      },
      {
       "output_type": "stream",
       "stream": "stdout",
       "text": [
        "Got 3260 / 4000 correct (81.50)\n",
        "skip model saving\n"
       ]
      },
      {
       "output_type": "stream",
       "stream": "stdout",
       "text": [
        "[165,   200] loss: 0.000108\n"
       ]
      },
      {
       "output_type": "stream",
       "stream": "stdout",
       "text": [
        "[165,   400] loss: 0.000118\n"
       ]
      },
      {
       "output_type": "stream",
       "stream": "stdout",
       "text": [
        "Got 3286 / 4000 correct (82.15)\n",
        "saving model\n"
       ]
      },
      {
       "output_type": "stream",
       "stream": "stdout",
       "text": [
        "[166,   200] loss: 0.000104\n"
       ]
      },
      {
       "output_type": "stream",
       "stream": "stdout",
       "text": [
        "[166,   400] loss: 0.000150\n"
       ]
      },
      {
       "output_type": "stream",
       "stream": "stdout",
       "text": [
        "Got 3250 / 4000 correct (81.25)\n",
        "skip model saving\n"
       ]
      },
      {
       "output_type": "stream",
       "stream": "stdout",
       "text": [
        "[167,   200] loss: 0.000076\n"
       ]
      },
      {
       "output_type": "stream",
       "stream": "stdout",
       "text": [
        "[167,   400] loss: 0.000713\n"
       ]
      },
      {
       "output_type": "stream",
       "stream": "stdout",
       "text": [
        "Got 3253 / 4000 correct (81.33)\n",
        "skip model saving\n"
       ]
      },
      {
       "output_type": "stream",
       "stream": "stdout",
       "text": [
        "[168,   200] loss: 0.000441\n"
       ]
      },
      {
       "output_type": "stream",
       "stream": "stdout",
       "text": [
        "[168,   400] loss: 0.000547\n"
       ]
      },
      {
       "output_type": "stream",
       "stream": "stdout",
       "text": [
        "Got 3268 / 4000 correct (81.70)\n",
        "skip model saving\n"
       ]
      },
      {
       "output_type": "stream",
       "stream": "stdout",
       "text": [
        "[169,   200] loss: 0.000098\n"
       ]
      },
      {
       "output_type": "stream",
       "stream": "stdout",
       "text": [
        "[169,   400] loss: 0.000189\n"
       ]
      },
      {
       "output_type": "stream",
       "stream": "stdout",
       "text": [
        "Got 3260 / 4000 correct (81.50)\n",
        "skip model saving\n"
       ]
      },
      {
       "output_type": "stream",
       "stream": "stdout",
       "text": [
        "[170,   200] loss: 0.000769\n"
       ]
      },
      {
       "output_type": "stream",
       "stream": "stdout",
       "text": [
        "[170,   400] loss: 0.000132\n"
       ]
      },
      {
       "output_type": "stream",
       "stream": "stdout",
       "text": [
        "Got 3268 / 4000 correct (81.70)\n",
        "skip model saving\n"
       ]
      },
      {
       "output_type": "stream",
       "stream": "stdout",
       "text": [
        "[171,   200] loss: 0.000099\n"
       ]
      },
      {
       "output_type": "stream",
       "stream": "stdout",
       "text": [
        "[171,   400] loss: 0.000088\n"
       ]
      },
      {
       "output_type": "stream",
       "stream": "stdout",
       "text": [
        "Got 3264 / 4000 correct (81.60)\n",
        "skip model saving\n"
       ]
      },
      {
       "output_type": "stream",
       "stream": "stdout",
       "text": [
        "[172,   200] loss: 0.000078\n"
       ]
      },
      {
       "output_type": "stream",
       "stream": "stdout",
       "text": [
        "[172,   400] loss: 0.000371\n"
       ]
      },
      {
       "output_type": "stream",
       "stream": "stdout",
       "text": [
        "Got 3277 / 4000 correct (81.92)\n",
        "skip model saving\n"
       ]
      },
      {
       "output_type": "stream",
       "stream": "stdout",
       "text": [
        "[173,   200] loss: 0.000052\n"
       ]
      },
      {
       "output_type": "stream",
       "stream": "stdout",
       "text": [
        "[173,   400] loss: 0.000150\n"
       ]
      },
      {
       "output_type": "stream",
       "stream": "stdout",
       "text": [
        "Got 3277 / 4000 correct (81.92)\n",
        "skip model saving\n"
       ]
      },
      {
       "output_type": "stream",
       "stream": "stdout",
       "text": [
        "[174,   200] loss: 0.000046\n"
       ]
      },
      {
       "output_type": "stream",
       "stream": "stdout",
       "text": [
        "[174,   400] loss: 0.000087\n"
       ]
      },
      {
       "output_type": "stream",
       "stream": "stdout",
       "text": [
        "Got 3282 / 4000 correct (82.05)\n",
        "skip model saving\n"
       ]
      },
      {
       "output_type": "stream",
       "stream": "stdout",
       "text": [
        "[175,   200] loss: 0.000037\n"
       ]
      },
      {
       "output_type": "stream",
       "stream": "stdout",
       "text": [
        "[175,   400] loss: 0.000053\n"
       ]
      },
      {
       "output_type": "stream",
       "stream": "stdout",
       "text": [
        "Got 3280 / 4000 correct (82.00)\n",
        "skip model saving\n"
       ]
      },
      {
       "output_type": "stream",
       "stream": "stdout",
       "text": [
        "[176,   200] loss: 0.000031\n"
       ]
      },
      {
       "output_type": "stream",
       "stream": "stdout",
       "text": [
        "[176,   400] loss: 0.000068\n"
       ]
      },
      {
       "output_type": "stream",
       "stream": "stdout",
       "text": [
        "Got 3281 / 4000 correct (82.03)\n",
        "skip model saving\n"
       ]
      },
      {
       "output_type": "stream",
       "stream": "stdout",
       "text": [
        "[177,   200] loss: 0.000305\n"
       ]
      },
      {
       "output_type": "stream",
       "stream": "stdout",
       "text": [
        "[177,   400] loss: 0.000120\n"
       ]
      },
      {
       "output_type": "stream",
       "stream": "stdout",
       "text": [
        "Got 3253 / 4000 correct (81.33)\n",
        "skip model saving\n"
       ]
      },
      {
       "output_type": "stream",
       "stream": "stdout",
       "text": [
        "[178,   200] loss: 0.000076\n"
       ]
      },
      {
       "output_type": "stream",
       "stream": "stdout",
       "text": [
        "[178,   400] loss: 0.000131\n"
       ]
      },
      {
       "output_type": "stream",
       "stream": "stdout",
       "text": [
        "Got 3267 / 4000 correct (81.67)\n",
        "skip model saving\n"
       ]
      },
      {
       "output_type": "stream",
       "stream": "stdout",
       "text": [
        "[179,   200] loss: 0.000160\n"
       ]
      },
      {
       "output_type": "stream",
       "stream": "stdout",
       "text": [
        "[179,   400] loss: 0.000103\n"
       ]
      },
      {
       "output_type": "stream",
       "stream": "stdout",
       "text": [
        "Got 3268 / 4000 correct (81.70)\n",
        "skip model saving\n"
       ]
      },
      {
       "output_type": "stream",
       "stream": "stdout",
       "text": [
        "[180,   200] loss: 0.000181\n"
       ]
      },
      {
       "output_type": "stream",
       "stream": "stdout",
       "text": [
        "[180,   400] loss: 0.000507\n"
       ]
      },
      {
       "output_type": "stream",
       "stream": "stdout",
       "text": [
        "Got 3263 / 4000 correct (81.58)\n",
        "skip model saving\n"
       ]
      },
      {
       "output_type": "stream",
       "stream": "stdout",
       "text": [
        "[181,   200] loss: 0.000053\n"
       ]
      },
      {
       "output_type": "stream",
       "stream": "stdout",
       "text": [
        "[181,   400] loss: 0.000285\n"
       ]
      },
      {
       "output_type": "stream",
       "stream": "stdout",
       "text": [
        "Got 3271 / 4000 correct (81.77)\n",
        "skip model saving\n"
       ]
      },
      {
       "output_type": "stream",
       "stream": "stdout",
       "text": [
        "[182,   200] loss: 0.000150\n"
       ]
      },
      {
       "output_type": "stream",
       "stream": "stdout",
       "text": [
        "[182,   400] loss: 0.000224\n"
       ]
      },
      {
       "output_type": "stream",
       "stream": "stdout",
       "text": [
        "Got 3265 / 4000 correct (81.62)\n",
        "skip model saving\n"
       ]
      },
      {
       "output_type": "stream",
       "stream": "stdout",
       "text": [
        "[183,   200] loss: 0.000365\n"
       ]
      },
      {
       "output_type": "stream",
       "stream": "stdout",
       "text": [
        "[183,   400] loss: 0.000102\n"
       ]
      },
      {
       "output_type": "stream",
       "stream": "stdout",
       "text": [
        "Got 3275 / 4000 correct (81.88)\n",
        "skip model saving\n"
       ]
      },
      {
       "output_type": "stream",
       "stream": "stdout",
       "text": [
        "[184,   200] loss: 0.000078\n"
       ]
      },
      {
       "output_type": "stream",
       "stream": "stdout",
       "text": [
        "[184,   400] loss: 0.000062\n"
       ]
      },
      {
       "output_type": "stream",
       "stream": "stdout",
       "text": [
        "Got 3285 / 4000 correct (82.12)\n",
        "skip model saving\n"
       ]
      },
      {
       "output_type": "stream",
       "stream": "stdout",
       "text": [
        "[185,   200] loss: 0.000112\n"
       ]
      },
      {
       "output_type": "stream",
       "stream": "stdout",
       "text": [
        "[185,   400] loss: 0.000182\n"
       ]
      },
      {
       "output_type": "stream",
       "stream": "stdout",
       "text": [
        "Got 3276 / 4000 correct (81.90)\n",
        "skip model saving\n"
       ]
      },
      {
       "output_type": "stream",
       "stream": "stdout",
       "text": [
        "[186,   200] loss: 0.000081\n"
       ]
      },
      {
       "output_type": "stream",
       "stream": "stdout",
       "text": [
        "[186,   400] loss: 0.000034\n"
       ]
      },
      {
       "output_type": "stream",
       "stream": "stdout",
       "text": [
        "Got 3272 / 4000 correct (81.80)\n",
        "skip model saving\n"
       ]
      },
      {
       "output_type": "stream",
       "stream": "stdout",
       "text": [
        "[187,   200] loss: 0.000134\n"
       ]
      },
      {
       "output_type": "stream",
       "stream": "stdout",
       "text": [
        "[187,   400] loss: 0.001202\n"
       ]
      },
      {
       "output_type": "stream",
       "stream": "stdout",
       "text": [
        "Got 3264 / 4000 correct (81.60)\n",
        "skip model saving\n"
       ]
      },
      {
       "output_type": "stream",
       "stream": "stdout",
       "text": [
        "[188,   200] loss: 0.000141\n"
       ]
      },
      {
       "output_type": "stream",
       "stream": "stdout",
       "text": [
        "[188,   400] loss: 0.000091\n"
       ]
      },
      {
       "output_type": "stream",
       "stream": "stdout",
       "text": [
        "Got 3267 / 4000 correct (81.67)\n",
        "skip model saving\n"
       ]
      },
      {
       "output_type": "stream",
       "stream": "stdout",
       "text": [
        "[189,   200] loss: 0.000661\n"
       ]
      },
      {
       "output_type": "stream",
       "stream": "stdout",
       "text": [
        "[189,   400] loss: 0.000105\n"
       ]
      },
      {
       "output_type": "stream",
       "stream": "stdout",
       "text": [
        "Got 3257 / 4000 correct (81.42)\n",
        "skip model saving\n"
       ]
      },
      {
       "output_type": "stream",
       "stream": "stdout",
       "text": [
        "[190,   200] loss: 0.000062\n"
       ]
      },
      {
       "output_type": "stream",
       "stream": "stdout",
       "text": [
        "[190,   400] loss: 0.000169\n"
       ]
      },
      {
       "output_type": "stream",
       "stream": "stdout",
       "text": [
        "Got 3264 / 4000 correct (81.60)\n",
        "skip model saving\n"
       ]
      },
      {
       "output_type": "stream",
       "stream": "stdout",
       "text": [
        "[191,   200] loss: 0.000451\n"
       ]
      },
      {
       "output_type": "stream",
       "stream": "stdout",
       "text": [
        "[191,   400] loss: 0.000252\n"
       ]
      },
      {
       "output_type": "stream",
       "stream": "stdout",
       "text": [
        "Got 3246 / 4000 correct (81.15)\n",
        "skip model saving\n"
       ]
      },
      {
       "output_type": "stream",
       "stream": "stdout",
       "text": [
        "[192,   200] loss: 0.000253\n"
       ]
      },
      {
       "output_type": "stream",
       "stream": "stdout",
       "text": [
        "[192,   400] loss: 0.000164\n"
       ]
      },
      {
       "output_type": "stream",
       "stream": "stdout",
       "text": [
        "Got 3254 / 4000 correct (81.35)\n",
        "skip model saving\n"
       ]
      },
      {
       "output_type": "stream",
       "stream": "stdout",
       "text": [
        "[193,   200] loss: 0.000116\n"
       ]
      },
      {
       "output_type": "stream",
       "stream": "stdout",
       "text": [
        "[193,   400] loss: 0.000137\n"
       ]
      },
      {
       "output_type": "stream",
       "stream": "stdout",
       "text": [
        "Got 3257 / 4000 correct (81.42)\n",
        "skip model saving\n"
       ]
      },
      {
       "output_type": "stream",
       "stream": "stdout",
       "text": [
        "[194,   200] loss: 0.000037\n"
       ]
      },
      {
       "output_type": "stream",
       "stream": "stdout",
       "text": [
        "[194,   400] loss: 0.000020\n"
       ]
      },
      {
       "output_type": "stream",
       "stream": "stdout",
       "text": [
        "Got 3263 / 4000 correct (81.58)\n",
        "skip model saving\n"
       ]
      },
      {
       "output_type": "stream",
       "stream": "stdout",
       "text": [
        "[195,   200] loss: 0.000033\n"
       ]
      },
      {
       "output_type": "stream",
       "stream": "stdout",
       "text": [
        "[195,   400] loss: 0.000020\n"
       ]
      },
      {
       "output_type": "stream",
       "stream": "stdout",
       "text": [
        "Got 3271 / 4000 correct (81.77)\n",
        "skip model saving\n"
       ]
      },
      {
       "output_type": "stream",
       "stream": "stdout",
       "text": [
        "[196,   200] loss: 0.000028\n"
       ]
      },
      {
       "output_type": "stream",
       "stream": "stdout",
       "text": [
        "[196,   400] loss: 0.000019\n"
       ]
      },
      {
       "output_type": "stream",
       "stream": "stdout",
       "text": [
        "Got 3270 / 4000 correct (81.75)\n",
        "skip model saving\n"
       ]
      },
      {
       "output_type": "stream",
       "stream": "stdout",
       "text": [
        "[197,   200] loss: 0.000037\n"
       ]
      },
      {
       "output_type": "stream",
       "stream": "stdout",
       "text": [
        "[197,   400] loss: 0.000028\n"
       ]
      },
      {
       "output_type": "stream",
       "stream": "stdout",
       "text": [
        "Got 3268 / 4000 correct (81.70)\n",
        "skip model saving\n"
       ]
      },
      {
       "output_type": "stream",
       "stream": "stdout",
       "text": [
        "[198,   200] loss: 0.000278\n"
       ]
      },
      {
       "output_type": "stream",
       "stream": "stdout",
       "text": [
        "[198,   400] loss: 0.000530\n"
       ]
      },
      {
       "output_type": "stream",
       "stream": "stdout",
       "text": [
        "Got 3265 / 4000 correct (81.62)\n",
        "skip model saving\n"
       ]
      },
      {
       "output_type": "stream",
       "stream": "stdout",
       "text": [
        "[199,   200] loss: 0.000360\n"
       ]
      },
      {
       "output_type": "stream",
       "stream": "stdout",
       "text": [
        "[199,   400] loss: 0.000346\n"
       ]
      },
      {
       "output_type": "stream",
       "stream": "stdout",
       "text": [
        "Got 3255 / 4000 correct (81.38)\n",
        "skip model saving\n"
       ]
      },
      {
       "output_type": "stream",
       "stream": "stdout",
       "text": [
        "[200,   200] loss: 0.000123\n"
       ]
      },
      {
       "output_type": "stream",
       "stream": "stdout",
       "text": [
        "[200,   400] loss: 0.000245\n"
       ]
      },
      {
       "output_type": "stream",
       "stream": "stdout",
       "text": [
        "Got 3273 / 4000 correct (81.83)\n",
        "skip model saving\n"
       ]
      },
      {
       "output_type": "stream",
       "stream": "stdout",
       "text": [
        "[201,   200] loss: 0.000087\n"
       ]
      },
      {
       "output_type": "stream",
       "stream": "stdout",
       "text": [
        "[201,   400] loss: 0.000288\n"
       ]
      },
      {
       "output_type": "stream",
       "stream": "stdout",
       "text": [
        "Got 3246 / 4000 correct (81.15)\n",
        "skip model saving\n"
       ]
      },
      {
       "output_type": "stream",
       "stream": "stdout",
       "text": [
        "[202,   200] loss: 0.000183\n"
       ]
      },
      {
       "output_type": "stream",
       "stream": "stdout",
       "text": [
        "[202,   400] loss: 0.000114\n"
       ]
      },
      {
       "output_type": "stream",
       "stream": "stdout",
       "text": [
        "Got 3273 / 4000 correct (81.83)\n",
        "skip model saving\n"
       ]
      },
      {
       "output_type": "stream",
       "stream": "stdout",
       "text": [
        "[203,   200] loss: 0.000033\n"
       ]
      },
      {
       "output_type": "stream",
       "stream": "stdout",
       "text": [
        "[203,   400] loss: 0.000105\n"
       ]
      },
      {
       "output_type": "stream",
       "stream": "stdout",
       "text": [
        "Got 3257 / 4000 correct (81.42)\n",
        "skip model saving\n"
       ]
      },
      {
       "output_type": "stream",
       "stream": "stdout",
       "text": [
        "[204,   200] loss: 0.000016\n"
       ]
      },
      {
       "output_type": "stream",
       "stream": "stdout",
       "text": [
        "[204,   400] loss: 0.000025\n"
       ]
      },
      {
       "output_type": "stream",
       "stream": "stdout",
       "text": [
        "Got 3255 / 4000 correct (81.38)\n",
        "skip model saving\n"
       ]
      },
      {
       "output_type": "stream",
       "stream": "stdout",
       "text": [
        "[205,   200] loss: 0.000023\n"
       ]
      },
      {
       "output_type": "stream",
       "stream": "stdout",
       "text": [
        "[205,   400] loss: 0.000087\n"
       ]
      },
      {
       "output_type": "stream",
       "stream": "stdout",
       "text": [
        "Got 3269 / 4000 correct (81.73)\n",
        "skip model saving\n"
       ]
      },
      {
       "output_type": "stream",
       "stream": "stdout",
       "text": [
        "[206,   200] loss: 0.000168\n"
       ]
      },
      {
       "output_type": "stream",
       "stream": "stdout",
       "text": [
        "[206,   400] loss: 0.000148\n"
       ]
      },
      {
       "output_type": "stream",
       "stream": "stdout",
       "text": [
        "Got 3260 / 4000 correct (81.50)\n",
        "skip model saving\n"
       ]
      },
      {
       "output_type": "stream",
       "stream": "stdout",
       "text": [
        "[207,   200] loss: 0.000054\n"
       ]
      },
      {
       "output_type": "stream",
       "stream": "stdout",
       "text": [
        "[207,   400] loss: 0.000443\n"
       ]
      },
      {
       "output_type": "stream",
       "stream": "stdout",
       "text": [
        "Got 3271 / 4000 correct (81.77)\n",
        "skip model saving\n"
       ]
      },
      {
       "output_type": "stream",
       "stream": "stdout",
       "text": [
        "[208,   200] loss: 0.000022\n"
       ]
      },
      {
       "output_type": "stream",
       "stream": "stdout",
       "text": [
        "[208,   400] loss: 0.000018\n"
       ]
      },
      {
       "output_type": "stream",
       "stream": "stdout",
       "text": [
        "Got 3269 / 4000 correct (81.73)\n",
        "skip model saving\n"
       ]
      },
      {
       "output_type": "stream",
       "stream": "stdout",
       "text": [
        "[209,   200] loss: 0.000035\n"
       ]
      },
      {
       "output_type": "stream",
       "stream": "stdout",
       "text": [
        "[209,   400] loss: 0.000153\n"
       ]
      },
      {
       "output_type": "stream",
       "stream": "stdout",
       "text": [
        "Got 3256 / 4000 correct (81.40)\n",
        "skip model saving\n"
       ]
      },
      {
       "output_type": "stream",
       "stream": "stdout",
       "text": [
        "[210,   200] loss: 0.000146\n"
       ]
      },
      {
       "output_type": "stream",
       "stream": "stdout",
       "text": [
        "[210,   400] loss: 0.000252\n"
       ]
      },
      {
       "output_type": "stream",
       "stream": "stdout",
       "text": [
        "Got 3265 / 4000 correct (81.62)\n",
        "skip model saving\n"
       ]
      },
      {
       "output_type": "stream",
       "stream": "stdout",
       "text": [
        "[211,   200] loss: 0.000245\n"
       ]
      },
      {
       "output_type": "stream",
       "stream": "stdout",
       "text": [
        "[211,   400] loss: 0.000057\n"
       ]
      },
      {
       "output_type": "stream",
       "stream": "stdout",
       "text": [
        "Got 3254 / 4000 correct (81.35)\n",
        "skip model saving\n"
       ]
      },
      {
       "output_type": "stream",
       "stream": "stdout",
       "text": [
        "[212,   200] loss: 0.000094\n"
       ]
      },
      {
       "output_type": "stream",
       "stream": "stdout",
       "text": [
        "[212,   400] loss: 0.000144\n"
       ]
      },
      {
       "output_type": "stream",
       "stream": "stdout",
       "text": [
        "Got 3271 / 4000 correct (81.77)\n",
        "skip model saving\n"
       ]
      },
      {
       "output_type": "stream",
       "stream": "stdout",
       "text": [
        "[213,   200] loss: 0.001130\n"
       ]
      },
      {
       "output_type": "stream",
       "stream": "stdout",
       "text": [
        "[213,   400] loss: 0.000123\n"
       ]
      },
      {
       "output_type": "stream",
       "stream": "stdout",
       "text": [
        "Got 3267 / 4000 correct (81.67)\n",
        "skip model saving\n"
       ]
      },
      {
       "output_type": "stream",
       "stream": "stdout",
       "text": [
        "[214,   200] loss: 0.000298\n"
       ]
      },
      {
       "output_type": "stream",
       "stream": "stdout",
       "text": [
        "[214,   400] loss: 0.000298\n"
       ]
      },
      {
       "output_type": "stream",
       "stream": "stdout",
       "text": [
        "Got 3261 / 4000 correct (81.53)\n",
        "skip model saving\n"
       ]
      },
      {
       "output_type": "stream",
       "stream": "stdout",
       "text": [
        "[215,   200] loss: 0.000094\n"
       ]
      },
      {
       "output_type": "stream",
       "stream": "stdout",
       "text": [
        "[215,   400] loss: 0.000033\n"
       ]
      },
      {
       "output_type": "stream",
       "stream": "stdout",
       "text": [
        "Got 3262 / 4000 correct (81.55)\n",
        "skip model saving\n"
       ]
      },
      {
       "output_type": "stream",
       "stream": "stdout",
       "text": [
        "[216,   200] loss: 0.000056\n"
       ]
      },
      {
       "output_type": "stream",
       "stream": "stdout",
       "text": [
        "[216,   400] loss: 0.000026\n"
       ]
      },
      {
       "output_type": "stream",
       "stream": "stdout",
       "text": [
        "Got 3262 / 4000 correct (81.55)\n",
        "skip model saving\n"
       ]
      },
      {
       "output_type": "stream",
       "stream": "stdout",
       "text": [
        "[217,   200] loss: 0.000058\n"
       ]
      },
      {
       "output_type": "stream",
       "stream": "stdout",
       "text": [
        "[217,   400] loss: 0.000068\n"
       ]
      },
      {
       "output_type": "stream",
       "stream": "stdout",
       "text": [
        "Got 3263 / 4000 correct (81.58)\n",
        "skip model saving\n"
       ]
      },
      {
       "output_type": "stream",
       "stream": "stdout",
       "text": [
        "[218,   200] loss: 0.000099\n"
       ]
      },
      {
       "output_type": "stream",
       "stream": "stdout",
       "text": [
        "[218,   400] loss: 0.000154\n"
       ]
      },
      {
       "output_type": "stream",
       "stream": "stdout",
       "text": [
        "Got 3256 / 4000 correct (81.40)\n",
        "skip model saving\n"
       ]
      },
      {
       "output_type": "stream",
       "stream": "stdout",
       "text": [
        "[219,   200] loss: 0.000026\n"
       ]
      },
      {
       "output_type": "stream",
       "stream": "stdout",
       "text": [
        "[219,   400] loss: 0.000024\n"
       ]
      },
      {
       "output_type": "stream",
       "stream": "stdout",
       "text": [
        "Got 3255 / 4000 correct (81.38)\n",
        "skip model saving\n"
       ]
      },
      {
       "output_type": "stream",
       "stream": "stdout",
       "text": [
        "[220,   200] loss: 0.000058\n"
       ]
      },
      {
       "output_type": "stream",
       "stream": "stdout",
       "text": [
        "[220,   400] loss: 0.000017\n"
       ]
      },
      {
       "output_type": "stream",
       "stream": "stdout",
       "text": [
        "Got 3247 / 4000 correct (81.17)\n",
        "skip model saving\n"
       ]
      },
      {
       "output_type": "stream",
       "stream": "stdout",
       "text": [
        "[221,   200] loss: 0.000156\n"
       ]
      },
      {
       "output_type": "stream",
       "stream": "stdout",
       "text": [
        "[221,   400] loss: 0.000365\n"
       ]
      },
      {
       "output_type": "stream",
       "stream": "stdout",
       "text": [
        "Got 3245 / 4000 correct (81.12)\n",
        "skip model saving\n"
       ]
      },
      {
       "output_type": "stream",
       "stream": "stdout",
       "text": [
        "[222,   200] loss: 0.000705\n"
       ]
      },
      {
       "output_type": "stream",
       "stream": "stdout",
       "text": [
        "[222,   400] loss: 0.000211\n"
       ]
      },
      {
       "output_type": "stream",
       "stream": "stdout",
       "text": [
        "Got 3243 / 4000 correct (81.08)\n",
        "skip model saving\n"
       ]
      },
      {
       "output_type": "stream",
       "stream": "stdout",
       "text": [
        "[223,   200] loss: 0.000171\n"
       ]
      },
      {
       "output_type": "stream",
       "stream": "stdout",
       "text": [
        "[223,   400] loss: 0.000652\n"
       ]
      },
      {
       "output_type": "stream",
       "stream": "stdout",
       "text": [
        "Got 3253 / 4000 correct (81.33)\n",
        "skip model saving\n"
       ]
      },
      {
       "output_type": "stream",
       "stream": "stdout",
       "text": [
        "[224,   200] loss: 0.000023\n"
       ]
      },
      {
       "output_type": "stream",
       "stream": "stdout",
       "text": [
        "[224,   400] loss: 0.000100\n"
       ]
      },
      {
       "output_type": "stream",
       "stream": "stdout",
       "text": [
        "Got 3247 / 4000 correct (81.17)\n",
        "skip model saving\n"
       ]
      },
      {
       "output_type": "stream",
       "stream": "stdout",
       "text": [
        "[225,   200] loss: 0.000168\n"
       ]
      },
      {
       "output_type": "stream",
       "stream": "stdout",
       "text": [
        "[225,   400] loss: 0.000080\n"
       ]
      },
      {
       "output_type": "stream",
       "stream": "stdout",
       "text": [
        "Got 3246 / 4000 correct (81.15)\n",
        "skip model saving\n"
       ]
      },
      {
       "output_type": "stream",
       "stream": "stdout",
       "text": [
        "[226,   200] loss: 0.000323\n"
       ]
      },
      {
       "output_type": "stream",
       "stream": "stdout",
       "text": [
        "[226,   400] loss: 0.000133\n"
       ]
      },
      {
       "output_type": "stream",
       "stream": "stdout",
       "text": [
        "Got 3257 / 4000 correct (81.42)\n",
        "skip model saving\n"
       ]
      },
      {
       "output_type": "stream",
       "stream": "stdout",
       "text": [
        "[227,   200] loss: 0.000056\n"
       ]
      },
      {
       "output_type": "stream",
       "stream": "stdout",
       "text": [
        "[227,   400] loss: 0.000575\n"
       ]
      },
      {
       "output_type": "stream",
       "stream": "stdout",
       "text": [
        "Got 3265 / 4000 correct (81.62)\n",
        "skip model saving\n"
       ]
      },
      {
       "output_type": "stream",
       "stream": "stdout",
       "text": [
        "[228,   200] loss: 0.000029\n"
       ]
      },
      {
       "output_type": "stream",
       "stream": "stdout",
       "text": [
        "[228,   400] loss: 0.000673\n"
       ]
      },
      {
       "output_type": "stream",
       "stream": "stdout",
       "text": [
        "Got 3260 / 4000 correct (81.50)\n",
        "skip model saving\n"
       ]
      },
      {
       "output_type": "stream",
       "stream": "stdout",
       "text": [
        "[229,   200] loss: 0.000201\n"
       ]
      },
      {
       "output_type": "stream",
       "stream": "stdout",
       "text": [
        "[229,   400] loss: 0.000095\n"
       ]
      },
      {
       "output_type": "stream",
       "stream": "stdout",
       "text": [
        "Got 3265 / 4000 correct (81.62)\n",
        "skip model saving\n"
       ]
      },
      {
       "output_type": "stream",
       "stream": "stdout",
       "text": [
        "[230,   200] loss: 0.000016\n"
       ]
      },
      {
       "output_type": "stream",
       "stream": "stdout",
       "text": [
        "[230,   400] loss: 0.000099\n"
       ]
      },
      {
       "output_type": "stream",
       "stream": "stdout",
       "text": [
        "Got 3257 / 4000 correct (81.42)\n",
        "skip model saving\n"
       ]
      },
      {
       "output_type": "stream",
       "stream": "stdout",
       "text": [
        "[231,   200] loss: 0.000175\n"
       ]
      },
      {
       "output_type": "stream",
       "stream": "stdout",
       "text": [
        "[231,   400] loss: 0.000106\n"
       ]
      },
      {
       "output_type": "stream",
       "stream": "stdout",
       "text": [
        "Got 3256 / 4000 correct (81.40)\n",
        "skip model saving\n"
       ]
      },
      {
       "output_type": "stream",
       "stream": "stdout",
       "text": [
        "[232,   200] loss: 0.000151\n"
       ]
      },
      {
       "output_type": "stream",
       "stream": "stdout",
       "text": [
        "[232,   400] loss: 0.000043\n"
       ]
      },
      {
       "output_type": "stream",
       "stream": "stdout",
       "text": [
        "Got 3264 / 4000 correct (81.60)\n",
        "skip model saving\n"
       ]
      },
      {
       "output_type": "stream",
       "stream": "stdout",
       "text": [
        "[233,   200] loss: 0.000303\n"
       ]
      },
      {
       "output_type": "stream",
       "stream": "stdout",
       "text": [
        "[233,   400] loss: 0.000279\n"
       ]
      },
      {
       "output_type": "stream",
       "stream": "stdout",
       "text": [
        "Got 3264 / 4000 correct (81.60)\n",
        "skip model saving\n"
       ]
      },
      {
       "output_type": "stream",
       "stream": "stdout",
       "text": [
        "[234,   200] loss: 0.000028\n"
       ]
      },
      {
       "output_type": "stream",
       "stream": "stdout",
       "text": [
        "[234,   400] loss: 0.000018\n"
       ]
      },
      {
       "output_type": "stream",
       "stream": "stdout",
       "text": [
        "Got 3264 / 4000 correct (81.60)\n",
        "skip model saving\n"
       ]
      },
      {
       "output_type": "stream",
       "stream": "stdout",
       "text": [
        "[235,   200] loss: 0.000024\n"
       ]
      },
      {
       "output_type": "stream",
       "stream": "stdout",
       "text": [
        "[235,   400] loss: 0.000007\n"
       ]
      },
      {
       "output_type": "stream",
       "stream": "stdout",
       "text": [
        "Got 3263 / 4000 correct (81.58)\n",
        "skip model saving\n"
       ]
      },
      {
       "output_type": "stream",
       "stream": "stdout",
       "text": [
        "[236,   200] loss: 0.000019\n"
       ]
      },
      {
       "output_type": "stream",
       "stream": "stdout",
       "text": [
        "[236,   400] loss: 0.000071\n"
       ]
      },
      {
       "output_type": "stream",
       "stream": "stdout",
       "text": [
        "Got 3257 / 4000 correct (81.42)\n",
        "skip model saving\n"
       ]
      },
      {
       "output_type": "stream",
       "stream": "stdout",
       "text": [
        "[237,   200] loss: 0.000467\n"
       ]
      },
      {
       "output_type": "stream",
       "stream": "stdout",
       "text": [
        "[237,   400] loss: 0.000161\n"
       ]
      },
      {
       "output_type": "stream",
       "stream": "stdout",
       "text": [
        "Got 3268 / 4000 correct (81.70)\n",
        "skip model saving\n"
       ]
      },
      {
       "output_type": "stream",
       "stream": "stdout",
       "text": [
        "[238,   200] loss: 0.000050\n"
       ]
      },
      {
       "output_type": "stream",
       "stream": "stdout",
       "text": [
        "[238,   400] loss: 0.000024\n"
       ]
      },
      {
       "output_type": "stream",
       "stream": "stdout",
       "text": [
        "Got 3249 / 4000 correct (81.23)\n",
        "skip model saving\n"
       ]
      },
      {
       "output_type": "stream",
       "stream": "stdout",
       "text": [
        "[239,   200] loss: 0.000577\n"
       ]
      },
      {
       "output_type": "stream",
       "stream": "stdout",
       "text": [
        "[239,   400] loss: 0.000658\n"
       ]
      },
      {
       "output_type": "stream",
       "stream": "stdout",
       "text": [
        "Got 3263 / 4000 correct (81.58)\n",
        "skip model saving\n"
       ]
      },
      {
       "output_type": "stream",
       "stream": "stdout",
       "text": [
        "[240,   200] loss: 0.000052\n"
       ]
      },
      {
       "output_type": "stream",
       "stream": "stdout",
       "text": [
        "[240,   400] loss: 0.000891\n"
       ]
      },
      {
       "output_type": "stream",
       "stream": "stdout",
       "text": [
        "Got 3253 / 4000 correct (81.33)\n",
        "skip model saving\n"
       ]
      },
      {
       "output_type": "stream",
       "stream": "stdout",
       "text": [
        "[241,   200] loss: 0.000164\n"
       ]
      },
      {
       "output_type": "stream",
       "stream": "stdout",
       "text": [
        "[241,   400] loss: 0.000078\n"
       ]
      },
      {
       "output_type": "stream",
       "stream": "stdout",
       "text": [
        "Got 3248 / 4000 correct (81.20)\n",
        "skip model saving\n"
       ]
      },
      {
       "output_type": "stream",
       "stream": "stdout",
       "text": [
        "[242,   200] loss: 0.000034\n"
       ]
      },
      {
       "output_type": "stream",
       "stream": "stdout",
       "text": [
        "[242,   400] loss: 0.000018\n"
       ]
      },
      {
       "output_type": "stream",
       "stream": "stdout",
       "text": [
        "Got 3250 / 4000 correct (81.25)\n",
        "skip model saving\n"
       ]
      },
      {
       "output_type": "stream",
       "stream": "stdout",
       "text": [
        "[243,   200] loss: 0.000039\n"
       ]
      },
      {
       "output_type": "stream",
       "stream": "stdout",
       "text": [
        "[243,   400] loss: 0.000081\n"
       ]
      },
      {
       "output_type": "stream",
       "stream": "stdout",
       "text": [
        "Got 3268 / 4000 correct (81.70)\n",
        "skip model saving\n"
       ]
      },
      {
       "output_type": "stream",
       "stream": "stdout",
       "text": [
        "[244,   200] loss: 0.000022\n"
       ]
      },
      {
       "output_type": "stream",
       "stream": "stdout",
       "text": [
        "[244,   400] loss: 0.000027\n"
       ]
      },
      {
       "output_type": "stream",
       "stream": "stdout",
       "text": [
        "Got 3270 / 4000 correct (81.75)\n",
        "skip model saving\n"
       ]
      },
      {
       "output_type": "stream",
       "stream": "stdout",
       "text": [
        "[245,   200] loss: 0.000099\n"
       ]
      },
      {
       "output_type": "stream",
       "stream": "stdout",
       "text": [
        "[245,   400] loss: 0.000068\n"
       ]
      },
      {
       "output_type": "stream",
       "stream": "stdout",
       "text": [
        "Got 3276 / 4000 correct (81.90)\n",
        "skip model saving\n"
       ]
      },
      {
       "output_type": "stream",
       "stream": "stdout",
       "text": [
        "[246,   200] loss: 0.000026\n"
       ]
      },
      {
       "output_type": "stream",
       "stream": "stdout",
       "text": [
        "[246,   400] loss: 0.000117\n"
       ]
      },
      {
       "output_type": "stream",
       "stream": "stdout",
       "text": [
        "Got 3274 / 4000 correct (81.85)\n",
        "skip model saving\n"
       ]
      },
      {
       "output_type": "stream",
       "stream": "stdout",
       "text": [
        "[247,   200] loss: 0.000034\n"
       ]
      },
      {
       "output_type": "stream",
       "stream": "stdout",
       "text": [
        "[247,   400] loss: 0.000017\n"
       ]
      },
      {
       "output_type": "stream",
       "stream": "stdout",
       "text": [
        "Got 3273 / 4000 correct (81.83)\n",
        "skip model saving\n"
       ]
      },
      {
       "output_type": "stream",
       "stream": "stdout",
       "text": [
        "[248,   200] loss: 0.000014\n"
       ]
      },
      {
       "output_type": "stream",
       "stream": "stdout",
       "text": [
        "[248,   400] loss: 0.000305\n"
       ]
      },
      {
       "output_type": "stream",
       "stream": "stdout",
       "text": [
        "Got 3272 / 4000 correct (81.80)\n",
        "skip model saving\n"
       ]
      },
      {
       "output_type": "stream",
       "stream": "stdout",
       "text": [
        "[249,   200] loss: 0.000441\n"
       ]
      },
      {
       "output_type": "stream",
       "stream": "stdout",
       "text": [
        "[249,   400] loss: 0.000029\n"
       ]
      },
      {
       "output_type": "stream",
       "stream": "stdout",
       "text": [
        "Got 3249 / 4000 correct (81.23)\n",
        "skip model saving\n"
       ]
      },
      {
       "output_type": "stream",
       "stream": "stdout",
       "text": [
        "[250,   200] loss: 0.000049\n"
       ]
      },
      {
       "output_type": "stream",
       "stream": "stdout",
       "text": [
        "[250,   400] loss: 0.000049\n"
       ]
      },
      {
       "output_type": "stream",
       "stream": "stdout",
       "text": [
        "Got 3255 / 4000 correct (81.38)\n",
        "skip model saving\n"
       ]
      },
      {
       "output_type": "stream",
       "stream": "stdout",
       "text": [
        "[251,   200] loss: 0.000217\n"
       ]
      },
      {
       "output_type": "stream",
       "stream": "stdout",
       "text": [
        "[251,   400] loss: 0.000164\n"
       ]
      },
      {
       "output_type": "stream",
       "stream": "stdout",
       "text": [
        "Got 3245 / 4000 correct (81.12)\n",
        "skip model saving\n"
       ]
      },
      {
       "output_type": "stream",
       "stream": "stdout",
       "text": [
        "[252,   200] loss: 0.000060\n"
       ]
      },
      {
       "output_type": "stream",
       "stream": "stdout",
       "text": [
        "[252,   400] loss: 0.000018\n"
       ]
      },
      {
       "output_type": "stream",
       "stream": "stdout",
       "text": [
        "Got 3251 / 4000 correct (81.27)\n",
        "skip model saving\n"
       ]
      },
      {
       "output_type": "stream",
       "stream": "stdout",
       "text": [
        "[253,   200] loss: 0.000159\n"
       ]
      },
      {
       "output_type": "stream",
       "stream": "stdout",
       "text": [
        "[253,   400] loss: 0.000008\n"
       ]
      },
      {
       "output_type": "stream",
       "stream": "stdout",
       "text": [
        "Got 3250 / 4000 correct (81.25)\n",
        "skip model saving\n"
       ]
      },
      {
       "output_type": "stream",
       "stream": "stdout",
       "text": [
        "[254,   200] loss: 0.000114\n"
       ]
      },
      {
       "output_type": "stream",
       "stream": "stdout",
       "text": [
        "[254,   400] loss: 0.000074\n"
       ]
      },
      {
       "output_type": "stream",
       "stream": "stdout",
       "text": [
        "Got 3250 / 4000 correct (81.25)\n",
        "skip model saving\n"
       ]
      },
      {
       "output_type": "stream",
       "stream": "stdout",
       "text": [
        "[255,   200] loss: 0.000269\n"
       ]
      },
      {
       "output_type": "stream",
       "stream": "stdout",
       "text": [
        "[255,   400] loss: 0.000046\n"
       ]
      },
      {
       "output_type": "stream",
       "stream": "stdout",
       "text": [
        "Got 3249 / 4000 correct (81.23)\n",
        "skip model saving\n"
       ]
      },
      {
       "output_type": "stream",
       "stream": "stdout",
       "text": [
        "[256,   200] loss: 0.000006\n"
       ]
      },
      {
       "output_type": "stream",
       "stream": "stdout",
       "text": [
        "[256,   400] loss: 0.000011\n"
       ]
      },
      {
       "output_type": "stream",
       "stream": "stdout",
       "text": [
        "Got 3258 / 4000 correct (81.45)\n",
        "skip model saving\n"
       ]
      },
      {
       "output_type": "stream",
       "stream": "stdout",
       "text": [
        "[257,   200] loss: 0.000006\n"
       ]
      },
      {
       "output_type": "stream",
       "stream": "stdout",
       "text": [
        "[257,   400] loss: 0.000099\n"
       ]
      },
      {
       "output_type": "stream",
       "stream": "stdout",
       "text": [
        "Got 3243 / 4000 correct (81.08)\n",
        "skip model saving\n"
       ]
      },
      {
       "output_type": "stream",
       "stream": "stdout",
       "text": [
        "[258,   200] loss: 0.000008\n"
       ]
      },
      {
       "output_type": "stream",
       "stream": "stdout",
       "text": [
        "[258,   400] loss: 0.000022\n"
       ]
      },
      {
       "output_type": "stream",
       "stream": "stdout",
       "text": [
        "Got 3253 / 4000 correct (81.33)\n",
        "skip model saving\n"
       ]
      },
      {
       "output_type": "stream",
       "stream": "stdout",
       "text": [
        "[259,   200] loss: 0.000006\n"
       ]
      },
      {
       "output_type": "stream",
       "stream": "stdout",
       "text": [
        "[259,   400] loss: 0.000058\n"
       ]
      },
      {
       "output_type": "stream",
       "stream": "stdout",
       "text": [
        "Got 3259 / 4000 correct (81.47)\n",
        "skip model saving\n"
       ]
      },
      {
       "output_type": "stream",
       "stream": "stdout",
       "text": [
        "[260,   200] loss: 0.000010\n"
       ]
      },
      {
       "output_type": "stream",
       "stream": "stdout",
       "text": [
        "[260,   400] loss: 0.000010\n"
       ]
      },
      {
       "output_type": "stream",
       "stream": "stdout",
       "text": [
        "Got 3255 / 4000 correct (81.38)\n",
        "skip model saving\n"
       ]
      },
      {
       "output_type": "stream",
       "stream": "stdout",
       "text": [
        "[261,   200] loss: 0.000217\n"
       ]
      },
      {
       "output_type": "stream",
       "stream": "stdout",
       "text": [
        "[261,   400] loss: 0.000040\n"
       ]
      },
      {
       "output_type": "stream",
       "stream": "stdout",
       "text": [
        "Got 3256 / 4000 correct (81.40)\n",
        "skip model saving\n"
       ]
      },
      {
       "output_type": "stream",
       "stream": "stdout",
       "text": [
        "[262,   200] loss: 0.000016\n"
       ]
      },
      {
       "output_type": "stream",
       "stream": "stdout",
       "text": [
        "[262,   400] loss: 0.000016\n"
       ]
      },
      {
       "output_type": "stream",
       "stream": "stdout",
       "text": [
        "Got 3258 / 4000 correct (81.45)\n",
        "skip model saving\n"
       ]
      },
      {
       "output_type": "stream",
       "stream": "stdout",
       "text": [
        "[263,   200] loss: 0.000021\n"
       ]
      },
      {
       "output_type": "stream",
       "stream": "stdout",
       "text": [
        "[263,   400] loss: 0.000009\n"
       ]
      },
      {
       "output_type": "stream",
       "stream": "stdout",
       "text": [
        "Got 3257 / 4000 correct (81.42)\n",
        "skip model saving\n"
       ]
      },
      {
       "output_type": "stream",
       "stream": "stdout",
       "text": [
        "[264,   200] loss: 0.000153\n"
       ]
      },
      {
       "output_type": "stream",
       "stream": "stdout",
       "text": [
        "[264,   400] loss: 0.000015\n"
       ]
      },
      {
       "output_type": "stream",
       "stream": "stdout",
       "text": [
        "Got 3261 / 4000 correct (81.53)\n",
        "skip model saving\n"
       ]
      },
      {
       "output_type": "stream",
       "stream": "stdout",
       "text": [
        "[265,   200] loss: 0.000006\n"
       ]
      },
      {
       "output_type": "stream",
       "stream": "stdout",
       "text": [
        "[265,   400] loss: 0.000006\n"
       ]
      },
      {
       "output_type": "stream",
       "stream": "stdout",
       "text": [
        "Got 3259 / 4000 correct (81.47)\n",
        "skip model saving\n"
       ]
      },
      {
       "output_type": "stream",
       "stream": "stdout",
       "text": [
        "[266,   200] loss: 0.000012\n"
       ]
      },
      {
       "output_type": "stream",
       "stream": "stdout",
       "text": [
        "[266,   400] loss: 0.000020\n"
       ]
      },
      {
       "output_type": "stream",
       "stream": "stdout",
       "text": [
        "Got 3252 / 4000 correct (81.30)\n",
        "skip model saving\n"
       ]
      },
      {
       "output_type": "stream",
       "stream": "stdout",
       "text": [
        "[267,   200] loss: 0.000138\n"
       ]
      },
      {
       "output_type": "stream",
       "stream": "stdout",
       "text": [
        "[267,   400] loss: 0.000005\n"
       ]
      },
      {
       "output_type": "stream",
       "stream": "stdout",
       "text": [
        "Got 3264 / 4000 correct (81.60)\n",
        "skip model saving\n"
       ]
      },
      {
       "output_type": "stream",
       "stream": "stdout",
       "text": [
        "[268,   200] loss: 0.000082\n"
       ]
      },
      {
       "output_type": "stream",
       "stream": "stdout",
       "text": [
        "[268,   400] loss: 0.000033\n"
       ]
      },
      {
       "output_type": "stream",
       "stream": "stdout",
       "text": [
        "Got 3273 / 4000 correct (81.83)\n",
        "skip model saving\n"
       ]
      },
      {
       "output_type": "stream",
       "stream": "stdout",
       "text": [
        "[269,   200] loss: 0.000007\n"
       ]
      },
      {
       "output_type": "stream",
       "stream": "stdout",
       "text": [
        "[269,   400] loss: 0.000251\n"
       ]
      },
      {
       "output_type": "stream",
       "stream": "stdout",
       "text": [
        "Got 3259 / 4000 correct (81.47)\n",
        "skip model saving\n"
       ]
      },
      {
       "output_type": "stream",
       "stream": "stdout",
       "text": [
        "[270,   200] loss: 0.000005\n"
       ]
      },
      {
       "output_type": "stream",
       "stream": "stdout",
       "text": [
        "[270,   400] loss: 0.000008\n"
       ]
      },
      {
       "output_type": "stream",
       "stream": "stdout",
       "text": [
        "Got 3262 / 4000 correct (81.55)\n",
        "skip model saving\n"
       ]
      },
      {
       "output_type": "stream",
       "stream": "stdout",
       "text": [
        "[271,   200] loss: 0.000008\n"
       ]
      },
      {
       "output_type": "stream",
       "stream": "stdout",
       "text": [
        "[271,   400] loss: 0.000007\n"
       ]
      },
      {
       "output_type": "stream",
       "stream": "stdout",
       "text": [
        "Got 3261 / 4000 correct (81.53)\n",
        "skip model saving\n"
       ]
      },
      {
       "output_type": "stream",
       "stream": "stdout",
       "text": [
        "[272,   200] loss: 0.000005\n"
       ]
      },
      {
       "output_type": "stream",
       "stream": "stdout",
       "text": [
        "[272,   400] loss: 0.000009\n"
       ]
      },
      {
       "output_type": "stream",
       "stream": "stdout",
       "text": [
        "Got 3258 / 4000 correct (81.45)\n",
        "skip model saving\n"
       ]
      },
      {
       "output_type": "stream",
       "stream": "stdout",
       "text": [
        "[273,   200] loss: 0.000009\n"
       ]
      },
      {
       "output_type": "stream",
       "stream": "stdout",
       "text": [
        "[273,   400] loss: 0.000005\n"
       ]
      },
      {
       "output_type": "stream",
       "stream": "stdout",
       "text": [
        "Got 3259 / 4000 correct (81.47)\n",
        "skip model saving\n"
       ]
      },
      {
       "output_type": "stream",
       "stream": "stdout",
       "text": [
        "[274,   200] loss: 0.000008\n"
       ]
      },
      {
       "output_type": "stream",
       "stream": "stdout",
       "text": [
        "[274,   400] loss: 0.000008\n"
       ]
      },
      {
       "output_type": "stream",
       "stream": "stdout",
       "text": [
        "Got 3258 / 4000 correct (81.45)\n",
        "skip model saving\n"
       ]
      },
      {
       "output_type": "stream",
       "stream": "stdout",
       "text": [
        "[275,   200] loss: 0.000005\n"
       ]
      },
      {
       "output_type": "stream",
       "stream": "stdout",
       "text": [
        "[275,   400] loss: 0.000007\n"
       ]
      },
      {
       "output_type": "stream",
       "stream": "stdout",
       "text": [
        "Got 3260 / 4000 correct (81.50)\n",
        "skip model saving\n"
       ]
      },
      {
       "output_type": "stream",
       "stream": "stdout",
       "text": [
        "[276,   200] loss: 0.000003\n"
       ]
      },
      {
       "output_type": "stream",
       "stream": "stdout",
       "text": [
        "[276,   400] loss: 0.000005\n"
       ]
      },
      {
       "output_type": "stream",
       "stream": "stdout",
       "text": [
        "Got 3263 / 4000 correct (81.58)\n",
        "skip model saving\n"
       ]
      },
      {
       "output_type": "stream",
       "stream": "stdout",
       "text": [
        "[277,   200] loss: 0.000005\n"
       ]
      },
      {
       "output_type": "stream",
       "stream": "stdout",
       "text": [
        "[277,   400] loss: 0.000007\n"
       ]
      },
      {
       "output_type": "stream",
       "stream": "stdout",
       "text": [
        "Got 3263 / 4000 correct (81.58)\n",
        "skip model saving\n"
       ]
      },
      {
       "output_type": "stream",
       "stream": "stdout",
       "text": [
        "[278,   200] loss: 0.000005\n"
       ]
      },
      {
       "output_type": "stream",
       "stream": "stdout",
       "text": [
        "[278,   400] loss: 0.000013\n"
       ]
      },
      {
       "output_type": "stream",
       "stream": "stdout",
       "text": [
        "Got 3262 / 4000 correct (81.55)\n",
        "skip model saving\n"
       ]
      },
      {
       "output_type": "stream",
       "stream": "stdout",
       "text": [
        "[279,   200] loss: 0.000007\n"
       ]
      },
      {
       "output_type": "stream",
       "stream": "stdout",
       "text": [
        "[279,   400] loss: 0.000006\n"
       ]
      },
      {
       "output_type": "stream",
       "stream": "stdout",
       "text": [
        "Got 3264 / 4000 correct (81.60)\n",
        "skip model saving\n"
       ]
      },
      {
       "output_type": "stream",
       "stream": "stdout",
       "text": [
        "[280,   200] loss: 0.000003\n"
       ]
      },
      {
       "output_type": "stream",
       "stream": "stdout",
       "text": [
        "[280,   400] loss: 0.000005\n"
       ]
      },
      {
       "output_type": "stream",
       "stream": "stdout",
       "text": [
        "Got 3263 / 4000 correct (81.58)\n",
        "skip model saving\n"
       ]
      },
      {
       "output_type": "stream",
       "stream": "stdout",
       "text": [
        "[281,   200] loss: 0.000011\n"
       ]
      },
      {
       "output_type": "stream",
       "stream": "stdout",
       "text": [
        "[281,   400] loss: 0.000012\n"
       ]
      },
      {
       "output_type": "stream",
       "stream": "stdout",
       "text": [
        "Got 3269 / 4000 correct (81.73)\n",
        "skip model saving\n"
       ]
      },
      {
       "output_type": "stream",
       "stream": "stdout",
       "text": [
        "[282,   200] loss: 0.000006\n"
       ]
      },
      {
       "output_type": "stream",
       "stream": "stdout",
       "text": [
        "[282,   400] loss: 0.000004\n"
       ]
      },
      {
       "output_type": "stream",
       "stream": "stdout",
       "text": [
        "Got 3271 / 4000 correct (81.77)\n",
        "skip model saving\n"
       ]
      },
      {
       "output_type": "stream",
       "stream": "stdout",
       "text": [
        "[283,   200] loss: 0.000003\n"
       ]
      },
      {
       "output_type": "stream",
       "stream": "stdout",
       "text": [
        "[283,   400] loss: 0.000004\n"
       ]
      },
      {
       "output_type": "stream",
       "stream": "stdout",
       "text": [
        "Got 3274 / 4000 correct (81.85)\n",
        "skip model saving\n"
       ]
      },
      {
       "output_type": "stream",
       "stream": "stdout",
       "text": [
        "[284,   200] loss: 0.000003\n"
       ]
      },
      {
       "output_type": "stream",
       "stream": "stdout",
       "text": [
        "[284,   400] loss: 0.000015\n"
       ]
      },
      {
       "output_type": "stream",
       "stream": "stdout",
       "text": [
        "Got 3262 / 4000 correct (81.55)\n",
        "skip model saving\n"
       ]
      },
      {
       "output_type": "stream",
       "stream": "stdout",
       "text": [
        "[285,   200] loss: 0.000004\n"
       ]
      },
      {
       "output_type": "stream",
       "stream": "stdout",
       "text": [
        "[285,   400] loss: 0.000006\n"
       ]
      },
      {
       "output_type": "stream",
       "stream": "stdout",
       "text": [
        "Got 3258 / 4000 correct (81.45)\n",
        "skip model saving\n"
       ]
      },
      {
       "output_type": "stream",
       "stream": "stdout",
       "text": [
        "[286,   200] loss: 0.000002\n"
       ]
      },
      {
       "output_type": "stream",
       "stream": "stdout",
       "text": [
        "[286,   400] loss: 0.000003\n"
       ]
      },
      {
       "output_type": "stream",
       "stream": "stdout",
       "text": [
        "Got 3265 / 4000 correct (81.62)\n",
        "skip model saving\n"
       ]
      },
      {
       "output_type": "stream",
       "stream": "stdout",
       "text": [
        "[287,   200] loss: 0.000007\n"
       ]
      },
      {
       "output_type": "stream",
       "stream": "stdout",
       "text": [
        "[287,   400] loss: 0.000003\n"
       ]
      },
      {
       "output_type": "stream",
       "stream": "stdout",
       "text": [
        "Got 3266 / 4000 correct (81.65)\n",
        "skip model saving\n"
       ]
      },
      {
       "output_type": "stream",
       "stream": "stdout",
       "text": [
        "[288,   200] loss: 0.000006\n"
       ]
      },
      {
       "output_type": "stream",
       "stream": "stdout",
       "text": [
        "[288,   400] loss: 0.000002\n"
       ]
      },
      {
       "output_type": "stream",
       "stream": "stdout",
       "text": [
        "Got 3260 / 4000 correct (81.50)\n",
        "skip model saving\n"
       ]
      },
      {
       "output_type": "stream",
       "stream": "stdout",
       "text": [
        "[289,   200] loss: 0.000001\n"
       ]
      },
      {
       "output_type": "stream",
       "stream": "stdout",
       "text": [
        "[289,   400] loss: 0.000006\n"
       ]
      },
      {
       "output_type": "stream",
       "stream": "stdout",
       "text": [
        "Got 3265 / 4000 correct (81.62)\n",
        "skip model saving\n"
       ]
      },
      {
       "output_type": "stream",
       "stream": "stdout",
       "text": [
        "[290,   200] loss: 0.000013\n"
       ]
      },
      {
       "output_type": "stream",
       "stream": "stdout",
       "text": [
        "[290,   400] loss: 0.000005\n"
       ]
      },
      {
       "output_type": "stream",
       "stream": "stdout",
       "text": [
        "Got 3262 / 4000 correct (81.55)\n",
        "skip model saving\n"
       ]
      },
      {
       "output_type": "stream",
       "stream": "stdout",
       "text": [
        "[291,   200] loss: 0.000287\n"
       ]
      },
      {
       "output_type": "stream",
       "stream": "stdout",
       "text": [
        "[291,   400] loss: 0.000005\n"
       ]
      },
      {
       "output_type": "stream",
       "stream": "stdout",
       "text": [
        "Got 3265 / 4000 correct (81.62)\n",
        "skip model saving\n"
       ]
      },
      {
       "output_type": "stream",
       "stream": "stdout",
       "text": [
        "[292,   200] loss: 0.000006\n"
       ]
      },
      {
       "output_type": "stream",
       "stream": "stdout",
       "text": [
        "[292,   400] loss: 0.000002\n"
       ]
      },
      {
       "output_type": "stream",
       "stream": "stdout",
       "text": [
        "Got 3264 / 4000 correct (81.60)\n",
        "skip model saving\n"
       ]
      },
      {
       "output_type": "stream",
       "stream": "stdout",
       "text": [
        "[293,   200] loss: 0.000002\n"
       ]
      },
      {
       "output_type": "stream",
       "stream": "stdout",
       "text": [
        "[293,   400] loss: 0.000007\n"
       ]
      },
      {
       "output_type": "stream",
       "stream": "stdout",
       "text": [
        "Got 3255 / 4000 correct (81.38)\n",
        "skip model saving\n"
       ]
      },
      {
       "output_type": "stream",
       "stream": "stdout",
       "text": [
        "[294,   200] loss: 0.000013\n"
       ]
      },
      {
       "output_type": "stream",
       "stream": "stdout",
       "text": [
        "[294,   400] loss: 0.000003\n"
       ]
      },
      {
       "output_type": "stream",
       "stream": "stdout",
       "text": [
        "Got 3257 / 4000 correct (81.42)\n",
        "skip model saving\n"
       ]
      },
      {
       "output_type": "stream",
       "stream": "stdout",
       "text": [
        "[295,   200] loss: 0.000038\n"
       ]
      },
      {
       "output_type": "stream",
       "stream": "stdout",
       "text": [
        "[295,   400] loss: 0.000003\n"
       ]
      },
      {
       "output_type": "stream",
       "stream": "stdout",
       "text": [
        "Got 3269 / 4000 correct (81.73)\n",
        "skip model saving\n"
       ]
      },
      {
       "output_type": "stream",
       "stream": "stdout",
       "text": [
        "[296,   200] loss: 0.000007\n"
       ]
      },
      {
       "output_type": "stream",
       "stream": "stdout",
       "text": [
        "[296,   400] loss: 0.000004\n"
       ]
      },
      {
       "output_type": "stream",
       "stream": "stdout",
       "text": [
        "Got 3264 / 4000 correct (81.60)\n",
        "skip model saving\n"
       ]
      },
      {
       "output_type": "stream",
       "stream": "stdout",
       "text": [
        "[297,   200] loss: 0.000007\n"
       ]
      },
      {
       "output_type": "stream",
       "stream": "stdout",
       "text": [
        "[297,   400] loss: 0.000002\n"
       ]
      },
      {
       "output_type": "stream",
       "stream": "stdout",
       "text": [
        "Got 3267 / 4000 correct (81.67)\n",
        "skip model saving\n"
       ]
      },
      {
       "output_type": "stream",
       "stream": "stdout",
       "text": [
        "[298,   200] loss: 0.000001\n"
       ]
      },
      {
       "output_type": "stream",
       "stream": "stdout",
       "text": [
        "[298,   400] loss: 0.000004\n"
       ]
      },
      {
       "output_type": "stream",
       "stream": "stdout",
       "text": [
        "Got 3266 / 4000 correct (81.65)\n",
        "skip model saving\n"
       ]
      },
      {
       "output_type": "stream",
       "stream": "stdout",
       "text": [
        "[299,   200] loss: 0.000007\n"
       ]
      },
      {
       "output_type": "stream",
       "stream": "stdout",
       "text": [
        "[299,   400] loss: 0.000106\n"
       ]
      },
      {
       "output_type": "stream",
       "stream": "stdout",
       "text": [
        "Got 3268 / 4000 correct (81.70)\n",
        "skip model saving\n"
       ]
      },
      {
       "output_type": "stream",
       "stream": "stdout",
       "text": [
        "[300,   200] loss: 0.000005\n"
       ]
      },
      {
       "output_type": "stream",
       "stream": "stdout",
       "text": [
        "[300,   400] loss: 0.000026\n"
       ]
      },
      {
       "output_type": "stream",
       "stream": "stdout",
       "text": [
        "Got 3265 / 4000 correct (81.62)\n",
        "skip model saving\n"
       ]
      },
      {
       "output_type": "stream",
       "stream": "stdout",
       "text": [
        "[301,   200] loss: 0.000003\n"
       ]
      },
      {
       "output_type": "stream",
       "stream": "stdout",
       "text": [
        "[301,   400] loss: 0.000004\n"
       ]
      },
      {
       "output_type": "stream",
       "stream": "stdout",
       "text": [
        "Got 3260 / 4000 correct (81.50)\n",
        "skip model saving\n"
       ]
      },
      {
       "output_type": "stream",
       "stream": "stdout",
       "text": [
        "[302,   200] loss: 0.000039\n"
       ]
      },
      {
       "output_type": "stream",
       "stream": "stdout",
       "text": [
        "[302,   400] loss: 0.000002\n"
       ]
      },
      {
       "output_type": "stream",
       "stream": "stdout",
       "text": [
        "Got 3269 / 4000 correct (81.73)\n",
        "skip model saving\n"
       ]
      },
      {
       "output_type": "stream",
       "stream": "stdout",
       "text": [
        "[303,   200] loss: 0.000005\n"
       ]
      },
      {
       "output_type": "stream",
       "stream": "stdout",
       "text": [
        "[303,   400] loss: 0.000002\n"
       ]
      },
      {
       "output_type": "stream",
       "stream": "stdout",
       "text": [
        "Got 3256 / 4000 correct (81.40)\n",
        "skip model saving\n"
       ]
      },
      {
       "output_type": "stream",
       "stream": "stdout",
       "text": [
        "[304,   200] loss: 0.000002\n"
       ]
      },
      {
       "output_type": "stream",
       "stream": "stdout",
       "text": [
        "[304,   400] loss: 0.000003\n"
       ]
      },
      {
       "output_type": "stream",
       "stream": "stdout",
       "text": [
        "Got 3261 / 4000 correct (81.53)\n",
        "skip model saving\n"
       ]
      },
      {
       "output_type": "stream",
       "stream": "stdout",
       "text": [
        "[305,   200] loss: 0.000025\n"
       ]
      },
      {
       "output_type": "stream",
       "stream": "stdout",
       "text": [
        "[305,   400] loss: 0.000008\n"
       ]
      },
      {
       "output_type": "stream",
       "stream": "stdout",
       "text": [
        "Got 3264 / 4000 correct (81.60)\n",
        "skip model saving\n"
       ]
      },
      {
       "output_type": "stream",
       "stream": "stdout",
       "text": [
        "[306,   200] loss: 0.000003\n"
       ]
      },
      {
       "output_type": "stream",
       "stream": "stdout",
       "text": [
        "[306,   400] loss: 0.000003\n"
       ]
      },
      {
       "output_type": "stream",
       "stream": "stdout",
       "text": [
        "Got 3263 / 4000 correct (81.58)\n",
        "skip model saving\n"
       ]
      },
      {
       "output_type": "stream",
       "stream": "stdout",
       "text": [
        "[307,   200] loss: 0.000002\n"
       ]
      },
      {
       "output_type": "stream",
       "stream": "stdout",
       "text": [
        "[307,   400] loss: 0.000003\n"
       ]
      },
      {
       "output_type": "stream",
       "stream": "stdout",
       "text": [
        "Got 3264 / 4000 correct (81.60)\n",
        "skip model saving\n"
       ]
      },
      {
       "output_type": "stream",
       "stream": "stdout",
       "text": [
        "[308,   200] loss: 0.000003\n"
       ]
      },
      {
       "output_type": "stream",
       "stream": "stdout",
       "text": [
        "[308,   400] loss: 0.000002\n"
       ]
      },
      {
       "output_type": "stream",
       "stream": "stdout",
       "text": [
        "Got 3265 / 4000 correct (81.62)\n",
        "skip model saving\n"
       ]
      },
      {
       "output_type": "stream",
       "stream": "stdout",
       "text": [
        "[309,   200] loss: 0.000003\n"
       ]
      },
      {
       "output_type": "stream",
       "stream": "stdout",
       "text": [
        "[309,   400] loss: 0.000002\n"
       ]
      },
      {
       "output_type": "stream",
       "stream": "stdout",
       "text": [
        "Got 3264 / 4000 correct (81.60)\n",
        "skip model saving\n"
       ]
      },
      {
       "output_type": "stream",
       "stream": "stdout",
       "text": [
        "[310,   200] loss: 0.000003\n"
       ]
      },
      {
       "output_type": "stream",
       "stream": "stdout",
       "text": [
        "[310,   400] loss: 0.000017\n"
       ]
      },
      {
       "output_type": "stream",
       "stream": "stdout",
       "text": [
        "Got 3265 / 4000 correct (81.62)\n",
        "skip model saving\n"
       ]
      },
      {
       "output_type": "stream",
       "stream": "stdout",
       "text": [
        "[311,   200] loss: 0.000010\n"
       ]
      },
      {
       "output_type": "stream",
       "stream": "stdout",
       "text": [
        "[311,   400] loss: 0.000002\n"
       ]
      },
      {
       "output_type": "stream",
       "stream": "stdout",
       "text": [
        "Got 3269 / 4000 correct (81.73)\n",
        "skip model saving\n"
       ]
      },
      {
       "output_type": "stream",
       "stream": "stdout",
       "text": [
        "[312,   200] loss: 0.000008\n"
       ]
      },
      {
       "output_type": "stream",
       "stream": "stdout",
       "text": [
        "[312,   400] loss: 0.000001\n"
       ]
      },
      {
       "output_type": "stream",
       "stream": "stdout",
       "text": [
        "Got 3256 / 4000 correct (81.40)\n",
        "skip model saving\n"
       ]
      },
      {
       "output_type": "stream",
       "stream": "stdout",
       "text": [
        "[313,   200] loss: 0.000008\n"
       ]
      },
      {
       "output_type": "stream",
       "stream": "stdout",
       "text": [
        "[313,   400] loss: 0.000002\n"
       ]
      },
      {
       "output_type": "stream",
       "stream": "stdout",
       "text": [
        "Got 3263 / 4000 correct (81.58)\n",
        "skip model saving\n"
       ]
      },
      {
       "output_type": "stream",
       "stream": "stdout",
       "text": [
        "[314,   200] loss: 0.000002\n"
       ]
      },
      {
       "output_type": "stream",
       "stream": "stdout",
       "text": [
        "[314,   400] loss: 0.000006\n"
       ]
      },
      {
       "output_type": "stream",
       "stream": "stdout",
       "text": [
        "Got 3267 / 4000 correct (81.67)\n",
        "skip model saving\n"
       ]
      },
      {
       "output_type": "stream",
       "stream": "stdout",
       "text": [
        "[315,   200] loss: 0.000002\n"
       ]
      },
      {
       "output_type": "stream",
       "stream": "stdout",
       "text": [
        "[315,   400] loss: 0.000003\n"
       ]
      },
      {
       "output_type": "stream",
       "stream": "stdout",
       "text": [
        "Got 3270 / 4000 correct (81.75)\n",
        "skip model saving\n"
       ]
      },
      {
       "output_type": "stream",
       "stream": "stdout",
       "text": [
        "[316,   200] loss: 0.000003\n"
       ]
      },
      {
       "output_type": "stream",
       "stream": "stdout",
       "text": [
        "[316,   400] loss: 0.000003\n"
       ]
      },
      {
       "output_type": "stream",
       "stream": "stdout",
       "text": [
        "Got 3270 / 4000 correct (81.75)\n",
        "skip model saving\n"
       ]
      },
      {
       "output_type": "stream",
       "stream": "stdout",
       "text": [
        "[317,   200] loss: 0.000003\n"
       ]
      },
      {
       "output_type": "stream",
       "stream": "stdout",
       "text": [
        "[317,   400] loss: 0.000001\n"
       ]
      },
      {
       "output_type": "stream",
       "stream": "stdout",
       "text": [
        "Got 3267 / 4000 correct (81.67)\n",
        "skip model saving\n"
       ]
      },
      {
       "output_type": "stream",
       "stream": "stdout",
       "text": [
        "[318,   200] loss: 0.000008\n"
       ]
      },
      {
       "output_type": "stream",
       "stream": "stdout",
       "text": [
        "[318,   400] loss: 0.000002\n"
       ]
      },
      {
       "output_type": "stream",
       "stream": "stdout",
       "text": [
        "Got 3270 / 4000 correct (81.75)\n",
        "skip model saving\n"
       ]
      },
      {
       "output_type": "stream",
       "stream": "stdout",
       "text": [
        "[319,   200] loss: 0.000001\n"
       ]
      },
      {
       "output_type": "stream",
       "stream": "stdout",
       "text": [
        "[319,   400] loss: 0.000040\n"
       ]
      },
      {
       "output_type": "stream",
       "stream": "stdout",
       "text": [
        "Got 3262 / 4000 correct (81.55)\n",
        "skip model saving\n"
       ]
      },
      {
       "output_type": "stream",
       "stream": "stdout",
       "text": [
        "[320,   200] loss: 0.000003\n"
       ]
      },
      {
       "output_type": "stream",
       "stream": "stdout",
       "text": [
        "[320,   400] loss: 0.000001\n"
       ]
      },
      {
       "output_type": "stream",
       "stream": "stdout",
       "text": [
        "Got 3264 / 4000 correct (81.60)\n",
        "skip model saving\n"
       ]
      },
      {
       "output_type": "stream",
       "stream": "stdout",
       "text": [
        "[321,   200] loss: 0.000002\n"
       ]
      },
      {
       "output_type": "stream",
       "stream": "stdout",
       "text": [
        "[321,   400] loss: 0.000002\n"
       ]
      },
      {
       "output_type": "stream",
       "stream": "stdout",
       "text": [
        "Got 3271 / 4000 correct (81.77)\n",
        "skip model saving\n"
       ]
      },
      {
       "output_type": "stream",
       "stream": "stdout",
       "text": [
        "[322,   200] loss: 0.000005\n"
       ]
      },
      {
       "output_type": "stream",
       "stream": "stdout",
       "text": [
        "[322,   400] loss: 0.000010\n"
       ]
      },
      {
       "output_type": "stream",
       "stream": "stdout",
       "text": [
        "Got 3266 / 4000 correct (81.65)\n",
        "skip model saving\n"
       ]
      },
      {
       "output_type": "stream",
       "stream": "stdout",
       "text": [
        "[323,   200] loss: 0.000002\n"
       ]
      },
      {
       "output_type": "stream",
       "stream": "stdout",
       "text": [
        "[323,   400] loss: 0.000093\n"
       ]
      },
      {
       "output_type": "stream",
       "stream": "stdout",
       "text": [
        "Got 3270 / 4000 correct (81.75)\n",
        "skip model saving\n"
       ]
      },
      {
       "output_type": "stream",
       "stream": "stdout",
       "text": [
        "[324,   200] loss: 0.000001\n"
       ]
      },
      {
       "output_type": "stream",
       "stream": "stdout",
       "text": [
        "[324,   400] loss: 0.000001\n"
       ]
      },
      {
       "output_type": "stream",
       "stream": "stdout",
       "text": [
        "Got 3272 / 4000 correct (81.80)\n",
        "skip model saving\n"
       ]
      },
      {
       "output_type": "stream",
       "stream": "stdout",
       "text": [
        "[325,   200] loss: 0.000001\n"
       ]
      },
      {
       "output_type": "stream",
       "stream": "stdout",
       "text": [
        "[325,   400] loss: 0.000002\n"
       ]
      },
      {
       "output_type": "stream",
       "stream": "stdout",
       "text": [
        "Got 3268 / 4000 correct (81.70)\n",
        "skip model saving\n"
       ]
      },
      {
       "output_type": "stream",
       "stream": "stdout",
       "text": [
        "[326,   200] loss: 0.000002\n"
       ]
      },
      {
       "output_type": "stream",
       "stream": "stdout",
       "text": [
        "[326,   400] loss: 0.000002\n"
       ]
      },
      {
       "output_type": "stream",
       "stream": "stdout",
       "text": [
        "Got 3270 / 4000 correct (81.75)\n",
        "skip model saving\n"
       ]
      },
      {
       "output_type": "stream",
       "stream": "stdout",
       "text": [
        "[327,   200] loss: 0.000002\n"
       ]
      },
      {
       "output_type": "stream",
       "stream": "stdout",
       "text": [
        "[327,   400] loss: 0.000005\n"
       ]
      },
      {
       "output_type": "stream",
       "stream": "stdout",
       "text": [
        "Got 3264 / 4000 correct (81.60)\n",
        "skip model saving\n"
       ]
      },
      {
       "output_type": "stream",
       "stream": "stdout",
       "text": [
        "[328,   200] loss: 0.000002\n"
       ]
      },
      {
       "output_type": "stream",
       "stream": "stdout",
       "text": [
        "[328,   400] loss: 0.000002\n"
       ]
      },
      {
       "output_type": "stream",
       "stream": "stdout",
       "text": [
        "Got 3265 / 4000 correct (81.62)\n",
        "skip model saving\n"
       ]
      },
      {
       "output_type": "stream",
       "stream": "stdout",
       "text": [
        "[329,   200] loss: 0.000003\n"
       ]
      },
      {
       "output_type": "stream",
       "stream": "stdout",
       "text": [
        "[329,   400] loss: 0.000001\n"
       ]
      },
      {
       "output_type": "stream",
       "stream": "stdout",
       "text": [
        "Got 3275 / 4000 correct (81.88)\n",
        "skip model saving\n"
       ]
      },
      {
       "output_type": "stream",
       "stream": "stdout",
       "text": [
        "[330,   200] loss: 0.000001\n"
       ]
      },
      {
       "output_type": "stream",
       "stream": "stdout",
       "text": [
        "[330,   400] loss: 0.000004\n"
       ]
      },
      {
       "output_type": "stream",
       "stream": "stdout",
       "text": [
        "Got 3268 / 4000 correct (81.70)\n",
        "skip model saving\n"
       ]
      },
      {
       "output_type": "stream",
       "stream": "stdout",
       "text": [
        "[331,   200] loss: 0.000005\n"
       ]
      },
      {
       "output_type": "stream",
       "stream": "stdout",
       "text": [
        "[331,   400] loss: 0.000006\n"
       ]
      },
      {
       "output_type": "stream",
       "stream": "stdout",
       "text": [
        "Got 3261 / 4000 correct (81.53)\n",
        "skip model saving\n"
       ]
      },
      {
       "output_type": "stream",
       "stream": "stdout",
       "text": [
        "[332,   200] loss: 0.000002\n"
       ]
      },
      {
       "output_type": "stream",
       "stream": "stdout",
       "text": [
        "[332,   400] loss: 0.000002\n"
       ]
      },
      {
       "output_type": "stream",
       "stream": "stdout",
       "text": [
        "Got 3269 / 4000 correct (81.73)\n",
        "skip model saving\n"
       ]
      },
      {
       "output_type": "stream",
       "stream": "stdout",
       "text": [
        "[333,   200] loss: 0.000009\n"
       ]
      },
      {
       "output_type": "stream",
       "stream": "stdout",
       "text": [
        "[333,   400] loss: 0.000002\n"
       ]
      },
      {
       "output_type": "stream",
       "stream": "stdout",
       "text": [
        "Got 3267 / 4000 correct (81.67)\n",
        "skip model saving\n"
       ]
      },
      {
       "output_type": "stream",
       "stream": "stdout",
       "text": [
        "[334,   200] loss: 0.000001\n"
       ]
      },
      {
       "output_type": "stream",
       "stream": "stdout",
       "text": [
        "[334,   400] loss: 0.000001\n"
       ]
      },
      {
       "output_type": "stream",
       "stream": "stdout",
       "text": [
        "Got 3268 / 4000 correct (81.70)\n",
        "skip model saving\n"
       ]
      },
      {
       "output_type": "stream",
       "stream": "stdout",
       "text": [
        "[335,   200] loss: 0.000002\n"
       ]
      },
      {
       "output_type": "stream",
       "stream": "stdout",
       "text": [
        "[335,   400] loss: 0.000002\n"
       ]
      },
      {
       "output_type": "stream",
       "stream": "stdout",
       "text": [
        "Got 3267 / 4000 correct (81.67)\n",
        "skip model saving\n"
       ]
      },
      {
       "output_type": "stream",
       "stream": "stdout",
       "text": [
        "[336,   200] loss: 0.000001\n"
       ]
      },
      {
       "output_type": "stream",
       "stream": "stdout",
       "text": [
        "[336,   400] loss: 0.000001\n"
       ]
      },
      {
       "output_type": "stream",
       "stream": "stdout",
       "text": [
        "Got 3269 / 4000 correct (81.73)\n",
        "skip model saving\n"
       ]
      },
      {
       "output_type": "stream",
       "stream": "stdout",
       "text": [
        "[337,   200] loss: 0.000002\n"
       ]
      },
      {
       "output_type": "stream",
       "stream": "stdout",
       "text": [
        "[337,   400] loss: 0.000001\n"
       ]
      },
      {
       "output_type": "stream",
       "stream": "stdout",
       "text": [
        "Got 3267 / 4000 correct (81.67)\n",
        "skip model saving\n"
       ]
      },
      {
       "output_type": "stream",
       "stream": "stdout",
       "text": [
        "[338,   200] loss: 0.000003\n"
       ]
      },
      {
       "output_type": "stream",
       "stream": "stdout",
       "text": [
        "[338,   400] loss: 0.000002\n"
       ]
      },
      {
       "output_type": "stream",
       "stream": "stdout",
       "text": [
        "Got 3264 / 4000 correct (81.60)\n",
        "skip model saving\n"
       ]
      },
      {
       "output_type": "stream",
       "stream": "stdout",
       "text": [
        "[339,   200] loss: 0.000002\n"
       ]
      },
      {
       "output_type": "stream",
       "stream": "stdout",
       "text": [
        "[339,   400] loss: 0.000001\n"
       ]
      },
      {
       "output_type": "stream",
       "stream": "stdout",
       "text": [
        "Got 3265 / 4000 correct (81.62)\n",
        "skip model saving\n"
       ]
      },
      {
       "output_type": "stream",
       "stream": "stdout",
       "text": [
        "[340,   200] loss: 0.000001\n"
       ]
      },
      {
       "output_type": "stream",
       "stream": "stdout",
       "text": [
        "[340,   400] loss: 0.000002\n"
       ]
      },
      {
       "output_type": "stream",
       "stream": "stdout",
       "text": [
        "Got 3268 / 4000 correct (81.70)\n",
        "skip model saving\n"
       ]
      },
      {
       "output_type": "stream",
       "stream": "stdout",
       "text": [
        "[341,   200] loss: 0.000005\n"
       ]
      },
      {
       "output_type": "stream",
       "stream": "stdout",
       "text": [
        "[341,   400] loss: 0.000002\n"
       ]
      },
      {
       "output_type": "stream",
       "stream": "stdout",
       "text": [
        "Got 3262 / 4000 correct (81.55)\n",
        "skip model saving\n"
       ]
      },
      {
       "output_type": "stream",
       "stream": "stdout",
       "text": [
        "[342,   200] loss: 0.000002\n"
       ]
      },
      {
       "output_type": "stream",
       "stream": "stdout",
       "text": [
        "[342,   400] loss: 0.000001\n"
       ]
      },
      {
       "output_type": "stream",
       "stream": "stdout",
       "text": [
        "Got 3266 / 4000 correct (81.65)\n",
        "skip model saving\n"
       ]
      },
      {
       "output_type": "stream",
       "stream": "stdout",
       "text": [
        "[343,   200] loss: 0.000001\n"
       ]
      },
      {
       "output_type": "stream",
       "stream": "stdout",
       "text": [
        "[343,   400] loss: 0.000001\n"
       ]
      },
      {
       "output_type": "stream",
       "stream": "stdout",
       "text": [
        "Got 3271 / 4000 correct (81.77)\n",
        "skip model saving\n"
       ]
      },
      {
       "output_type": "stream",
       "stream": "stdout",
       "text": [
        "[344,   200] loss: 0.000026\n"
       ]
      },
      {
       "output_type": "stream",
       "stream": "stdout",
       "text": [
        "[344,   400] loss: 0.000001\n"
       ]
      },
      {
       "output_type": "stream",
       "stream": "stdout",
       "text": [
        "Got 3260 / 4000 correct (81.50)\n",
        "skip model saving\n"
       ]
      },
      {
       "output_type": "stream",
       "stream": "stdout",
       "text": [
        "[345,   200] loss: 0.000002\n"
       ]
      },
      {
       "output_type": "stream",
       "stream": "stdout",
       "text": [
        "[345,   400] loss: 0.000001\n"
       ]
      },
      {
       "output_type": "stream",
       "stream": "stdout",
       "text": [
        "Got 3270 / 4000 correct (81.75)\n",
        "skip model saving\n"
       ]
      },
      {
       "output_type": "stream",
       "stream": "stdout",
       "text": [
        "[346,   200] loss: 0.000002\n"
       ]
      },
      {
       "output_type": "stream",
       "stream": "stdout",
       "text": [
        "[346,   400] loss: 0.000002\n"
       ]
      },
      {
       "output_type": "stream",
       "stream": "stdout",
       "text": [
        "Got 3268 / 4000 correct (81.70)\n",
        "skip model saving\n"
       ]
      },
      {
       "output_type": "stream",
       "stream": "stdout",
       "text": [
        "[347,   200] loss: 0.000001\n"
       ]
      },
      {
       "output_type": "stream",
       "stream": "stdout",
       "text": [
        "[347,   400] loss: 0.000003\n"
       ]
      },
      {
       "output_type": "stream",
       "stream": "stdout",
       "text": [
        "Got 3261 / 4000 correct (81.53)\n",
        "skip model saving\n"
       ]
      },
      {
       "output_type": "stream",
       "stream": "stdout",
       "text": [
        "[348,   200] loss: 0.000015\n"
       ]
      },
      {
       "output_type": "stream",
       "stream": "stdout",
       "text": [
        "[348,   400] loss: 0.000001\n"
       ]
      },
      {
       "output_type": "stream",
       "stream": "stdout",
       "text": [
        "Got 3261 / 4000 correct (81.53)\n",
        "skip model saving\n"
       ]
      },
      {
       "output_type": "stream",
       "stream": "stdout",
       "text": [
        "[349,   200] loss: 0.000001\n"
       ]
      },
      {
       "output_type": "stream",
       "stream": "stdout",
       "text": [
        "[349,   400] loss: 0.000002\n"
       ]
      },
      {
       "output_type": "stream",
       "stream": "stdout",
       "text": [
        "Got 3263 / 4000 correct (81.58)\n",
        "skip model saving\n"
       ]
      },
      {
       "output_type": "stream",
       "stream": "stdout",
       "text": [
        "[350,   200] loss: 0.000003\n"
       ]
      },
      {
       "output_type": "stream",
       "stream": "stdout",
       "text": [
        "[350,   400] loss: 0.000002\n"
       ]
      },
      {
       "output_type": "stream",
       "stream": "stdout",
       "text": [
        "Got 3263 / 4000 correct (81.58)\n",
        "skip model saving\n"
       ]
      }
     ],
     "prompt_number": 11
    },
    {
     "cell_type": "markdown",
     "metadata": {},
     "source": [
      "### Stylised ResNet50 Training\n",
      "\n",
      "Stylised ResNet50 training has all the same settings as vanilla ResNet50, except the data being used here are the stylised CIFAR10."
     ]
    },
    {
     "cell_type": "code",
     "collapsed": false,
     "input": [
      "# torch.cuda.empty_cache()\n",
      "\n",
      "# # define and train the network\n",
      "# stylised_model_path = './cifar32_style_model.pth'\n",
      "# stylised_model = ResNet50()\n",
      "# lr=0.1\n",
      "# stylised_optimizer = optim.Adam(stylised_model.parameters(), lr=lr)\n",
      "# stylised_lr_scheduler = optim.lr_scheduler.MultiStepLR(stylised_optimizer, milestones=[150, 250])\n",
      "# train_part(stylised_model, data_loader_train_style, data_loader_val_style, stylised_model_path, stylised_optimizer, stylised_lr_scheduler, epochs = 350)"
     ],
     "language": "python",
     "metadata": {
      "scrolled": true
     },
     "outputs": [],
     "prompt_number": 12
    },
    {
     "cell_type": "markdown",
     "metadata": {},
     "source": [
      "### Reduced stylised ResNet50 Training\n",
      "\n",
      "Reduced stylised ResNet50 training has all the same settings as vanilla ResNet50, except the data being used here are the stylised CIFAR10."
     ]
    },
    {
     "cell_type": "code",
     "collapsed": false,
     "input": [
      "# torch.cuda.empty_cache()\n",
      "\n",
      "# # define and train the network\n",
      "# red_stylised_model_path = './cifar32_style_red_model.pth'\n",
      "# red_stylised_model = ResNet50()\n",
      "# lr=0.1\n",
      "# red_stylised_optimizer = optim.Adam(red_stylised_model.parameters(), lr=lr)\n",
      "# red_stylised_lr_scheduler = optim.lr_scheduler.MultiStepLR(red_stylised_optimizer, milestones=[150, 250])\n",
      "# train_part(red_stylised_model, data_loader_train_style_red, data_loader_val_style_red, red_stylised_model_path, red_stylised_optimizer, red_stylised_lr_scheduler, epochs = 350)"
     ],
     "language": "python",
     "metadata": {},
     "outputs": [],
     "prompt_number": 13
    },
    {
     "cell_type": "markdown",
     "metadata": {},
     "source": [
      "### Large stylised ResNet50 Training\n",
      "\n",
      "Large stylised ResNet50 training has all the same settings as vanilla ResNet50, except the data being used here are the stylised CIFAR10."
     ]
    },
    {
     "cell_type": "code",
     "collapsed": false,
     "input": [
      "# torch.cuda.empty_cache()\n",
      "\n",
      "# # define and train the network\n",
      "# big_stylised_model_path = './cifar512_style_model.pth'\n",
      "# big_stylised_model = ResNet50()\n",
      "# lr=0.1\n",
      "# big_stylised_optimizer = optim.Adam(big_stylised_model.parameters(), lr=lr)\n",
      "# big_stylised_lr_scheduler = optim.lr_scheduler.MultiStepLR(big_stylised_optimizer, milestones=[150, 250])\n",
      "# train_part(big_stylised_model, data_loader_train_style_big, data_loader_val_style_big, big_stylised_model_path, big_stylised_optimizer, big_stylised_lr_scheduler, epochs = 350)"
     ],
     "language": "python",
     "metadata": {},
     "outputs": [],
     "prompt_number": 14
    },
    {
     "cell_type": "markdown",
     "metadata": {},
     "source": [
      "### Testing Normal CIFAR10 on Vanilla ResNet50\n",
      "\n",
      "The below code tests the vanilla ResNet50 model on the normal CIFAR10 test set and prints out the final accuracy of the model."
     ]
    },
    {
     "cell_type": "code",
     "collapsed": false,
     "input": [
      "# report test set accuracy\n",
      "vanilla_model = ResNet50()\n",
      "vanilla_model.load_state_dict(torch.load('./cifar32_model.pth'))\n",
      "vanilla_model.to(device)\n",
      "check_accuracy(data_loader_test, vanilla_model)"
     ],
     "language": "python",
     "metadata": {},
     "outputs": [
      {
       "output_type": "stream",
       "stream": "stdout",
       "text": [
        "Got 8022 / 10000 correct, accuracy of the dataset is: 80.220 %\n"
       ]
      }
     ],
     "prompt_number": 15
    },
    {
     "cell_type": "markdown",
     "metadata": {},
     "source": [
      "### Testing Stylised CIFAR10 on Vanilla ResNet50\n",
      "\n",
      "The below code tests the vanilla ResNet50 model on the stylised CIFAR10 test set and prints out the final accuracy of the model."
     ]
    },
    {
     "cell_type": "code",
     "collapsed": false,
     "input": [
      "# report test set accuracy\n",
      "vanilla_model = ResNet50()\n",
      "vanilla_model.load_state_dict(torch.load('./cifar32_model.pth'))\n",
      "vanilla_model.to(device)\n",
      "check_accuracy(data_loader_test_style, vanilla_model)"
     ],
     "language": "python",
     "metadata": {},
     "outputs": [
      {
       "output_type": "stream",
       "stream": "stdout",
       "text": [
        "Got 1154 / 10000 correct, accuracy of the dataset is: 11.540 %\n"
       ]
      }
     ],
     "prompt_number": 16
    },
    {
     "cell_type": "markdown",
     "metadata": {},
     "source": [
      "### Testing Reduced Stylised CIFAR10 on Vanilla ResNet50\n",
      "\n",
      "The below code tests the vanilla ResNet50 model on the reduced stylised CIFAR10 test set and prints out the final accuracy of the model."
     ]
    },
    {
     "cell_type": "code",
     "collapsed": false,
     "input": [
      "# report test set accuracy\n",
      "vanilla_model = ResNet50()\n",
      "vanilla_model.load_state_dict(torch.load('./cifar32_model.pth'))\n",
      "vanilla_model.to(device)\n",
      "check_accuracy(data_loader_test_style_red, vanilla_model)"
     ],
     "language": "python",
     "metadata": {},
     "outputs": [
      {
       "output_type": "stream",
       "stream": "stdout",
       "text": [
        "Got 947 / 10000 correct, accuracy of the dataset is: 9.470 %\n"
       ]
      }
     ],
     "prompt_number": 17
    },
    {
     "cell_type": "markdown",
     "metadata": {},
     "source": [
      "### Testing Large Stylised CIFAR10 on Vanilla ResNet50\n",
      "\n",
      "The below code tests the vanilla ResNet50 model on the reduced stylised CIFAR10 test set and prints out the final accuracy of the model."
     ]
    },
    {
     "cell_type": "code",
     "collapsed": false,
     "input": [
      "# # report test set accuracy\n",
      "# vanilla_model = ResNet50()\n",
      "# vanilla_model.load_state_dict(torch.load('./cifar32_model.pth'))\n",
      "# vanilla_model.to(device)\n",
      "# check_accuracy(data_loader_test_style_big, vanilla_model)"
     ],
     "language": "python",
     "metadata": {},
     "outputs": [],
     "prompt_number": 18
    },
    {
     "cell_type": "markdown",
     "metadata": {},
     "source": [
      "### Testing Normal CIFAR10 on Stylised ResNet50\n",
      "\n",
      "The below code tests the stylised ResNet50 model on the vanilla CIFAR10 test set and prints out the final accuracy of the model."
     ]
    },
    {
     "cell_type": "code",
     "collapsed": false,
     "input": [
      "# # report test set accuracy\n",
      "# stylised_model = ResNet50()\n",
      "# stylised_model.load_state_dict(torch.load('./cifar32_style_model.pth'))\n",
      "# stylised_model.to(device)\n",
      "# check_accuracy(data_loader_test, stylised_model)"
     ],
     "language": "python",
     "metadata": {},
     "outputs": [],
     "prompt_number": 19
    },
    {
     "cell_type": "markdown",
     "metadata": {},
     "source": [
      "### Testing Stylised CIFAR10 on Stylised ResNet50\n",
      "\n",
      "The below code tests the stylised ResNet50 model on the stylised CIFAR10 test set and prints out the final accuracy of the model."
     ]
    },
    {
     "cell_type": "code",
     "collapsed": false,
     "input": [
      "# # report test set accuracy\n",
      "# stylised_model = ResNet50()\n",
      "# stylised_model.load_state_dict(torch.load('./cifar32_style_model.pth'))\n",
      "# stylised_model.to(device)\n",
      "# check_accuracy(data_loader_test_style, stylised_model)"
     ],
     "language": "python",
     "metadata": {},
     "outputs": [],
     "prompt_number": 20
    },
    {
     "cell_type": "markdown",
     "metadata": {},
     "source": [
      "### Testing Normal CIFAR10 on Reduced Stylised ResNet50\n",
      "\n",
      "The below code tests the stylised ResNet50 model on the stylised CIFAR10 test set and prints out the final accuracy of the model."
     ]
    },
    {
     "cell_type": "code",
     "collapsed": false,
     "input": [
      "# # report test set accuracy\n",
      "# red_stylised_model = ResNet50()\n",
      "# red_stylised_model.load_state_dict(torch.load('./cifar32_style_red_model.pth'))\n",
      "# red_stylised_model.to(device)\n",
      "# check_accuracy(data_loader_test, red_stylised_model)"
     ],
     "language": "python",
     "metadata": {},
     "outputs": [],
     "prompt_number": 21
    },
    {
     "cell_type": "markdown",
     "metadata": {},
     "source": [
      "### Testing Reduced Stylised CIFAR10 on Reduced Stylised ResNet50\n",
      "\n",
      "The below code tests the stylised ResNet50 model on the stylised CIFAR10 test set and prints out the final accuracy of the model."
     ]
    },
    {
     "cell_type": "code",
     "collapsed": false,
     "input": [
      "# # report test set accuracy\n",
      "# red_stylised_model = ResNet50()\n",
      "# red_stylised_model.load_state_dict(torch.load('./cifar32_style_red_model.pth'))\n",
      "# red_stylised_model.to(device)\n",
      "# check_accuracy(data_loader_test_style_red, red_stylised_model)"
     ],
     "language": "python",
     "metadata": {},
     "outputs": [],
     "prompt_number": 22
    },
    {
     "cell_type": "markdown",
     "metadata": {},
     "source": [
      "### Testing Normal CIFAR10 on Large Stylised ResNet50\n",
      "\n",
      "The below code tests the stylised ResNet50 model on the stylised CIFAR10 test set and prints out the final accuracy of the model."
     ]
    },
    {
     "cell_type": "code",
     "collapsed": false,
     "input": [
      "# # report test set accuracy\n",
      "# big_stylised_model = ResNet50()\n",
      "# big_stylised_model.load_state_dict(torch.load('./cifar512_style_model.pth'))\n",
      "# big_stylised_model.to(device)\n",
      "# check_accuracy(data_loader_test, big_stylised_model)"
     ],
     "language": "python",
     "metadata": {},
     "outputs": [],
     "prompt_number": 23
    },
    {
     "cell_type": "markdown",
     "metadata": {},
     "source": [
      "### Testing Normal CIFAR10 on Large Stylised ResNet50\n",
      "\n",
      "The below code tests the stylised ResNet50 model on the stylised CIFAR10 test set and prints out the final accuracy of the model."
     ]
    },
    {
     "cell_type": "code",
     "collapsed": false,
     "input": [
      "# # report test set accuracy\n",
      "# big_stylised_model = ResNet50()\n",
      "# big_stylised_model.load_state_dict(torch.load('./cifar512_style_model.pth'))\n",
      "# big_stylised_model.to(device)\n",
      "# check_accuracy(data_loader_test_style_big, big_stylised_model)"
     ],
     "language": "python",
     "metadata": {},
     "outputs": [],
     "prompt_number": 24
    }
   ],
   "metadata": {}
  }
 ]
}
