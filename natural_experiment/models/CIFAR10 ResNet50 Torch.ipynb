{
 "metadata": {
  "kernelspec": {
   "display_name": "Python 3",
   "language": "python",
   "name": "python3"
  },
  "language_info": {
   "codemirror_mode": {
    "name": "ipython",
    "version": 3
   },
   "file_extension": ".py",
   "mimetype": "text/x-python",
   "name": "python",
   "nbconvert_exporter": "python",
   "pygments_lexer": "ipython3",
   "version": "3.7.4"
  },
  "name": ""
 },
 "nbformat": 3,
 "nbformat_minor": 0,
 "worksheets": [
  {
   "cells": [
    {
     "cell_type": "heading",
     "level": 1,
     "metadata": {},
     "source": [
      "Exploring Contextural Bias of ResNet50 on CIFAR10 Dataset"
     ]
    },
    {
     "cell_type": "markdown",
     "metadata": {},
     "source": [
      "### Introduction\n",
      "\n",
      "This notebook trains and tests a vanilla ResNet50 model and a stylised ResNet50 model with the CIFAR10 dataset. It includes functions for loading the dataset, turning them into tensors, model training and testing."
     ]
    },
    {
     "cell_type": "code",
     "collapsed": false,
     "input": [
      "import torch\n",
      "import torchvision\n",
      "import torch.nn as nn\n",
      "import torch.nn.functional as F\n",
      "import torch.optim as optim\n",
      "from torch.nn import Conv2d, AvgPool2d\n",
      "from torch.utils.data import DataLoader, Dataset\n",
      "from torchvision import transforms\n",
      "import os\n",
      "from skimage import io\n",
      "import numpy as np\n",
      "from PIL import Image"
     ],
     "language": "python",
     "metadata": {},
     "outputs": [],
     "prompt_number": 1
    },
    {
     "cell_type": "markdown",
     "metadata": {},
     "source": [
      "### Data Loading\n",
      "\n",
      "The following cell provides a class that loads the CIFAR dataset given the relevant path, processes it into a dictionary format of class labels and content then processes the images into tensors. The class also has helper functions to extract information about the dataset needed for model training and testing."
     ]
    },
    {
     "cell_type": "code",
     "collapsed": false,
     "input": [
      "class CifarDataset(Dataset):\n",
      "    \n",
      "    def __init__(self, data_path):\n",
      "        \n",
      "        super(CifarDataset, self).__init__()\n",
      "        self.data_path = data_path\n",
      "        self.num_classes = 0\n",
      "        self.classes = []\n",
      "        \n",
      "        classes_list = []\n",
      "        for class_name in os.listdir(data_path):\n",
      "            if not os.path.isdir(os.path.join(data_path,class_name)):\n",
      "                continue\n",
      "            classes_list.append(class_name)\n",
      "        classes_list.sort()\n",
      "        self.classes = [dict(class_idx = k, class_name = v) for k, v in enumerate(classes_list)]\n",
      "        \n",
      "\n",
      "        self.num_classes = len(self.classes)\n",
      "\n",
      "        self.image_list = []\n",
      "        for cls in self.classes:\n",
      "            class_path = os.path.join(data_path, cls['class_name'])\n",
      "            for image_name in os.listdir(class_path):\n",
      "                image_path = os.path.join(class_path, image_name)\n",
      "                self.image_list.append(dict(\n",
      "                    cls = cls,\n",
      "                    image_path = image_path,\n",
      "                    image_name = image_name,\n",
      "                ))\n",
      "\n",
      "        self.img_idxes = np.arange(0,len(self.image_list))\n",
      "\n",
      "    def __len__(self):\n",
      "        return len(self.img_idxes)\n",
      "\n",
      "    def __getitem__(self, index):\n",
      "\n",
      "        img_idx = self.img_idxes[index]\n",
      "        img_info = self.image_list[img_idx]\n",
      "\n",
      "        img = Image.open(img_info['image_path'])\n",
      "\n",
      "        tr = transforms.ToTensor()\n",
      "        img = tr(img)\n",
      "        tr = transforms.Normalize((0.4914, 0.4822, 0.4465), (0.2023, 0.1994, 0.2010))\n",
      "        img = tr(img)\n",
      "        return dict(image = img, cls = img_info['cls']['class_idx'], class_name = img_info['cls']['class_name'])\n",
      "\n",
      "    def get_number_of_classes(self):\n",
      "        return self.num_classes\n",
      "\n",
      "    def get_number_of_samples(self):\n",
      "        return self.__len__()\n",
      "\n",
      "    def get_class_names(self):\n",
      "        return [cls['class_name'] for cls in self.classes]\n",
      "\n",
      "    def get_class_name(self, class_idx):\n",
      "        return self.classes[class_idx]['class_name']"
     ],
     "language": "python",
     "metadata": {},
     "outputs": [],
     "prompt_number": 2
    },
    {
     "cell_type": "code",
     "collapsed": false,
     "input": [
      "def get_cifar_datasets(data_path):\n",
      "    dataset = CifarDataset(data_path)\n",
      "    return dataset"
     ],
     "language": "python",
     "metadata": {},
     "outputs": [],
     "prompt_number": 3
    },
    {
     "cell_type": "markdown",
     "metadata": {},
     "source": [
      "The data being used for this experiment are normal CIFAR10 dataset and the stylised version of the CIFAR10 dataset created using AdaIN style transfer.\n",
      "\n",
      "The following cell calls the function created above to load the training, validation and testing datasets of both normal and stylised CIFAR10 and transforms them into data loaders."
     ]
    },
    {
     "cell_type": "code",
     "collapsed": false,
     "input": [
      "# Load normal CIFAR10\n",
      "data_path_train = \"../../CIFAR/cifar32/training\"\n",
      "dataset_train = get_cifar_datasets(data_path_train)\n",
      "\n",
      "data_path_val = \"../../CIFAR/cifar32/validation/\"\n",
      "dataset_val = get_cifar_datasets(data_path_val)\n",
      "\n",
      "data_path_test = \"../../CIFAR/cifar32/testing/\"\n",
      "dataset_test = get_cifar_datasets(data_path_test)\n",
      "\n",
      "print(f\"Number of train samples {dataset_train.__len__()}\")\n",
      "print(\"Class names are: \" + str(dataset_train.get_class_names()))\n",
      "\n",
      "print(f\"Number of val samples {dataset_val.__len__()}\")\n",
      "print(\"Class names are: \" + str(dataset_val.get_class_names()))\n",
      "\n",
      "print(f\"Number of test samples {dataset_test.__len__()}\")\n",
      "print(\"Class names are: \" + str(dataset_test.get_class_names()))\n",
      "\n",
      "BATCH_SIZE = 64\n",
      "\n",
      "data_loader_train = DataLoader(dataset_train, BATCH_SIZE, shuffle = True)\n",
      "data_loader_val = DataLoader(dataset_val, BATCH_SIZE, shuffle = True)\n",
      "data_loader_test = DataLoader(dataset_test, BATCH_SIZE, shuffle = True)"
     ],
     "language": "python",
     "metadata": {},
     "outputs": [
      {
       "output_type": "stream",
       "stream": "stdout",
       "text": [
        "Number of train samples 36000\n",
        "Class names are: ['0000000001', '0000000010', '0000000100', '0000001000', '0000010000', '0000100000', '0001000000', '0010000000', '0100000000', '1000000000']\n",
        "Number of val samples 4000\n",
        "Class names are: ['0000000001', '0000000010', '0000000100', '0000001000', '0000010000', '0000100000', '0001000000', '0010000000', '0100000000', '1000000000']\n",
        "Number of test samples 10000\n",
        "Class names are: ['0000000001', '0000000010', '0000000100', '0000001000', '0000010000', '0000100000', '0001000000', '0010000000', '0100000000', '1000000000']\n"
       ]
      }
     ],
     "prompt_number": 4
    },
    {
     "cell_type": "code",
     "collapsed": false,
     "input": [
      "# Load stylised CIFAR10 with original kaggle images\n",
      "data_path_train_style = \"../../CIFAR/cifar32_style/training\"\n",
      "dataset_train_style = get_cifar_datasets(data_path_train_style)\n",
      "\n",
      "data_path_val_style = \"../../CIFAR/cifar32_style/validation/\"\n",
      "dataset_val_style = get_cifar_datasets(data_path_val_style)\n",
      "\n",
      "data_path_test_style = \"../../CIFAR/cifar32_style/testing/\"\n",
      "dataset_test_style = get_cifar_datasets(data_path_test_style)\n",
      "\n",
      "print(f\"Number of stylised train samples {dataset_train_style.__len__()}\")\n",
      "print(\"Class names are: \" + str(dataset_train_style.get_class_names()))\n",
      "\n",
      "print(f\"Number of stylised val samples {dataset_val_style.__len__()}\")\n",
      "print(\"Class names are: \" + str(dataset_val_style.get_class_names()))\n",
      "\n",
      "print(f\"Number of stylised test samples {dataset_test_style.__len__()}\")\n",
      "print(\"Class names are: \" + str(dataset_test_style.get_class_names()))\n",
      "\n",
      "BATCH_SIZE = 64\n",
      "\n",
      "data_loader_train_style = DataLoader(dataset_train_style, BATCH_SIZE, shuffle = True)\n",
      "data_loader_val_style = DataLoader(dataset_val_style, BATCH_SIZE, shuffle = True)\n",
      "data_loader_test_style = DataLoader(dataset_test_style, BATCH_SIZE, shuffle = True)"
     ],
     "language": "python",
     "metadata": {},
     "outputs": [
      {
       "output_type": "stream",
       "stream": "stdout",
       "text": [
        "Number of stylised train samples 216000\n",
        "Class names are: ['0000000001', '0000000010', '0000000100', '0000001000', '0000010000', '0000100000', '0001000000', '0010000000', '0100000000', '1000000000']\n",
        "Number of stylised val samples 4000\n",
        "Class names are: ['0000000001', '0000000010', '0000000100', '0000001000', '0000010000', '0000100000', '0001000000', '0010000000', '0100000000', '1000000000']\n",
        "Number of stylised test samples 10000\n",
        "Class names are: ['0000000001', '0000000010', '0000000100', '0000001000', '0000010000', '0000100000', '0001000000', '0010000000', '0100000000', '1000000000']\n"
       ]
      }
     ],
     "prompt_number": 5
    },
    {
     "cell_type": "code",
     "collapsed": false,
     "input": [
      "# Load stylised CIFAR10 with reduced kaggle images\n",
      "data_path_train_style_red = \"../../CIFAR/cifar32_style_red/training\"\n",
      "dataset_train_style_red = get_cifar_datasets(data_path_train_style_red)\n",
      "\n",
      "data_path_val_style_red = \"../../CIFAR/cifar32_style_red/validation/\"\n",
      "dataset_val_style_red = get_cifar_datasets(data_path_val_style_red)\n",
      "\n",
      "data_path_test_style_red = \"../../CIFAR/cifar32_style_red/testing/\"\n",
      "dataset_test_style_red = get_cifar_datasets(data_path_test_style_red)\n",
      "\n",
      "print(f\"Number of reduced stylised train samples {dataset_train_style_red.__len__()}\")\n",
      "print(\"Class names are: \" + str(dataset_train_style_red.get_class_names()))\n",
      "\n",
      "print(f\"Number of reduced stylised val samples {dataset_val_style_red.__len__()}\")\n",
      "print(\"Class names are: \" + str(dataset_val_style_red.get_class_names()))\n",
      "\n",
      "print(f\"Number of reduced stylised test samples {dataset_test_style_red.__len__()}\")\n",
      "print(\"Class names are: \" + str(dataset_test_style_red.get_class_names()))\n",
      "\n",
      "BATCH_SIZE = 64\n",
      "\n",
      "data_loader_train_style_red = DataLoader(dataset_train_style_red, BATCH_SIZE, shuffle = True)\n",
      "data_loader_val_style_red = DataLoader(dataset_val_style_red, BATCH_SIZE, shuffle = True)\n",
      "data_loader_test_style_red = DataLoader(dataset_test_style_red, BATCH_SIZE, shuffle = True)"
     ],
     "language": "python",
     "metadata": {},
     "outputs": [
      {
       "output_type": "stream",
       "stream": "stdout",
       "text": [
        "Number of reduced stylised train samples 216000\n",
        "Class names are: ['0000000001', '0000000010', '0000000100', '0000001000', '0000010000', '0000100000', '0001000000', '0010000000', '0100000000', '1000000000']\n",
        "Number of reduced stylised val samples 4000\n",
        "Class names are: ['0000000001', '0000000010', '0000000100', '0000001000', '0000010000', '0000100000', '0001000000', '0010000000', '0100000000', '1000000000']\n",
        "Number of reduced stylised test samples 10000\n",
        "Class names are: ['0000000001', '0000000010', '0000000100', '0000001000', '0000010000', '0000100000', '0001000000', '0010000000', '0100000000', '1000000000']\n"
       ]
      }
     ],
     "prompt_number": 6
    },
    {
     "cell_type": "code",
     "collapsed": false,
     "input": [
      "# Load largely stylised CIFAR10\n",
      "data_path_train_style_big = \"../../CIFAR/cifar512_style/training\"\n",
      "dataset_train_style_big = get_cifar_datasets(data_path_train_style_big)\n",
      "\n",
      "data_path_val_style_big = \"../../CIFAR/cifar512_style/validation/\"\n",
      "dataset_val_style_big = get_cifar_datasets(data_path_val_style_big)\n",
      "\n",
      "data_path_test_style_big = \"../../CIFAR/cifar512_style/testing/\"\n",
      "dataset_test_style_big = get_cifar_datasets(data_path_test_style_big)\n",
      "\n",
      "print(f\"Number of stylised train samples {dataset_train_style_big.__len__()}\")\n",
      "print(\"Class names are: \" + str(dataset_train_style.get_class_names()))\n",
      "\n",
      "print(f\"Number of stylised val samples {dataset_val_style_big.__len__()}\")\n",
      "print(\"Class names are: \" + str(dataset_val_style.get_class_names()))\n",
      "\n",
      "print(f\"Number of stylised test samples {dataset_test_style_big.__len__()}\")\n",
      "print(\"Class names are: \" + str(dataset_test_style.get_class_names()))\n",
      "\n",
      "BATCH_SIZE = 64\n",
      "\n",
      "data_loader_train_style_big = DataLoader(dataset_train_style_big, BATCH_SIZE, shuffle = True)\n",
      "data_loader_val_style_big = DataLoader(dataset_val_style_big, BATCH_SIZE, shuffle = True)\n",
      "data_loader_test_style_big = DataLoader(dataset_test_style_big, BATCH_SIZE, shuffle = True)"
     ],
     "language": "python",
     "metadata": {},
     "outputs": [
      {
       "output_type": "stream",
       "stream": "stdout",
       "text": [
        "Number of stylised train samples 216000\n",
        "Class names are: ['0000000001', '0000000010', '0000000100', '0000001000', '0000010000', '0000100000', '0001000000', '0010000000', '0100000000', '1000000000']\n",
        "Number of stylised val samples 4000\n",
        "Class names are: ['0000000001', '0000000010', '0000000100', '0000001000', '0000010000', '0000100000', '0001000000', '0010000000', '0100000000', '1000000000']\n",
        "Number of stylised test samples 10000\n",
        "Class names are: ['0000000001', '0000000010', '0000000100', '0000001000', '0000010000', '0000100000', '0001000000', '0010000000', '0100000000', '1000000000']\n"
       ]
      }
     ],
     "prompt_number": 7
    },
    {
     "cell_type": "code",
     "collapsed": false,
     "input": [
      "# Check if the data was loaded correctly\n",
      "import matplotlib.pyplot as plt\n",
      "\n",
      "fig, axes = plt.subplots(4,4, figsize=(8, 8))\n",
      "\n",
      "for batch in data_loader_test_style_big:\n",
      "\n",
      "    print(f\"Shape of batch['image'] {batch['image'].shape}\")\n",
      "    print(f\"Shape of batch['cls'] {batch['cls'].shape}\")\n",
      "\n",
      "    for i in range(BATCH_SIZE):\n",
      "        col = i % 4\n",
      "        row = i // 4\n",
      "\n",
      "        img = batch['image'][i].numpy()\n",
      "\n",
      "        axes[row,col].set_axis_off()\n",
      "        axes[row,col].set_title(batch['class_name'][i])\n",
      "        axes[row,col].imshow(np.transpose(img,(1,2,0)))\n",
      "                         \n",
      "        if i >= 15:\n",
      "            break\n",
      "\n",
      "    plt.show()\n",
      "    break"
     ],
     "language": "python",
     "metadata": {},
     "outputs": [
      {
       "output_type": "stream",
       "stream": "stderr",
       "text": [
        "Clipping input data to the valid range for imshow with RGB data ([0..1] for floats or [0..255] for integers).\n"
       ]
      },
      {
       "output_type": "stream",
       "stream": "stderr",
       "text": [
        "Clipping input data to the valid range for imshow with RGB data ([0..1] for floats or [0..255] for integers).\n"
       ]
      },
      {
       "output_type": "stream",
       "stream": "stderr",
       "text": [
        "Clipping input data to the valid range for imshow with RGB data ([0..1] for floats or [0..255] for integers).\n"
       ]
      },
      {
       "output_type": "stream",
       "stream": "stderr",
       "text": [
        "Clipping input data to the valid range for imshow with RGB data ([0..1] for floats or [0..255] for integers).\n"
       ]
      },
      {
       "output_type": "stream",
       "stream": "stderr",
       "text": [
        "Clipping input data to the valid range for imshow with RGB data ([0..1] for floats or [0..255] for integers).\n"
       ]
      },
      {
       "output_type": "stream",
       "stream": "stderr",
       "text": [
        "Clipping input data to the valid range for imshow with RGB data ([0..1] for floats or [0..255] for integers).\n"
       ]
      },
      {
       "output_type": "stream",
       "stream": "stderr",
       "text": [
        "Clipping input data to the valid range for imshow with RGB data ([0..1] for floats or [0..255] for integers).\n"
       ]
      },
      {
       "output_type": "stream",
       "stream": "stderr",
       "text": [
        "Clipping input data to the valid range for imshow with RGB data ([0..1] for floats or [0..255] for integers).\n"
       ]
      },
      {
       "output_type": "stream",
       "stream": "stderr",
       "text": [
        "Clipping input data to the valid range for imshow with RGB data ([0..1] for floats or [0..255] for integers).\n"
       ]
      },
      {
       "output_type": "stream",
       "stream": "stderr",
       "text": [
        "Clipping input data to the valid range for imshow with RGB data ([0..1] for floats or [0..255] for integers).\n"
       ]
      },
      {
       "output_type": "stream",
       "stream": "stderr",
       "text": [
        "Clipping input data to the valid range for imshow with RGB data ([0..1] for floats or [0..255] for integers).\n"
       ]
      },
      {
       "output_type": "stream",
       "stream": "stderr",
       "text": [
        "Clipping input data to the valid range for imshow with RGB data ([0..1] for floats or [0..255] for integers).\n"
       ]
      },
      {
       "output_type": "stream",
       "stream": "stderr",
       "text": [
        "Clipping input data to the valid range for imshow with RGB data ([0..1] for floats or [0..255] for integers).\n"
       ]
      },
      {
       "output_type": "stream",
       "stream": "stderr",
       "text": [
        "Clipping input data to the valid range for imshow with RGB data ([0..1] for floats or [0..255] for integers).\n"
       ]
      },
      {
       "output_type": "stream",
       "stream": "stderr",
       "text": [
        "Clipping input data to the valid range for imshow with RGB data ([0..1] for floats or [0..255] for integers).\n"
       ]
      },
      {
       "output_type": "stream",
       "stream": "stderr",
       "text": [
        "Clipping input data to the valid range for imshow with RGB data ([0..1] for floats or [0..255] for integers).\n"
       ]
      },
      {
       "output_type": "stream",
       "stream": "stdout",
       "text": [
        "Shape of batch['image'] torch.Size([64, 3, 512, 512])\n",
        "Shape of batch['cls'] torch.Size([64])\n"
       ]
      },
      {
       "output_type": "display_data",
       "png": "[encoded data removed]",
       "text": [
        "<Figure size 576x576 with 16 Axes>"
       ]
      }
     ],
     "prompt_number": 8
    },
    {
     "cell_type": "markdown",
     "metadata": {},
     "source": [
      "### Defining ResNet50\n",
      "\n",
      "The following code defines Resnet50 architecture that will be used to train and test the CIFAR dataset."
     ]
    },
    {
     "cell_type": "code",
     "collapsed": false,
     "input": [
      "# # define resnet building blocks\n",
      "# class ResidualBlock(nn.Module): \n",
      "#     expansion = 4\n",
      "    \n",
      "#     def __init__(self, inchannel, outchannel, stride=1): \n",
      "        \n",
      "#         super(ResidualBlock, self).__init__() \n",
      "        \n",
      "#         self.left = nn.Sequential(\n",
      "#             Conv2d(inchannel, outchannel, kernel_size=1, bias=False),\n",
      "#             nn.BatchNorm2d(outchannel),\n",
      "#             nn.ReLU(inplace=True),\n",
      "#             Conv2d(outchannel, outchannel, kernel_size=3, stride=stride, padding=1, bias=False),\n",
      "#             nn.BatchNorm2d(outchannel),\n",
      "#             nn.ReLU(inplace=True),\n",
      "#             Conv2d(outchannel, self.expansion*outchannel, kernel_size=1, bias=False),\n",
      "#             nn.BatchNorm2d(self.expansion*outchannel)\n",
      "#         ) \n",
      "        \n",
      "#         self.shortcut = nn.Sequential()\n",
      "        \n",
      "#         if stride != 1 or inchannel != self.expansion*outchannel: \n",
      "#             self.shortcut = nn.Sequential(\n",
      "#                 Conv2d(inchannel, self.expansion*outchannel, kernel_size=1, stride=stride, bias=False),\n",
      "#                 nn.BatchNorm2d(self.expansion*outchannel)\n",
      "#             ) \n",
      "            \n",
      "#     def forward(self, x): \n",
      "#         out = self.left(x) \n",
      "#         out += self.shortcut(x) \n",
      "#         out = F.relu(out) \n",
      "#         return out\n",
      "\n",
      "    \n",
      "# # define resnet\n",
      "# class ResNet(nn.Module):\n",
      "    \n",
      "#     def __init__(self, ResidualBlock, num_classes = 10):\n",
      "        \n",
      "#         super(ResNet, self).__init__()\n",
      "        \n",
      "#         self.inchannel = 64\n",
      "#         self.conv1 = nn.Sequential(\n",
      "#             Conv2d(3, 64, kernel_size = 3, stride = 1,padding = 1, bias = False),\n",
      "#             nn.BatchNorm2d(64), \n",
      "#             nn.ReLU()\n",
      "#         )\n",
      "#         self.layer1 = self.make_layer(ResidualBlock, 64, 3, stride = 1)\n",
      "#         self.layer2 = self.make_layer(ResidualBlock, 128, 4, stride = 2)\n",
      "#         self.layer3 = self.make_layer(ResidualBlock, 256, 6, stride = 2)\n",
      "#         self.layer4 = self.make_layer(ResidualBlock, 512, 3, stride = 2)\n",
      "#         self.avgpool = AvgPool2d(4)\n",
      "#         self.fc = nn.Linear(512*ResidualBlock.expansion, num_classes)\n",
      "        \n",
      "    \n",
      "#     def make_layer(self, block, channels, num_blocks, stride):\n",
      "        \n",
      "#         strides = [stride] + [1] * (num_blocks - 1)\n",
      "        \n",
      "#         layers = []\n",
      "#         for stride in strides:\n",
      "#             layers.append(block(self.inchannel, channels, stride))\n",
      "#             self.inchannel = channels * block.expansion\n",
      "#         return nn.Sequential(*layers)\n",
      "    \n",
      "    \n",
      "#     def forward(self, x):\n",
      "        \n",
      "#         x = self.conv1(x)\n",
      "#         x = self.layer1(x)\n",
      "#         x = self.layer2(x)\n",
      "#         x = self.layer3(x)\n",
      "#         x = self.layer4(x)\n",
      "#         x = self.avgpool(x)\n",
      "#         x = x.view(x.size(0), -1)\n",
      "#         x = self.fc(x)\n",
      "#         return x\n",
      "    \n",
      "    \n",
      "# def ResNet50():\n",
      "#     return ResNet(ResidualBlock)"
     ],
     "language": "python",
     "metadata": {},
     "outputs": [],
     "prompt_number": 9
    },
    {
     "cell_type": "markdown",
     "metadata": {},
     "source": [
      "Following are the training, validation and testing functions for the experiment. train_part() function trains and updates gradients on each batch of the training set and once that is done, it tests its accuracy on the validation set. Every time the validation test returns a better accuracy than the current maximum, the model is saved and carries on with the next epoch. Then it checks with the learning reate scheduler for any changes in learning rate."
     ]
    },
    {
     "cell_type": "code",
     "collapsed": false,
     "input": [
      "device = torch.device('cuda:6' if torch.cuda.is_available() else 'cpu')\n",
      "print(device)\n",
      "    \n",
      "print_every = 100\n",
      "def check_accuracy(loader, model):\n",
      "    # function for test accuracy on validation and test set\n",
      "    num_correct = 0\n",
      "    num_samples = 0\n",
      "    model.eval()  # set model to evaluation mode\n",
      "    with torch.no_grad():\n",
      "        for i, batch in enumerate(loader, 0):\n",
      "            # get the inputs; data is a list of [inputs, labels]\n",
      "            inputs = batch['image'].to(device)\n",
      "            labels = batch['cls'].to(device)\n",
      "            scores = model(inputs)\n",
      "            _, preds = scores.max(1)\n",
      "            num_correct += (preds == labels).sum()\n",
      "            num_samples += preds.size(0)\n",
      "        acc = float(num_correct) / num_samples\n",
      "        print('Got %d / %d correct, accuracy of the dataset is: %.3f %%' % (num_correct, num_samples, 100 * acc))\n",
      "\n",
      "\n",
      "def train_part(model, train_data, val_data, model_path, optimizer, lr_scheduler, epochs=1):\n",
      "    model.to(device)\n",
      "    val_acc = 0\n",
      "    num_epoch = 2\n",
      "    # Main Loop\n",
      "    for epoch in range(epochs):  # loop over the dataset multiple times\n",
      "        val_loss = 0\n",
      "        running_loss = 0\n",
      "\n",
      "        # Training Loop\n",
      "        for i, batch in enumerate(train_data, 0):\n",
      "            # set model to training mode\n",
      "            model.train()\n",
      "            # get the inputs; data is a list of [inputs, labels]\n",
      "            inputs = batch['image'].to(device)\n",
      "            labels = batch['cls'].to(device)\n",
      "\n",
      "            # get outputs from the input data and calculate the cross entropy loss\n",
      "            scores = model(inputs)\n",
      "            loss = F.cross_entropy(scores, labels)\n",
      "\n",
      "            # zero and update the gradients and optimise\n",
      "            optimizer.zero_grad()\n",
      "            loss.backward()\n",
      "            optimizer.step()\n",
      "\n",
      "            # print statistics\n",
      "            running_loss += loss.item()\n",
      "            if i % 200 == 199:    # print every 200 mini-batches\n",
      "                print('[%d, %5d] loss: %.6f' %\n",
      "                      (epoch + 1, i + 1, running_loss / 200))\n",
      "                running_loss = 0.0\n",
      "\n",
      "        # set model to evaluation mode\n",
      "        model.eval()\n",
      "\n",
      "        # Validation Loop\n",
      "        with torch.no_grad():\n",
      "            num_correct = 0\n",
      "            num_samples = 0\n",
      "            for i, batch in enumerate(val_data, 0):\n",
      "                # get the inputs; data is a list of [inputs, labels]\n",
      "                inputs = batch['image'].to(device)\n",
      "                labels = batch['cls'].to(device)\n",
      "\n",
      "                # get the outputs from the model\n",
      "                outputs = model(inputs)\n",
      "\n",
      "                # compute accuracy based on the outputs\n",
      "                _, preds = outputs.max(1)\n",
      "                num_correct += (preds == labels).sum()\n",
      "                num_samples += preds.size(0)\n",
      "            acc = float(num_correct) / num_samples\n",
      "            print('Got %d / %d correct (%.2f)' % (num_correct, num_samples, 100 * acc))\n",
      "\n",
      "            if acc > val_acc:\n",
      "                print('saving model')\n",
      "                torch.save(model.state_dict(), model_path)\n",
      "                val_acc = acc\n",
      "            else:\n",
      "                print('skip model saving')\n",
      "        lr_scheduler.step()"
     ],
     "language": "python",
     "metadata": {
      "scrolled": true
     },
     "outputs": [
      {
       "output_type": "stream",
       "stream": "stdout",
       "text": [
        "cuda:6\n"
       ]
      }
     ],
     "prompt_number": 10
    },
    {
     "cell_type": "markdown",
     "metadata": {},
     "source": [
      "### Vanilla ResNet50 Training\n",
      "\n",
      "The model used in this experiment is ResNet50 with Adam optimiser with learning rate scheduler and default settings. Learning rate changes every 80, 120, 160, 180th epoch."
     ]
    },
    {
     "cell_type": "code",
     "collapsed": false,
     "input": [
      "torch.cuda.empty_cache()\n",
      "\n",
      "# define and train the network\n",
      "vanilla_model_path_torch = './cifar32_torch.pth'\n",
      "vanilla_model_torch = torchvision.models.resnet50().to(device)\n",
      "lr=0.1\n",
      "vanilla_optimizer_torch = optim.Adam(vanilla_model_torch.parameters(), lr=lr)\n",
      "vanilla_lr_scheduler_torch = optim.lr_scheduler.MultiStepLR(vanilla_optimizer_torch, milestones=[150, 250])\n",
      "train_part(vanilla_model_torch, data_loader_train, data_loader_val, vanilla_model_path_torch, vanilla_optimizer_torch, vanilla_lr_scheduler_torch, epochs = 350)"
     ],
     "language": "python",
     "metadata": {
      "scrolled": true
     },
     "outputs": [
      {
       "output_type": "stream",
       "stream": "stdout",
       "text": [
        "[1,   200] loss: 5.120754\n"
       ]
      },
      {
       "output_type": "stream",
       "stream": "stdout",
       "text": [
        "[1,   400] loss: 2.083088\n"
       ]
      },
      {
       "output_type": "stream",
       "stream": "stdout",
       "text": [
        "Got 1000 / 4000 correct (25.00)\n",
        "saving model\n"
       ]
      },
      {
       "output_type": "stream",
       "stream": "stdout",
       "text": [
        "[2,   200] loss: 1.912940\n"
       ]
      },
      {
       "output_type": "stream",
       "stream": "stdout",
       "text": [
        "[2,   400] loss: 1.863111\n"
       ]
      },
      {
       "output_type": "stream",
       "stream": "stdout",
       "text": [
        "Got 1259 / 4000 correct (31.47)\n",
        "saving model\n"
       ]
      },
      {
       "output_type": "stream",
       "stream": "stdout",
       "text": [
        "[3,   200] loss: 1.793414\n"
       ]
      },
      {
       "output_type": "stream",
       "stream": "stdout",
       "text": [
        "[3,   400] loss: 1.805302\n"
       ]
      },
      {
       "output_type": "stream",
       "stream": "stdout",
       "text": [
        "Got 1380 / 4000 correct (34.50)\n",
        "saving model\n"
       ]
      },
      {
       "output_type": "stream",
       "stream": "stdout",
       "text": [
        "[4,   200] loss: 1.725111\n"
       ]
      },
      {
       "output_type": "stream",
       "stream": "stdout",
       "text": [
        "[4,   400] loss: 1.661929\n"
       ]
      },
      {
       "output_type": "stream",
       "stream": "stdout",
       "text": [
        "Got 1359 / 4000 correct (33.98)\n",
        "skip model saving\n"
       ]
      },
      {
       "output_type": "stream",
       "stream": "stdout",
       "text": [
        "[5,   200] loss: 1.701856\n"
       ]
      },
      {
       "output_type": "stream",
       "stream": "stdout",
       "text": [
        "[5,   400] loss: 1.784539\n"
       ]
      },
      {
       "output_type": "stream",
       "stream": "stdout",
       "text": [
        "Got 1484 / 4000 correct (37.10)\n",
        "saving model\n"
       ]
      },
      {
       "output_type": "stream",
       "stream": "stdout",
       "text": [
        "[6,   200] loss: 1.739745\n"
       ]
      },
      {
       "output_type": "stream",
       "stream": "stdout",
       "text": [
        "[6,   400] loss: 1.781703\n"
       ]
      },
      {
       "output_type": "stream",
       "stream": "stdout",
       "text": [
        "Got 1023 / 4000 correct (25.57)\n",
        "skip model saving\n"
       ]
      },
      {
       "output_type": "stream",
       "stream": "stdout",
       "text": [
        "[7,   200] loss: 1.875532\n"
       ]
      },
      {
       "output_type": "stream",
       "stream": "stdout",
       "text": [
        "[7,   400] loss: 1.748206\n"
       ]
      },
      {
       "output_type": "stream",
       "stream": "stdout",
       "text": [
        "Got 1661 / 4000 correct (41.52)\n",
        "saving model\n"
       ]
      },
      {
       "output_type": "stream",
       "stream": "stdout",
       "text": [
        "[8,   200] loss: 1.677653\n"
       ]
      },
      {
       "output_type": "stream",
       "stream": "stdout",
       "text": [
        "[8,   400] loss: 1.622319\n"
       ]
      },
      {
       "output_type": "stream",
       "stream": "stdout",
       "text": [
        "Got 1008 / 4000 correct (25.20)\n",
        "skip model saving\n"
       ]
      },
      {
       "output_type": "stream",
       "stream": "stdout",
       "text": [
        "[9,   200] loss: 1.638057\n"
       ]
      },
      {
       "output_type": "stream",
       "stream": "stdout",
       "text": [
        "[9,   400] loss: 3.355085\n"
       ]
      },
      {
       "output_type": "stream",
       "stream": "stdout",
       "text": [
        "Got 597 / 4000 correct (14.92)\n",
        "skip model saving\n"
       ]
      },
      {
       "output_type": "stream",
       "stream": "stdout",
       "text": [
        "[10,   200] loss: 2.177975\n"
       ]
      },
      {
       "output_type": "stream",
       "stream": "stdout",
       "text": [
        "[10,   400] loss: 2.118989\n"
       ]
      },
      {
       "output_type": "stream",
       "stream": "stdout",
       "text": [
        "Got 714 / 4000 correct (17.85)\n",
        "skip model saving\n"
       ]
      },
      {
       "output_type": "stream",
       "stream": "stdout",
       "text": [
        "[11,   200] loss: 2.019094\n"
       ]
      },
      {
       "output_type": "stream",
       "stream": "stdout",
       "text": [
        "[11,   400] loss: 1.976886\n"
       ]
      },
      {
       "output_type": "stream",
       "stream": "stdout",
       "text": [
        "Got 746 / 4000 correct (18.65)\n",
        "skip model saving\n"
       ]
      },
      {
       "output_type": "stream",
       "stream": "stdout",
       "text": [
        "[12,   200] loss: 1.947025\n"
       ]
      },
      {
       "output_type": "stream",
       "stream": "stdout",
       "text": [
        "[12,   400] loss: 1.928446\n"
       ]
      },
      {
       "output_type": "stream",
       "stream": "stdout",
       "text": [
        "Got 831 / 4000 correct (20.77)\n",
        "skip model saving\n"
       ]
      },
      {
       "output_type": "stream",
       "stream": "stdout",
       "text": [
        "[13,   200] loss: 1.919252\n"
       ]
      },
      {
       "output_type": "stream",
       "stream": "stdout",
       "text": [
        "[13,   400] loss: 1.911959\n"
       ]
      },
      {
       "output_type": "stream",
       "stream": "stdout",
       "text": [
        "Got 802 / 4000 correct (20.05)\n",
        "skip model saving\n"
       ]
      },
      {
       "output_type": "stream",
       "stream": "stdout",
       "text": [
        "[14,   200] loss: 1.897295\n"
       ]
      },
      {
       "output_type": "stream",
       "stream": "stdout",
       "text": [
        "[14,   400] loss: 1.909969\n"
       ]
      },
      {
       "output_type": "stream",
       "stream": "stdout",
       "text": [
        "Got 839 / 4000 correct (20.97)\n",
        "skip model saving\n"
       ]
      },
      {
       "output_type": "stream",
       "stream": "stdout",
       "text": [
        "[15,   200] loss: 1.864599\n"
       ]
      },
      {
       "output_type": "stream",
       "stream": "stdout",
       "text": [
        "[15,   400] loss: 1.900310\n"
       ]
      },
      {
       "output_type": "stream",
       "stream": "stdout",
       "text": [
        "Got 850 / 4000 correct (21.25)\n",
        "skip model saving\n"
       ]
      },
      {
       "output_type": "stream",
       "stream": "stdout",
       "text": [
        "[16,   200] loss: 1.887072\n"
       ]
      },
      {
       "output_type": "stream",
       "stream": "stdout",
       "text": [
        "[16,   400] loss: 1.868380\n"
       ]
      },
      {
       "output_type": "stream",
       "stream": "stdout",
       "text": [
        "Got 934 / 4000 correct (23.35)\n",
        "skip model saving\n"
       ]
      },
      {
       "output_type": "stream",
       "stream": "stdout",
       "text": [
        "[17,   200] loss: 1.849081\n"
       ]
      },
      {
       "output_type": "stream",
       "stream": "stdout",
       "text": [
        "[17,   400] loss: 1.828891\n"
       ]
      },
      {
       "output_type": "stream",
       "stream": "stdout",
       "text": [
        "Got 995 / 4000 correct (24.88)\n",
        "skip model saving\n"
       ]
      },
      {
       "output_type": "stream",
       "stream": "stdout",
       "text": [
        "[18,   200] loss: 1.819700\n"
       ]
      },
      {
       "output_type": "stream",
       "stream": "stdout",
       "text": [
        "[18,   400] loss: 1.805301\n"
       ]
      },
      {
       "output_type": "stream",
       "stream": "stdout",
       "text": [
        "Got 881 / 4000 correct (22.02)\n",
        "skip model saving\n"
       ]
      },
      {
       "output_type": "stream",
       "stream": "stdout",
       "text": [
        "[19,   200] loss: 1.784455\n"
       ]
      },
      {
       "output_type": "stream",
       "stream": "stdout",
       "text": [
        "[19,   400] loss: 1.771531\n"
       ]
      },
      {
       "output_type": "stream",
       "stream": "stdout",
       "text": [
        "Got 1082 / 4000 correct (27.05)\n",
        "skip model saving\n"
       ]
      },
      {
       "output_type": "stream",
       "stream": "stdout",
       "text": [
        "[20,   200] loss: 1.817863\n"
       ]
      },
      {
       "output_type": "stream",
       "stream": "stdout",
       "text": [
        "[20,   400] loss: 1.780682\n"
       ]
      },
      {
       "output_type": "stream",
       "stream": "stdout",
       "text": [
        "Got 1225 / 4000 correct (30.63)\n",
        "skip model saving\n"
       ]
      },
      {
       "output_type": "stream",
       "stream": "stdout",
       "text": [
        "[21,   200] loss: 1.752395\n"
       ]
      },
      {
       "output_type": "stream",
       "stream": "stdout",
       "text": [
        "[21,   400] loss: 1.776517\n"
       ]
      },
      {
       "output_type": "stream",
       "stream": "stdout",
       "text": [
        "Got 1312 / 4000 correct (32.80)\n",
        "skip model saving\n"
       ]
      },
      {
       "output_type": "stream",
       "stream": "stdout",
       "text": [
        "[22,   200] loss: 1.750770\n"
       ]
      },
      {
       "output_type": "stream",
       "stream": "stdout",
       "text": [
        "[22,   400] loss: 1.726841\n"
       ]
      },
      {
       "output_type": "stream",
       "stream": "stdout",
       "text": [
        "Got 1040 / 4000 correct (26.00)\n",
        "skip model saving\n"
       ]
      },
      {
       "output_type": "stream",
       "stream": "stdout",
       "text": [
        "[23,   200] loss: 1.721357\n"
       ]
      },
      {
       "output_type": "stream",
       "stream": "stdout",
       "text": [
        "[23,   400] loss: 1.717523\n"
       ]
      },
      {
       "output_type": "stream",
       "stream": "stdout",
       "text": [
        "Got 1256 / 4000 correct (31.40)\n",
        "skip model saving\n"
       ]
      },
      {
       "output_type": "stream",
       "stream": "stdout",
       "text": [
        "[24,   200] loss: 1.937649\n"
       ]
      },
      {
       "output_type": "stream",
       "stream": "stdout",
       "text": [
        "[24,   400] loss: 1.811253\n"
       ]
      },
      {
       "output_type": "stream",
       "stream": "stdout",
       "text": [
        "Got 1289 / 4000 correct (32.23)\n",
        "skip model saving\n"
       ]
      },
      {
       "output_type": "stream",
       "stream": "stdout",
       "text": [
        "[25,   200] loss: 1.702024\n"
       ]
      },
      {
       "output_type": "stream",
       "stream": "stdout",
       "text": [
        "[25,   400] loss: 1.713482\n"
       ]
      },
      {
       "output_type": "stream",
       "stream": "stdout",
       "text": [
        "Got 1272 / 4000 correct (31.80)\n",
        "skip model saving\n"
       ]
      },
      {
       "output_type": "stream",
       "stream": "stdout",
       "text": [
        "[26,   200] loss: 1.658232\n"
       ]
      },
      {
       "output_type": "stream",
       "stream": "stdout",
       "text": [
        "[26,   400] loss: 1.686949\n"
       ]
      },
      {
       "output_type": "stream",
       "stream": "stdout",
       "text": [
        "Got 1299 / 4000 correct (32.48)\n",
        "skip model saving\n"
       ]
      },
      {
       "output_type": "stream",
       "stream": "stdout",
       "text": [
        "[27,   200] loss: 1.655457\n"
       ]
      },
      {
       "output_type": "stream",
       "stream": "stdout",
       "text": [
        "[27,   400] loss: 1.735190\n"
       ]
      },
      {
       "output_type": "stream",
       "stream": "stdout",
       "text": [
        "Got 1270 / 4000 correct (31.75)\n",
        "skip model saving\n"
       ]
      },
      {
       "output_type": "stream",
       "stream": "stdout",
       "text": [
        "[28,   200] loss: 1.705803\n"
       ]
      },
      {
       "output_type": "stream",
       "stream": "stdout",
       "text": [
        "[28,   400] loss: 1.717392\n"
       ]
      },
      {
       "output_type": "stream",
       "stream": "stdout",
       "text": [
        "Got 1269 / 4000 correct (31.72)\n",
        "skip model saving\n"
       ]
      },
      {
       "output_type": "stream",
       "stream": "stdout",
       "text": [
        "[29,   200] loss: 1.622279\n"
       ]
      },
      {
       "output_type": "stream",
       "stream": "stdout",
       "text": [
        "[29,   400] loss: 1.661262\n"
       ]
      },
      {
       "output_type": "stream",
       "stream": "stdout",
       "text": [
        "Got 1362 / 4000 correct (34.05)\n",
        "skip model saving\n"
       ]
      },
      {
       "output_type": "stream",
       "stream": "stdout",
       "text": [
        "[30,   200] loss: 1.585224\n"
       ]
      },
      {
       "output_type": "stream",
       "stream": "stdout",
       "text": [
        "[30,   400] loss: 1.650079\n"
       ]
      },
      {
       "output_type": "stream",
       "stream": "stdout",
       "text": [
        "Got 1310 / 4000 correct (32.75)\n",
        "skip model saving\n"
       ]
      },
      {
       "output_type": "stream",
       "stream": "stdout",
       "text": [
        "[31,   200] loss: 1.608765\n"
       ]
      },
      {
       "output_type": "stream",
       "stream": "stdout",
       "text": [
        "[31,   400] loss: 1.603490\n"
       ]
      },
      {
       "output_type": "stream",
       "stream": "stdout",
       "text": [
        "Got 1457 / 4000 correct (36.43)\n",
        "skip model saving\n"
       ]
      },
      {
       "output_type": "stream",
       "stream": "stdout",
       "text": [
        "[32,   200] loss: 1.604913\n"
       ]
      },
      {
       "output_type": "stream",
       "stream": "stdout",
       "text": [
        "[32,   400] loss: 1.600138\n"
       ]
      },
      {
       "output_type": "stream",
       "stream": "stdout",
       "text": [
        "Got 1320 / 4000 correct (33.00)\n",
        "skip model saving\n"
       ]
      },
      {
       "output_type": "stream",
       "stream": "stdout",
       "text": [
        "[33,   200] loss: 1.533136\n"
       ]
      },
      {
       "output_type": "stream",
       "stream": "stdout",
       "text": [
        "[33,   400] loss: 1.548948\n"
       ]
      },
      {
       "output_type": "stream",
       "stream": "stdout",
       "text": [
        "Got 1229 / 4000 correct (30.73)\n",
        "skip model saving\n"
       ]
      },
      {
       "output_type": "stream",
       "stream": "stdout",
       "text": [
        "[34,   200] loss: 1.560065\n"
       ]
      },
      {
       "output_type": "stream",
       "stream": "stdout",
       "text": [
        "[34,   400] loss: 1.535022\n"
       ]
      },
      {
       "output_type": "stream",
       "stream": "stdout",
       "text": [
        "Got 1395 / 4000 correct (34.88)\n",
        "skip model saving\n"
       ]
      },
      {
       "output_type": "stream",
       "stream": "stdout",
       "text": [
        "[35,   200] loss: 1.549432\n"
       ]
      },
      {
       "output_type": "stream",
       "stream": "stdout",
       "text": [
        "[35,   400] loss: 1.520663\n"
       ]
      },
      {
       "output_type": "stream",
       "stream": "stdout",
       "text": [
        "Got 1265 / 4000 correct (31.62)\n",
        "skip model saving\n"
       ]
      },
      {
       "output_type": "stream",
       "stream": "stdout",
       "text": [
        "[36,   200] loss: 1.498364\n"
       ]
      },
      {
       "output_type": "stream",
       "stream": "stdout",
       "text": [
        "[36,   400] loss: 1.537097\n"
       ]
      },
      {
       "output_type": "stream",
       "stream": "stdout",
       "text": [
        "Got 1434 / 4000 correct (35.85)\n",
        "skip model saving\n"
       ]
      },
      {
       "output_type": "stream",
       "stream": "stdout",
       "text": [
        "[37,   200] loss: 1.478542\n"
       ]
      },
      {
       "output_type": "stream",
       "stream": "stdout",
       "text": [
        "[37,   400] loss: 1.540276\n"
       ]
      },
      {
       "output_type": "stream",
       "stream": "stdout",
       "text": [
        "Got 1565 / 4000 correct (39.12)\n",
        "skip model saving\n"
       ]
      },
      {
       "output_type": "stream",
       "stream": "stdout",
       "text": [
        "[38,   200] loss: 1.472309\n"
       ]
      },
      {
       "output_type": "stream",
       "stream": "stdout",
       "text": [
        "[38,   400] loss: 1.545519\n"
       ]
      },
      {
       "output_type": "stream",
       "stream": "stdout",
       "text": [
        "Got 1492 / 4000 correct (37.30)\n",
        "skip model saving\n"
       ]
      },
      {
       "output_type": "stream",
       "stream": "stdout",
       "text": [
        "[39,   200] loss: 1.479791\n"
       ]
      },
      {
       "output_type": "stream",
       "stream": "stdout",
       "text": [
        "[39,   400] loss: 1.447627\n"
       ]
      },
      {
       "output_type": "stream",
       "stream": "stdout",
       "text": [
        "Got 1588 / 4000 correct (39.70)\n",
        "skip model saving\n"
       ]
      },
      {
       "output_type": "stream",
       "stream": "stdout",
       "text": [
        "[40,   200] loss: 1.428485\n"
       ]
      },
      {
       "output_type": "stream",
       "stream": "stdout",
       "text": [
        "[40,   400] loss: 1.425086\n"
       ]
      },
      {
       "output_type": "stream",
       "stream": "stdout",
       "text": [
        "Got 1558 / 4000 correct (38.95)\n",
        "skip model saving\n"
       ]
      },
      {
       "output_type": "stream",
       "stream": "stdout",
       "text": [
        "[41,   200] loss: 1.411904\n"
       ]
      },
      {
       "output_type": "stream",
       "stream": "stdout",
       "text": [
        "[41,   400] loss: 1.426042\n"
       ]
      },
      {
       "output_type": "stream",
       "stream": "stdout",
       "text": [
        "Got 1486 / 4000 correct (37.15)\n",
        "skip model saving\n"
       ]
      },
      {
       "output_type": "stream",
       "stream": "stdout",
       "text": [
        "[42,   200] loss: 1.389847\n"
       ]
      },
      {
       "output_type": "stream",
       "stream": "stdout",
       "text": [
        "[42,   400] loss: 1.390616\n"
       ]
      },
      {
       "output_type": "stream",
       "stream": "stdout",
       "text": [
        "Got 1526 / 4000 correct (38.15)\n",
        "skip model saving\n"
       ]
      },
      {
       "output_type": "stream",
       "stream": "stdout",
       "text": [
        "[43,   200] loss: 1.356892\n"
       ]
      },
      {
       "output_type": "stream",
       "stream": "stdout",
       "text": [
        "[43,   400] loss: 1.425431\n"
       ]
      },
      {
       "output_type": "stream",
       "stream": "stdout",
       "text": [
        "Got 1483 / 4000 correct (37.08)\n",
        "skip model saving\n"
       ]
      },
      {
       "output_type": "stream",
       "stream": "stdout",
       "text": [
        "[44,   200] loss: 1.376979\n"
       ]
      },
      {
       "output_type": "stream",
       "stream": "stdout",
       "text": [
        "[44,   400] loss: 1.354887\n"
       ]
      },
      {
       "output_type": "stream",
       "stream": "stdout",
       "text": [
        "Got 1220 / 4000 correct (30.50)\n",
        "skip model saving\n"
       ]
      },
      {
       "output_type": "stream",
       "stream": "stdout",
       "text": [
        "[45,   200] loss: 1.400247\n"
       ]
      },
      {
       "output_type": "stream",
       "stream": "stdout",
       "text": [
        "[45,   400] loss: 1.331585\n"
       ]
      },
      {
       "output_type": "stream",
       "stream": "stdout",
       "text": [
        "Got 1599 / 4000 correct (39.98)\n",
        "skip model saving\n"
       ]
      },
      {
       "output_type": "stream",
       "stream": "stdout",
       "text": [
        "[46,   200] loss: 1.324902\n"
       ]
      },
      {
       "output_type": "stream",
       "stream": "stdout",
       "text": [
        "[46,   400] loss: 1.335617\n"
       ]
      },
      {
       "output_type": "stream",
       "stream": "stdout",
       "text": [
        "Got 1571 / 4000 correct (39.27)\n",
        "skip model saving\n"
       ]
      },
      {
       "output_type": "stream",
       "stream": "stdout",
       "text": [
        "[47,   200] loss: 1.299120\n"
       ]
      },
      {
       "output_type": "stream",
       "stream": "stdout",
       "text": [
        "[47,   400] loss: 1.321158\n"
       ]
      },
      {
       "output_type": "stream",
       "stream": "stdout",
       "text": [
        "Got 1718 / 4000 correct (42.95)\n",
        "saving model\n"
       ]
      },
      {
       "output_type": "stream",
       "stream": "stdout",
       "text": [
        "[48,   200] loss: 1.300862\n"
       ]
      },
      {
       "output_type": "stream",
       "stream": "stdout",
       "text": [
        "[48,   400] loss: 1.322767\n"
       ]
      },
      {
       "output_type": "stream",
       "stream": "stdout",
       "text": [
        "Got 1671 / 4000 correct (41.77)\n",
        "skip model saving\n"
       ]
      },
      {
       "output_type": "stream",
       "stream": "stdout",
       "text": [
        "[49,   200] loss: 1.340251\n"
       ]
      },
      {
       "output_type": "stream",
       "stream": "stdout",
       "text": [
        "[49,   400] loss: 1.290501\n"
       ]
      },
      {
       "output_type": "stream",
       "stream": "stdout",
       "text": [
        "Got 1676 / 4000 correct (41.90)\n",
        "skip model saving\n"
       ]
      },
      {
       "output_type": "stream",
       "stream": "stdout",
       "text": [
        "[50,   200] loss: 1.270159\n"
       ]
      },
      {
       "output_type": "stream",
       "stream": "stdout",
       "text": [
        "[50,   400] loss: 1.331167\n"
       ]
      },
      {
       "output_type": "stream",
       "stream": "stdout",
       "text": [
        "Got 1043 / 4000 correct (26.07)\n",
        "skip model saving\n"
       ]
      },
      {
       "output_type": "stream",
       "stream": "stdout",
       "text": [
        "[51,   200] loss: 1.239961\n"
       ]
      },
      {
       "output_type": "stream",
       "stream": "stdout",
       "text": [
        "[51,   400] loss: 1.220530\n"
       ]
      },
      {
       "output_type": "stream",
       "stream": "stdout",
       "text": [
        "Got 1733 / 4000 correct (43.33)\n",
        "saving model\n"
       ]
      },
      {
       "output_type": "stream",
       "stream": "stdout",
       "text": [
        "[52,   200] loss: 1.259809\n"
       ]
      },
      {
       "output_type": "stream",
       "stream": "stdout",
       "text": [
        "[52,   400] loss: 1.332188\n"
       ]
      },
      {
       "output_type": "stream",
       "stream": "stdout",
       "text": [
        "Got 1675 / 4000 correct (41.88)\n",
        "skip model saving\n"
       ]
      },
      {
       "output_type": "stream",
       "stream": "stdout",
       "text": [
        "[53,   200] loss: 1.248812\n"
       ]
      },
      {
       "output_type": "stream",
       "stream": "stdout",
       "text": [
        "[53,   400] loss: 1.290531\n"
       ]
      },
      {
       "output_type": "stream",
       "stream": "stdout",
       "text": [
        "Got 1744 / 4000 correct (43.60)\n",
        "saving model\n"
       ]
      },
      {
       "output_type": "stream",
       "stream": "stdout",
       "text": [
        "[54,   200] loss: 1.236096\n"
       ]
      },
      {
       "output_type": "stream",
       "stream": "stdout",
       "text": [
        "[54,   400] loss: 1.266370\n"
       ]
      },
      {
       "output_type": "stream",
       "stream": "stdout",
       "text": [
        "Got 1778 / 4000 correct (44.45)\n",
        "saving model\n"
       ]
      },
      {
       "output_type": "stream",
       "stream": "stdout",
       "text": [
        "[55,   200] loss: 1.203755\n"
       ]
      },
      {
       "output_type": "stream",
       "stream": "stdout",
       "text": [
        "[55,   400] loss: 1.181719\n"
       ]
      },
      {
       "output_type": "stream",
       "stream": "stdout",
       "text": [
        "Got 1759 / 4000 correct (43.97)\n",
        "skip model saving\n"
       ]
      },
      {
       "output_type": "stream",
       "stream": "stdout",
       "text": [
        "[56,   200] loss: 1.179381\n"
       ]
      },
      {
       "output_type": "stream",
       "stream": "stdout",
       "text": [
        "[56,   400] loss: 1.211901\n"
       ]
      },
      {
       "output_type": "stream",
       "stream": "stdout",
       "text": [
        "Got 1507 / 4000 correct (37.67)\n",
        "skip model saving\n"
       ]
      },
      {
       "output_type": "stream",
       "stream": "stdout",
       "text": [
        "[57,   200] loss: 1.212560\n"
       ]
      },
      {
       "output_type": "stream",
       "stream": "stdout",
       "text": [
        "[57,   400] loss: 1.137051\n"
       ]
      },
      {
       "output_type": "stream",
       "stream": "stdout",
       "text": [
        "Got 1790 / 4000 correct (44.75)\n",
        "saving model\n"
       ]
      },
      {
       "output_type": "stream",
       "stream": "stdout",
       "text": [
        "[58,   200] loss: 1.145118\n"
       ]
      },
      {
       "output_type": "stream",
       "stream": "stdout",
       "text": [
        "[58,   400] loss: 1.231073\n"
       ]
      },
      {
       "output_type": "stream",
       "stream": "stdout",
       "text": [
        "Got 1699 / 4000 correct (42.48)\n",
        "skip model saving\n"
       ]
      },
      {
       "output_type": "stream",
       "stream": "stdout",
       "text": [
        "[59,   200] loss: 1.243658\n"
       ]
      },
      {
       "output_type": "stream",
       "stream": "stdout",
       "text": [
        "[59,   400] loss: 1.300588\n"
       ]
      },
      {
       "output_type": "stream",
       "stream": "stdout",
       "text": [
        "Got 1567 / 4000 correct (39.17)\n",
        "skip model saving\n"
       ]
      },
      {
       "output_type": "stream",
       "stream": "stdout",
       "text": [
        "[60,   200] loss: 1.230914\n"
       ]
      },
      {
       "output_type": "stream",
       "stream": "stdout",
       "text": [
        "[60,   400] loss: 1.186955\n"
       ]
      },
      {
       "output_type": "stream",
       "stream": "stdout",
       "text": [
        "Got 1574 / 4000 correct (39.35)\n",
        "skip model saving\n"
       ]
      },
      {
       "output_type": "stream",
       "stream": "stdout",
       "text": [
        "[61,   200] loss: 1.136922\n"
       ]
      },
      {
       "output_type": "stream",
       "stream": "stdout",
       "text": [
        "[61,   400] loss: 1.189455\n"
       ]
      },
      {
       "output_type": "stream",
       "stream": "stdout",
       "text": [
        "Got 1728 / 4000 correct (43.20)\n",
        "skip model saving\n"
       ]
      },
      {
       "output_type": "stream",
       "stream": "stdout",
       "text": [
        "[62,   200] loss: 1.121653\n"
       ]
      },
      {
       "output_type": "stream",
       "stream": "stdout",
       "text": [
        "[62,   400] loss: 1.133477\n"
       ]
      },
      {
       "output_type": "stream",
       "stream": "stdout",
       "text": [
        "Got 1827 / 4000 correct (45.67)\n",
        "saving model\n"
       ]
      },
      {
       "output_type": "stream",
       "stream": "stdout",
       "text": [
        "[63,   200] loss: 1.067313\n"
       ]
      },
      {
       "output_type": "stream",
       "stream": "stdout",
       "text": [
        "[63,   400] loss: 1.346995\n"
       ]
      },
      {
       "output_type": "stream",
       "stream": "stdout",
       "text": [
        "Got 1851 / 4000 correct (46.27)\n",
        "saving model\n"
       ]
      },
      {
       "output_type": "stream",
       "stream": "stdout",
       "text": [
        "[64,   200] loss: 1.076427\n"
       ]
      },
      {
       "output_type": "stream",
       "stream": "stdout",
       "text": [
        "[64,   400] loss: 1.086358\n"
       ]
      },
      {
       "output_type": "stream",
       "stream": "stdout",
       "text": [
        "Got 1563 / 4000 correct (39.07)\n",
        "skip model saving\n"
       ]
      },
      {
       "output_type": "stream",
       "stream": "stdout",
       "text": [
        "[65,   200] loss: 1.080306\n"
       ]
      },
      {
       "output_type": "stream",
       "stream": "stdout",
       "text": [
        "[65,   400] loss: 1.292430\n"
       ]
      },
      {
       "output_type": "stream",
       "stream": "stdout",
       "text": [
        "Got 1667 / 4000 correct (41.68)\n",
        "skip model saving\n"
       ]
      },
      {
       "output_type": "stream",
       "stream": "stdout",
       "text": [
        "[66,   200] loss: 1.060183\n"
       ]
      },
      {
       "output_type": "stream",
       "stream": "stdout",
       "text": [
        "[66,   400] loss: 1.049761\n"
       ]
      },
      {
       "output_type": "stream",
       "stream": "stdout",
       "text": [
        "Got 1694 / 4000 correct (42.35)\n",
        "skip model saving\n"
       ]
      },
      {
       "output_type": "stream",
       "stream": "stdout",
       "text": [
        "[67,   200] loss: 1.030030\n"
       ]
      },
      {
       "output_type": "stream",
       "stream": "stdout",
       "text": [
        "[67,   400] loss: 1.026121\n"
       ]
      },
      {
       "output_type": "stream",
       "stream": "stdout",
       "text": [
        "Got 1233 / 4000 correct (30.83)\n",
        "skip model saving\n"
       ]
      },
      {
       "output_type": "stream",
       "stream": "stdout",
       "text": [
        "[68,   200] loss: 1.036238\n"
       ]
      },
      {
       "output_type": "stream",
       "stream": "stdout",
       "text": [
        "[68,   400] loss: 1.101205\n"
       ]
      },
      {
       "output_type": "stream",
       "stream": "stdout",
       "text": [
        "Got 1623 / 4000 correct (40.58)\n",
        "skip model saving\n"
       ]
      },
      {
       "output_type": "stream",
       "stream": "stdout",
       "text": [
        "[69,   200] loss: 1.061699\n"
       ]
      },
      {
       "output_type": "stream",
       "stream": "stdout",
       "text": [
        "[69,   400] loss: 1.420889\n"
       ]
      },
      {
       "output_type": "stream",
       "stream": "stdout",
       "text": [
        "Got 1556 / 4000 correct (38.90)\n",
        "skip model saving\n"
       ]
      },
      {
       "output_type": "stream",
       "stream": "stdout",
       "text": [
        "[70,   200] loss: 1.257229\n"
       ]
      },
      {
       "output_type": "stream",
       "stream": "stdout",
       "text": [
        "[70,   400] loss: 1.198120\n"
       ]
      },
      {
       "output_type": "stream",
       "stream": "stdout",
       "text": [
        "Got 1726 / 4000 correct (43.15)\n",
        "skip model saving\n"
       ]
      },
      {
       "output_type": "stream",
       "stream": "stdout",
       "text": [
        "[71,   200] loss: 1.099048\n"
       ]
      },
      {
       "output_type": "stream",
       "stream": "stdout",
       "text": [
        "[71,   400] loss: 1.015111\n"
       ]
      },
      {
       "output_type": "stream",
       "stream": "stdout",
       "text": [
        "Got 1924 / 4000 correct (48.10)\n",
        "saving model\n"
       ]
      },
      {
       "output_type": "stream",
       "stream": "stdout",
       "text": [
        "[72,   200] loss: 1.005648\n"
       ]
      },
      {
       "output_type": "stream",
       "stream": "stdout",
       "text": [
        "[72,   400] loss: 1.027519\n"
       ]
      },
      {
       "output_type": "stream",
       "stream": "stdout",
       "text": [
        "Got 1745 / 4000 correct (43.62)\n",
        "skip model saving\n"
       ]
      },
      {
       "output_type": "stream",
       "stream": "stdout",
       "text": [
        "[73,   200] loss: 0.964220\n"
       ]
      },
      {
       "output_type": "stream",
       "stream": "stdout",
       "text": [
        "[73,   400] loss: 1.013812\n"
       ]
      },
      {
       "output_type": "stream",
       "stream": "stdout",
       "text": [
        "Got 1806 / 4000 correct (45.15)\n",
        "skip model saving\n"
       ]
      },
      {
       "output_type": "stream",
       "stream": "stdout",
       "text": [
        "[74,   200] loss: 0.943257\n"
       ]
      },
      {
       "output_type": "stream",
       "stream": "stdout",
       "text": [
        "[74,   400] loss: 0.969779\n"
       ]
      },
      {
       "output_type": "stream",
       "stream": "stdout",
       "text": [
        "Got 1625 / 4000 correct (40.62)\n",
        "skip model saving\n"
       ]
      },
      {
       "output_type": "stream",
       "stream": "stdout",
       "text": [
        "[75,   200] loss: 1.017223\n"
       ]
      },
      {
       "output_type": "stream",
       "stream": "stdout",
       "text": [
        "[75,   400] loss: 0.955888\n"
       ]
      },
      {
       "output_type": "stream",
       "stream": "stdout",
       "text": [
        "Got 1877 / 4000 correct (46.92)\n",
        "skip model saving\n"
       ]
      },
      {
       "output_type": "stream",
       "stream": "stdout",
       "text": [
        "[76,   200] loss: 0.990199\n"
       ]
      },
      {
       "output_type": "stream",
       "stream": "stdout",
       "text": [
        "[76,   400] loss: 0.942442\n"
       ]
      },
      {
       "output_type": "stream",
       "stream": "stdout",
       "text": [
        "Got 1512 / 4000 correct (37.80)\n",
        "skip model saving\n"
       ]
      },
      {
       "output_type": "stream",
       "stream": "stdout",
       "text": [
        "[77,   200] loss: 1.228200\n"
       ]
      },
      {
       "output_type": "stream",
       "stream": "stdout",
       "text": [
        "[77,   400] loss: 1.035396\n"
       ]
      },
      {
       "output_type": "stream",
       "stream": "stdout",
       "text": [
        "Got 1761 / 4000 correct (44.02)\n",
        "skip model saving\n"
       ]
      },
      {
       "output_type": "stream",
       "stream": "stdout",
       "text": [
        "[78,   200] loss: 0.926949\n"
       ]
      },
      {
       "output_type": "stream",
       "stream": "stdout",
       "text": [
        "[78,   400] loss: 1.065857\n"
       ]
      },
      {
       "output_type": "stream",
       "stream": "stdout",
       "text": [
        "Got 1554 / 4000 correct (38.85)\n",
        "skip model saving\n"
       ]
      },
      {
       "output_type": "stream",
       "stream": "stdout",
       "text": [
        "[79,   200] loss: 1.001930\n"
       ]
      },
      {
       "output_type": "stream",
       "stream": "stdout",
       "text": [
        "[79,   400] loss: 0.934987\n"
       ]
      },
      {
       "output_type": "stream",
       "stream": "stdout",
       "text": [
        "Got 1895 / 4000 correct (47.38)\n",
        "skip model saving\n"
       ]
      },
      {
       "output_type": "stream",
       "stream": "stdout",
       "text": [
        "[80,   200] loss: 0.930173\n"
       ]
      },
      {
       "output_type": "stream",
       "stream": "stdout",
       "text": [
        "[80,   400] loss: 1.050572\n"
       ]
      },
      {
       "output_type": "stream",
       "stream": "stdout",
       "text": [
        "Got 1243 / 4000 correct (31.08)\n",
        "skip model saving\n"
       ]
      },
      {
       "output_type": "stream",
       "stream": "stdout",
       "text": [
        "[81,   200] loss: 1.024580\n"
       ]
      },
      {
       "output_type": "stream",
       "stream": "stdout",
       "text": [
        "[81,   400] loss: 0.934036\n"
       ]
      },
      {
       "output_type": "stream",
       "stream": "stdout",
       "text": [
        "Got 1854 / 4000 correct (46.35)\n",
        "skip model saving\n"
       ]
      },
      {
       "output_type": "stream",
       "stream": "stdout",
       "text": [
        "[82,   200] loss: 0.886909\n"
       ]
      },
      {
       "output_type": "stream",
       "stream": "stdout",
       "text": [
        "[82,   400] loss: 0.989846\n"
       ]
      },
      {
       "output_type": "stream",
       "stream": "stdout",
       "text": [
        "Got 1830 / 4000 correct (45.75)\n",
        "skip model saving\n"
       ]
      },
      {
       "output_type": "stream",
       "stream": "stdout",
       "text": [
        "[83,   200] loss: 0.853352\n"
       ]
      },
      {
       "output_type": "stream",
       "stream": "stdout",
       "text": [
        "[83,   400] loss: 1.079576\n"
       ]
      },
      {
       "output_type": "stream",
       "stream": "stdout",
       "text": [
        "Got 1821 / 4000 correct (45.52)\n",
        "skip model saving\n"
       ]
      },
      {
       "output_type": "stream",
       "stream": "stdout",
       "text": [
        "[84,   200] loss: 0.890227\n"
       ]
      },
      {
       "output_type": "stream",
       "stream": "stdout",
       "text": [
        "[84,   400] loss: 1.087628\n"
       ]
      },
      {
       "output_type": "stream",
       "stream": "stdout",
       "text": [
        "Got 1857 / 4000 correct (46.42)\n",
        "skip model saving\n"
       ]
      },
      {
       "output_type": "stream",
       "stream": "stdout",
       "text": [
        "[85,   200] loss: 1.027307\n"
       ]
      },
      {
       "output_type": "stream",
       "stream": "stdout",
       "text": [
        "[85,   400] loss: 0.939661\n"
       ]
      },
      {
       "output_type": "stream",
       "stream": "stdout",
       "text": [
        "Got 1858 / 4000 correct (46.45)\n",
        "skip model saving\n"
       ]
      },
      {
       "output_type": "stream",
       "stream": "stdout",
       "text": [
        "[86,   200] loss: 0.847353\n"
       ]
      },
      {
       "output_type": "stream",
       "stream": "stdout",
       "text": [
        "[86,   400] loss: 0.844567\n"
       ]
      },
      {
       "output_type": "stream",
       "stream": "stdout",
       "text": [
        "Got 1824 / 4000 correct (45.60)\n",
        "skip model saving\n"
       ]
      },
      {
       "output_type": "stream",
       "stream": "stdout",
       "text": [
        "[87,   200] loss: 0.834219\n"
       ]
      },
      {
       "output_type": "stream",
       "stream": "stdout",
       "text": [
        "[87,   400] loss: 0.873494\n"
       ]
      },
      {
       "output_type": "stream",
       "stream": "stdout",
       "text": [
        "Got 1808 / 4000 correct (45.20)\n",
        "skip model saving\n"
       ]
      },
      {
       "output_type": "stream",
       "stream": "stdout",
       "text": [
        "[88,   200] loss: 0.931609\n"
       ]
      },
      {
       "output_type": "stream",
       "stream": "stdout",
       "text": [
        "[88,   400] loss: 0.899814\n"
       ]
      },
      {
       "output_type": "stream",
       "stream": "stdout",
       "text": [
        "Got 1814 / 4000 correct (45.35)\n",
        "skip model saving\n"
       ]
      },
      {
       "output_type": "stream",
       "stream": "stdout",
       "text": [
        "[89,   200] loss: 0.832646\n"
       ]
      },
      {
       "output_type": "stream",
       "stream": "stdout",
       "text": [
        "[89,   400] loss: 0.871519\n"
       ]
      },
      {
       "output_type": "stream",
       "stream": "stdout",
       "text": [
        "Got 1825 / 4000 correct (45.62)\n",
        "skip model saving\n"
       ]
      },
      {
       "output_type": "stream",
       "stream": "stdout",
       "text": [
        "[90,   200] loss: 1.019665\n"
       ]
      },
      {
       "output_type": "stream",
       "stream": "stdout",
       "text": [
        "[90,   400] loss: 0.990762\n"
       ]
      },
      {
       "output_type": "stream",
       "stream": "stdout",
       "text": [
        "Got 1424 / 4000 correct (35.60)\n",
        "skip model saving\n"
       ]
      },
      {
       "output_type": "stream",
       "stream": "stdout",
       "text": [
        "[91,   200] loss: 0.885524\n"
       ]
      },
      {
       "output_type": "stream",
       "stream": "stdout",
       "text": [
        "[91,   400] loss: 0.873142\n"
       ]
      },
      {
       "output_type": "stream",
       "stream": "stdout",
       "text": [
        "Got 1943 / 4000 correct (48.58)\n",
        "saving model\n"
       ]
      },
      {
       "output_type": "stream",
       "stream": "stdout",
       "text": [
        "[92,   200] loss: 0.820838\n"
       ]
      },
      {
       "output_type": "stream",
       "stream": "stdout",
       "text": [
        "[92,   400] loss: 0.816713\n"
       ]
      },
      {
       "output_type": "stream",
       "stream": "stdout",
       "text": [
        "Got 1802 / 4000 correct (45.05)\n",
        "skip model saving\n"
       ]
      },
      {
       "output_type": "stream",
       "stream": "stdout",
       "text": [
        "[93,   200] loss: 0.764978\n"
       ]
      },
      {
       "output_type": "stream",
       "stream": "stdout",
       "text": [
        "[93,   400] loss: 1.039545\n"
       ]
      },
      {
       "output_type": "stream",
       "stream": "stdout",
       "text": [
        "Got 1880 / 4000 correct (47.00)\n",
        "skip model saving\n"
       ]
      },
      {
       "output_type": "stream",
       "stream": "stdout",
       "text": [
        "[94,   200] loss: 0.805738\n"
       ]
      },
      {
       "output_type": "stream",
       "stream": "stdout",
       "text": [
        "[94,   400] loss: 0.852329\n"
       ]
      },
      {
       "output_type": "stream",
       "stream": "stdout",
       "text": [
        "Got 1958 / 4000 correct (48.95)\n",
        "saving model\n"
       ]
      },
      {
       "output_type": "stream",
       "stream": "stdout",
       "text": [
        "[95,   200] loss: 0.772042\n"
       ]
      },
      {
       "output_type": "stream",
       "stream": "stdout",
       "text": [
        "[95,   400] loss: 0.885208\n"
       ]
      },
      {
       "output_type": "stream",
       "stream": "stdout",
       "text": [
        "Got 1830 / 4000 correct (45.75)\n",
        "skip model saving\n"
       ]
      },
      {
       "output_type": "stream",
       "stream": "stdout",
       "text": [
        "[96,   200] loss: 0.802686\n"
       ]
      },
      {
       "output_type": "stream",
       "stream": "stdout",
       "text": [
        "[96,   400] loss: 0.813859\n"
       ]
      },
      {
       "output_type": "stream",
       "stream": "stdout",
       "text": [
        "Got 1585 / 4000 correct (39.62)\n",
        "skip model saving\n"
       ]
      },
      {
       "output_type": "stream",
       "stream": "stdout",
       "text": [
        "[97,   200] loss: 0.867297\n"
       ]
      },
      {
       "output_type": "stream",
       "stream": "stdout",
       "text": [
        "[97,   400] loss: 0.844639\n"
       ]
      },
      {
       "output_type": "stream",
       "stream": "stdout",
       "text": [
        "Got 1866 / 4000 correct (46.65)\n",
        "skip model saving\n"
       ]
      },
      {
       "output_type": "stream",
       "stream": "stdout",
       "text": [
        "[98,   200] loss: 0.768014\n"
       ]
      },
      {
       "output_type": "stream",
       "stream": "stdout",
       "text": [
        "[98,   400] loss: 0.900642\n"
       ]
      },
      {
       "output_type": "stream",
       "stream": "stdout",
       "text": [
        "Got 1541 / 4000 correct (38.52)\n",
        "skip model saving\n"
       ]
      },
      {
       "output_type": "stream",
       "stream": "stdout",
       "text": [
        "[99,   200] loss: 0.930814\n"
       ]
      },
      {
       "output_type": "stream",
       "stream": "stdout",
       "text": [
        "[99,   400] loss: 0.852001\n"
       ]
      },
      {
       "output_type": "stream",
       "stream": "stdout",
       "text": [
        "Got 1912 / 4000 correct (47.80)\n",
        "skip model saving\n"
       ]
      },
      {
       "output_type": "stream",
       "stream": "stdout",
       "text": [
        "[100,   200] loss: 0.732829\n"
       ]
      },
      {
       "output_type": "stream",
       "stream": "stdout",
       "text": [
        "[100,   400] loss: 0.762707\n"
       ]
      },
      {
       "output_type": "stream",
       "stream": "stdout",
       "text": [
        "Got 1902 / 4000 correct (47.55)\n",
        "skip model saving\n"
       ]
      },
      {
       "output_type": "stream",
       "stream": "stdout",
       "text": [
        "[101,   200] loss: 0.714253\n"
       ]
      },
      {
       "output_type": "stream",
       "stream": "stdout",
       "text": [
        "[101,   400] loss: 0.743354\n"
       ]
      },
      {
       "output_type": "stream",
       "stream": "stdout",
       "text": [
        "Got 1868 / 4000 correct (46.70)\n",
        "skip model saving\n"
       ]
      },
      {
       "output_type": "stream",
       "stream": "stdout",
       "text": [
        "[102,   200] loss: 0.875724\n"
       ]
      },
      {
       "output_type": "stream",
       "stream": "stdout",
       "text": [
        "[102,   400] loss: 1.005293\n"
       ]
      },
      {
       "output_type": "stream",
       "stream": "stdout",
       "text": [
        "Got 1552 / 4000 correct (38.80)\n",
        "skip model saving\n"
       ]
      },
      {
       "output_type": "stream",
       "stream": "stdout",
       "text": [
        "[103,   200] loss: 1.117232\n"
       ]
      },
      {
       "output_type": "stream",
       "stream": "stdout",
       "text": [
        "[103,   400] loss: 0.903902\n"
       ]
      },
      {
       "output_type": "stream",
       "stream": "stdout",
       "text": [
        "Got 1881 / 4000 correct (47.02)\n",
        "skip model saving\n"
       ]
      },
      {
       "output_type": "stream",
       "stream": "stdout",
       "text": [
        "[104,   200] loss: 0.752805\n"
       ]
      },
      {
       "output_type": "stream",
       "stream": "stdout",
       "text": [
        "[104,   400] loss: 0.792772\n"
       ]
      },
      {
       "output_type": "stream",
       "stream": "stdout",
       "text": [
        "Got 1705 / 4000 correct (42.62)\n",
        "skip model saving\n"
       ]
      },
      {
       "output_type": "stream",
       "stream": "stdout",
       "text": [
        "[105,   200] loss: 1.053199\n"
       ]
      },
      {
       "output_type": "stream",
       "stream": "stdout",
       "text": [
        "[105,   400] loss: 1.071305\n"
       ]
      },
      {
       "output_type": "stream",
       "stream": "stdout",
       "text": [
        "Got 1853 / 4000 correct (46.33)\n",
        "skip model saving\n"
       ]
      },
      {
       "output_type": "stream",
       "stream": "stdout",
       "text": [
        "[106,   200] loss: 0.834041\n"
       ]
      },
      {
       "output_type": "stream",
       "stream": "stdout",
       "text": [
        "[106,   400] loss: 1.019885\n"
       ]
      },
      {
       "output_type": "stream",
       "stream": "stdout",
       "text": [
        "Got 1948 / 4000 correct (48.70)\n",
        "skip model saving\n"
       ]
      },
      {
       "output_type": "stream",
       "stream": "stdout",
       "text": [
        "[107,   200] loss: 0.832975\n"
       ]
      },
      {
       "output_type": "stream",
       "stream": "stdout",
       "text": [
        "[107,   400] loss: 0.845598\n"
       ]
      },
      {
       "output_type": "stream",
       "stream": "stdout",
       "text": [
        "Got 1977 / 4000 correct (49.43)\n",
        "saving model\n"
       ]
      },
      {
       "output_type": "stream",
       "stream": "stdout",
       "text": [
        "[108,   200] loss: 0.703980\n"
       ]
      },
      {
       "output_type": "stream",
       "stream": "stdout",
       "text": [
        "[108,   400] loss: 0.824917\n"
       ]
      },
      {
       "output_type": "stream",
       "stream": "stdout",
       "text": [
        "Got 1686 / 4000 correct (42.15)\n",
        "skip model saving\n"
       ]
      },
      {
       "output_type": "stream",
       "stream": "stdout",
       "text": [
        "[109,   200] loss: 0.902263\n"
       ]
      },
      {
       "output_type": "stream",
       "stream": "stdout",
       "text": [
        "[109,   400] loss: 0.811870\n"
       ]
      },
      {
       "output_type": "stream",
       "stream": "stdout",
       "text": [
        "Got 1882 / 4000 correct (47.05)\n",
        "skip model saving\n"
       ]
      },
      {
       "output_type": "stream",
       "stream": "stdout",
       "text": [
        "[110,   200] loss: 0.730984\n"
       ]
      },
      {
       "output_type": "stream",
       "stream": "stdout",
       "text": [
        "[110,   400] loss: 0.724712\n"
       ]
      },
      {
       "output_type": "stream",
       "stream": "stdout",
       "text": [
        "Got 1914 / 4000 correct (47.85)\n",
        "skip model saving\n"
       ]
      },
      {
       "output_type": "stream",
       "stream": "stdout",
       "text": [
        "[111,   200] loss: 0.678008\n"
       ]
      },
      {
       "output_type": "stream",
       "stream": "stdout",
       "text": [
        "[111,   400] loss: 0.752876\n"
       ]
      },
      {
       "output_type": "stream",
       "stream": "stdout",
       "text": [
        "Got 1859 / 4000 correct (46.48)\n",
        "skip model saving\n"
       ]
      },
      {
       "output_type": "stream",
       "stream": "stdout",
       "text": [
        "[112,   200] loss: 0.792059\n"
       ]
      },
      {
       "output_type": "stream",
       "stream": "stdout",
       "text": [
        "[112,   400] loss: 0.720716\n"
       ]
      },
      {
       "output_type": "stream",
       "stream": "stdout",
       "text": [
        "Got 1907 / 4000 correct (47.67)\n",
        "skip model saving\n"
       ]
      },
      {
       "output_type": "stream",
       "stream": "stdout",
       "text": [
        "[113,   200] loss: 0.691673\n"
       ]
      },
      {
       "output_type": "stream",
       "stream": "stdout",
       "text": [
        "[113,   400] loss: 0.794998\n"
       ]
      },
      {
       "output_type": "stream",
       "stream": "stdout",
       "text": [
        "Got 1907 / 4000 correct (47.67)\n",
        "skip model saving\n"
       ]
      },
      {
       "output_type": "stream",
       "stream": "stdout",
       "text": [
        "[114,   200] loss: 0.728846\n"
       ]
      },
      {
       "output_type": "stream",
       "stream": "stdout",
       "text": [
        "[114,   400] loss: 0.683145\n"
       ]
      },
      {
       "output_type": "stream",
       "stream": "stdout",
       "text": [
        "Got 1784 / 4000 correct (44.60)\n",
        "skip model saving\n"
       ]
      },
      {
       "output_type": "stream",
       "stream": "stdout",
       "text": [
        "[115,   200] loss: 1.008343\n"
       ]
      },
      {
       "output_type": "stream",
       "stream": "stdout",
       "text": [
        "[115,   400] loss: 0.848740\n"
       ]
      },
      {
       "output_type": "stream",
       "stream": "stdout",
       "text": [
        "Got 1935 / 4000 correct (48.38)\n",
        "skip model saving\n"
       ]
      },
      {
       "output_type": "stream",
       "stream": "stdout",
       "text": [
        "[116,   200] loss: 0.753727\n"
       ]
      },
      {
       "output_type": "stream",
       "stream": "stdout",
       "text": [
        "[116,   400] loss: 0.785649\n"
       ]
      },
      {
       "output_type": "stream",
       "stream": "stdout",
       "text": [
        "Got 1885 / 4000 correct (47.12)\n",
        "skip model saving\n"
       ]
      },
      {
       "output_type": "stream",
       "stream": "stdout",
       "text": [
        "[117,   200] loss: 0.719779\n"
       ]
      },
      {
       "output_type": "stream",
       "stream": "stdout",
       "text": [
        "[117,   400] loss: 0.776244\n"
       ]
      },
      {
       "output_type": "stream",
       "stream": "stdout",
       "text": [
        "Got 1942 / 4000 correct (48.55)\n",
        "skip model saving\n"
       ]
      },
      {
       "output_type": "stream",
       "stream": "stdout",
       "text": [
        "[118,   200] loss: 0.663434\n"
       ]
      },
      {
       "output_type": "stream",
       "stream": "stdout",
       "text": [
        "[118,   400] loss: 0.684948\n"
       ]
      },
      {
       "output_type": "stream",
       "stream": "stdout",
       "text": [
        "Got 1947 / 4000 correct (48.68)\n",
        "skip model saving\n"
       ]
      },
      {
       "output_type": "stream",
       "stream": "stdout",
       "text": [
        "[119,   200] loss: 0.685353\n"
       ]
      },
      {
       "output_type": "stream",
       "stream": "stdout",
       "text": [
        "[119,   400] loss: 0.681441\n"
       ]
      },
      {
       "output_type": "stream",
       "stream": "stdout",
       "text": [
        "Got 1700 / 4000 correct (42.50)\n",
        "skip model saving\n"
       ]
      },
      {
       "output_type": "stream",
       "stream": "stdout",
       "text": [
        "[120,   200] loss: 0.952594\n"
       ]
      },
      {
       "output_type": "stream",
       "stream": "stdout",
       "text": [
        "[120,   400] loss: 0.834114\n"
       ]
      },
      {
       "output_type": "stream",
       "stream": "stdout",
       "text": [
        "Got 1635 / 4000 correct (40.88)\n",
        "skip model saving\n"
       ]
      },
      {
       "output_type": "stream",
       "stream": "stdout",
       "text": [
        "[121,   200] loss: 0.717431\n"
       ]
      },
      {
       "output_type": "stream",
       "stream": "stdout",
       "text": [
        "[121,   400] loss: 0.680960\n"
       ]
      },
      {
       "output_type": "stream",
       "stream": "stdout",
       "text": [
        "Got 1931 / 4000 correct (48.27)\n",
        "skip model saving\n"
       ]
      },
      {
       "output_type": "stream",
       "stream": "stdout",
       "text": [
        "[122,   200] loss: 0.719775\n"
       ]
      },
      {
       "output_type": "stream",
       "stream": "stdout",
       "text": [
        "[122,   400] loss: 0.779153\n"
       ]
      },
      {
       "output_type": "stream",
       "stream": "stdout",
       "text": [
        "Got 1983 / 4000 correct (49.58)\n",
        "saving model\n"
       ]
      },
      {
       "output_type": "stream",
       "stream": "stdout",
       "text": [
        "[123,   200] loss: 0.667593\n"
       ]
      },
      {
       "output_type": "stream",
       "stream": "stdout",
       "text": [
        "[123,   400] loss: 0.653079\n"
       ]
      },
      {
       "output_type": "stream",
       "stream": "stdout",
       "text": [
        "Got 1986 / 4000 correct (49.65)\n",
        "saving model\n"
       ]
      },
      {
       "output_type": "stream",
       "stream": "stdout",
       "text": [
        "[124,   200] loss: 0.630551\n"
       ]
      },
      {
       "output_type": "stream",
       "stream": "stdout",
       "text": [
        "[124,   400] loss: 0.616203\n"
       ]
      },
      {
       "output_type": "stream",
       "stream": "stdout",
       "text": [
        "Got 1806 / 4000 correct (45.15)\n",
        "skip model saving\n"
       ]
      },
      {
       "output_type": "stream",
       "stream": "stdout",
       "text": [
        "[125,   200] loss: 0.764933\n"
       ]
      },
      {
       "output_type": "stream",
       "stream": "stdout",
       "text": [
        "[125,   400] loss: 0.890464\n"
       ]
      },
      {
       "output_type": "stream",
       "stream": "stdout",
       "text": [
        "Got 1934 / 4000 correct (48.35)\n",
        "skip model saving\n"
       ]
      },
      {
       "output_type": "stream",
       "stream": "stdout",
       "text": [
        "[126,   200] loss: 0.827790\n"
       ]
      },
      {
       "output_type": "stream",
       "stream": "stdout",
       "text": [
        "[126,   400] loss: 0.782676\n"
       ]
      },
      {
       "output_type": "stream",
       "stream": "stdout",
       "text": [
        "Got 1921 / 4000 correct (48.02)\n",
        "skip model saving\n"
       ]
      },
      {
       "output_type": "stream",
       "stream": "stdout",
       "text": [
        "[127,   200] loss: 0.696436\n"
       ]
      },
      {
       "output_type": "stream",
       "stream": "stdout",
       "text": [
        "[127,   400] loss: 0.688953\n"
       ]
      },
      {
       "output_type": "stream",
       "stream": "stdout",
       "text": [
        "Got 1878 / 4000 correct (46.95)\n",
        "skip model saving\n"
       ]
      },
      {
       "output_type": "stream",
       "stream": "stdout",
       "text": [
        "[128,   200] loss: 0.692693\n"
       ]
      },
      {
       "output_type": "stream",
       "stream": "stdout",
       "text": [
        "[128,   400] loss: 0.647219\n"
       ]
      },
      {
       "output_type": "stream",
       "stream": "stdout",
       "text": [
        "Got 1958 / 4000 correct (48.95)\n",
        "skip model saving\n"
       ]
      },
      {
       "output_type": "stream",
       "stream": "stdout",
       "text": [
        "[129,   200] loss: 0.920430\n"
       ]
      },
      {
       "output_type": "stream",
       "stream": "stdout",
       "text": [
        "[129,   400] loss: 0.822965\n"
       ]
      },
      {
       "output_type": "stream",
       "stream": "stdout",
       "text": [
        "Got 1954 / 4000 correct (48.85)\n",
        "skip model saving\n"
       ]
      },
      {
       "output_type": "stream",
       "stream": "stdout",
       "text": [
        "[130,   200] loss: 0.666070\n"
       ]
      },
      {
       "output_type": "stream",
       "stream": "stdout",
       "text": [
        "[130,   400] loss: 0.675238\n"
       ]
      },
      {
       "output_type": "stream",
       "stream": "stdout",
       "text": [
        "Got 1987 / 4000 correct (49.68)\n",
        "saving model\n"
       ]
      },
      {
       "output_type": "stream",
       "stream": "stdout",
       "text": [
        "[131,   200] loss: 0.681701\n"
       ]
      },
      {
       "output_type": "stream",
       "stream": "stdout",
       "text": [
        "[131,   400] loss: 0.713012\n"
       ]
      },
      {
       "output_type": "stream",
       "stream": "stdout",
       "text": [
        "Got 1946 / 4000 correct (48.65)\n",
        "skip model saving\n"
       ]
      },
      {
       "output_type": "stream",
       "stream": "stdout",
       "text": [
        "[132,   200] loss: 0.712598\n"
       ]
      },
      {
       "output_type": "stream",
       "stream": "stdout",
       "text": [
        "[132,   400] loss: 0.789482\n"
       ]
      },
      {
       "output_type": "stream",
       "stream": "stdout",
       "text": [
        "Got 1975 / 4000 correct (49.38)\n",
        "skip model saving\n"
       ]
      },
      {
       "output_type": "stream",
       "stream": "stdout",
       "text": [
        "[133,   200] loss: 0.705436\n"
       ]
      },
      {
       "output_type": "stream",
       "stream": "stdout",
       "text": [
        "[133,   400] loss: 0.726829\n"
       ]
      },
      {
       "output_type": "stream",
       "stream": "stdout",
       "text": [
        "Got 1869 / 4000 correct (46.73)\n",
        "skip model saving\n"
       ]
      },
      {
       "output_type": "stream",
       "stream": "stdout",
       "text": [
        "[134,   200] loss: 1.059603\n"
       ]
      },
      {
       "output_type": "stream",
       "stream": "stdout",
       "text": [
        "[134,   400] loss: 0.828139\n"
       ]
      },
      {
       "output_type": "stream",
       "stream": "stdout",
       "text": [
        "Got 2026 / 4000 correct (50.65)\n",
        "saving model\n"
       ]
      },
      {
       "output_type": "stream",
       "stream": "stdout",
       "text": [
        "[135,   200] loss: 0.656315\n"
       ]
      },
      {
       "output_type": "stream",
       "stream": "stdout",
       "text": [
        "[135,   400] loss: 0.630628\n"
       ]
      },
      {
       "output_type": "stream",
       "stream": "stdout",
       "text": [
        "Got 1971 / 4000 correct (49.28)\n",
        "skip model saving\n"
       ]
      },
      {
       "output_type": "stream",
       "stream": "stdout",
       "text": [
        "[136,   200] loss: 0.641198\n"
       ]
      },
      {
       "output_type": "stream",
       "stream": "stdout",
       "text": [
        "[136,   400] loss: 0.669089\n"
       ]
      },
      {
       "output_type": "stream",
       "stream": "stdout",
       "text": [
        "Got 1956 / 4000 correct (48.90)\n",
        "skip model saving\n"
       ]
      },
      {
       "output_type": "stream",
       "stream": "stdout",
       "text": [
        "[137,   200] loss: 0.735564\n"
       ]
      },
      {
       "output_type": "stream",
       "stream": "stdout",
       "text": [
        "[137,   400] loss: 0.869222\n"
       ]
      },
      {
       "output_type": "stream",
       "stream": "stdout",
       "text": [
        "Got 1981 / 4000 correct (49.53)\n",
        "skip model saving\n"
       ]
      },
      {
       "output_type": "stream",
       "stream": "stdout",
       "text": [
        "[138,   200] loss: 0.656709\n"
       ]
      },
      {
       "output_type": "stream",
       "stream": "stdout",
       "text": [
        "[138,   400] loss: 0.696210\n"
       ]
      },
      {
       "output_type": "stream",
       "stream": "stdout",
       "text": [
        "Got 1992 / 4000 correct (49.80)\n",
        "skip model saving\n"
       ]
      },
      {
       "output_type": "stream",
       "stream": "stdout",
       "text": [
        "[139,   200] loss: 0.809448\n"
       ]
      },
      {
       "output_type": "stream",
       "stream": "stdout",
       "text": [
        "[139,   400] loss: 1.109147\n"
       ]
      },
      {
       "output_type": "stream",
       "stream": "stdout",
       "text": [
        "Got 1942 / 4000 correct (48.55)\n",
        "skip model saving\n"
       ]
      },
      {
       "output_type": "stream",
       "stream": "stdout",
       "text": [
        "[140,   200] loss: 0.696981\n"
       ]
      },
      {
       "output_type": "stream",
       "stream": "stdout",
       "text": [
        "[140,   400] loss: 0.732702\n"
       ]
      },
      {
       "output_type": "stream",
       "stream": "stdout",
       "text": [
        "Got 1932 / 4000 correct (48.30)\n",
        "skip model saving\n"
       ]
      },
      {
       "output_type": "stream",
       "stream": "stdout",
       "text": [
        "[141,   200] loss: 0.648260\n"
       ]
      },
      {
       "output_type": "stream",
       "stream": "stdout",
       "text": [
        "[141,   400] loss: 0.656899\n"
       ]
      },
      {
       "output_type": "stream",
       "stream": "stdout",
       "text": [
        "Got 1930 / 4000 correct (48.25)\n",
        "skip model saving\n"
       ]
      },
      {
       "output_type": "stream",
       "stream": "stdout",
       "text": [
        "[142,   200] loss: 0.711589\n"
       ]
      },
      {
       "output_type": "stream",
       "stream": "stdout",
       "text": [
        "[142,   400] loss: 0.727565\n"
       ]
      },
      {
       "output_type": "stream",
       "stream": "stdout",
       "text": [
        "Got 1960 / 4000 correct (49.00)\n",
        "skip model saving\n"
       ]
      },
      {
       "output_type": "stream",
       "stream": "stdout",
       "text": [
        "[143,   200] loss: 0.650423\n"
       ]
      },
      {
       "output_type": "stream",
       "stream": "stdout",
       "text": [
        "[143,   400] loss: 0.627412\n"
       ]
      },
      {
       "output_type": "stream",
       "stream": "stdout",
       "text": [
        "Got 1950 / 4000 correct (48.75)\n",
        "skip model saving\n"
       ]
      },
      {
       "output_type": "stream",
       "stream": "stdout",
       "text": [
        "[144,   200] loss: 0.625166\n"
       ]
      },
      {
       "output_type": "stream",
       "stream": "stdout",
       "text": [
        "[144,   400] loss: 0.614333\n"
       ]
      },
      {
       "output_type": "stream",
       "stream": "stdout",
       "text": [
        "Got 2047 / 4000 correct (51.18)\n",
        "saving model\n"
       ]
      },
      {
       "output_type": "stream",
       "stream": "stdout",
       "text": [
        "[145,   200] loss: 1.013242\n"
       ]
      },
      {
       "output_type": "stream",
       "stream": "stdout",
       "text": [
        "[145,   400] loss: 0.768015\n"
       ]
      },
      {
       "output_type": "stream",
       "stream": "stdout",
       "text": [
        "Got 2030 / 4000 correct (50.75)\n",
        "skip model saving\n"
       ]
      },
      {
       "output_type": "stream",
       "stream": "stdout",
       "text": [
        "[146,   200] loss: 0.615854\n"
       ]
      },
      {
       "output_type": "stream",
       "stream": "stdout",
       "text": [
        "[146,   400] loss: 0.628781\n"
       ]
      },
      {
       "output_type": "stream",
       "stream": "stdout",
       "text": [
        "Got 2009 / 4000 correct (50.22)\n",
        "skip model saving\n"
       ]
      },
      {
       "output_type": "stream",
       "stream": "stdout",
       "text": [
        "[147,   200] loss: 0.571114\n"
       ]
      },
      {
       "output_type": "stream",
       "stream": "stdout",
       "text": [
        "[147,   400] loss: 0.821879\n"
       ]
      },
      {
       "output_type": "stream",
       "stream": "stdout",
       "text": [
        "Got 1965 / 4000 correct (49.12)\n",
        "skip model saving\n"
       ]
      },
      {
       "output_type": "stream",
       "stream": "stdout",
       "text": [
        "[148,   200] loss: 0.747074\n"
       ]
      },
      {
       "output_type": "stream",
       "stream": "stdout",
       "text": [
        "[148,   400] loss: 0.655824\n"
       ]
      },
      {
       "output_type": "stream",
       "stream": "stdout",
       "text": [
        "Got 1819 / 4000 correct (45.48)\n",
        "skip model saving\n"
       ]
      },
      {
       "output_type": "stream",
       "stream": "stdout",
       "text": [
        "[149,   200] loss: 2.399161\n"
       ]
      },
      {
       "output_type": "stream",
       "stream": "stdout",
       "text": [
        "[149,   400] loss: 1.336199\n"
       ]
      },
      {
       "output_type": "stream",
       "stream": "stdout",
       "text": [
        "Got 1909 / 4000 correct (47.73)\n",
        "skip model saving\n"
       ]
      },
      {
       "output_type": "stream",
       "stream": "stdout",
       "text": [
        "[150,   200] loss: 0.903266\n"
       ]
      },
      {
       "output_type": "stream",
       "stream": "stdout",
       "text": [
        "[150,   400] loss: 0.823672\n"
       ]
      },
      {
       "output_type": "stream",
       "stream": "stdout",
       "text": [
        "Got 1995 / 4000 correct (49.88)\n",
        "skip model saving\n"
       ]
      },
      {
       "output_type": "stream",
       "stream": "stdout",
       "text": [
        "[151,   200] loss: 0.664998\n"
       ]
      },
      {
       "output_type": "stream",
       "stream": "stdout",
       "text": [
        "[151,   400] loss: 0.645213\n"
       ]
      },
      {
       "output_type": "stream",
       "stream": "stdout",
       "text": [
        "Got 2002 / 4000 correct (50.05)\n",
        "skip model saving\n"
       ]
      },
      {
       "output_type": "stream",
       "stream": "stdout",
       "text": [
        "[152,   200] loss: 0.615817\n"
       ]
      },
      {
       "output_type": "stream",
       "stream": "stdout",
       "text": [
        "[152,   400] loss: 0.617013\n"
       ]
      },
      {
       "output_type": "stream",
       "stream": "stdout",
       "text": [
        "Got 2059 / 4000 correct (51.48)\n",
        "saving model\n"
       ]
      },
      {
       "output_type": "stream",
       "stream": "stdout",
       "text": [
        "[153,   200] loss: 0.603271\n"
       ]
      },
      {
       "output_type": "stream",
       "stream": "stdout",
       "text": [
        "[153,   400] loss: 0.604740\n"
       ]
      },
      {
       "output_type": "stream",
       "stream": "stdout",
       "text": [
        "Got 2017 / 4000 correct (50.42)\n",
        "skip model saving\n"
       ]
      },
      {
       "output_type": "stream",
       "stream": "stdout",
       "text": [
        "[154,   200] loss: 0.583307\n"
       ]
      },
      {
       "output_type": "stream",
       "stream": "stdout",
       "text": [
        "[154,   400] loss: 0.579146\n"
       ]
      },
      {
       "output_type": "stream",
       "stream": "stdout",
       "text": [
        "Got 2036 / 4000 correct (50.90)\n",
        "skip model saving\n"
       ]
      },
      {
       "output_type": "stream",
       "stream": "stdout",
       "text": [
        "[155,   200] loss: 0.553506\n"
       ]
      },
      {
       "output_type": "stream",
       "stream": "stdout",
       "text": [
        "[155,   400] loss: 0.572872\n"
       ]
      },
      {
       "output_type": "stream",
       "stream": "stdout",
       "text": [
        "Got 2030 / 4000 correct (50.75)\n",
        "skip model saving\n"
       ]
      },
      {
       "output_type": "stream",
       "stream": "stdout",
       "text": [
        "[156,   200] loss: 0.548268\n"
       ]
      },
      {
       "output_type": "stream",
       "stream": "stdout",
       "text": [
        "[156,   400] loss: 0.542772\n"
       ]
      },
      {
       "output_type": "stream",
       "stream": "stdout",
       "text": [
        "Got 2066 / 4000 correct (51.65)\n",
        "saving model\n"
       ]
      },
      {
       "output_type": "stream",
       "stream": "stdout",
       "text": [
        "[157,   200] loss: 0.526947\n"
       ]
      },
      {
       "output_type": "stream",
       "stream": "stdout",
       "text": [
        "[157,   400] loss: 0.533040\n"
       ]
      },
      {
       "output_type": "stream",
       "stream": "stdout",
       "text": [
        "Got 2117 / 4000 correct (52.92)\n",
        "saving model\n"
       ]
      },
      {
       "output_type": "stream",
       "stream": "stdout",
       "text": [
        "[158,   200] loss: 0.512683\n"
       ]
      },
      {
       "output_type": "stream",
       "stream": "stdout",
       "text": [
        "[158,   400] loss: 0.507610\n"
       ]
      },
      {
       "output_type": "stream",
       "stream": "stdout",
       "text": [
        "Got 2044 / 4000 correct (51.10)\n",
        "skip model saving\n"
       ]
      },
      {
       "output_type": "stream",
       "stream": "stdout",
       "text": [
        "[159,   200] loss: 0.501808\n"
       ]
      },
      {
       "output_type": "stream",
       "stream": "stdout",
       "text": [
        "[159,   400] loss: 0.501356\n"
       ]
      },
      {
       "output_type": "stream",
       "stream": "stdout",
       "text": [
        "Got 2058 / 4000 correct (51.45)\n",
        "skip model saving\n"
       ]
      },
      {
       "output_type": "stream",
       "stream": "stdout",
       "text": [
        "[160,   200] loss: 0.489508\n"
       ]
      },
      {
       "output_type": "stream",
       "stream": "stdout",
       "text": [
        "[160,   400] loss: 0.489862\n"
       ]
      },
      {
       "output_type": "stream",
       "stream": "stdout",
       "text": [
        "Got 2051 / 4000 correct (51.28)\n",
        "skip model saving\n"
       ]
      },
      {
       "output_type": "stream",
       "stream": "stdout",
       "text": [
        "[161,   200] loss: 0.477020\n"
       ]
      },
      {
       "output_type": "stream",
       "stream": "stdout",
       "text": [
        "[161,   400] loss: 0.468522\n"
       ]
      },
      {
       "output_type": "stream",
       "stream": "stdout",
       "text": [
        "Got 2114 / 4000 correct (52.85)\n",
        "skip model saving\n"
       ]
      },
      {
       "output_type": "stream",
       "stream": "stdout",
       "text": [
        "[162,   200] loss: 0.467504\n"
       ]
      },
      {
       "output_type": "stream",
       "stream": "stdout",
       "text": [
        "[162,   400] loss: 0.469850\n"
       ]
      },
      {
       "output_type": "stream",
       "stream": "stdout",
       "text": [
        "Got 2133 / 4000 correct (53.33)\n",
        "saving model\n"
       ]
      },
      {
       "output_type": "stream",
       "stream": "stdout",
       "text": [
        "[163,   200] loss: 0.470379\n"
       ]
      },
      {
       "output_type": "stream",
       "stream": "stdout",
       "text": [
        "[163,   400] loss: 0.449658\n"
       ]
      },
      {
       "output_type": "stream",
       "stream": "stdout",
       "text": [
        "Got 2154 / 4000 correct (53.85)\n",
        "saving model\n"
       ]
      },
      {
       "output_type": "stream",
       "stream": "stdout",
       "text": [
        "[164,   200] loss: 0.439600\n"
       ]
      },
      {
       "output_type": "stream",
       "stream": "stdout",
       "text": [
        "[164,   400] loss: 0.490428\n"
       ]
      },
      {
       "output_type": "stream",
       "stream": "stdout",
       "text": [
        "Got 2085 / 4000 correct (52.12)\n",
        "skip model saving\n"
       ]
      },
      {
       "output_type": "stream",
       "stream": "stdout",
       "text": [
        "[165,   200] loss: 0.435141\n"
       ]
      },
      {
       "output_type": "stream",
       "stream": "stdout",
       "text": [
        "[165,   400] loss: 0.462172\n"
       ]
      },
      {
       "output_type": "stream",
       "stream": "stdout",
       "text": [
        "Got 2076 / 4000 correct (51.90)\n",
        "skip model saving\n"
       ]
      },
      {
       "output_type": "stream",
       "stream": "stdout",
       "text": [
        "[166,   200] loss: 0.432627\n"
       ]
      },
      {
       "output_type": "stream",
       "stream": "stdout",
       "text": [
        "[166,   400] loss: 0.428726\n"
       ]
      },
      {
       "output_type": "stream",
       "stream": "stdout",
       "text": [
        "Got 2095 / 4000 correct (52.38)\n",
        "skip model saving\n"
       ]
      },
      {
       "output_type": "stream",
       "stream": "stdout",
       "text": [
        "[167,   200] loss: 0.426222\n"
       ]
      },
      {
       "output_type": "stream",
       "stream": "stdout",
       "text": [
        "[167,   400] loss: 0.425635\n"
       ]
      },
      {
       "output_type": "stream",
       "stream": "stdout",
       "text": [
        "Got 2112 / 4000 correct (52.80)\n",
        "skip model saving\n"
       ]
      },
      {
       "output_type": "stream",
       "stream": "stdout",
       "text": [
        "[168,   200] loss: 0.424212\n"
       ]
      },
      {
       "output_type": "stream",
       "stream": "stdout",
       "text": [
        "[168,   400] loss: 0.411079\n"
       ]
      },
      {
       "output_type": "stream",
       "stream": "stdout",
       "text": [
        "Got 2166 / 4000 correct (54.15)\n",
        "saving model\n"
       ]
      },
      {
       "output_type": "stream",
       "stream": "stdout",
       "text": [
        "[169,   200] loss: 0.398167\n"
       ]
      },
      {
       "output_type": "stream",
       "stream": "stdout",
       "text": [
        "[169,   400] loss: 0.395207\n"
       ]
      },
      {
       "output_type": "stream",
       "stream": "stdout",
       "text": [
        "Got 2095 / 4000 correct (52.38)\n",
        "skip model saving\n"
       ]
      },
      {
       "output_type": "stream",
       "stream": "stdout",
       "text": [
        "[170,   200] loss: 0.397899\n"
       ]
      },
      {
       "output_type": "stream",
       "stream": "stdout",
       "text": [
        "[170,   400] loss: 0.395328\n"
       ]
      },
      {
       "output_type": "stream",
       "stream": "stdout",
       "text": [
        "Got 2120 / 4000 correct (53.00)\n",
        "skip model saving\n"
       ]
      },
      {
       "output_type": "stream",
       "stream": "stdout",
       "text": [
        "[171,   200] loss: 0.368868\n"
       ]
      },
      {
       "output_type": "stream",
       "stream": "stdout",
       "text": [
        "[171,   400] loss: 0.371539\n"
       ]
      },
      {
       "output_type": "stream",
       "stream": "stdout",
       "text": [
        "Got 2210 / 4000 correct (55.25)\n",
        "saving model\n"
       ]
      },
      {
       "output_type": "stream",
       "stream": "stdout",
       "text": [
        "[172,   200] loss: 0.355493\n"
       ]
      },
      {
       "output_type": "stream",
       "stream": "stdout",
       "text": [
        "[172,   400] loss: 0.374685\n"
       ]
      },
      {
       "output_type": "stream",
       "stream": "stdout",
       "text": [
        "Got 2241 / 4000 correct (56.03)\n",
        "saving model\n"
       ]
      },
      {
       "output_type": "stream",
       "stream": "stdout",
       "text": [
        "[173,   200] loss: 0.347231\n"
       ]
      },
      {
       "output_type": "stream",
       "stream": "stdout",
       "text": [
        "[173,   400] loss: 0.345473\n"
       ]
      },
      {
       "output_type": "stream",
       "stream": "stdout",
       "text": [
        "Got 2265 / 4000 correct (56.62)\n",
        "saving model\n"
       ]
      },
      {
       "output_type": "stream",
       "stream": "stdout",
       "text": [
        "[174,   200] loss: 0.360234\n"
       ]
      },
      {
       "output_type": "stream",
       "stream": "stdout",
       "text": [
        "[174,   400] loss: 0.334685\n"
       ]
      },
      {
       "output_type": "stream",
       "stream": "stdout",
       "text": [
        "Got 2251 / 4000 correct (56.27)\n",
        "skip model saving\n"
       ]
      },
      {
       "output_type": "stream",
       "stream": "stdout",
       "text": [
        "[175,   200] loss: 0.326021\n"
       ]
      },
      {
       "output_type": "stream",
       "stream": "stdout",
       "text": [
        "[175,   400] loss: 0.325245\n"
       ]
      },
      {
       "output_type": "stream",
       "stream": "stdout",
       "text": [
        "Got 2280 / 4000 correct (57.00)\n",
        "saving model\n"
       ]
      },
      {
       "output_type": "stream",
       "stream": "stdout",
       "text": [
        "[176,   200] loss: 0.314780\n"
       ]
      },
      {
       "output_type": "stream",
       "stream": "stdout",
       "text": [
        "[176,   400] loss: 0.316742\n"
       ]
      },
      {
       "output_type": "stream",
       "stream": "stdout",
       "text": [
        "Got 2226 / 4000 correct (55.65)\n",
        "skip model saving\n"
       ]
      },
      {
       "output_type": "stream",
       "stream": "stdout",
       "text": [
        "[177,   200] loss: 0.307866\n"
       ]
      },
      {
       "output_type": "stream",
       "stream": "stdout",
       "text": [
        "[177,   400] loss: 0.307709\n"
       ]
      },
      {
       "output_type": "stream",
       "stream": "stdout",
       "text": [
        "Got 2297 / 4000 correct (57.43)\n",
        "saving model\n"
       ]
      },
      {
       "output_type": "stream",
       "stream": "stdout",
       "text": [
        "[178,   200] loss: 0.300088\n"
       ]
      },
      {
       "output_type": "stream",
       "stream": "stdout",
       "text": [
        "[178,   400] loss: 0.318203\n"
       ]
      },
      {
       "output_type": "stream",
       "stream": "stdout",
       "text": [
        "Got 2318 / 4000 correct (57.95)\n",
        "saving model\n"
       ]
      },
      {
       "output_type": "stream",
       "stream": "stdout",
       "text": [
        "[179,   200] loss: 0.313103\n"
       ]
      },
      {
       "output_type": "stream",
       "stream": "stdout",
       "text": [
        "[179,   400] loss: 0.289167\n"
       ]
      },
      {
       "output_type": "stream",
       "stream": "stdout",
       "text": [
        "Got 2296 / 4000 correct (57.40)\n",
        "skip model saving\n"
       ]
      },
      {
       "output_type": "stream",
       "stream": "stdout",
       "text": [
        "[180,   200] loss: 0.276369\n"
       ]
      },
      {
       "output_type": "stream",
       "stream": "stdout",
       "text": [
        "[180,   400] loss: 0.295798\n"
       ]
      },
      {
       "output_type": "stream",
       "stream": "stdout",
       "text": [
        "Got 2343 / 4000 correct (58.58)\n",
        "saving model\n"
       ]
      },
      {
       "output_type": "stream",
       "stream": "stdout",
       "text": [
        "[181,   200] loss: 0.273780\n"
       ]
      },
      {
       "output_type": "stream",
       "stream": "stdout",
       "text": [
        "[181,   400] loss: 0.273043\n"
       ]
      },
      {
       "output_type": "stream",
       "stream": "stdout",
       "text": [
        "Got 2338 / 4000 correct (58.45)\n",
        "skip model saving\n"
       ]
      },
      {
       "output_type": "stream",
       "stream": "stdout",
       "text": [
        "[182,   200] loss: 0.266437\n"
       ]
      },
      {
       "output_type": "stream",
       "stream": "stdout",
       "text": [
        "[182,   400] loss: 0.275660\n"
       ]
      },
      {
       "output_type": "stream",
       "stream": "stdout",
       "text": [
        "Got 2302 / 4000 correct (57.55)\n",
        "skip model saving\n"
       ]
      },
      {
       "output_type": "stream",
       "stream": "stdout",
       "text": [
        "[183,   200] loss: 0.264500\n"
       ]
      },
      {
       "output_type": "stream",
       "stream": "stdout",
       "text": [
        "[183,   400] loss: 0.267022\n"
       ]
      },
      {
       "output_type": "stream",
       "stream": "stdout",
       "text": [
        "Got 2318 / 4000 correct (57.95)\n",
        "skip model saving\n"
       ]
      },
      {
       "output_type": "stream",
       "stream": "stdout",
       "text": [
        "[184,   200] loss: 0.257560\n"
       ]
      },
      {
       "output_type": "stream",
       "stream": "stdout",
       "text": [
        "[184,   400] loss: 0.254927\n"
       ]
      },
      {
       "output_type": "stream",
       "stream": "stdout",
       "text": [
        "Got 2338 / 4000 correct (58.45)\n",
        "skip model saving\n"
       ]
      },
      {
       "output_type": "stream",
       "stream": "stdout",
       "text": [
        "[185,   200] loss: 0.262241\n"
       ]
      },
      {
       "output_type": "stream",
       "stream": "stdout",
       "text": [
        "[185,   400] loss: 0.248426\n"
       ]
      },
      {
       "output_type": "stream",
       "stream": "stdout",
       "text": [
        "Got 2308 / 4000 correct (57.70)\n",
        "skip model saving\n"
       ]
      },
      {
       "output_type": "stream",
       "stream": "stdout",
       "text": [
        "[186,   200] loss: 0.246670\n"
       ]
      },
      {
       "output_type": "stream",
       "stream": "stdout",
       "text": [
        "[186,   400] loss: 0.264140\n"
       ]
      },
      {
       "output_type": "stream",
       "stream": "stdout",
       "text": [
        "Got 2292 / 4000 correct (57.30)\n",
        "skip model saving\n"
       ]
      },
      {
       "output_type": "stream",
       "stream": "stdout",
       "text": [
        "[187,   200] loss: 0.233197\n"
       ]
      },
      {
       "output_type": "stream",
       "stream": "stdout",
       "text": [
        "[187,   400] loss: 0.244727\n"
       ]
      },
      {
       "output_type": "stream",
       "stream": "stdout",
       "text": [
        "Got 2322 / 4000 correct (58.05)\n",
        "skip model saving\n"
       ]
      },
      {
       "output_type": "stream",
       "stream": "stdout",
       "text": [
        "[188,   200] loss: 0.211876\n"
       ]
      },
      {
       "output_type": "stream",
       "stream": "stdout",
       "text": [
        "[188,   400] loss: 0.245467\n"
       ]
      },
      {
       "output_type": "stream",
       "stream": "stdout",
       "text": [
        "Got 2349 / 4000 correct (58.73)\n",
        "saving model\n"
       ]
      },
      {
       "output_type": "stream",
       "stream": "stdout",
       "text": [
        "[189,   200] loss: 0.219739\n"
       ]
      },
      {
       "output_type": "stream",
       "stream": "stdout",
       "text": [
        "[189,   400] loss: 0.226765\n"
       ]
      },
      {
       "output_type": "stream",
       "stream": "stdout",
       "text": [
        "Got 2327 / 4000 correct (58.17)\n",
        "skip model saving\n"
       ]
      },
      {
       "output_type": "stream",
       "stream": "stdout",
       "text": [
        "[190,   200] loss: 0.211039\n"
       ]
      },
      {
       "output_type": "stream",
       "stream": "stdout",
       "text": [
        "[190,   400] loss: 0.214031\n"
       ]
      },
      {
       "output_type": "stream",
       "stream": "stdout",
       "text": [
        "Got 2311 / 4000 correct (57.77)\n",
        "skip model saving\n"
       ]
      },
      {
       "output_type": "stream",
       "stream": "stdout",
       "text": [
        "[191,   200] loss: 0.215315\n"
       ]
      },
      {
       "output_type": "stream",
       "stream": "stdout",
       "text": [
        "[191,   400] loss: 0.206632\n"
       ]
      },
      {
       "output_type": "stream",
       "stream": "stdout",
       "text": [
        "Got 2320 / 4000 correct (58.00)\n",
        "skip model saving\n"
       ]
      },
      {
       "output_type": "stream",
       "stream": "stdout",
       "text": [
        "[192,   200] loss: 0.202980\n"
       ]
      },
      {
       "output_type": "stream",
       "stream": "stdout",
       "text": [
        "[192,   400] loss: 0.230700\n"
       ]
      },
      {
       "output_type": "stream",
       "stream": "stdout",
       "text": [
        "Got 2323 / 4000 correct (58.07)\n",
        "skip model saving\n"
       ]
      },
      {
       "output_type": "stream",
       "stream": "stdout",
       "text": [
        "[193,   200] loss: 0.224194\n"
       ]
      },
      {
       "output_type": "stream",
       "stream": "stdout",
       "text": [
        "[193,   400] loss: 0.203078\n"
       ]
      },
      {
       "output_type": "stream",
       "stream": "stdout",
       "text": [
        "Got 2330 / 4000 correct (58.25)\n",
        "skip model saving\n"
       ]
      },
      {
       "output_type": "stream",
       "stream": "stdout",
       "text": [
        "[194,   200] loss: 0.202622\n"
       ]
      },
      {
       "output_type": "stream",
       "stream": "stdout",
       "text": [
        "[194,   400] loss: 0.197296\n"
       ]
      },
      {
       "output_type": "stream",
       "stream": "stdout",
       "text": [
        "Got 2326 / 4000 correct (58.15)\n",
        "skip model saving\n"
       ]
      },
      {
       "output_type": "stream",
       "stream": "stdout",
       "text": [
        "[195,   200] loss: 0.192256\n"
       ]
      },
      {
       "output_type": "stream",
       "stream": "stdout",
       "text": [
        "[195,   400] loss: 0.191509\n"
       ]
      },
      {
       "output_type": "stream",
       "stream": "stdout",
       "text": [
        "Got 2364 / 4000 correct (59.10)\n",
        "saving model\n"
       ]
      },
      {
       "output_type": "stream",
       "stream": "stdout",
       "text": [
        "[196,   200] loss: 0.187167\n"
       ]
      },
      {
       "output_type": "stream",
       "stream": "stdout",
       "text": [
        "[196,   400] loss: 0.204743\n"
       ]
      },
      {
       "output_type": "stream",
       "stream": "stdout",
       "text": [
        "Got 2319 / 4000 correct (57.98)\n",
        "skip model saving\n"
       ]
      },
      {
       "output_type": "stream",
       "stream": "stdout",
       "text": [
        "[197,   200] loss: 0.193234\n"
       ]
      },
      {
       "output_type": "stream",
       "stream": "stdout",
       "text": [
        "[197,   400] loss: 0.199369\n"
       ]
      },
      {
       "output_type": "stream",
       "stream": "stdout",
       "text": [
        "Got 2314 / 4000 correct (57.85)\n",
        "skip model saving\n"
       ]
      },
      {
       "output_type": "stream",
       "stream": "stdout",
       "text": [
        "[198,   200] loss: 0.178170\n"
       ]
      },
      {
       "output_type": "stream",
       "stream": "stdout",
       "text": [
        "[198,   400] loss: 0.178233\n"
       ]
      },
      {
       "output_type": "stream",
       "stream": "stdout",
       "text": [
        "Got 2343 / 4000 correct (58.58)\n",
        "skip model saving\n"
       ]
      },
      {
       "output_type": "stream",
       "stream": "stdout",
       "text": [
        "[199,   200] loss: 0.184281\n"
       ]
      },
      {
       "output_type": "stream",
       "stream": "stdout",
       "text": [
        "[199,   400] loss: 0.173855\n"
       ]
      },
      {
       "output_type": "stream",
       "stream": "stdout",
       "text": [
        "Got 2296 / 4000 correct (57.40)\n",
        "skip model saving\n"
       ]
      },
      {
       "output_type": "stream",
       "stream": "stdout",
       "text": [
        "[200,   200] loss: 0.185087\n"
       ]
      },
      {
       "output_type": "stream",
       "stream": "stdout",
       "text": [
        "[200,   400] loss: 0.178836\n"
       ]
      },
      {
       "output_type": "stream",
       "stream": "stdout",
       "text": [
        "Got 2285 / 4000 correct (57.12)\n",
        "skip model saving\n"
       ]
      },
      {
       "output_type": "stream",
       "stream": "stdout",
       "text": [
        "[201,   200] loss: 0.174749\n"
       ]
      },
      {
       "output_type": "stream",
       "stream": "stdout",
       "text": [
        "[201,   400] loss: 0.174676\n"
       ]
      },
      {
       "output_type": "stream",
       "stream": "stdout",
       "text": [
        "Got 2334 / 4000 correct (58.35)\n",
        "skip model saving\n"
       ]
      },
      {
       "output_type": "stream",
       "stream": "stdout",
       "text": [
        "[202,   200] loss: 0.164014\n"
       ]
      },
      {
       "output_type": "stream",
       "stream": "stdout",
       "text": [
        "[202,   400] loss: 0.175844\n"
       ]
      },
      {
       "output_type": "stream",
       "stream": "stdout",
       "text": [
        "Got 2343 / 4000 correct (58.58)\n",
        "skip model saving\n"
       ]
      },
      {
       "output_type": "stream",
       "stream": "stdout",
       "text": [
        "[203,   200] loss: 0.157820\n"
       ]
      },
      {
       "output_type": "stream",
       "stream": "stdout",
       "text": [
        "[203,   400] loss: 0.176911\n"
       ]
      },
      {
       "output_type": "stream",
       "stream": "stdout",
       "text": [
        "Got 2376 / 4000 correct (59.40)\n",
        "saving model\n"
       ]
      },
      {
       "output_type": "stream",
       "stream": "stdout",
       "text": [
        "[204,   200] loss: 0.170272\n"
       ]
      },
      {
       "output_type": "stream",
       "stream": "stdout",
       "text": [
        "[204,   400] loss: 0.171189\n"
       ]
      },
      {
       "output_type": "stream",
       "stream": "stdout",
       "text": [
        "Got 2337 / 4000 correct (58.43)\n",
        "skip model saving\n"
       ]
      },
      {
       "output_type": "stream",
       "stream": "stdout",
       "text": [
        "[205,   200] loss: 0.144641\n"
       ]
      },
      {
       "output_type": "stream",
       "stream": "stdout",
       "text": [
        "[205,   400] loss: 0.156876\n"
       ]
      },
      {
       "output_type": "stream",
       "stream": "stdout",
       "text": [
        "Got 2324 / 4000 correct (58.10)\n",
        "skip model saving\n"
       ]
      },
      {
       "output_type": "stream",
       "stream": "stdout",
       "text": [
        "[206,   200] loss: 0.146150\n"
       ]
      },
      {
       "output_type": "stream",
       "stream": "stdout",
       "text": [
        "[206,   400] loss: 0.153857\n"
       ]
      },
      {
       "output_type": "stream",
       "stream": "stdout",
       "text": [
        "Got 2348 / 4000 correct (58.70)\n",
        "skip model saving\n"
       ]
      },
      {
       "output_type": "stream",
       "stream": "stdout",
       "text": [
        "[207,   200] loss: 0.163593\n"
       ]
      },
      {
       "output_type": "stream",
       "stream": "stdout",
       "text": [
        "[207,   400] loss: 0.143101\n"
       ]
      },
      {
       "output_type": "stream",
       "stream": "stdout",
       "text": [
        "Got 2368 / 4000 correct (59.20)\n",
        "skip model saving\n"
       ]
      },
      {
       "output_type": "stream",
       "stream": "stdout",
       "text": [
        "[208,   200] loss: 0.159614\n"
       ]
      },
      {
       "output_type": "stream",
       "stream": "stdout",
       "text": [
        "[208,   400] loss: 0.139062\n"
       ]
      },
      {
       "output_type": "stream",
       "stream": "stdout",
       "text": [
        "Got 2363 / 4000 correct (59.08)\n",
        "skip model saving\n"
       ]
      },
      {
       "output_type": "stream",
       "stream": "stdout",
       "text": [
        "[209,   200] loss: 0.141076\n"
       ]
      },
      {
       "output_type": "stream",
       "stream": "stdout",
       "text": [
        "[209,   400] loss: 0.146337\n"
       ]
      },
      {
       "output_type": "stream",
       "stream": "stdout",
       "text": [
        "Got 2322 / 4000 correct (58.05)\n",
        "skip model saving\n"
       ]
      },
      {
       "output_type": "stream",
       "stream": "stdout",
       "text": [
        "[210,   200] loss: 0.170063\n"
       ]
      },
      {
       "output_type": "stream",
       "stream": "stdout",
       "text": [
        "[210,   400] loss: 0.151329\n"
       ]
      },
      {
       "output_type": "stream",
       "stream": "stdout",
       "text": [
        "Got 2354 / 4000 correct (58.85)\n",
        "skip model saving\n"
       ]
      },
      {
       "output_type": "stream",
       "stream": "stdout",
       "text": [
        "[211,   200] loss: 0.131600\n"
       ]
      },
      {
       "output_type": "stream",
       "stream": "stdout",
       "text": [
        "[211,   400] loss: 0.142373\n"
       ]
      },
      {
       "output_type": "stream",
       "stream": "stdout",
       "text": [
        "Got 2329 / 4000 correct (58.23)\n",
        "skip model saving\n"
       ]
      },
      {
       "output_type": "stream",
       "stream": "stdout",
       "text": [
        "[212,   200] loss: 0.126392\n"
       ]
      },
      {
       "output_type": "stream",
       "stream": "stdout",
       "text": [
        "[212,   400] loss: 0.143259\n"
       ]
      },
      {
       "output_type": "stream",
       "stream": "stdout",
       "text": [
        "Got 2334 / 4000 correct (58.35)\n",
        "skip model saving\n"
       ]
      },
      {
       "output_type": "stream",
       "stream": "stdout",
       "text": [
        "[213,   200] loss: 0.130428\n"
       ]
      },
      {
       "output_type": "stream",
       "stream": "stdout",
       "text": [
        "[213,   400] loss: 0.134080\n"
       ]
      },
      {
       "output_type": "stream",
       "stream": "stdout",
       "text": [
        "Got 2346 / 4000 correct (58.65)\n",
        "skip model saving\n"
       ]
      },
      {
       "output_type": "stream",
       "stream": "stdout",
       "text": [
        "[214,   200] loss: 0.131269\n"
       ]
      },
      {
       "output_type": "stream",
       "stream": "stdout",
       "text": [
        "[214,   400] loss: 0.129859\n"
       ]
      },
      {
       "output_type": "stream",
       "stream": "stdout",
       "text": [
        "Got 2364 / 4000 correct (59.10)\n",
        "skip model saving\n"
       ]
      },
      {
       "output_type": "stream",
       "stream": "stdout",
       "text": [
        "[215,   200] loss: 0.131193\n"
       ]
      },
      {
       "output_type": "stream",
       "stream": "stdout",
       "text": [
        "[215,   400] loss: 0.141022\n"
       ]
      },
      {
       "output_type": "stream",
       "stream": "stdout",
       "text": [
        "Got 2320 / 4000 correct (58.00)\n",
        "skip model saving\n"
       ]
      },
      {
       "output_type": "stream",
       "stream": "stdout",
       "text": [
        "[216,   200] loss: 0.123602\n"
       ]
      },
      {
       "output_type": "stream",
       "stream": "stdout",
       "text": [
        "[216,   400] loss: 0.117827\n"
       ]
      },
      {
       "output_type": "stream",
       "stream": "stdout",
       "text": [
        "Got 2364 / 4000 correct (59.10)\n",
        "skip model saving\n"
       ]
      },
      {
       "output_type": "stream",
       "stream": "stdout",
       "text": [
        "[217,   200] loss: 0.135134\n"
       ]
      },
      {
       "output_type": "stream",
       "stream": "stdout",
       "text": [
        "[217,   400] loss: 0.115034\n"
       ]
      },
      {
       "output_type": "stream",
       "stream": "stdout",
       "text": [
        "Got 2348 / 4000 correct (58.70)\n",
        "skip model saving\n"
       ]
      },
      {
       "output_type": "stream",
       "stream": "stdout",
       "text": [
        "[218,   200] loss: 0.121185\n"
       ]
      },
      {
       "output_type": "stream",
       "stream": "stdout",
       "text": [
        "[218,   400] loss: 0.133816\n"
       ]
      },
      {
       "output_type": "stream",
       "stream": "stdout",
       "text": [
        "Got 2325 / 4000 correct (58.13)\n",
        "skip model saving\n"
       ]
      },
      {
       "output_type": "stream",
       "stream": "stdout",
       "text": [
        "[219,   200] loss: 0.114915\n"
       ]
      },
      {
       "output_type": "stream",
       "stream": "stdout",
       "text": [
        "[219,   400] loss: 0.133527\n"
       ]
      },
      {
       "output_type": "stream",
       "stream": "stdout",
       "text": [
        "Got 2314 / 4000 correct (57.85)\n",
        "skip model saving\n"
       ]
      },
      {
       "output_type": "stream",
       "stream": "stdout",
       "text": [
        "[220,   200] loss: 0.111856\n"
       ]
      },
      {
       "output_type": "stream",
       "stream": "stdout",
       "text": [
        "[220,   400] loss: 0.111785\n"
       ]
      },
      {
       "output_type": "stream",
       "stream": "stdout",
       "text": [
        "Got 2347 / 4000 correct (58.67)\n",
        "skip model saving\n"
       ]
      },
      {
       "output_type": "stream",
       "stream": "stdout",
       "text": [
        "[221,   200] loss: 0.113149\n"
       ]
      },
      {
       "output_type": "stream",
       "stream": "stdout",
       "text": [
        "[221,   400] loss: 0.107055\n"
       ]
      },
      {
       "output_type": "stream",
       "stream": "stdout",
       "text": [
        "Got 2319 / 4000 correct (57.98)\n",
        "skip model saving\n"
       ]
      },
      {
       "output_type": "stream",
       "stream": "stdout",
       "text": [
        "[222,   200] loss: 0.120261\n"
       ]
      },
      {
       "output_type": "stream",
       "stream": "stdout",
       "text": [
        "[222,   400] loss: 0.116541\n"
       ]
      },
      {
       "output_type": "stream",
       "stream": "stdout",
       "text": [
        "Got 2326 / 4000 correct (58.15)\n",
        "skip model saving\n"
       ]
      },
      {
       "output_type": "stream",
       "stream": "stdout",
       "text": [
        "[223,   200] loss: 0.111185\n"
       ]
      },
      {
       "output_type": "stream",
       "stream": "stdout",
       "text": [
        "[223,   400] loss: 0.119422\n"
       ]
      },
      {
       "output_type": "stream",
       "stream": "stdout",
       "text": [
        "Got 2292 / 4000 correct (57.30)\n",
        "skip model saving\n"
       ]
      },
      {
       "output_type": "stream",
       "stream": "stdout",
       "text": [
        "[224,   200] loss: 0.104618\n"
       ]
      },
      {
       "output_type": "stream",
       "stream": "stdout",
       "text": [
        "[224,   400] loss: 0.113365\n"
       ]
      },
      {
       "output_type": "stream",
       "stream": "stdout",
       "text": [
        "Got 2297 / 4000 correct (57.43)\n",
        "skip model saving\n"
       ]
      },
      {
       "output_type": "stream",
       "stream": "stdout",
       "text": [
        "[225,   200] loss: 0.101975\n"
       ]
      },
      {
       "output_type": "stream",
       "stream": "stdout",
       "text": [
        "[225,   400] loss: 0.105427\n"
       ]
      },
      {
       "output_type": "stream",
       "stream": "stdout",
       "text": [
        "Got 2325 / 4000 correct (58.13)\n",
        "skip model saving\n"
       ]
      },
      {
       "output_type": "stream",
       "stream": "stdout",
       "text": [
        "[226,   200] loss: 0.103106\n"
       ]
      },
      {
       "output_type": "stream",
       "stream": "stdout",
       "text": [
        "[226,   400] loss: 0.102495\n"
       ]
      },
      {
       "output_type": "stream",
       "stream": "stdout",
       "text": [
        "Got 2337 / 4000 correct (58.43)\n",
        "skip model saving\n"
       ]
      },
      {
       "output_type": "stream",
       "stream": "stdout",
       "text": [
        "[227,   200] loss: 0.127487\n"
       ]
      },
      {
       "output_type": "stream",
       "stream": "stdout",
       "text": [
        "[227,   400] loss: 0.111515\n"
       ]
      },
      {
       "output_type": "stream",
       "stream": "stdout",
       "text": [
        "Got 2335 / 4000 correct (58.38)\n",
        "skip model saving\n"
       ]
      },
      {
       "output_type": "stream",
       "stream": "stdout",
       "text": [
        "[228,   200] loss: 0.096131\n"
       ]
      },
      {
       "output_type": "stream",
       "stream": "stdout",
       "text": [
        "[228,   400] loss: 0.099502\n"
       ]
      },
      {
       "output_type": "stream",
       "stream": "stdout",
       "text": [
        "Got 2343 / 4000 correct (58.58)\n",
        "skip model saving\n"
       ]
      },
      {
       "output_type": "stream",
       "stream": "stdout",
       "text": [
        "[229,   200] loss: 0.099853\n"
       ]
      },
      {
       "output_type": "stream",
       "stream": "stdout",
       "text": [
        "[229,   400] loss: 0.104628\n"
       ]
      },
      {
       "output_type": "stream",
       "stream": "stdout",
       "text": [
        "Got 2332 / 4000 correct (58.30)\n",
        "skip model saving\n"
       ]
      },
      {
       "output_type": "stream",
       "stream": "stdout",
       "text": [
        "[230,   200] loss: 0.110053\n"
       ]
      },
      {
       "output_type": "stream",
       "stream": "stdout",
       "text": [
        "[230,   400] loss: 0.100637\n"
       ]
      },
      {
       "output_type": "stream",
       "stream": "stdout",
       "text": [
        "Got 2334 / 4000 correct (58.35)\n",
        "skip model saving\n"
       ]
      },
      {
       "output_type": "stream",
       "stream": "stdout",
       "text": [
        "[231,   200] loss: 0.084219\n"
       ]
      },
      {
       "output_type": "stream",
       "stream": "stdout",
       "text": [
        "[231,   400] loss: 0.089458\n"
       ]
      },
      {
       "output_type": "stream",
       "stream": "stdout",
       "text": [
        "Got 2352 / 4000 correct (58.80)\n",
        "skip model saving\n"
       ]
      },
      {
       "output_type": "stream",
       "stream": "stdout",
       "text": [
        "[232,   200] loss: 0.099804\n"
       ]
      },
      {
       "output_type": "stream",
       "stream": "stdout",
       "text": [
        "[232,   400] loss: 0.086779\n"
       ]
      },
      {
       "output_type": "stream",
       "stream": "stdout",
       "text": [
        "Got 2339 / 4000 correct (58.48)\n",
        "skip model saving\n"
       ]
      },
      {
       "output_type": "stream",
       "stream": "stdout",
       "text": [
        "[233,   200] loss: 0.108973\n"
       ]
      },
      {
       "output_type": "stream",
       "stream": "stdout",
       "text": [
        "[233,   400] loss: 0.092893\n"
       ]
      },
      {
       "output_type": "stream",
       "stream": "stdout",
       "text": [
        "Got 2337 / 4000 correct (58.43)\n",
        "skip model saving\n"
       ]
      },
      {
       "output_type": "stream",
       "stream": "stdout",
       "text": [
        "[234,   200] loss: 0.085219\n"
       ]
      },
      {
       "output_type": "stream",
       "stream": "stdout",
       "text": [
        "[234,   400] loss: 0.091095\n"
       ]
      },
      {
       "output_type": "stream",
       "stream": "stdout",
       "text": [
        "Got 2333 / 4000 correct (58.33)\n",
        "skip model saving\n"
       ]
      },
      {
       "output_type": "stream",
       "stream": "stdout",
       "text": [
        "[235,   200] loss: 0.095605\n"
       ]
      },
      {
       "output_type": "stream",
       "stream": "stdout",
       "text": [
        "[235,   400] loss: 0.116098\n"
       ]
      },
      {
       "output_type": "stream",
       "stream": "stdout",
       "text": [
        "Got 2336 / 4000 correct (58.40)\n",
        "skip model saving\n"
       ]
      },
      {
       "output_type": "stream",
       "stream": "stdout",
       "text": [
        "[236,   200] loss: 0.099258\n"
       ]
      },
      {
       "output_type": "stream",
       "stream": "stdout",
       "text": [
        "[236,   400] loss: 0.099284\n"
       ]
      },
      {
       "output_type": "stream",
       "stream": "stdout",
       "text": [
        "Got 2319 / 4000 correct (57.98)\n",
        "skip model saving\n"
       ]
      },
      {
       "output_type": "stream",
       "stream": "stdout",
       "text": [
        "[237,   200] loss: 0.094000\n"
       ]
      },
      {
       "output_type": "stream",
       "stream": "stdout",
       "text": [
        "[237,   400] loss: 0.091189\n"
       ]
      },
      {
       "output_type": "stream",
       "stream": "stdout",
       "text": [
        "Got 2333 / 4000 correct (58.33)\n",
        "skip model saving\n"
       ]
      },
      {
       "output_type": "stream",
       "stream": "stdout",
       "text": [
        "[238,   200] loss: 0.093716\n"
       ]
      },
      {
       "output_type": "stream",
       "stream": "stdout",
       "text": [
        "[238,   400] loss: 0.081208\n"
       ]
      },
      {
       "output_type": "stream",
       "stream": "stdout",
       "text": [
        "Got 2334 / 4000 correct (58.35)\n",
        "skip model saving\n"
       ]
      },
      {
       "output_type": "stream",
       "stream": "stdout",
       "text": [
        "[239,   200] loss: 0.078552\n"
       ]
      },
      {
       "output_type": "stream",
       "stream": "stdout",
       "text": [
        "[239,   400] loss: 0.084756\n"
       ]
      },
      {
       "output_type": "stream",
       "stream": "stdout",
       "text": [
        "Got 2308 / 4000 correct (57.70)\n",
        "skip model saving\n"
       ]
      },
      {
       "output_type": "stream",
       "stream": "stdout",
       "text": [
        "[240,   200] loss: 0.061841\n"
       ]
      },
      {
       "output_type": "stream",
       "stream": "stdout",
       "text": [
        "[240,   400] loss: 0.083321\n"
       ]
      },
      {
       "output_type": "stream",
       "stream": "stdout",
       "text": [
        "Got 2313 / 4000 correct (57.83)\n",
        "skip model saving\n"
       ]
      },
      {
       "output_type": "stream",
       "stream": "stdout",
       "text": [
        "[241,   200] loss: 0.089153\n"
       ]
      },
      {
       "output_type": "stream",
       "stream": "stdout",
       "text": [
        "[241,   400] loss: 0.099418\n"
       ]
      },
      {
       "output_type": "stream",
       "stream": "stdout",
       "text": [
        "Got 2323 / 4000 correct (58.07)\n",
        "skip model saving\n"
       ]
      },
      {
       "output_type": "stream",
       "stream": "stdout",
       "text": [
        "[242,   200] loss: 0.083029\n"
       ]
      },
      {
       "output_type": "stream",
       "stream": "stdout",
       "text": [
        "[242,   400] loss: 0.076785\n"
       ]
      },
      {
       "output_type": "stream",
       "stream": "stdout",
       "text": [
        "Got 2331 / 4000 correct (58.27)\n",
        "skip model saving\n"
       ]
      },
      {
       "output_type": "stream",
       "stream": "stdout",
       "text": [
        "[243,   200] loss: 0.078159\n"
       ]
      },
      {
       "output_type": "stream",
       "stream": "stdout",
       "text": [
        "[243,   400] loss: 0.082826\n"
       ]
      },
      {
       "output_type": "stream",
       "stream": "stdout",
       "text": [
        "Got 2333 / 4000 correct (58.33)\n",
        "skip model saving\n"
       ]
      },
      {
       "output_type": "stream",
       "stream": "stdout",
       "text": [
        "[244,   200] loss: 0.074101\n"
       ]
      },
      {
       "output_type": "stream",
       "stream": "stdout",
       "text": [
        "[244,   400] loss: 0.077798\n"
       ]
      },
      {
       "output_type": "stream",
       "stream": "stdout",
       "text": [
        "Got 2294 / 4000 correct (57.35)\n",
        "skip model saving\n"
       ]
      },
      {
       "output_type": "stream",
       "stream": "stdout",
       "text": [
        "[245,   200] loss: 0.092352\n"
       ]
      },
      {
       "output_type": "stream",
       "stream": "stdout",
       "text": [
        "[245,   400] loss: 0.075348\n"
       ]
      },
      {
       "output_type": "stream",
       "stream": "stdout",
       "text": [
        "Got 2318 / 4000 correct (57.95)\n",
        "skip model saving\n"
       ]
      },
      {
       "output_type": "stream",
       "stream": "stdout",
       "text": [
        "[246,   200] loss: 0.065371\n"
       ]
      },
      {
       "output_type": "stream",
       "stream": "stdout",
       "text": [
        "[246,   400] loss: 0.067139\n"
       ]
      },
      {
       "output_type": "stream",
       "stream": "stdout",
       "text": [
        "Got 2315 / 4000 correct (57.88)\n",
        "skip model saving\n"
       ]
      },
      {
       "output_type": "stream",
       "stream": "stdout",
       "text": [
        "[247,   200] loss: 0.060522\n"
       ]
      },
      {
       "output_type": "stream",
       "stream": "stdout",
       "text": [
        "[247,   400] loss: 0.074253\n"
       ]
      },
      {
       "output_type": "stream",
       "stream": "stdout",
       "text": [
        "Got 2346 / 4000 correct (58.65)\n",
        "skip model saving\n"
       ]
      },
      {
       "output_type": "stream",
       "stream": "stdout",
       "text": [
        "[248,   200] loss: 0.066984\n"
       ]
      },
      {
       "output_type": "stream",
       "stream": "stdout",
       "text": [
        "[248,   400] loss: 0.066852\n"
       ]
      },
      {
       "output_type": "stream",
       "stream": "stdout",
       "text": [
        "Got 2353 / 4000 correct (58.83)\n",
        "skip model saving\n"
       ]
      },
      {
       "output_type": "stream",
       "stream": "stdout",
       "text": [
        "[249,   200] loss: 0.083772\n"
       ]
      },
      {
       "output_type": "stream",
       "stream": "stdout",
       "text": [
        "[249,   400] loss: 0.062741\n"
       ]
      },
      {
       "output_type": "stream",
       "stream": "stdout",
       "text": [
        "Got 2347 / 4000 correct (58.67)\n",
        "skip model saving\n"
       ]
      },
      {
       "output_type": "stream",
       "stream": "stdout",
       "text": [
        "[250,   200] loss: 0.083392\n"
       ]
      },
      {
       "output_type": "stream",
       "stream": "stdout",
       "text": [
        "[250,   400] loss: 0.080874\n"
       ]
      },
      {
       "output_type": "stream",
       "stream": "stdout",
       "text": [
        "Got 2313 / 4000 correct (57.83)\n",
        "skip model saving\n"
       ]
      },
      {
       "output_type": "stream",
       "stream": "stdout",
       "text": [
        "[251,   200] loss: 0.065530\n"
       ]
      },
      {
       "output_type": "stream",
       "stream": "stdout",
       "text": [
        "[251,   400] loss: 0.057655\n"
       ]
      },
      {
       "output_type": "stream",
       "stream": "stdout",
       "text": [
        "Got 2318 / 4000 correct (57.95)\n",
        "skip model saving\n"
       ]
      },
      {
       "output_type": "stream",
       "stream": "stdout",
       "text": [
        "[252,   200] loss: 0.051216\n"
       ]
      },
      {
       "output_type": "stream",
       "stream": "stdout",
       "text": [
        "[252,   400] loss: 0.060059\n"
       ]
      },
      {
       "output_type": "stream",
       "stream": "stdout",
       "text": [
        "Got 2331 / 4000 correct (58.27)\n",
        "skip model saving\n"
       ]
      },
      {
       "output_type": "stream",
       "stream": "stdout",
       "text": [
        "[253,   200] loss: 0.048224\n"
       ]
      },
      {
       "output_type": "stream",
       "stream": "stdout",
       "text": [
        "[253,   400] loss: 0.046436\n"
       ]
      },
      {
       "output_type": "stream",
       "stream": "stdout",
       "text": [
        "Got 2333 / 4000 correct (58.33)\n",
        "skip model saving\n"
       ]
      },
      {
       "output_type": "stream",
       "stream": "stdout",
       "text": [
        "[254,   200] loss: 0.056478\n"
       ]
      },
      {
       "output_type": "stream",
       "stream": "stdout",
       "text": [
        "[254,   400] loss: 0.055549\n"
       ]
      },
      {
       "output_type": "stream",
       "stream": "stdout",
       "text": [
        "Got 2330 / 4000 correct (58.25)\n",
        "skip model saving\n"
       ]
      },
      {
       "output_type": "stream",
       "stream": "stdout",
       "text": [
        "[255,   200] loss: 0.055220\n"
       ]
      },
      {
       "output_type": "stream",
       "stream": "stdout",
       "text": [
        "[255,   400] loss: 0.052935\n"
       ]
      },
      {
       "output_type": "stream",
       "stream": "stdout",
       "text": [
        "Got 2307 / 4000 correct (57.67)\n",
        "skip model saving\n"
       ]
      },
      {
       "output_type": "stream",
       "stream": "stdout",
       "text": [
        "[256,   200] loss: 0.049221\n"
       ]
      },
      {
       "output_type": "stream",
       "stream": "stdout",
       "text": [
        "[256,   400] loss: 0.043098\n"
       ]
      },
      {
       "output_type": "stream",
       "stream": "stdout",
       "text": [
        "Got 2311 / 4000 correct (57.77)\n",
        "skip model saving\n"
       ]
      },
      {
       "output_type": "stream",
       "stream": "stdout",
       "text": [
        "[257,   200] loss: 0.047131\n"
       ]
      },
      {
       "output_type": "stream",
       "stream": "stdout",
       "text": [
        "[257,   400] loss: 0.050534\n"
       ]
      },
      {
       "output_type": "stream",
       "stream": "stdout",
       "text": [
        "Got 2326 / 4000 correct (58.15)\n",
        "skip model saving\n"
       ]
      },
      {
       "output_type": "stream",
       "stream": "stdout",
       "text": [
        "[258,   200] loss: 0.054676\n"
       ]
      },
      {
       "output_type": "stream",
       "stream": "stdout",
       "text": [
        "[258,   400] loss: 0.054545\n"
       ]
      },
      {
       "output_type": "stream",
       "stream": "stdout",
       "text": [
        "Got 2336 / 4000 correct (58.40)\n",
        "skip model saving\n"
       ]
      },
      {
       "output_type": "stream",
       "stream": "stdout",
       "text": [
        "[259,   200] loss: 0.049994\n"
       ]
      },
      {
       "output_type": "stream",
       "stream": "stdout",
       "text": [
        "[259,   400] loss: 0.049002\n"
       ]
      },
      {
       "output_type": "stream",
       "stream": "stdout",
       "text": [
        "Got 2333 / 4000 correct (58.33)\n",
        "skip model saving\n"
       ]
      },
      {
       "output_type": "stream",
       "stream": "stdout",
       "text": [
        "[260,   200] loss: 0.041859\n"
       ]
      },
      {
       "output_type": "stream",
       "stream": "stdout",
       "text": [
        "[260,   400] loss: 0.044927\n"
       ]
      },
      {
       "output_type": "stream",
       "stream": "stdout",
       "text": [
        "Got 2312 / 4000 correct (57.80)\n",
        "skip model saving\n"
       ]
      },
      {
       "output_type": "stream",
       "stream": "stdout",
       "text": [
        "[261,   200] loss: 0.041261\n"
       ]
      },
      {
       "output_type": "stream",
       "stream": "stdout",
       "text": [
        "[261,   400] loss: 0.042812\n"
       ]
      },
      {
       "output_type": "stream",
       "stream": "stdout",
       "text": [
        "Got 2330 / 4000 correct (58.25)\n",
        "skip model saving\n"
       ]
      },
      {
       "output_type": "stream",
       "stream": "stdout",
       "text": [
        "[262,   200] loss: 0.048910\n"
       ]
      },
      {
       "output_type": "stream",
       "stream": "stdout",
       "text": [
        "[262,   400] loss: 0.045953\n"
       ]
      },
      {
       "output_type": "stream",
       "stream": "stdout",
       "text": [
        "Got 2332 / 4000 correct (58.30)\n",
        "skip model saving\n"
       ]
      },
      {
       "output_type": "stream",
       "stream": "stdout",
       "text": [
        "[263,   200] loss: 0.043595\n"
       ]
      },
      {
       "output_type": "stream",
       "stream": "stdout",
       "text": [
        "[263,   400] loss: 0.056377\n"
       ]
      },
      {
       "output_type": "stream",
       "stream": "stdout",
       "text": [
        "Got 2331 / 4000 correct (58.27)\n",
        "skip model saving\n"
       ]
      },
      {
       "output_type": "stream",
       "stream": "stdout",
       "text": [
        "[264,   200] loss: 0.043731\n"
       ]
      },
      {
       "output_type": "stream",
       "stream": "stdout",
       "text": [
        "[264,   400] loss: 0.043252\n"
       ]
      },
      {
       "output_type": "stream",
       "stream": "stdout",
       "text": [
        "Got 2332 / 4000 correct (58.30)\n",
        "skip model saving\n"
       ]
      },
      {
       "output_type": "stream",
       "stream": "stdout",
       "text": [
        "[265,   200] loss: 0.044811\n"
       ]
      },
      {
       "output_type": "stream",
       "stream": "stdout",
       "text": [
        "[265,   400] loss: 0.048773\n"
       ]
      },
      {
       "output_type": "stream",
       "stream": "stdout",
       "text": [
        "Got 2345 / 4000 correct (58.63)\n",
        "skip model saving\n"
       ]
      },
      {
       "output_type": "stream",
       "stream": "stdout",
       "text": [
        "[266,   200] loss: 0.037142\n"
       ]
      },
      {
       "output_type": "stream",
       "stream": "stdout",
       "text": [
        "[266,   400] loss: 0.039635\n"
       ]
      },
      {
       "output_type": "stream",
       "stream": "stdout",
       "text": [
        "Got 2336 / 4000 correct (58.40)\n",
        "skip model saving\n"
       ]
      },
      {
       "output_type": "stream",
       "stream": "stdout",
       "text": [
        "[267,   200] loss: 0.048447\n"
       ]
      },
      {
       "output_type": "stream",
       "stream": "stdout",
       "text": [
        "[267,   400] loss: 0.049421\n"
       ]
      },
      {
       "output_type": "stream",
       "stream": "stdout",
       "text": [
        "Got 2337 / 4000 correct (58.43)\n",
        "skip model saving\n"
       ]
      },
      {
       "output_type": "stream",
       "stream": "stdout",
       "text": [
        "[268,   200] loss: 0.038831\n"
       ]
      },
      {
       "output_type": "stream",
       "stream": "stdout",
       "text": [
        "[268,   400] loss: 0.045203\n"
       ]
      },
      {
       "output_type": "stream",
       "stream": "stdout",
       "text": [
        "Got 2324 / 4000 correct (58.10)\n",
        "skip model saving\n"
       ]
      },
      {
       "output_type": "stream",
       "stream": "stdout",
       "text": [
        "[269,   200] loss: 0.039851\n"
       ]
      },
      {
       "output_type": "stream",
       "stream": "stdout",
       "text": [
        "[269,   400] loss: 0.060961\n"
       ]
      },
      {
       "output_type": "stream",
       "stream": "stdout",
       "text": [
        "Got 2346 / 4000 correct (58.65)\n",
        "skip model saving\n"
       ]
      },
      {
       "output_type": "stream",
       "stream": "stdout",
       "text": [
        "[270,   200] loss: 0.044591\n"
       ]
      },
      {
       "output_type": "stream",
       "stream": "stdout",
       "text": [
        "[270,   400] loss: 0.043266\n"
       ]
      },
      {
       "output_type": "stream",
       "stream": "stdout",
       "text": [
        "Got 2329 / 4000 correct (58.23)\n",
        "skip model saving\n"
       ]
      },
      {
       "output_type": "stream",
       "stream": "stdout",
       "text": [
        "[271,   200] loss: 0.043763\n"
       ]
      },
      {
       "output_type": "stream",
       "stream": "stdout",
       "text": [
        "[271,   400] loss: 0.042134\n"
       ]
      },
      {
       "output_type": "stream",
       "stream": "stdout",
       "text": [
        "Got 2355 / 4000 correct (58.88)\n",
        "skip model saving\n"
       ]
      },
      {
       "output_type": "stream",
       "stream": "stdout",
       "text": [
        "[272,   200] loss: 0.039471\n"
       ]
      },
      {
       "output_type": "stream",
       "stream": "stdout",
       "text": [
        "[272,   400] loss: 0.039665\n"
       ]
      },
      {
       "output_type": "stream",
       "stream": "stdout",
       "text": [
        "Got 2322 / 4000 correct (58.05)\n",
        "skip model saving\n"
       ]
      },
      {
       "output_type": "stream",
       "stream": "stdout",
       "text": [
        "[273,   200] loss: 0.045871\n"
       ]
      },
      {
       "output_type": "stream",
       "stream": "stdout",
       "text": [
        "[273,   400] loss: 0.038211\n"
       ]
      },
      {
       "output_type": "stream",
       "stream": "stdout",
       "text": [
        "Got 2333 / 4000 correct (58.33)\n",
        "skip model saving\n"
       ]
      },
      {
       "output_type": "stream",
       "stream": "stdout",
       "text": [
        "[274,   200] loss: 0.044955\n"
       ]
      },
      {
       "output_type": "stream",
       "stream": "stdout",
       "text": [
        "[274,   400] loss: 0.040908\n"
       ]
      },
      {
       "output_type": "stream",
       "stream": "stdout",
       "text": [
        "Got 2322 / 4000 correct (58.05)\n",
        "skip model saving\n"
       ]
      },
      {
       "output_type": "stream",
       "stream": "stdout",
       "text": [
        "[275,   200] loss: 0.037069\n"
       ]
      },
      {
       "output_type": "stream",
       "stream": "stdout",
       "text": [
        "[275,   400] loss: 0.045108\n"
       ]
      },
      {
       "output_type": "stream",
       "stream": "stdout",
       "text": [
        "Got 2313 / 4000 correct (57.83)\n",
        "skip model saving\n"
       ]
      },
      {
       "output_type": "stream",
       "stream": "stdout",
       "text": [
        "[276,   200] loss: 0.041392\n"
       ]
      },
      {
       "output_type": "stream",
       "stream": "stdout",
       "text": [
        "[276,   400] loss: 0.039688\n"
       ]
      },
      {
       "output_type": "stream",
       "stream": "stdout",
       "text": [
        "Got 2294 / 4000 correct (57.35)\n",
        "skip model saving\n"
       ]
      },
      {
       "output_type": "stream",
       "stream": "stdout",
       "text": [
        "[277,   200] loss: 0.037726\n"
       ]
      },
      {
       "output_type": "stream",
       "stream": "stdout",
       "text": [
        "[277,   400] loss: 0.034846\n"
       ]
      },
      {
       "output_type": "stream",
       "stream": "stdout",
       "text": [
        "Got 2332 / 4000 correct (58.30)\n",
        "skip model saving\n"
       ]
      },
      {
       "output_type": "stream",
       "stream": "stdout",
       "text": [
        "[278,   200] loss: 0.053183\n"
       ]
      },
      {
       "output_type": "stream",
       "stream": "stdout",
       "text": [
        "[278,   400] loss: 0.037740\n"
       ]
      },
      {
       "output_type": "stream",
       "stream": "stdout",
       "text": [
        "Got 2326 / 4000 correct (58.15)\n",
        "skip model saving\n"
       ]
      },
      {
       "output_type": "stream",
       "stream": "stdout",
       "text": [
        "[279,   200] loss: 0.039033\n"
       ]
      },
      {
       "output_type": "stream",
       "stream": "stdout",
       "text": [
        "[279,   400] loss: 0.045430\n"
       ]
      },
      {
       "output_type": "stream",
       "stream": "stdout",
       "text": [
        "Got 2338 / 4000 correct (58.45)\n",
        "skip model saving\n"
       ]
      },
      {
       "output_type": "stream",
       "stream": "stdout",
       "text": [
        "[280,   200] loss: 0.037829\n"
       ]
      },
      {
       "output_type": "stream",
       "stream": "stdout",
       "text": [
        "[280,   400] loss: 0.036069\n"
       ]
      },
      {
       "output_type": "stream",
       "stream": "stdout",
       "text": [
        "Got 2340 / 4000 correct (58.50)\n",
        "skip model saving\n"
       ]
      },
      {
       "output_type": "stream",
       "stream": "stdout",
       "text": [
        "[281,   200] loss: 0.039811\n"
       ]
      },
      {
       "output_type": "stream",
       "stream": "stdout",
       "text": [
        "[281,   400] loss: 0.041352\n"
       ]
      },
      {
       "output_type": "stream",
       "stream": "stdout",
       "text": [
        "Got 2337 / 4000 correct (58.43)\n",
        "skip model saving\n"
       ]
      },
      {
       "output_type": "stream",
       "stream": "stdout",
       "text": [
        "[282,   200] loss: 0.043517\n"
       ]
      },
      {
       "output_type": "stream",
       "stream": "stdout",
       "text": [
        "[282,   400] loss: 0.039502\n"
       ]
      },
      {
       "output_type": "stream",
       "stream": "stdout",
       "text": [
        "Got 2327 / 4000 correct (58.17)\n",
        "skip model saving\n"
       ]
      },
      {
       "output_type": "stream",
       "stream": "stdout",
       "text": [
        "[283,   200] loss: 0.042514\n"
       ]
      },
      {
       "output_type": "stream",
       "stream": "stdout",
       "text": [
        "[283,   400] loss: 0.033668\n"
       ]
      },
      {
       "output_type": "stream",
       "stream": "stdout",
       "text": [
        "Got 2321 / 4000 correct (58.03)\n",
        "skip model saving\n"
       ]
      },
      {
       "output_type": "stream",
       "stream": "stdout",
       "text": [
        "[284,   200] loss: 0.037707\n"
       ]
      },
      {
       "output_type": "stream",
       "stream": "stdout",
       "text": [
        "[284,   400] loss: 0.039776\n"
       ]
      },
      {
       "output_type": "stream",
       "stream": "stdout",
       "text": [
        "Got 2321 / 4000 correct (58.03)\n",
        "skip model saving\n"
       ]
      },
      {
       "output_type": "stream",
       "stream": "stdout",
       "text": [
        "[285,   200] loss: 0.034864\n"
       ]
      },
      {
       "output_type": "stream",
       "stream": "stdout",
       "text": [
        "[285,   400] loss: 0.042331\n"
       ]
      },
      {
       "output_type": "stream",
       "stream": "stdout",
       "text": [
        "Got 2329 / 4000 correct (58.23)\n",
        "skip model saving\n"
       ]
      },
      {
       "output_type": "stream",
       "stream": "stdout",
       "text": [
        "[286,   200] loss: 0.042088\n"
       ]
      },
      {
       "output_type": "stream",
       "stream": "stdout",
       "text": [
        "[286,   400] loss: 0.036750\n"
       ]
      },
      {
       "output_type": "stream",
       "stream": "stdout",
       "text": [
        "Got 2286 / 4000 correct (57.15)\n",
        "skip model saving\n"
       ]
      },
      {
       "output_type": "stream",
       "stream": "stdout",
       "text": [
        "[287,   200] loss: 0.039906\n"
       ]
      },
      {
       "output_type": "stream",
       "stream": "stdout",
       "text": [
        "[287,   400] loss: 0.040739\n"
       ]
      },
      {
       "output_type": "stream",
       "stream": "stdout",
       "text": [
        "Got 2324 / 4000 correct (58.10)\n",
        "skip model saving\n"
       ]
      },
      {
       "output_type": "stream",
       "stream": "stdout",
       "text": [
        "[288,   200] loss: 0.043096\n"
       ]
      },
      {
       "output_type": "stream",
       "stream": "stdout",
       "text": [
        "[288,   400] loss: 0.035286\n"
       ]
      },
      {
       "output_type": "stream",
       "stream": "stdout",
       "text": [
        "Got 2322 / 4000 correct (58.05)\n",
        "skip model saving\n"
       ]
      },
      {
       "output_type": "stream",
       "stream": "stdout",
       "text": [
        "[289,   200] loss: 0.041263\n"
       ]
      },
      {
       "output_type": "stream",
       "stream": "stdout",
       "text": [
        "[289,   400] loss: 0.051151\n"
       ]
      },
      {
       "output_type": "stream",
       "stream": "stdout",
       "text": [
        "Got 2339 / 4000 correct (58.48)\n",
        "skip model saving\n"
       ]
      },
      {
       "output_type": "stream",
       "stream": "stdout",
       "text": [
        "[290,   200] loss: 0.036157\n"
       ]
      },
      {
       "output_type": "stream",
       "stream": "stdout",
       "text": [
        "[290,   400] loss: 0.039726\n"
       ]
      },
      {
       "output_type": "stream",
       "stream": "stdout",
       "text": [
        "Got 2304 / 4000 correct (57.60)\n",
        "skip model saving\n"
       ]
      },
      {
       "output_type": "stream",
       "stream": "stdout",
       "text": [
        "[291,   200] loss: 0.040778\n"
       ]
      },
      {
       "output_type": "stream",
       "stream": "stdout",
       "text": [
        "[291,   400] loss: 0.035232\n"
       ]
      },
      {
       "output_type": "stream",
       "stream": "stdout",
       "text": [
        "Got 2340 / 4000 correct (58.50)\n",
        "skip model saving\n"
       ]
      },
      {
       "output_type": "stream",
       "stream": "stdout",
       "text": [
        "[292,   200] loss: 0.038446\n"
       ]
      },
      {
       "output_type": "stream",
       "stream": "stdout",
       "text": [
        "[292,   400] loss: 0.044086\n"
       ]
      },
      {
       "output_type": "stream",
       "stream": "stdout",
       "text": [
        "Got 2337 / 4000 correct (58.43)\n",
        "skip model saving\n"
       ]
      },
      {
       "output_type": "stream",
       "stream": "stdout",
       "text": [
        "[293,   200] loss: 0.036344\n"
       ]
      },
      {
       "output_type": "stream",
       "stream": "stdout",
       "text": [
        "[293,   400] loss: 0.045065\n"
       ]
      },
      {
       "output_type": "stream",
       "stream": "stdout",
       "text": [
        "Got 2311 / 4000 correct (57.77)\n",
        "skip model saving\n"
       ]
      },
      {
       "output_type": "stream",
       "stream": "stdout",
       "text": [
        "[294,   200] loss: 0.035940\n"
       ]
      },
      {
       "output_type": "stream",
       "stream": "stdout",
       "text": [
        "[294,   400] loss: 0.041229\n"
       ]
      },
      {
       "output_type": "stream",
       "stream": "stdout",
       "text": [
        "Got 2333 / 4000 correct (58.33)\n",
        "skip model saving\n"
       ]
      },
      {
       "output_type": "stream",
       "stream": "stdout",
       "text": [
        "[295,   200] loss: 0.041515\n"
       ]
      },
      {
       "output_type": "stream",
       "stream": "stdout",
       "text": [
        "[295,   400] loss: 0.042239\n"
       ]
      },
      {
       "output_type": "stream",
       "stream": "stdout",
       "text": [
        "Got 2348 / 4000 correct (58.70)\n",
        "skip model saving\n"
       ]
      },
      {
       "output_type": "stream",
       "stream": "stdout",
       "text": [
        "[296,   200] loss: 0.035409\n"
       ]
      },
      {
       "output_type": "stream",
       "stream": "stdout",
       "text": [
        "[296,   400] loss: 0.044972\n"
       ]
      },
      {
       "output_type": "stream",
       "stream": "stdout",
       "text": [
        "Got 2319 / 4000 correct (57.98)\n",
        "skip model saving\n"
       ]
      },
      {
       "output_type": "stream",
       "stream": "stdout",
       "text": [
        "[297,   200] loss: 0.039930\n"
       ]
      },
      {
       "output_type": "stream",
       "stream": "stdout",
       "text": [
        "[297,   400] loss: 0.030668\n"
       ]
      },
      {
       "output_type": "stream",
       "stream": "stdout",
       "text": [
        "Got 2336 / 4000 correct (58.40)\n",
        "skip model saving\n"
       ]
      },
      {
       "output_type": "stream",
       "stream": "stdout",
       "text": [
        "[298,   200] loss: 0.037572\n"
       ]
      },
      {
       "output_type": "stream",
       "stream": "stdout",
       "text": [
        "[298,   400] loss: 0.036930\n"
       ]
      },
      {
       "output_type": "stream",
       "stream": "stdout",
       "text": [
        "Got 2337 / 4000 correct (58.43)\n",
        "skip model saving\n"
       ]
      },
      {
       "output_type": "stream",
       "stream": "stdout",
       "text": [
        "[299,   200] loss: 0.037912\n"
       ]
      },
      {
       "output_type": "stream",
       "stream": "stdout",
       "text": [
        "[299,   400] loss: 0.030931\n"
       ]
      },
      {
       "output_type": "stream",
       "stream": "stdout",
       "text": [
        "Got 2328 / 4000 correct (58.20)\n",
        "skip model saving\n"
       ]
      },
      {
       "output_type": "stream",
       "stream": "stdout",
       "text": [
        "[300,   200] loss: 0.038000\n"
       ]
      },
      {
       "output_type": "stream",
       "stream": "stdout",
       "text": [
        "[300,   400] loss: 0.035406\n"
       ]
      },
      {
       "output_type": "stream",
       "stream": "stdout",
       "text": [
        "Got 2326 / 4000 correct (58.15)\n",
        "skip model saving\n"
       ]
      },
      {
       "output_type": "stream",
       "stream": "stdout",
       "text": [
        "[301,   200] loss: 0.036405\n"
       ]
      },
      {
       "output_type": "stream",
       "stream": "stdout",
       "text": [
        "[301,   400] loss: 0.038806\n"
       ]
      },
      {
       "output_type": "stream",
       "stream": "stdout",
       "text": [
        "Got 2331 / 4000 correct (58.27)\n",
        "skip model saving\n"
       ]
      },
      {
       "output_type": "stream",
       "stream": "stdout",
       "text": [
        "[302,   200] loss: 0.037658\n"
       ]
      },
      {
       "output_type": "stream",
       "stream": "stdout",
       "text": [
        "[302,   400] loss: 0.043470\n"
       ]
      },
      {
       "output_type": "stream",
       "stream": "stdout",
       "text": [
        "Got 2336 / 4000 correct (58.40)\n",
        "skip model saving\n"
       ]
      },
      {
       "output_type": "stream",
       "stream": "stdout",
       "text": [
        "[303,   200] loss: 0.037742\n"
       ]
      },
      {
       "output_type": "stream",
       "stream": "stdout",
       "text": [
        "[303,   400] loss: 0.032658\n"
       ]
      },
      {
       "output_type": "stream",
       "stream": "stdout",
       "text": [
        "Got 2311 / 4000 correct (57.77)\n",
        "skip model saving\n"
       ]
      },
      {
       "output_type": "stream",
       "stream": "stdout",
       "text": [
        "[304,   200] loss: 0.033311\n"
       ]
      },
      {
       "output_type": "stream",
       "stream": "stdout",
       "text": [
        "[304,   400] loss: 0.049780\n"
       ]
      },
      {
       "output_type": "stream",
       "stream": "stdout",
       "text": [
        "Got 2317 / 4000 correct (57.93)\n",
        "skip model saving\n"
       ]
      },
      {
       "output_type": "stream",
       "stream": "stdout",
       "text": [
        "[305,   200] loss: 0.033068\n"
       ]
      },
      {
       "output_type": "stream",
       "stream": "stdout",
       "text": [
        "[305,   400] loss: 0.037859\n"
       ]
      },
      {
       "output_type": "stream",
       "stream": "stdout",
       "text": [
        "Got 2323 / 4000 correct (58.07)\n",
        "skip model saving\n"
       ]
      },
      {
       "output_type": "stream",
       "stream": "stdout",
       "text": [
        "[306,   200] loss: 0.040635\n"
       ]
      },
      {
       "output_type": "stream",
       "stream": "stdout",
       "text": [
        "[306,   400] loss: 0.044829\n"
       ]
      },
      {
       "output_type": "stream",
       "stream": "stdout",
       "text": [
        "Got 2326 / 4000 correct (58.15)\n",
        "skip model saving\n"
       ]
      },
      {
       "output_type": "stream",
       "stream": "stdout",
       "text": [
        "[307,   200] loss: 0.040795\n"
       ]
      },
      {
       "output_type": "stream",
       "stream": "stdout",
       "text": [
        "[307,   400] loss: 0.033549\n"
       ]
      },
      {
       "output_type": "stream",
       "stream": "stdout",
       "text": [
        "Got 2321 / 4000 correct (58.03)\n",
        "skip model saving\n"
       ]
      },
      {
       "output_type": "stream",
       "stream": "stdout",
       "text": [
        "[308,   200] loss: 0.046030\n"
       ]
      },
      {
       "output_type": "stream",
       "stream": "stdout",
       "text": [
        "[308,   400] loss: 0.036909\n"
       ]
      },
      {
       "output_type": "stream",
       "stream": "stdout",
       "text": [
        "Got 2329 / 4000 correct (58.23)\n",
        "skip model saving\n"
       ]
      },
      {
       "output_type": "stream",
       "stream": "stdout",
       "text": [
        "[309,   200] loss: 0.041350\n"
       ]
      },
      {
       "output_type": "stream",
       "stream": "stdout",
       "text": [
        "[309,   400] loss: 0.035556\n"
       ]
      },
      {
       "output_type": "stream",
       "stream": "stdout",
       "text": [
        "Got 2333 / 4000 correct (58.33)\n",
        "skip model saving\n"
       ]
      },
      {
       "output_type": "stream",
       "stream": "stdout",
       "text": [
        "[310,   200] loss: 0.031174\n"
       ]
      },
      {
       "output_type": "stream",
       "stream": "stdout",
       "text": [
        "[310,   400] loss: 0.028409\n"
       ]
      },
      {
       "output_type": "stream",
       "stream": "stdout",
       "text": [
        "Got 2318 / 4000 correct (57.95)\n",
        "skip model saving\n"
       ]
      },
      {
       "output_type": "stream",
       "stream": "stdout",
       "text": [
        "[311,   200] loss: 0.032073\n"
       ]
      },
      {
       "output_type": "stream",
       "stream": "stdout",
       "text": [
        "[311,   400] loss: 0.047324\n"
       ]
      },
      {
       "output_type": "stream",
       "stream": "stdout",
       "text": [
        "Got 2325 / 4000 correct (58.13)\n",
        "skip model saving\n"
       ]
      },
      {
       "output_type": "stream",
       "stream": "stdout",
       "text": [
        "[312,   200] loss: 0.037525\n"
       ]
      },
      {
       "output_type": "stream",
       "stream": "stdout",
       "text": [
        "[312,   400] loss: 0.036922\n"
       ]
      },
      {
       "output_type": "stream",
       "stream": "stdout",
       "text": [
        "Got 2321 / 4000 correct (58.03)\n",
        "skip model saving\n"
       ]
      },
      {
       "output_type": "stream",
       "stream": "stdout",
       "text": [
        "[313,   200] loss: 0.033140\n"
       ]
      },
      {
       "output_type": "stream",
       "stream": "stdout",
       "text": [
        "[313,   400] loss: 0.053944\n"
       ]
      },
      {
       "output_type": "stream",
       "stream": "stdout",
       "text": [
        "Got 2336 / 4000 correct (58.40)\n",
        "skip model saving\n"
       ]
      },
      {
       "output_type": "stream",
       "stream": "stdout",
       "text": [
        "[314,   200] loss: 0.041625\n"
       ]
      },
      {
       "output_type": "stream",
       "stream": "stdout",
       "text": [
        "[314,   400] loss: 0.046780\n"
       ]
      },
      {
       "output_type": "stream",
       "stream": "stdout",
       "text": [
        "Got 2332 / 4000 correct (58.30)\n",
        "skip model saving\n"
       ]
      },
      {
       "output_type": "stream",
       "stream": "stdout",
       "text": [
        "[315,   200] loss: 0.038077\n"
       ]
      },
      {
       "output_type": "stream",
       "stream": "stdout",
       "text": [
        "[315,   400] loss: 0.032129\n"
       ]
      },
      {
       "output_type": "stream",
       "stream": "stdout",
       "text": [
        "Got 2316 / 4000 correct (57.90)\n",
        "skip model saving\n"
       ]
      },
      {
       "output_type": "stream",
       "stream": "stdout",
       "text": [
        "[316,   200] loss: 0.040467\n"
       ]
      },
      {
       "output_type": "stream",
       "stream": "stdout",
       "text": [
        "[316,   400] loss: 0.038312\n"
       ]
      },
      {
       "output_type": "stream",
       "stream": "stdout",
       "text": [
        "Got 2355 / 4000 correct (58.88)\n",
        "skip model saving\n"
       ]
      },
      {
       "output_type": "stream",
       "stream": "stdout",
       "text": [
        "[317,   200] loss: 0.032809\n"
       ]
      },
      {
       "output_type": "stream",
       "stream": "stdout",
       "text": [
        "[317,   400] loss: 0.034955\n"
       ]
      },
      {
       "output_type": "stream",
       "stream": "stdout",
       "text": [
        "Got 2300 / 4000 correct (57.50)\n",
        "skip model saving\n"
       ]
      },
      {
       "output_type": "stream",
       "stream": "stdout",
       "text": [
        "[318,   200] loss: 0.033740\n"
       ]
      },
      {
       "output_type": "stream",
       "stream": "stdout",
       "text": [
        "[318,   400] loss: 0.040697\n"
       ]
      },
      {
       "output_type": "stream",
       "stream": "stdout",
       "text": [
        "Got 2314 / 4000 correct (57.85)\n",
        "skip model saving\n"
       ]
      },
      {
       "output_type": "stream",
       "stream": "stdout",
       "text": [
        "[319,   200] loss: 0.033088\n"
       ]
      },
      {
       "output_type": "stream",
       "stream": "stdout",
       "text": [
        "[319,   400] loss: 0.029823\n"
       ]
      },
      {
       "output_type": "stream",
       "stream": "stdout",
       "text": [
        "Got 2373 / 4000 correct (59.33)\n",
        "skip model saving\n"
       ]
      },
      {
       "output_type": "stream",
       "stream": "stdout",
       "text": [
        "[320,   200] loss: 0.031200\n"
       ]
      },
      {
       "output_type": "stream",
       "stream": "stdout",
       "text": [
        "[320,   400] loss: 0.037511\n"
       ]
      },
      {
       "output_type": "stream",
       "stream": "stdout",
       "text": [
        "Got 2345 / 4000 correct (58.63)\n",
        "skip model saving\n"
       ]
      },
      {
       "output_type": "stream",
       "stream": "stdout",
       "text": [
        "[321,   200] loss: 0.034264\n"
       ]
      },
      {
       "output_type": "stream",
       "stream": "stdout",
       "text": [
        "[321,   400] loss: 0.028893\n"
       ]
      },
      {
       "output_type": "stream",
       "stream": "stdout",
       "text": [
        "Got 2316 / 4000 correct (57.90)\n",
        "skip model saving\n"
       ]
      },
      {
       "output_type": "stream",
       "stream": "stdout",
       "text": [
        "[322,   200] loss: 0.039631\n"
       ]
      },
      {
       "output_type": "stream",
       "stream": "stdout",
       "text": [
        "[322,   400] loss: 0.034244\n"
       ]
      },
      {
       "output_type": "stream",
       "stream": "stdout",
       "text": [
        "Got 2322 / 4000 correct (58.05)\n",
        "skip model saving\n"
       ]
      },
      {
       "output_type": "stream",
       "stream": "stdout",
       "text": [
        "[323,   200] loss: 0.038092\n"
       ]
      },
      {
       "output_type": "stream",
       "stream": "stdout",
       "text": [
        "[323,   400] loss: 0.033110\n"
       ]
      },
      {
       "output_type": "stream",
       "stream": "stdout",
       "text": [
        "Got 2316 / 4000 correct (57.90)\n",
        "skip model saving\n"
       ]
      },
      {
       "output_type": "stream",
       "stream": "stdout",
       "text": [
        "[324,   200] loss: 0.039462\n"
       ]
      },
      {
       "output_type": "stream",
       "stream": "stdout",
       "text": [
        "[324,   400] loss: 0.027732\n"
       ]
      },
      {
       "output_type": "stream",
       "stream": "stdout",
       "text": [
        "Got 2349 / 4000 correct (58.73)\n",
        "skip model saving\n"
       ]
      },
      {
       "output_type": "stream",
       "stream": "stdout",
       "text": [
        "[325,   200] loss: 0.030191\n"
       ]
      },
      {
       "output_type": "stream",
       "stream": "stdout",
       "text": [
        "[325,   400] loss: 0.038116\n"
       ]
      },
      {
       "output_type": "stream",
       "stream": "stdout",
       "text": [
        "Got 2360 / 4000 correct (59.00)\n",
        "skip model saving\n"
       ]
      },
      {
       "output_type": "stream",
       "stream": "stdout",
       "text": [
        "[326,   200] loss: 0.037536\n"
       ]
      },
      {
       "output_type": "stream",
       "stream": "stdout",
       "text": [
        "[326,   400] loss: 0.033020\n"
       ]
      },
      {
       "output_type": "stream",
       "stream": "stdout",
       "text": [
        "Got 2315 / 4000 correct (57.88)\n",
        "skip model saving\n"
       ]
      },
      {
       "output_type": "stream",
       "stream": "stdout",
       "text": [
        "[327,   200] loss: 0.042844\n"
       ]
      },
      {
       "output_type": "stream",
       "stream": "stdout",
       "text": [
        "[327,   400] loss: 0.039109\n"
       ]
      },
      {
       "output_type": "stream",
       "stream": "stdout",
       "text": [
        "Got 2342 / 4000 correct (58.55)\n",
        "skip model saving\n"
       ]
      },
      {
       "output_type": "stream",
       "stream": "stdout",
       "text": [
        "[328,   200] loss: 0.035300\n"
       ]
      },
      {
       "output_type": "stream",
       "stream": "stdout",
       "text": [
        "[328,   400] loss: 0.036645\n"
       ]
      },
      {
       "output_type": "stream",
       "stream": "stdout",
       "text": [
        "Got 2323 / 4000 correct (58.07)\n",
        "skip model saving\n"
       ]
      },
      {
       "output_type": "stream",
       "stream": "stdout",
       "text": [
        "[329,   200] loss: 0.041631\n"
       ]
      },
      {
       "output_type": "stream",
       "stream": "stdout",
       "text": [
        "[329,   400] loss: 0.034288\n"
       ]
      },
      {
       "output_type": "stream",
       "stream": "stdout",
       "text": [
        "Got 2332 / 4000 correct (58.30)\n",
        "skip model saving\n"
       ]
      },
      {
       "output_type": "stream",
       "stream": "stdout",
       "text": [
        "[330,   200] loss: 0.033699\n"
       ]
      },
      {
       "output_type": "stream",
       "stream": "stdout",
       "text": [
        "[330,   400] loss: 0.029929\n"
       ]
      },
      {
       "output_type": "stream",
       "stream": "stdout",
       "text": [
        "Got 2336 / 4000 correct (58.40)\n",
        "skip model saving\n"
       ]
      },
      {
       "output_type": "stream",
       "stream": "stdout",
       "text": [
        "[331,   200] loss: 0.034095\n"
       ]
      },
      {
       "output_type": "stream",
       "stream": "stdout",
       "text": [
        "[331,   400] loss: 0.038671\n"
       ]
      },
      {
       "output_type": "stream",
       "stream": "stdout",
       "text": [
        "Got 2345 / 4000 correct (58.63)\n",
        "skip model saving\n"
       ]
      },
      {
       "output_type": "stream",
       "stream": "stdout",
       "text": [
        "[332,   200] loss: 0.040209\n"
       ]
      },
      {
       "output_type": "stream",
       "stream": "stdout",
       "text": [
        "[332,   400] loss: 0.031227\n"
       ]
      },
      {
       "output_type": "stream",
       "stream": "stdout",
       "text": [
        "Got 2323 / 4000 correct (58.07)\n",
        "skip model saving\n"
       ]
      },
      {
       "output_type": "stream",
       "stream": "stdout",
       "text": [
        "[333,   200] loss: 0.029537\n"
       ]
      },
      {
       "output_type": "stream",
       "stream": "stdout",
       "text": [
        "[333,   400] loss: 0.033579\n"
       ]
      },
      {
       "output_type": "stream",
       "stream": "stdout",
       "text": [
        "Got 2320 / 4000 correct (58.00)\n",
        "skip model saving\n"
       ]
      },
      {
       "output_type": "stream",
       "stream": "stdout",
       "text": [
        "[334,   200] loss: 0.032876\n"
       ]
      },
      {
       "output_type": "stream",
       "stream": "stdout",
       "text": [
        "[334,   400] loss: 0.022879\n"
       ]
      },
      {
       "output_type": "stream",
       "stream": "stdout",
       "text": [
        "Got 2325 / 4000 correct (58.13)\n",
        "skip model saving\n"
       ]
      },
      {
       "output_type": "stream",
       "stream": "stdout",
       "text": [
        "[335,   200] loss: 0.030871\n"
       ]
      },
      {
       "output_type": "stream",
       "stream": "stdout",
       "text": [
        "[335,   400] loss: 0.050259\n"
       ]
      },
      {
       "output_type": "stream",
       "stream": "stdout",
       "text": [
        "Got 2336 / 4000 correct (58.40)\n",
        "skip model saving\n"
       ]
      },
      {
       "output_type": "stream",
       "stream": "stdout",
       "text": [
        "[336,   200] loss: 0.034542\n"
       ]
      },
      {
       "output_type": "stream",
       "stream": "stdout",
       "text": [
        "[336,   400] loss: 0.036015\n"
       ]
      },
      {
       "output_type": "stream",
       "stream": "stdout",
       "text": [
        "Got 2330 / 4000 correct (58.25)\n",
        "skip model saving\n"
       ]
      },
      {
       "output_type": "stream",
       "stream": "stdout",
       "text": [
        "[337,   200] loss: 0.036431\n"
       ]
      },
      {
       "output_type": "stream",
       "stream": "stdout",
       "text": [
        "[337,   400] loss: 0.031742\n"
       ]
      },
      {
       "output_type": "stream",
       "stream": "stdout",
       "text": [
        "Got 2323 / 4000 correct (58.07)\n",
        "skip model saving\n"
       ]
      },
      {
       "output_type": "stream",
       "stream": "stdout",
       "text": [
        "[338,   200] loss: 0.028340\n"
       ]
      },
      {
       "output_type": "stream",
       "stream": "stdout",
       "text": [
        "[338,   400] loss: 0.031094\n"
       ]
      },
      {
       "output_type": "stream",
       "stream": "stdout",
       "text": [
        "Got 2314 / 4000 correct (57.85)\n",
        "skip model saving\n"
       ]
      },
      {
       "output_type": "stream",
       "stream": "stdout",
       "text": [
        "[339,   200] loss: 0.032783\n"
       ]
      },
      {
       "output_type": "stream",
       "stream": "stdout",
       "text": [
        "[339,   400] loss: 0.026632\n"
       ]
      },
      {
       "output_type": "stream",
       "stream": "stdout",
       "text": [
        "Got 2330 / 4000 correct (58.25)\n",
        "skip model saving\n"
       ]
      },
      {
       "output_type": "stream",
       "stream": "stdout",
       "text": [
        "[340,   200] loss: 0.032195\n"
       ]
      },
      {
       "output_type": "stream",
       "stream": "stdout",
       "text": [
        "[340,   400] loss: 0.030641\n"
       ]
      },
      {
       "output_type": "stream",
       "stream": "stdout",
       "text": [
        "Got 2308 / 4000 correct (57.70)\n",
        "skip model saving\n"
       ]
      },
      {
       "output_type": "stream",
       "stream": "stdout",
       "text": [
        "[341,   200] loss: 0.033701\n"
       ]
      },
      {
       "output_type": "stream",
       "stream": "stdout",
       "text": [
        "[341,   400] loss: 0.031654\n"
       ]
      },
      {
       "output_type": "stream",
       "stream": "stdout",
       "text": [
        "Got 2324 / 4000 correct (58.10)\n",
        "skip model saving\n"
       ]
      },
      {
       "output_type": "stream",
       "stream": "stdout",
       "text": [
        "[342,   200] loss: 0.031791\n"
       ]
      },
      {
       "output_type": "stream",
       "stream": "stdout",
       "text": [
        "[342,   400] loss: 0.043658\n"
       ]
      },
      {
       "output_type": "stream",
       "stream": "stdout",
       "text": [
        "Got 2330 / 4000 correct (58.25)\n",
        "skip model saving\n"
       ]
      },
      {
       "output_type": "stream",
       "stream": "stdout",
       "text": [
        "[343,   200] loss: 0.029748\n"
       ]
      },
      {
       "output_type": "stream",
       "stream": "stdout",
       "text": [
        "[343,   400] loss: 0.035896\n"
       ]
      },
      {
       "output_type": "stream",
       "stream": "stdout",
       "text": [
        "Got 2326 / 4000 correct (58.15)\n",
        "skip model saving\n"
       ]
      },
      {
       "output_type": "stream",
       "stream": "stdout",
       "text": [
        "[344,   200] loss: 0.040093\n"
       ]
      },
      {
       "output_type": "stream",
       "stream": "stdout",
       "text": [
        "[344,   400] loss: 0.038745\n"
       ]
      },
      {
       "output_type": "stream",
       "stream": "stdout",
       "text": [
        "Got 2315 / 4000 correct (57.88)\n",
        "skip model saving\n"
       ]
      },
      {
       "output_type": "stream",
       "stream": "stdout",
       "text": [
        "[345,   200] loss: 0.030394\n"
       ]
      },
      {
       "output_type": "stream",
       "stream": "stdout",
       "text": [
        "[345,   400] loss: 0.028593\n"
       ]
      },
      {
       "output_type": "stream",
       "stream": "stdout",
       "text": [
        "Got 2347 / 4000 correct (58.67)\n",
        "skip model saving\n"
       ]
      },
      {
       "output_type": "stream",
       "stream": "stdout",
       "text": [
        "[346,   200] loss: 0.033234\n"
       ]
      },
      {
       "output_type": "stream",
       "stream": "stdout",
       "text": [
        "[346,   400] loss: 0.028173\n"
       ]
      },
      {
       "output_type": "stream",
       "stream": "stdout",
       "text": [
        "Got 2346 / 4000 correct (58.65)\n",
        "skip model saving\n"
       ]
      },
      {
       "output_type": "stream",
       "stream": "stdout",
       "text": [
        "[347,   200] loss: 0.028949\n"
       ]
      },
      {
       "output_type": "stream",
       "stream": "stdout",
       "text": [
        "[347,   400] loss: 0.037056\n"
       ]
      },
      {
       "output_type": "stream",
       "stream": "stdout",
       "text": [
        "Got 2331 / 4000 correct (58.27)\n",
        "skip model saving\n"
       ]
      },
      {
       "output_type": "stream",
       "stream": "stdout",
       "text": [
        "[348,   200] loss: 0.024069\n"
       ]
      },
      {
       "output_type": "stream",
       "stream": "stdout",
       "text": [
        "[348,   400] loss: 0.036069\n"
       ]
      },
      {
       "output_type": "stream",
       "stream": "stdout",
       "text": [
        "Got 2351 / 4000 correct (58.77)\n",
        "skip model saving\n"
       ]
      },
      {
       "output_type": "stream",
       "stream": "stdout",
       "text": [
        "[349,   200] loss: 0.029629\n"
       ]
      },
      {
       "output_type": "stream",
       "stream": "stdout",
       "text": [
        "[349,   400] loss: 0.028882\n"
       ]
      },
      {
       "output_type": "stream",
       "stream": "stdout",
       "text": [
        "Got 2325 / 4000 correct (58.13)\n",
        "skip model saving\n"
       ]
      },
      {
       "output_type": "stream",
       "stream": "stdout",
       "text": [
        "[350,   200] loss: 0.038313\n"
       ]
      },
      {
       "output_type": "stream",
       "stream": "stdout",
       "text": [
        "[350,   400] loss: 0.032640\n"
       ]
      },
      {
       "output_type": "stream",
       "stream": "stdout",
       "text": [
        "Got 2324 / 4000 correct (58.10)\n",
        "skip model saving\n"
       ]
      }
     ],
     "prompt_number": 11
    },
    {
     "cell_type": "markdown",
     "metadata": {},
     "source": [
      "### Stylised ResNet50 Training\n",
      "\n",
      "Stylised ResNet50 training has all the same settings as vanilla ResNet50, except the data being used here are the stylised CIFAR10."
     ]
    },
    {
     "cell_type": "code",
     "collapsed": false,
     "input": [
      "# torch.cuda.empty_cache()\n",
      "\n",
      "# # define and train the network\n",
      "# stylised_model_path_torch = './cifar32_style_torch.pth'\n",
      "# stylised_model_torch = torchvision.models.resnet50().to(device)\n",
      "# lr=0.1\n",
      "# stylised_optimizer_torch = optim.Adam(stylised_model_torch.parameters(), lr=lr)\n",
      "# stylised_lr_scheduler_torch = optim.lr_scheduler.MultiStepLR(stylised_optimizer_torch, milestones=[150, 250])\n",
      "# train_part(stylised_model_torch, data_loader_train_style, data_loader_val_style, stylised_model_path_torch, stylised_optimizer_torch, stylised_lr_scheduler_torch, epochs = 350)"
     ],
     "language": "python",
     "metadata": {
      "scrolled": true
     },
     "outputs": [],
     "prompt_number": 12
    },
    {
     "cell_type": "markdown",
     "metadata": {},
     "source": [
      "### Reduced stylised ResNet50 Training\n",
      "\n",
      "Reduced stylised ResNet50 training has all the same settings as vanilla ResNet50, except the data being used here are the stylised CIFAR10."
     ]
    },
    {
     "cell_type": "code",
     "collapsed": false,
     "input": [
      "# torch.cuda.empty_cache()\n",
      "\n",
      "# # define and train the network\n",
      "# red_stylised_model_path_torch = './cifar32_style_red_torch.pth'\n",
      "# red_stylised_model_torch = torchvision.models.resnet50().to(device)\n",
      "# lr=0.1\n",
      "# red_stylised_optimizer_torch = optim.Adam(red_stylised_model_torch.parameters(), lr=lr)\n",
      "# red_stylised_lr_scheduler_torch = optim.lr_scheduler.MultiStepLR(red_stylised_optimizer_torch, milestones=[150, 250])\n",
      "# train_part(red_stylised_model_torch, data_loader_train_style_red, data_loader_val_style_red, red_stylised_model_path_torch, red_stylised_optimizer_torch, red_stylised_lr_scheduler_torch, epochs = 350)"
     ],
     "language": "python",
     "metadata": {},
     "outputs": [],
     "prompt_number": 13
    },
    {
     "cell_type": "markdown",
     "metadata": {},
     "source": [
      "### Large stylised ResNet50 Training\n",
      "\n",
      "Large stylised ResNet50 training has all the same settings as vanilla ResNet50, except the data being used here are the stylised CIFAR10."
     ]
    },
    {
     "cell_type": "code",
     "collapsed": false,
     "input": [
      "# torch.cuda.empty_cache()\n",
      "\n",
      "# # define and train the network\n",
      "# big_stylised_model_path_torch = './cifar512_style_torch.pth'\n",
      "# big_stylised_model_torch = torchvision.models.resnet50().to(device)\n",
      "# lr=0.1\n",
      "# big_stylised_optimizer_torch = optim.Adam(big_stylised_model_torch.parameters(), lr=lr)\n",
      "# big_stylised_lr_scheduler_torch = optim.lr_scheduler.MultiStepLR(big_stylised_optimizer_torch, milestones=[150, 250])\n",
      "# train_part(big_stylised_model_torch, data_loader_train_style_big, data_loader_val_style_big, big_stylised_model_path_torch, big_stylised_optimizer_torch, big_stylised_lr_scheduler_torch, epochs = 350)"
     ],
     "language": "python",
     "metadata": {},
     "outputs": [],
     "prompt_number": 14
    },
    {
     "cell_type": "markdown",
     "metadata": {},
     "source": [
      "### Testing Normal CIFAR10 on Vanilla ResNet50\n",
      "\n",
      "The below code tests the vanilla ResNet50 model on the normal CIFAR10 test set and prints out the final accuracy of the model."
     ]
    },
    {
     "cell_type": "code",
     "collapsed": false,
     "input": [
      "# report test set accuracy\n",
      "vanilla_model_torch = torchvision.models.resnet50().to(device)\n",
      "vanilla_model_torch.load_state_dict(torch.load('./cifar32_torch.pth'))\n",
      "vanilla_model_torch.to(device)\n",
      "check_accuracy(data_loader_test, vanilla_model_torch)"
     ],
     "language": "python",
     "metadata": {},
     "outputs": [
      {
       "output_type": "stream",
       "stream": "stdout",
       "text": [
        "Got 5885 / 10000 correct, accuracy of the dataset is: 58.850 %\n"
       ]
      }
     ],
     "prompt_number": 15
    },
    {
     "cell_type": "markdown",
     "metadata": {},
     "source": [
      "### Testing Stylised CIFAR10 on Vanilla ResNet50\n",
      "\n",
      "The below code tests the vanilla ResNet50 model on the stylised CIFAR10 test set and prints out the final accuracy of the model."
     ]
    },
    {
     "cell_type": "code",
     "collapsed": false,
     "input": [
      "# report test set accuracy\n",
      "vanilla_model_torch = torchvision.models.resnet50().to(device)\n",
      "vanilla_model_torch.load_state_dict(torch.load('./cifar32_torch.pth'))\n",
      "vanilla_model_torch.to(device)\n",
      "check_accuracy(data_loader_test_style, vanilla_model_torch)"
     ],
     "language": "python",
     "metadata": {},
     "outputs": [
      {
       "output_type": "stream",
       "stream": "stdout",
       "text": [
        "Got 1218 / 10000 correct, accuracy of the dataset is: 12.180 %\n"
       ]
      }
     ],
     "prompt_number": 16
    },
    {
     "cell_type": "markdown",
     "metadata": {},
     "source": [
      "### Testing Reduced Stylised CIFAR10 on Vanilla ResNet50\n",
      "\n",
      "The below code tests the vanilla ResNet50 model on the reduced stylised CIFAR10 test set and prints out the final accuracy of the model."
     ]
    },
    {
     "cell_type": "code",
     "collapsed": false,
     "input": [
      "# report test set accuracy\n",
      "vanilla_model_torch = torchvision.models.resnet50().to(device)\n",
      "vanilla_model_torch.load_state_dict(torch.load('./cifar32_torch.pth'))\n",
      "vanilla_model_torch.to(device)\n",
      "check_accuracy(data_loader_test_style_red, vanilla_model_torch)"
     ],
     "language": "python",
     "metadata": {},
     "outputs": [
      {
       "output_type": "stream",
       "stream": "stdout",
       "text": [
        "Got 1021 / 10000 correct, accuracy of the dataset is: 10.210 %\n"
       ]
      }
     ],
     "prompt_number": 17
    },
    {
     "cell_type": "markdown",
     "metadata": {},
     "source": [
      "### Testing Large Stylised CIFAR10 on Vanilla ResNet50\n",
      "\n",
      "The below code tests the vanilla ResNet50 model on the reduced stylised CIFAR10 test set and prints out the final accuracy of the model."
     ]
    },
    {
     "cell_type": "code",
     "collapsed": false,
     "input": [
      "# report test set accuracy\n",
      "vanilla_model_torch = torchvision.models.resnet50().to(device)\n",
      "vanilla_model_torch.load_state_dict(torch.load('./cifar32_torch.pth'))\n",
      "vanilla_model_torch.to(device)\n",
      "check_accuracy(data_loader_test_style_big, vanilla_model_torch)"
     ],
     "language": "python",
     "metadata": {},
     "outputs": [
      {
       "ename": "RuntimeError",
       "evalue": "CUDA out of memory. Tried to allocate 1024.00 MiB (GPU 6; 11.17 GiB total capacity; 1.67 GiB already allocated; 262.44 MiB free; 1.06 GiB cached)",
       "output_type": "pyerr",
       "traceback": [
        "\u001b[0;31m---------------------------------------------------------------------------\u001b[0m",
        "\u001b[0;31mRuntimeError\u001b[0m                              Traceback (most recent call last)",
        "\u001b[0;32m<ipython-input-18-cd252fb25e33>\u001b[0m in \u001b[0;36m<module>\u001b[0;34m\u001b[0m\n\u001b[1;32m      3\u001b[0m \u001b[0mvanilla_model_torch\u001b[0m\u001b[0;34m.\u001b[0m\u001b[0mload_state_dict\u001b[0m\u001b[0;34m(\u001b[0m\u001b[0mtorch\u001b[0m\u001b[0;34m.\u001b[0m\u001b[0mload\u001b[0m\u001b[0;34m(\u001b[0m\u001b[0;34m'./cifar32_torch.pth'\u001b[0m\u001b[0;34m)\u001b[0m\u001b[0;34m)\u001b[0m\u001b[0;34m\u001b[0m\u001b[0;34m\u001b[0m\u001b[0m\n\u001b[1;32m      4\u001b[0m \u001b[0mvanilla_model_torch\u001b[0m\u001b[0;34m.\u001b[0m\u001b[0mto\u001b[0m\u001b[0;34m(\u001b[0m\u001b[0mdevice\u001b[0m\u001b[0;34m)\u001b[0m\u001b[0;34m\u001b[0m\u001b[0;34m\u001b[0m\u001b[0m\n\u001b[0;32m----> 5\u001b[0;31m \u001b[0mcheck_accuracy\u001b[0m\u001b[0;34m(\u001b[0m\u001b[0mdata_loader_test_style_big\u001b[0m\u001b[0;34m,\u001b[0m \u001b[0mvanilla_model_torch\u001b[0m\u001b[0;34m)\u001b[0m\u001b[0;34m\u001b[0m\u001b[0;34m\u001b[0m\u001b[0m\n\u001b[0m",
        "\u001b[0;32m<ipython-input-10-f5fdf78c721f>\u001b[0m in \u001b[0;36mcheck_accuracy\u001b[0;34m(loader, model)\u001b[0m\n\u001b[1;32m     13\u001b[0m             \u001b[0minputs\u001b[0m \u001b[0;34m=\u001b[0m \u001b[0mbatch\u001b[0m\u001b[0;34m[\u001b[0m\u001b[0;34m'image'\u001b[0m\u001b[0;34m]\u001b[0m\u001b[0;34m.\u001b[0m\u001b[0mto\u001b[0m\u001b[0;34m(\u001b[0m\u001b[0mdevice\u001b[0m\u001b[0;34m)\u001b[0m\u001b[0;34m\u001b[0m\u001b[0;34m\u001b[0m\u001b[0m\n\u001b[1;32m     14\u001b[0m             \u001b[0mlabels\u001b[0m \u001b[0;34m=\u001b[0m \u001b[0mbatch\u001b[0m\u001b[0;34m[\u001b[0m\u001b[0;34m'cls'\u001b[0m\u001b[0;34m]\u001b[0m\u001b[0;34m.\u001b[0m\u001b[0mto\u001b[0m\u001b[0;34m(\u001b[0m\u001b[0mdevice\u001b[0m\u001b[0;34m)\u001b[0m\u001b[0;34m\u001b[0m\u001b[0;34m\u001b[0m\u001b[0m\n\u001b[0;32m---> 15\u001b[0;31m             \u001b[0mscores\u001b[0m \u001b[0;34m=\u001b[0m \u001b[0mmodel\u001b[0m\u001b[0;34m(\u001b[0m\u001b[0minputs\u001b[0m\u001b[0;34m)\u001b[0m\u001b[0;34m\u001b[0m\u001b[0;34m\u001b[0m\u001b[0m\n\u001b[0m\u001b[1;32m     16\u001b[0m             \u001b[0m_\u001b[0m\u001b[0;34m,\u001b[0m \u001b[0mpreds\u001b[0m \u001b[0;34m=\u001b[0m \u001b[0mscores\u001b[0m\u001b[0;34m.\u001b[0m\u001b[0mmax\u001b[0m\u001b[0;34m(\u001b[0m\u001b[0;36m1\u001b[0m\u001b[0;34m)\u001b[0m\u001b[0;34m\u001b[0m\u001b[0;34m\u001b[0m\u001b[0m\n\u001b[1;32m     17\u001b[0m             \u001b[0mnum_correct\u001b[0m \u001b[0;34m+=\u001b[0m \u001b[0;34m(\u001b[0m\u001b[0mpreds\u001b[0m \u001b[0;34m==\u001b[0m \u001b[0mlabels\u001b[0m\u001b[0;34m)\u001b[0m\u001b[0;34m.\u001b[0m\u001b[0msum\u001b[0m\u001b[0;34m(\u001b[0m\u001b[0;34m)\u001b[0m\u001b[0;34m\u001b[0m\u001b[0;34m\u001b[0m\u001b[0m\n",
        "\u001b[0;32m/vol/bitbucket/sc5316/miniconda3/lib/python3.7/site-packages/torch/nn/modules/module.py\u001b[0m in \u001b[0;36m__call__\u001b[0;34m(self, *input, **kwargs)\u001b[0m\n\u001b[1;32m    545\u001b[0m             \u001b[0mresult\u001b[0m \u001b[0;34m=\u001b[0m \u001b[0mself\u001b[0m\u001b[0;34m.\u001b[0m\u001b[0m_slow_forward\u001b[0m\u001b[0;34m(\u001b[0m\u001b[0;34m*\u001b[0m\u001b[0minput\u001b[0m\u001b[0;34m,\u001b[0m \u001b[0;34m**\u001b[0m\u001b[0mkwargs\u001b[0m\u001b[0;34m)\u001b[0m\u001b[0;34m\u001b[0m\u001b[0;34m\u001b[0m\u001b[0m\n\u001b[1;32m    546\u001b[0m         \u001b[0;32melse\u001b[0m\u001b[0;34m:\u001b[0m\u001b[0;34m\u001b[0m\u001b[0;34m\u001b[0m\u001b[0m\n\u001b[0;32m--> 547\u001b[0;31m             \u001b[0mresult\u001b[0m \u001b[0;34m=\u001b[0m \u001b[0mself\u001b[0m\u001b[0;34m.\u001b[0m\u001b[0mforward\u001b[0m\u001b[0;34m(\u001b[0m\u001b[0;34m*\u001b[0m\u001b[0minput\u001b[0m\u001b[0;34m,\u001b[0m \u001b[0;34m**\u001b[0m\u001b[0mkwargs\u001b[0m\u001b[0;34m)\u001b[0m\u001b[0;34m\u001b[0m\u001b[0;34m\u001b[0m\u001b[0m\n\u001b[0m\u001b[1;32m    548\u001b[0m         \u001b[0;32mfor\u001b[0m \u001b[0mhook\u001b[0m \u001b[0;32min\u001b[0m \u001b[0mself\u001b[0m\u001b[0;34m.\u001b[0m\u001b[0m_forward_hooks\u001b[0m\u001b[0;34m.\u001b[0m\u001b[0mvalues\u001b[0m\u001b[0;34m(\u001b[0m\u001b[0;34m)\u001b[0m\u001b[0;34m:\u001b[0m\u001b[0;34m\u001b[0m\u001b[0;34m\u001b[0m\u001b[0m\n\u001b[1;32m    549\u001b[0m             \u001b[0mhook_result\u001b[0m \u001b[0;34m=\u001b[0m \u001b[0mhook\u001b[0m\u001b[0;34m(\u001b[0m\u001b[0mself\u001b[0m\u001b[0;34m,\u001b[0m \u001b[0minput\u001b[0m\u001b[0;34m,\u001b[0m \u001b[0mresult\u001b[0m\u001b[0;34m)\u001b[0m\u001b[0;34m\u001b[0m\u001b[0;34m\u001b[0m\u001b[0m\n",
        "\u001b[0;32m/vol/bitbucket/sc5316/miniconda3/lib/python3.7/site-packages/torchvision/models/resnet.py\u001b[0m in \u001b[0;36mforward\u001b[0;34m(self, x)\u001b[0m\n\u001b[1;32m    195\u001b[0m     \u001b[0;32mdef\u001b[0m \u001b[0mforward\u001b[0m\u001b[0;34m(\u001b[0m\u001b[0mself\u001b[0m\u001b[0;34m,\u001b[0m \u001b[0mx\u001b[0m\u001b[0;34m)\u001b[0m\u001b[0;34m:\u001b[0m\u001b[0;34m\u001b[0m\u001b[0;34m\u001b[0m\u001b[0m\n\u001b[1;32m    196\u001b[0m         \u001b[0mx\u001b[0m \u001b[0;34m=\u001b[0m \u001b[0mself\u001b[0m\u001b[0;34m.\u001b[0m\u001b[0mconv1\u001b[0m\u001b[0;34m(\u001b[0m\u001b[0mx\u001b[0m\u001b[0;34m)\u001b[0m\u001b[0;34m\u001b[0m\u001b[0;34m\u001b[0m\u001b[0m\n\u001b[0;32m--> 197\u001b[0;31m         \u001b[0mx\u001b[0m \u001b[0;34m=\u001b[0m \u001b[0mself\u001b[0m\u001b[0;34m.\u001b[0m\u001b[0mbn1\u001b[0m\u001b[0;34m(\u001b[0m\u001b[0mx\u001b[0m\u001b[0;34m)\u001b[0m\u001b[0;34m\u001b[0m\u001b[0;34m\u001b[0m\u001b[0m\n\u001b[0m\u001b[1;32m    198\u001b[0m         \u001b[0mx\u001b[0m \u001b[0;34m=\u001b[0m \u001b[0mself\u001b[0m\u001b[0;34m.\u001b[0m\u001b[0mrelu\u001b[0m\u001b[0;34m(\u001b[0m\u001b[0mx\u001b[0m\u001b[0;34m)\u001b[0m\u001b[0;34m\u001b[0m\u001b[0;34m\u001b[0m\u001b[0m\n\u001b[1;32m    199\u001b[0m         \u001b[0mx\u001b[0m \u001b[0;34m=\u001b[0m \u001b[0mself\u001b[0m\u001b[0;34m.\u001b[0m\u001b[0mmaxpool\u001b[0m\u001b[0;34m(\u001b[0m\u001b[0mx\u001b[0m\u001b[0;34m)\u001b[0m\u001b[0;34m\u001b[0m\u001b[0;34m\u001b[0m\u001b[0m\n",
        "\u001b[0;32m/vol/bitbucket/sc5316/miniconda3/lib/python3.7/site-packages/torch/nn/modules/module.py\u001b[0m in \u001b[0;36m__call__\u001b[0;34m(self, *input, **kwargs)\u001b[0m\n\u001b[1;32m    545\u001b[0m             \u001b[0mresult\u001b[0m \u001b[0;34m=\u001b[0m \u001b[0mself\u001b[0m\u001b[0;34m.\u001b[0m\u001b[0m_slow_forward\u001b[0m\u001b[0;34m(\u001b[0m\u001b[0;34m*\u001b[0m\u001b[0minput\u001b[0m\u001b[0;34m,\u001b[0m \u001b[0;34m**\u001b[0m\u001b[0mkwargs\u001b[0m\u001b[0;34m)\u001b[0m\u001b[0;34m\u001b[0m\u001b[0;34m\u001b[0m\u001b[0m\n\u001b[1;32m    546\u001b[0m         \u001b[0;32melse\u001b[0m\u001b[0;34m:\u001b[0m\u001b[0;34m\u001b[0m\u001b[0;34m\u001b[0m\u001b[0m\n\u001b[0;32m--> 547\u001b[0;31m             \u001b[0mresult\u001b[0m \u001b[0;34m=\u001b[0m \u001b[0mself\u001b[0m\u001b[0;34m.\u001b[0m\u001b[0mforward\u001b[0m\u001b[0;34m(\u001b[0m\u001b[0;34m*\u001b[0m\u001b[0minput\u001b[0m\u001b[0;34m,\u001b[0m \u001b[0;34m**\u001b[0m\u001b[0mkwargs\u001b[0m\u001b[0;34m)\u001b[0m\u001b[0;34m\u001b[0m\u001b[0;34m\u001b[0m\u001b[0m\n\u001b[0m\u001b[1;32m    548\u001b[0m         \u001b[0;32mfor\u001b[0m \u001b[0mhook\u001b[0m \u001b[0;32min\u001b[0m \u001b[0mself\u001b[0m\u001b[0;34m.\u001b[0m\u001b[0m_forward_hooks\u001b[0m\u001b[0;34m.\u001b[0m\u001b[0mvalues\u001b[0m\u001b[0;34m(\u001b[0m\u001b[0;34m)\u001b[0m\u001b[0;34m:\u001b[0m\u001b[0;34m\u001b[0m\u001b[0;34m\u001b[0m\u001b[0m\n\u001b[1;32m    549\u001b[0m             \u001b[0mhook_result\u001b[0m \u001b[0;34m=\u001b[0m \u001b[0mhook\u001b[0m\u001b[0;34m(\u001b[0m\u001b[0mself\u001b[0m\u001b[0;34m,\u001b[0m \u001b[0minput\u001b[0m\u001b[0;34m,\u001b[0m \u001b[0mresult\u001b[0m\u001b[0;34m)\u001b[0m\u001b[0;34m\u001b[0m\u001b[0;34m\u001b[0m\u001b[0m\n",
        "\u001b[0;32m/vol/bitbucket/sc5316/miniconda3/lib/python3.7/site-packages/torch/nn/modules/batchnorm.py\u001b[0m in \u001b[0;36mforward\u001b[0;34m(self, input)\u001b[0m\n\u001b[1;32m     79\u001b[0m             \u001b[0minput\u001b[0m\u001b[0;34m,\u001b[0m \u001b[0mself\u001b[0m\u001b[0;34m.\u001b[0m\u001b[0mrunning_mean\u001b[0m\u001b[0;34m,\u001b[0m \u001b[0mself\u001b[0m\u001b[0;34m.\u001b[0m\u001b[0mrunning_var\u001b[0m\u001b[0;34m,\u001b[0m \u001b[0mself\u001b[0m\u001b[0;34m.\u001b[0m\u001b[0mweight\u001b[0m\u001b[0;34m,\u001b[0m \u001b[0mself\u001b[0m\u001b[0;34m.\u001b[0m\u001b[0mbias\u001b[0m\u001b[0;34m,\u001b[0m\u001b[0;34m\u001b[0m\u001b[0;34m\u001b[0m\u001b[0m\n\u001b[1;32m     80\u001b[0m             \u001b[0mself\u001b[0m\u001b[0;34m.\u001b[0m\u001b[0mtraining\u001b[0m \u001b[0;32mor\u001b[0m \u001b[0;32mnot\u001b[0m \u001b[0mself\u001b[0m\u001b[0;34m.\u001b[0m\u001b[0mtrack_running_stats\u001b[0m\u001b[0;34m,\u001b[0m\u001b[0;34m\u001b[0m\u001b[0;34m\u001b[0m\u001b[0m\n\u001b[0;32m---> 81\u001b[0;31m             exponential_average_factor, self.eps)\n\u001b[0m\u001b[1;32m     82\u001b[0m \u001b[0;34m\u001b[0m\u001b[0m\n\u001b[1;32m     83\u001b[0m     \u001b[0;32mdef\u001b[0m \u001b[0mextra_repr\u001b[0m\u001b[0;34m(\u001b[0m\u001b[0mself\u001b[0m\u001b[0;34m)\u001b[0m\u001b[0;34m:\u001b[0m\u001b[0;34m\u001b[0m\u001b[0;34m\u001b[0m\u001b[0m\n",
        "\u001b[0;32m/vol/bitbucket/sc5316/miniconda3/lib/python3.7/site-packages/torch/nn/functional.py\u001b[0m in \u001b[0;36mbatch_norm\u001b[0;34m(input, running_mean, running_var, weight, bias, training, momentum, eps)\u001b[0m\n\u001b[1;32m   1654\u001b[0m     return torch.batch_norm(\n\u001b[1;32m   1655\u001b[0m         \u001b[0minput\u001b[0m\u001b[0;34m,\u001b[0m \u001b[0mweight\u001b[0m\u001b[0;34m,\u001b[0m \u001b[0mbias\u001b[0m\u001b[0;34m,\u001b[0m \u001b[0mrunning_mean\u001b[0m\u001b[0;34m,\u001b[0m \u001b[0mrunning_var\u001b[0m\u001b[0;34m,\u001b[0m\u001b[0;34m\u001b[0m\u001b[0;34m\u001b[0m\u001b[0m\n\u001b[0;32m-> 1656\u001b[0;31m         \u001b[0mtraining\u001b[0m\u001b[0;34m,\u001b[0m \u001b[0mmomentum\u001b[0m\u001b[0;34m,\u001b[0m \u001b[0meps\u001b[0m\u001b[0;34m,\u001b[0m \u001b[0mtorch\u001b[0m\u001b[0;34m.\u001b[0m\u001b[0mbackends\u001b[0m\u001b[0;34m.\u001b[0m\u001b[0mcudnn\u001b[0m\u001b[0;34m.\u001b[0m\u001b[0menabled\u001b[0m\u001b[0;34m\u001b[0m\u001b[0;34m\u001b[0m\u001b[0m\n\u001b[0m\u001b[1;32m   1657\u001b[0m     )\n\u001b[1;32m   1658\u001b[0m \u001b[0;34m\u001b[0m\u001b[0m\n",
        "\u001b[0;31mRuntimeError\u001b[0m: CUDA out of memory. Tried to allocate 1024.00 MiB (GPU 6; 11.17 GiB total capacity; 1.67 GiB already allocated; 262.44 MiB free; 1.06 GiB cached)"
       ]
      }
     ],
     "prompt_number": 18
    },
    {
     "cell_type": "markdown",
     "metadata": {},
     "source": [
      "### Testing Normal CIFAR10 on Stylised ResNet50\n",
      "\n",
      "The below code tests the stylised ResNet50 model on the vanilla CIFAR10 test set and prints out the final accuracy of the model."
     ]
    },
    {
     "cell_type": "code",
     "collapsed": false,
     "input": [
      "# # report test set accuracy\n",
      "# stylised_model_torch = torchvision.models.resnet50().to(device)\n",
      "# stylised_model_torch.load_state_dict(torch.load('./cifar32_style_torch.pth'))\n",
      "# stylised_model_torch.to(device)\n",
      "# check_accuracy(data_loader_test, stylised_model_torch)"
     ],
     "language": "python",
     "metadata": {},
     "outputs": [
      {
       "output_type": "stream",
       "stream": "stdout",
       "text": [
        "Accuracy of the dataset is: 37.886111 %\n"
       ]
      }
     ],
     "prompt_number": 8
    },
    {
     "cell_type": "markdown",
     "metadata": {},
     "source": [
      "### Testing Stylised CIFAR10 on Stylised ResNet50\n",
      "\n",
      "The below code tests the stylised ResNet50 model on the stylised CIFAR10 test set and prints out the final accuracy of the model."
     ]
    },
    {
     "cell_type": "code",
     "collapsed": false,
     "input": [
      "# # report test set accuracy\n",
      "# stylised_model_torch = torchvision.models.resnet50().to(device)\n",
      "# stylised_model_torch.load_state_dict(torch.load('./cifar32_style_torch.pth'))\n",
      "# stylised_model_torch.to(device)\n",
      "# check_accuracy(data_loader_test_style, stylised_model_torch)"
     ],
     "language": "python",
     "metadata": {},
     "outputs": [
      {
       "output_type": "stream",
       "stream": "stdout",
       "text": [
        "Accuracy of the dataset is: 37.886111 %\n"
       ]
      }
     ],
     "prompt_number": 8
    },
    {
     "cell_type": "markdown",
     "metadata": {},
     "source": [
      "### Testing Normal CIFAR10 on Reduced Stylised ResNet50\n",
      "\n",
      "The below code tests the stylised ResNet50 model on the stylised CIFAR10 test set and prints out the final accuracy of the model."
     ]
    },
    {
     "cell_type": "code",
     "collapsed": false,
     "input": [
      "# # report test set accuracy\n",
      "# red_stylised_model_torch = torchvision.models.resnet50().to(device)\n",
      "# red_stylised_model_torch.load_state_dict(torch.load('./cifar32_style_red_torch.pth'))\n",
      "# red_stylised_model_torch.to(device)\n",
      "# check_accuracy(data_loader_test, red_stylised_model_torch)"
     ],
     "language": "python",
     "metadata": {},
     "outputs": [],
     "prompt_number": null
    },
    {
     "cell_type": "markdown",
     "metadata": {},
     "source": [
      "### Testing Reduced Stylised CIFAR10 on Reduced Stylised ResNet50\n",
      "\n",
      "The below code tests the stylised ResNet50 model on the stylised CIFAR10 test set and prints out the final accuracy of the model."
     ]
    },
    {
     "cell_type": "code",
     "collapsed": false,
     "input": [
      "# # report test set accuracy\n",
      "# red_stylised_model_torch = torchvision.models.resnet50().to(device)\n",
      "# red_stylised_model_torch.load_state_dict(torch.load('./cifar32_style_red_torch.pth'))\n",
      "# red_stylised_model_torch.to(device)\n",
      "# check_accuracy(data_loader_test_style_red, red_stylised_model_torch)"
     ],
     "language": "python",
     "metadata": {},
     "outputs": [],
     "prompt_number": null
    },
    {
     "cell_type": "markdown",
     "metadata": {},
     "source": [
      "### Testing Normal CIFAR10 on Large Stylised ResNet50\n",
      "\n",
      "The below code tests the stylised ResNet50 model on the stylised CIFAR10 test set and prints out the final accuracy of the model."
     ]
    },
    {
     "cell_type": "code",
     "collapsed": false,
     "input": [
      "# # report test set accuracy\n",
      "# big_stylised_model_torch = torchvision.models.resnet50().to(device)\n",
      "# big_stylised_model_torch.load_state_dict(torch.load('./cifar512_style_torch.pth'))\n",
      "# big_stylised_model_torch.to(device)\n",
      "# check_accuracy(data_loader_test, big_stylised_model_torch)"
     ],
     "language": "python",
     "metadata": {},
     "outputs": [],
     "prompt_number": null
    },
    {
     "cell_type": "markdown",
     "metadata": {},
     "source": [
      "### Testing Normal CIFAR10 on Large Stylised ResNet50\n",
      "\n",
      "The below code tests the stylised ResNet50 model on the stylised CIFAR10 test set and prints out the final accuracy of the model."
     ]
    },
    {
     "cell_type": "code",
     "collapsed": false,
     "input": [
      "# # report test set accuracy\n",
      "# big_stylised_model_torch = torchvision.models.resnet50().to(device)\n",
      "# big_stylised_model_torch.load_state_dict(torch.load('./cifar512_style_torch.pth'))\n",
      "# big_stylised_model_torch.to(device)\n",
      "# check_accuracy(data_loader_test_style_big, big_stylised_model_torch)"
     ],
     "language": "python",
     "metadata": {},
     "outputs": [],
     "prompt_number": null
    }
   ],
   "metadata": {}
  }
 ]
}
