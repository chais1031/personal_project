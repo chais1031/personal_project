{
 "metadata": {
  "kernelspec": {
   "display_name": "Python 3",
   "language": "python",
   "name": "python3"
  },
  "language_info": {
   "codemirror_mode": {
    "name": "ipython",
    "version": 3
   },
   "file_extension": ".py",
   "mimetype": "text/x-python",
   "name": "python",
   "nbconvert_exporter": "python",
   "pygments_lexer": "ipython3",
   "version": "3.7.4"
  },
  "name": ""
 },
 "nbformat": 3,
 "nbformat_minor": 0,
 "worksheets": [
  {
   "cells": [
    {
     "cell_type": "heading",
     "level": 1,
     "metadata": {},
     "source": [
      "Exploring Contextural Bias of ResNet50 on CIFAR10 Dataset"
     ]
    },
    {
     "cell_type": "markdown",
     "metadata": {},
     "source": [
      "### Introduction\n",
      "\n",
      "This notebook trains and tests a vanilla ResNet50 model and a stylised ResNet50 model with the CIFAR10 dataset. It includes functions for loading the dataset, turning them into tensors, model training and testing."
     ]
    },
    {
     "cell_type": "code",
     "collapsed": false,
     "input": [
      "import torch\n",
      "import torchvision\n",
      "import torch.nn as nn\n",
      "import torch.nn.functional as F\n",
      "import torch.optim as optim\n",
      "from torch.nn import Conv2d, AvgPool2d\n",
      "from torch.utils.data import DataLoader, Dataset\n",
      "from torchvision import transforms\n",
      "import os\n",
      "from skimage import io\n",
      "import numpy as np\n",
      "from PIL import Image"
     ],
     "language": "python",
     "metadata": {},
     "outputs": [],
     "prompt_number": 1
    },
    {
     "cell_type": "markdown",
     "metadata": {},
     "source": [
      "### Data Loading\n",
      "\n",
      "The following cell provides a class that loads the CIFAR dataset given the relevant path, processes it into a dictionary format of class labels and content then processes the images into tensors. The class also has helper functions to extract information about the dataset needed for model training and testing."
     ]
    },
    {
     "cell_type": "code",
     "collapsed": false,
     "input": [
      "class CifarDataset(Dataset):\n",
      "    \n",
      "    def __init__(self, data_path):\n",
      "        \n",
      "        super(CifarDataset, self).__init__()\n",
      "        self.data_path = data_path\n",
      "        self.num_classes = 0\n",
      "        self.classes = []\n",
      "        \n",
      "        classes_list = []\n",
      "        for class_name in os.listdir(data_path):\n",
      "            if not os.path.isdir(os.path.join(data_path,class_name)):\n",
      "                continue\n",
      "            classes_list.append(class_name)\n",
      "        classes_list.sort()\n",
      "        self.classes = [dict(class_idx = k, class_name = v) for k, v in enumerate(classes_list)]\n",
      "        \n",
      "\n",
      "        self.num_classes = len(self.classes)\n",
      "\n",
      "        self.image_list = []\n",
      "        for cls in self.classes:\n",
      "            class_path = os.path.join(data_path, cls['class_name'])\n",
      "            for image_name in os.listdir(class_path):\n",
      "                image_path = os.path.join(class_path, image_name)\n",
      "                self.image_list.append(dict(\n",
      "                    cls = cls,\n",
      "                    image_path = image_path,\n",
      "                    image_name = image_name,\n",
      "                ))\n",
      "\n",
      "        self.img_idxes = np.arange(0,len(self.image_list))\n",
      "\n",
      "    def __len__(self):\n",
      "        return len(self.img_idxes)\n",
      "\n",
      "    def __getitem__(self, index):\n",
      "\n",
      "        img_idx = self.img_idxes[index]\n",
      "        img_info = self.image_list[img_idx]\n",
      "\n",
      "        img = Image.open(img_info['image_path'])\n",
      "\n",
      "        tr = transforms.ToTensor()\n",
      "        img = tr(img)\n",
      "        tr = transforms.Normalize((0.4914, 0.4822, 0.4465), (0.2023, 0.1994, 0.2010))\n",
      "        img = tr(img)\n",
      "        return dict(image = img, cls = img_info['cls']['class_idx'], class_name = img_info['cls']['class_name'])\n",
      "\n",
      "    def get_number_of_classes(self):\n",
      "        return self.num_classes\n",
      "\n",
      "    def get_number_of_samples(self):\n",
      "        return self.__len__()\n",
      "\n",
      "    def get_class_names(self):\n",
      "        return [cls['class_name'] for cls in self.classes]\n",
      "\n",
      "    def get_class_name(self, class_idx):\n",
      "        return self.classes[class_idx]['class_name']"
     ],
     "language": "python",
     "metadata": {},
     "outputs": [],
     "prompt_number": 2
    },
    {
     "cell_type": "code",
     "collapsed": false,
     "input": [
      "def get_cifar_datasets(data_path):\n",
      "    dataset = CifarDataset(data_path)\n",
      "    return dataset"
     ],
     "language": "python",
     "metadata": {},
     "outputs": [],
     "prompt_number": 3
    },
    {
     "cell_type": "markdown",
     "metadata": {},
     "source": [
      "The data being used for this experiment are normal CIFAR10 dataset and the stylised version of the CIFAR10 dataset created using AdaIN style transfer.\n",
      "\n",
      "The following cell calls the function created above to load the training, validation and testing datasets of both normal and stylised CIFAR10 and transforms them into data loaders."
     ]
    },
    {
     "cell_type": "code",
     "collapsed": false,
     "input": [
      "# Load normal CIFAR10\n",
      "data_path_train = \"../../CIFAR/cifar32/training\"\n",
      "dataset_train = get_cifar_datasets(data_path_train)\n",
      "\n",
      "data_path_val = \"../../CIFAR/cifar32/validation/\"\n",
      "dataset_val = get_cifar_datasets(data_path_val)\n",
      "\n",
      "data_path_test = \"../../CIFAR/cifar32/testing/\"\n",
      "dataset_test = get_cifar_datasets(data_path_test)\n",
      "\n",
      "print(f\"Number of train samples {dataset_train.__len__()}\")\n",
      "print(\"Class names are: \" + str(dataset_train.get_class_names()))\n",
      "\n",
      "print(f\"Number of val samples {dataset_val.__len__()}\")\n",
      "print(\"Class names are: \" + str(dataset_val.get_class_names()))\n",
      "\n",
      "print(f\"Number of test samples {dataset_test.__len__()}\")\n",
      "print(\"Class names are: \" + str(dataset_test.get_class_names()))\n",
      "\n",
      "BATCH_SIZE = 64\n",
      "\n",
      "data_loader_train = DataLoader(dataset_train, BATCH_SIZE, shuffle = True)\n",
      "data_loader_val = DataLoader(dataset_val, BATCH_SIZE, shuffle = True)\n",
      "data_loader_test = DataLoader(dataset_test, BATCH_SIZE, shuffle = True)"
     ],
     "language": "python",
     "metadata": {},
     "outputs": [
      {
       "output_type": "stream",
       "stream": "stdout",
       "text": [
        "Number of train samples 36000\n",
        "Class names are: ['0000000001', '0000000010', '0000000100', '0000001000', '0000010000', '0000100000', '0001000000', '0010000000', '0100000000', '1000000000']\n",
        "Number of val samples 4000\n",
        "Class names are: ['0000000001', '0000000010', '0000000100', '0000001000', '0000010000', '0000100000', '0001000000', '0010000000', '0100000000', '1000000000']\n",
        "Number of test samples 10000\n",
        "Class names are: ['0000000001', '0000000010', '0000000100', '0000001000', '0000010000', '0000100000', '0001000000', '0010000000', '0100000000', '1000000000']\n"
       ]
      }
     ],
     "prompt_number": 4
    },
    {
     "cell_type": "code",
     "collapsed": false,
     "input": [
      "# Load stylised CIFAR10 with original kaggle images\n",
      "data_path_train_style = \"../../CIFAR/cifar32_style/training\"\n",
      "dataset_train_style = get_cifar_datasets(data_path_train_style)\n",
      "\n",
      "data_path_val_style = \"../../CIFAR/cifar32_style/validation/\"\n",
      "dataset_val_style = get_cifar_datasets(data_path_val_style)\n",
      "\n",
      "data_path_test_style = \"../../CIFAR/cifar32_style/testing/\"\n",
      "dataset_test_style = get_cifar_datasets(data_path_test_style)\n",
      "\n",
      "print(f\"Number of stylised train samples {dataset_train_style.__len__()}\")\n",
      "print(\"Class names are: \" + str(dataset_train_style.get_class_names()))\n",
      "\n",
      "print(f\"Number of stylised val samples {dataset_val_style.__len__()}\")\n",
      "print(\"Class names are: \" + str(dataset_val_style.get_class_names()))\n",
      "\n",
      "print(f\"Number of stylised test samples {dataset_test_style.__len__()}\")\n",
      "print(\"Class names are: \" + str(dataset_test_style.get_class_names()))\n",
      "\n",
      "BATCH_SIZE = 64\n",
      "\n",
      "data_loader_train_style = DataLoader(dataset_train_style, BATCH_SIZE, shuffle = True)\n",
      "data_loader_val_style = DataLoader(dataset_val_style, BATCH_SIZE, shuffle = True)\n",
      "data_loader_test_style = DataLoader(dataset_test_style, BATCH_SIZE, shuffle = True)"
     ],
     "language": "python",
     "metadata": {},
     "outputs": [
      {
       "output_type": "stream",
       "stream": "stdout",
       "text": [
        "Number of stylised train samples 216000\n",
        "Class names are: ['0000000001', '0000000010', '0000000100', '0000001000', '0000010000', '0000100000', '0001000000', '0010000000', '0100000000', '1000000000']\n",
        "Number of stylised val samples 4000\n",
        "Class names are: ['0000000001', '0000000010', '0000000100', '0000001000', '0000010000', '0000100000', '0001000000', '0010000000', '0100000000', '1000000000']\n",
        "Number of stylised test samples 10000\n",
        "Class names are: ['0000000001', '0000000010', '0000000100', '0000001000', '0000010000', '0000100000', '0001000000', '0010000000', '0100000000', '1000000000']\n"
       ]
      }
     ],
     "prompt_number": 5
    },
    {
     "cell_type": "code",
     "collapsed": false,
     "input": [
      "# Load stylised CIFAR10 with reduced kaggle images\n",
      "data_path_train_style_red = \"../../CIFAR/cifar32_style_red/training\"\n",
      "dataset_train_style_red = get_cifar_datasets(data_path_train_style_red)\n",
      "\n",
      "data_path_val_style_red = \"../../CIFAR/cifar32_style_red/validation/\"\n",
      "dataset_val_style_red = get_cifar_datasets(data_path_val_style_red)\n",
      "\n",
      "data_path_test_style_red = \"../../CIFAR/cifar32_style_red/testing/\"\n",
      "dataset_test_style_red = get_cifar_datasets(data_path_test_style_red)\n",
      "\n",
      "print(f\"Number of reduced stylised train samples {dataset_train_style_red.__len__()}\")\n",
      "print(\"Class names are: \" + str(dataset_train_style_red.get_class_names()))\n",
      "\n",
      "print(f\"Number of reduced stylised val samples {dataset_val_style_red.__len__()}\")\n",
      "print(\"Class names are: \" + str(dataset_val_style_red.get_class_names()))\n",
      "\n",
      "print(f\"Number of reduced stylised test samples {dataset_test_style_red.__len__()}\")\n",
      "print(\"Class names are: \" + str(dataset_test_style_red.get_class_names()))\n",
      "\n",
      "BATCH_SIZE = 64\n",
      "\n",
      "data_loader_train_style_red = DataLoader(dataset_train_style_red, BATCH_SIZE, shuffle = True)\n",
      "data_loader_val_style_red = DataLoader(dataset_val_style_red, BATCH_SIZE, shuffle = True)\n",
      "data_loader_test_style_red = DataLoader(dataset_test_style_red, BATCH_SIZE, shuffle = True)"
     ],
     "language": "python",
     "metadata": {},
     "outputs": [
      {
       "output_type": "stream",
       "stream": "stdout",
       "text": [
        "Number of reduced stylised train samples 216000\n",
        "Class names are: ['0000000001', '0000000010', '0000000100', '0000001000', '0000010000', '0000100000', '0001000000', '0010000000', '0100000000', '1000000000']\n",
        "Number of reduced stylised val samples 4000\n",
        "Class names are: ['0000000001', '0000000010', '0000000100', '0000001000', '0000010000', '0000100000', '0001000000', '0010000000', '0100000000', '1000000000']\n",
        "Number of reduced stylised test samples 10000\n",
        "Class names are: ['0000000001', '0000000010', '0000000100', '0000001000', '0000010000', '0000100000', '0001000000', '0010000000', '0100000000', '1000000000']\n"
       ]
      }
     ],
     "prompt_number": 6
    },
    {
     "cell_type": "code",
     "collapsed": false,
     "input": [
      "# Load largely stylised CIFAR10\n",
      "data_path_train_style_big = \"../../CIFAR/cifar100_style/training\"\n",
      "dataset_train_style_big = get_cifar_datasets(data_path_train_style_big)\n",
      "\n",
      "data_path_val_style_big = \"../../CIFAR/cifar100_style/validation/\"\n",
      "dataset_val_style_big = get_cifar_datasets(data_path_val_style_big)\n",
      "\n",
      "data_path_test_style_big = \"../../CIFAR/cifar100_style/testing/\"\n",
      "dataset_test_style_big = get_cifar_datasets(data_path_test_style_big)\n",
      "\n",
      "print(f\"Number of stylised train samples {dataset_train_style_big.__len__()}\")\n",
      "print(\"Class names are: \" + str(dataset_train_style.get_class_names()))\n",
      "\n",
      "print(f\"Number of stylised val samples {dataset_val_style_big.__len__()}\")\n",
      "print(\"Class names are: \" + str(dataset_val_style.get_class_names()))\n",
      "\n",
      "print(f\"Number of stylised test samples {dataset_test_style_big.__len__()}\")\n",
      "print(\"Class names are: \" + str(dataset_test_style.get_class_names()))\n",
      "\n",
      "BATCH_SIZE = 16\n",
      "\n",
      "data_loader_train_style_big = DataLoader(dataset_train_style_big, BATCH_SIZE, shuffle = True)\n",
      "data_loader_val_style_big = DataLoader(dataset_val_style_big, BATCH_SIZE, shuffle = True)\n",
      "data_loader_test_style_big = DataLoader(dataset_test_style_big, BATCH_SIZE, shuffle = True)"
     ],
     "language": "python",
     "metadata": {},
     "outputs": [
      {
       "output_type": "stream",
       "stream": "stdout",
       "text": [
        "Number of stylised train samples 216000\n",
        "Class names are: ['0000000001', '0000000010', '0000000100', '0000001000', '0000010000', '0000100000', '0001000000', '0010000000', '0100000000', '1000000000']\n",
        "Number of stylised val samples 4000\n",
        "Class names are: ['0000000001', '0000000010', '0000000100', '0000001000', '0000010000', '0000100000', '0001000000', '0010000000', '0100000000', '1000000000']\n",
        "Number of stylised test samples 10000\n",
        "Class names are: ['0000000001', '0000000010', '0000000100', '0000001000', '0000010000', '0000100000', '0001000000', '0010000000', '0100000000', '1000000000']\n"
       ]
      }
     ],
     "prompt_number": 7
    },
    {
     "cell_type": "code",
     "collapsed": false,
     "input": [
      "# Check if the data was loaded correctly\n",
      "import matplotlib.pyplot as plt\n",
      "\n",
      "fig, axes = plt.subplots(4,4, figsize=(8, 8))\n",
      "\n",
      "for batch in data_loader_train_style_big:\n",
      "\n",
      "    print(f\"Shape of batch['image'] {batch['image'].shape}\")\n",
      "    print(f\"Shape of batch['cls'] {batch['cls'].shape}\")\n",
      "\n",
      "    for i in range(BATCH_SIZE):\n",
      "        col = i % 4\n",
      "        row = i // 4\n",
      "\n",
      "        img = batch['image'][i].numpy()\n",
      "\n",
      "        axes[row,col].set_axis_off()\n",
      "        axes[row,col].set_title(batch['class_name'][i])\n",
      "        axes[row,col].imshow(np.transpose(img,(1,2,0)))\n",
      "                         \n",
      "        if i >= 15:\n",
      "            break\n",
      "\n",
      "    plt.show()\n",
      "    break"
     ],
     "language": "python",
     "metadata": {},
     "outputs": [
      {
       "output_type": "stream",
       "stream": "stderr",
       "text": [
        "Clipping input data to the valid range for imshow with RGB data ([0..1] for floats or [0..255] for integers).\n"
       ]
      },
      {
       "output_type": "stream",
       "stream": "stderr",
       "text": [
        "Clipping input data to the valid range for imshow with RGB data ([0..1] for floats or [0..255] for integers).\n"
       ]
      },
      {
       "output_type": "stream",
       "stream": "stderr",
       "text": [
        "Clipping input data to the valid range for imshow with RGB data ([0..1] for floats or [0..255] for integers).\n"
       ]
      },
      {
       "output_type": "stream",
       "stream": "stderr",
       "text": [
        "Clipping input data to the valid range for imshow with RGB data ([0..1] for floats or [0..255] for integers).\n"
       ]
      },
      {
       "output_type": "stream",
       "stream": "stderr",
       "text": [
        "Clipping input data to the valid range for imshow with RGB data ([0..1] for floats or [0..255] for integers).\n"
       ]
      },
      {
       "output_type": "stream",
       "stream": "stderr",
       "text": [
        "Clipping input data to the valid range for imshow with RGB data ([0..1] for floats or [0..255] for integers).\n"
       ]
      },
      {
       "output_type": "stream",
       "stream": "stderr",
       "text": [
        "Clipping input data to the valid range for imshow with RGB data ([0..1] for floats or [0..255] for integers).\n"
       ]
      },
      {
       "output_type": "stream",
       "stream": "stderr",
       "text": [
        "Clipping input data to the valid range for imshow with RGB data ([0..1] for floats or [0..255] for integers).\n"
       ]
      },
      {
       "output_type": "stream",
       "stream": "stderr",
       "text": [
        "Clipping input data to the valid range for imshow with RGB data ([0..1] for floats or [0..255] for integers).\n"
       ]
      },
      {
       "output_type": "stream",
       "stream": "stderr",
       "text": [
        "Clipping input data to the valid range for imshow with RGB data ([0..1] for floats or [0..255] for integers).\n"
       ]
      },
      {
       "output_type": "stream",
       "stream": "stderr",
       "text": [
        "Clipping input data to the valid range for imshow with RGB data ([0..1] for floats or [0..255] for integers).\n"
       ]
      },
      {
       "output_type": "stream",
       "stream": "stderr",
       "text": [
        "Clipping input data to the valid range for imshow with RGB data ([0..1] for floats or [0..255] for integers).\n"
       ]
      },
      {
       "output_type": "stream",
       "stream": "stderr",
       "text": [
        "Clipping input data to the valid range for imshow with RGB data ([0..1] for floats or [0..255] for integers).\n"
       ]
      },
      {
       "output_type": "stream",
       "stream": "stderr",
       "text": [
        "Clipping input data to the valid range for imshow with RGB data ([0..1] for floats or [0..255] for integers).\n"
       ]
      },
      {
       "output_type": "stream",
       "stream": "stderr",
       "text": [
        "Clipping input data to the valid range for imshow with RGB data ([0..1] for floats or [0..255] for integers).\n"
       ]
      },
      {
       "output_type": "stream",
       "stream": "stderr",
       "text": [
        "Clipping input data to the valid range for imshow with RGB data ([0..1] for floats or [0..255] for integers).\n"
       ]
      },
      {
       "output_type": "stream",
       "stream": "stdout",
       "text": [
        "Shape of batch['image'] torch.Size([16, 3, 104, 104])\n",
        "Shape of batch['cls'] torch.Size([16])\n"
       ]
      },
      {
       "output_type": "display_data",
       "png": "[encoded data removed]",
       "text": [
        "<Figure size 576x576 with 16 Axes>"
       ]
      }
     ],
     "prompt_number": 8
    },
    {
     "cell_type": "markdown",
     "metadata": {},
     "source": [
      "### Defining ResNet50\n",
      "\n",
      "The following code defines Resnet50 architecture that will be used to train and test the CIFAR dataset."
     ]
    },
    {
     "cell_type": "code",
     "collapsed": false,
     "input": [
      "# # define resnet building blocks\n",
      "# class ResidualBlock(nn.Module): \n",
      "#     expansion = 4\n",
      "    \n",
      "#     def __init__(self, inchannel, outchannel, stride=1): \n",
      "        \n",
      "#         super(ResidualBlock, self).__init__() \n",
      "        \n",
      "#         self.left = nn.Sequential(\n",
      "#             Conv2d(inchannel, outchannel, kernel_size=1, bias=False),\n",
      "#             nn.BatchNorm2d(outchannel),\n",
      "#             nn.ReLU(inplace=True),\n",
      "#             Conv2d(outchannel, outchannel, kernel_size=3, stride=stride, padding=1, bias=False),\n",
      "#             nn.BatchNorm2d(outchannel),\n",
      "#             nn.ReLU(inplace=True),\n",
      "#             Conv2d(outchannel, self.expansion*outchannel, kernel_size=1, bias=False),\n",
      "#             nn.BatchNorm2d(self.expansion*outchannel)\n",
      "#         ) \n",
      "        \n",
      "#         self.shortcut = nn.Sequential()\n",
      "        \n",
      "#         if stride != 1 or inchannel != self.expansion*outchannel: \n",
      "#             self.shortcut = nn.Sequential(\n",
      "#                 Conv2d(inchannel, self.expansion*outchannel, kernel_size=1, stride=stride, bias=False),\n",
      "#                 nn.BatchNorm2d(self.expansion*outchannel)\n",
      "#             ) \n",
      "            \n",
      "#     def forward(self, x): \n",
      "#         out = self.left(x) \n",
      "#         out += self.shortcut(x) \n",
      "#         out = F.relu(out) \n",
      "#         return out\n",
      "\n",
      "    \n",
      "# # define resnet\n",
      "# class ResNet(nn.Module):\n",
      "    \n",
      "#     def __init__(self, ResidualBlock, num_classes = 10):\n",
      "        \n",
      "#         super(ResNet, self).__init__()\n",
      "        \n",
      "#         self.inchannel = 64\n",
      "#         self.conv1 = nn.Sequential(\n",
      "#             Conv2d(3, 64, kernel_size = 3, stride = 1,padding = 1, bias = False),\n",
      "#             nn.BatchNorm2d(64), \n",
      "#             nn.ReLU()\n",
      "#         )\n",
      "#         self.layer1 = self.make_layer(ResidualBlock, 64, 3, stride = 1)\n",
      "#         self.layer2 = self.make_layer(ResidualBlock, 128, 4, stride = 2)\n",
      "#         self.layer3 = self.make_layer(ResidualBlock, 256, 6, stride = 2)\n",
      "#         self.layer4 = self.make_layer(ResidualBlock, 512, 3, stride = 2)\n",
      "#         self.avgpool = AvgPool2d(4)\n",
      "#         self.fc = nn.Linear(512*ResidualBlock.expansion, num_classes)\n",
      "        \n",
      "    \n",
      "#     def make_layer(self, block, channels, num_blocks, stride):\n",
      "        \n",
      "#         strides = [stride] + [1] * (num_blocks - 1)\n",
      "        \n",
      "#         layers = []\n",
      "#         for stride in strides:\n",
      "#             layers.append(block(self.inchannel, channels, stride))\n",
      "#             self.inchannel = channels * block.expansion\n",
      "#         return nn.Sequential(*layers)\n",
      "    \n",
      "    \n",
      "#     def forward(self, x):\n",
      "        \n",
      "#         x = self.conv1(x)\n",
      "#         x = self.layer1(x)\n",
      "#         x = self.layer2(x)\n",
      "#         x = self.layer3(x)\n",
      "#         x = self.layer4(x)\n",
      "#         x = self.avgpool(x)\n",
      "#         x = x.view(x.size(0), -1)\n",
      "#         x = self.fc(x)\n",
      "#         return x\n",
      "    \n",
      "    \n",
      "# def ResNet50():\n",
      "#     return ResNet(ResidualBlock)"
     ],
     "language": "python",
     "metadata": {},
     "outputs": [],
     "prompt_number": 9
    },
    {
     "cell_type": "markdown",
     "metadata": {},
     "source": [
      "Following are the training, validation and testing functions for the experiment. train_part() function trains and updates gradients on each batch of the training set and once that is done, it tests its accuracy on the validation set. Every time the validation test returns a better accuracy than the current maximum, the model is saved and carries on with the next epoch. Then it checks with the learning reate scheduler for any changes in learning rate."
     ]
    },
    {
     "cell_type": "code",
     "collapsed": false,
     "input": [
      "device = torch.device('cuda:3' if torch.cuda.is_available() else 'cpu')\n",
      "print(device)\n",
      "    \n",
      "print_every = 100\n",
      "def check_accuracy(loader, model):\n",
      "    # function for test accuracy on validation and test set\n",
      "    num_correct = 0\n",
      "    num_samples = 0\n",
      "    model.eval()  # set model to evaluation mode\n",
      "    with torch.no_grad():\n",
      "        for i, batch in enumerate(loader, 0):\n",
      "            # get the inputs; data is a list of [inputs, labels]\n",
      "            inputs = batch['image'].to(device)\n",
      "            labels = batch['cls'].to(device)\n",
      "            scores = model(inputs)\n",
      "            _, preds = scores.max(1)\n",
      "            num_correct += (preds == labels).sum()\n",
      "            num_samples += preds.size(0)\n",
      "        acc = float(num_correct) / num_samples\n",
      "        print('Got %d / %d correct, accuracy of the dataset is: %.3f %%' % (num_correct, num_samples, 100 * acc))\n",
      "\n",
      "\n",
      "def train_part(model, train_data, val_data, model_path, optimizer, lr_scheduler, epochs=1):\n",
      "    model.to(device)\n",
      "    val_acc = 0\n",
      "    num_epoch = 2\n",
      "    # Main Loop\n",
      "    for epoch in range(epochs):  # loop over the dataset multiple times\n",
      "        val_loss = 0\n",
      "        running_loss = 0\n",
      "\n",
      "        # Training Loop\n",
      "        for i, batch in enumerate(train_data, 0):\n",
      "            # set model to training mode\n",
      "            model.train()\n",
      "            # get the inputs; data is a list of [inputs, labels]\n",
      "            inputs = batch['image'].to(device)\n",
      "            labels = batch['cls'].to(device)\n",
      "\n",
      "            # get outputs from the input data and calculate the cross entropy loss\n",
      "            scores = model(inputs)\n",
      "            loss = F.cross_entropy(scores, labels)\n",
      "\n",
      "            # zero and update the gradients and optimise\n",
      "            optimizer.zero_grad()\n",
      "            loss.backward()\n",
      "            optimizer.step()\n",
      "\n",
      "            # print statistics\n",
      "            running_loss += loss.item()\n",
      "            if i % 200 == 199:    # print every 200 mini-batches\n",
      "                print('[%d, %5d] loss: %.6f' %\n",
      "                      (epoch + 1, i + 1, running_loss / 200))\n",
      "                running_loss = 0.0\n",
      "\n",
      "        # set model to evaluation mode\n",
      "        model.eval()\n",
      "\n",
      "        # Validation Loop\n",
      "        with torch.no_grad():\n",
      "            num_correct = 0\n",
      "            num_samples = 0\n",
      "            for i, batch in enumerate(val_data, 0):\n",
      "                # get the inputs; data is a list of [inputs, labels]\n",
      "                inputs = batch['image'].to(device)\n",
      "                labels = batch['cls'].to(device)\n",
      "\n",
      "                # get the outputs from the model\n",
      "                outputs = model(inputs)\n",
      "\n",
      "                # compute accuracy based on the outputs\n",
      "                _, preds = outputs.max(1)\n",
      "                num_correct += (preds == labels).sum()\n",
      "                num_samples += preds.size(0)\n",
      "            acc = float(num_correct) / num_samples\n",
      "            print('Got %d / %d correct (%.2f)' % (num_correct, num_samples, 100 * acc))\n",
      "\n",
      "            if acc > val_acc:\n",
      "                print('saving model')\n",
      "                torch.save(model.state_dict(), model_path)\n",
      "                val_acc = acc\n",
      "            else:\n",
      "                print('skip model saving')\n",
      "        lr_scheduler.step()"
     ],
     "language": "python",
     "metadata": {
      "scrolled": true
     },
     "outputs": [
      {
       "output_type": "stream",
       "stream": "stdout",
       "text": [
        "cuda:3\n"
       ]
      }
     ],
     "prompt_number": 10
    },
    {
     "cell_type": "markdown",
     "metadata": {},
     "source": [
      "### Vanilla ResNet50 Training\n",
      "\n",
      "The model used in this experiment is ResNet50 with Adam optimiser with learning rate scheduler and default settings. Learning rate changes every 80, 120, 160, 180th epoch."
     ]
    },
    {
     "cell_type": "code",
     "collapsed": false,
     "input": [
      "# torch.cuda.empty_cache()\n",
      "\n",
      "# # define and train the network\n",
      "# vanilla_model_path_torch = './cifar32_torch.pth'\n",
      "# vanilla_model_torch = torchvision.models.resnet50().to(device)\n",
      "# lr=0.1\n",
      "# vanilla_optimizer_torch = optim.Adam(vanilla_model_torch.parameters(), lr=lr)\n",
      "# vanilla_lr_scheduler_torch = optim.lr_scheduler.MultiStepLR(vanilla_optimizer_torch, milestones=[150, 250])\n",
      "# train_part(vanilla_model_torch, data_loader_train, data_loader_val, vanilla_model_path_torch, vanilla_optimizer_torch, vanilla_lr_scheduler_torch, epochs = 350)"
     ],
     "language": "python",
     "metadata": {
      "scrolled": true
     },
     "outputs": [],
     "prompt_number": 11
    },
    {
     "cell_type": "markdown",
     "metadata": {},
     "source": [
      "### Stylised ResNet50 Training\n",
      "\n",
      "Stylised ResNet50 training has all the same settings as vanilla ResNet50, except the data being used here are the stylised CIFAR10."
     ]
    },
    {
     "cell_type": "code",
     "collapsed": false,
     "input": [
      "# torch.cuda.empty_cache()\n",
      "\n",
      "# # define and train the network\n",
      "# stylised_model_path_torch = './cifar32_style_torch.pth'\n",
      "# stylised_model_torch = torchvision.models.resnet50().to(device)\n",
      "# lr=0.1\n",
      "# stylised_optimizer_torch = optim.Adam(stylised_model_torch.parameters(), lr=lr)\n",
      "# stylised_lr_scheduler_torch = optim.lr_scheduler.MultiStepLR(stylised_optimizer_torch, milestones=[150, 250])\n",
      "# train_part(stylised_model_torch, data_loader_train_style, data_loader_val_style, stylised_model_path_torch, stylised_optimizer_torch, stylised_lr_scheduler_torch, epochs = 350)"
     ],
     "language": "python",
     "metadata": {
      "scrolled": true
     },
     "outputs": [],
     "prompt_number": 12
    },
    {
     "cell_type": "markdown",
     "metadata": {},
     "source": [
      "### Reduced stylised ResNet50 Training\n",
      "\n",
      "Reduced stylised ResNet50 training has all the same settings as vanilla ResNet50, except the data being used here are the stylised CIFAR10."
     ]
    },
    {
     "cell_type": "code",
     "collapsed": false,
     "input": [
      "# torch.cuda.empty_cache()\n",
      "\n",
      "# # define and train the network\n",
      "# red_stylised_model_path_torch = './cifar32_style_red_torch.pth'\n",
      "# red_stylised_model_torch = torchvision.models.resnet50().to(device)\n",
      "# lr=0.1\n",
      "# red_stylised_optimizer_torch = optim.Adam(red_stylised_model_torch.parameters(), lr=lr)\n",
      "# red_stylised_lr_scheduler_torch = optim.lr_scheduler.MultiStepLR(red_stylised_optimizer_torch, milestones=[150, 250])\n",
      "# train_part(red_stylised_model_torch, data_loader_train_style_red, data_loader_val_style_red, red_stylised_model_path_torch, red_stylised_optimizer_torch, red_stylised_lr_scheduler_torch, epochs = 350)"
     ],
     "language": "python",
     "metadata": {},
     "outputs": [],
     "prompt_number": 13
    },
    {
     "cell_type": "markdown",
     "metadata": {},
     "source": [
      "### Large stylised ResNet50 Training\n",
      "\n",
      "Large stylised ResNet50 training has all the same settings as vanilla ResNet50, except the data being used here are the stylised CIFAR10."
     ]
    },
    {
     "cell_type": "code",
     "collapsed": false,
     "input": [
      "torch.cuda.empty_cache()\n",
      "\n",
      "# define and train the network\n",
      "big_stylised_model_path_torch = './cifar100_style_torch.pth'\n",
      "big_stylised_model_torch = torchvision.models.resnet50().to(device)\n",
      "lr=0.1\n",
      "big_stylised_optimizer_torch = optim.Adam(big_stylised_model_torch.parameters(), lr=lr)\n",
      "big_stylised_lr_scheduler_torch = optim.lr_scheduler.MultiStepLR(big_stylised_optimizer_torch, milestones=[150, 250])\n",
      "train_part(big_stylised_model_torch, data_loader_train_style_big, data_loader_val_style_big, big_stylised_model_path_torch, big_stylised_optimizer_torch, big_stylised_lr_scheduler_torch, epochs = 350)"
     ],
     "language": "python",
     "metadata": {},
     "outputs": [
      {
       "ename": "RuntimeError",
       "evalue": "CUDA out of memory. Tried to allocate 20.00 MiB (GPU 3; 11.17 GiB total capacity; 85.88 MiB already allocated; 5.56 MiB free; 12.12 MiB cached)",
       "output_type": "pyerr",
       "traceback": [
        "\u001b[0;31m---------------------------------------------------------------------------\u001b[0m",
        "\u001b[0;31mRuntimeError\u001b[0m                              Traceback (most recent call last)",
        "\u001b[0;32m<ipython-input-14-526f1e4057a5>\u001b[0m in \u001b[0;36m<module>\u001b[0;34m\u001b[0m\n\u001b[1;32m      3\u001b[0m \u001b[0;31m# define and train the network\u001b[0m\u001b[0;34m\u001b[0m\u001b[0;34m\u001b[0m\u001b[0;34m\u001b[0m\u001b[0m\n\u001b[1;32m      4\u001b[0m \u001b[0mbig_stylised_model_path_torch\u001b[0m \u001b[0;34m=\u001b[0m \u001b[0;34m'./cifar100_style_torch.pth'\u001b[0m\u001b[0;34m\u001b[0m\u001b[0;34m\u001b[0m\u001b[0m\n\u001b[0;32m----> 5\u001b[0;31m \u001b[0mbig_stylised_model_torch\u001b[0m \u001b[0;34m=\u001b[0m \u001b[0mtorchvision\u001b[0m\u001b[0;34m.\u001b[0m\u001b[0mmodels\u001b[0m\u001b[0;34m.\u001b[0m\u001b[0mresnet50\u001b[0m\u001b[0;34m(\u001b[0m\u001b[0;34m)\u001b[0m\u001b[0;34m.\u001b[0m\u001b[0mto\u001b[0m\u001b[0;34m(\u001b[0m\u001b[0mdevice\u001b[0m\u001b[0;34m)\u001b[0m\u001b[0;34m\u001b[0m\u001b[0;34m\u001b[0m\u001b[0m\n\u001b[0m\u001b[1;32m      6\u001b[0m \u001b[0mlr\u001b[0m\u001b[0;34m=\u001b[0m\u001b[0;36m0.1\u001b[0m\u001b[0;34m\u001b[0m\u001b[0;34m\u001b[0m\u001b[0m\n\u001b[1;32m      7\u001b[0m \u001b[0mbig_stylised_optimizer_torch\u001b[0m \u001b[0;34m=\u001b[0m \u001b[0moptim\u001b[0m\u001b[0;34m.\u001b[0m\u001b[0mAdam\u001b[0m\u001b[0;34m(\u001b[0m\u001b[0mbig_stylised_model_torch\u001b[0m\u001b[0;34m.\u001b[0m\u001b[0mparameters\u001b[0m\u001b[0;34m(\u001b[0m\u001b[0;34m)\u001b[0m\u001b[0;34m,\u001b[0m \u001b[0mlr\u001b[0m\u001b[0;34m=\u001b[0m\u001b[0mlr\u001b[0m\u001b[0;34m)\u001b[0m\u001b[0;34m\u001b[0m\u001b[0;34m\u001b[0m\u001b[0m\n",
        "\u001b[0;32m/vol/bitbucket/sc5316/miniconda3/lib/python3.7/site-packages/torch/nn/modules/module.py\u001b[0m in \u001b[0;36mto\u001b[0;34m(self, *args, **kwargs)\u001b[0m\n\u001b[1;32m    424\u001b[0m             \u001b[0;32mreturn\u001b[0m \u001b[0mt\u001b[0m\u001b[0;34m.\u001b[0m\u001b[0mto\u001b[0m\u001b[0;34m(\u001b[0m\u001b[0mdevice\u001b[0m\u001b[0;34m,\u001b[0m \u001b[0mdtype\u001b[0m \u001b[0;32mif\u001b[0m \u001b[0mt\u001b[0m\u001b[0;34m.\u001b[0m\u001b[0mis_floating_point\u001b[0m\u001b[0;34m(\u001b[0m\u001b[0;34m)\u001b[0m \u001b[0;32melse\u001b[0m \u001b[0;32mNone\u001b[0m\u001b[0;34m,\u001b[0m \u001b[0mnon_blocking\u001b[0m\u001b[0;34m)\u001b[0m\u001b[0;34m\u001b[0m\u001b[0;34m\u001b[0m\u001b[0m\n\u001b[1;32m    425\u001b[0m \u001b[0;34m\u001b[0m\u001b[0m\n\u001b[0;32m--> 426\u001b[0;31m         \u001b[0;32mreturn\u001b[0m \u001b[0mself\u001b[0m\u001b[0;34m.\u001b[0m\u001b[0m_apply\u001b[0m\u001b[0;34m(\u001b[0m\u001b[0mconvert\u001b[0m\u001b[0;34m)\u001b[0m\u001b[0;34m\u001b[0m\u001b[0;34m\u001b[0m\u001b[0m\n\u001b[0m\u001b[1;32m    427\u001b[0m \u001b[0;34m\u001b[0m\u001b[0m\n\u001b[1;32m    428\u001b[0m     \u001b[0;32mdef\u001b[0m \u001b[0mregister_backward_hook\u001b[0m\u001b[0;34m(\u001b[0m\u001b[0mself\u001b[0m\u001b[0;34m,\u001b[0m \u001b[0mhook\u001b[0m\u001b[0;34m)\u001b[0m\u001b[0;34m:\u001b[0m\u001b[0;34m\u001b[0m\u001b[0;34m\u001b[0m\u001b[0m\n",
        "\u001b[0;32m/vol/bitbucket/sc5316/miniconda3/lib/python3.7/site-packages/torch/nn/modules/module.py\u001b[0m in \u001b[0;36m_apply\u001b[0;34m(self, fn)\u001b[0m\n\u001b[1;32m    200\u001b[0m     \u001b[0;32mdef\u001b[0m \u001b[0m_apply\u001b[0m\u001b[0;34m(\u001b[0m\u001b[0mself\u001b[0m\u001b[0;34m,\u001b[0m \u001b[0mfn\u001b[0m\u001b[0;34m)\u001b[0m\u001b[0;34m:\u001b[0m\u001b[0;34m\u001b[0m\u001b[0;34m\u001b[0m\u001b[0m\n\u001b[1;32m    201\u001b[0m         \u001b[0;32mfor\u001b[0m \u001b[0mmodule\u001b[0m \u001b[0;32min\u001b[0m \u001b[0mself\u001b[0m\u001b[0;34m.\u001b[0m\u001b[0mchildren\u001b[0m\u001b[0;34m(\u001b[0m\u001b[0;34m)\u001b[0m\u001b[0;34m:\u001b[0m\u001b[0;34m\u001b[0m\u001b[0;34m\u001b[0m\u001b[0m\n\u001b[0;32m--> 202\u001b[0;31m             \u001b[0mmodule\u001b[0m\u001b[0;34m.\u001b[0m\u001b[0m_apply\u001b[0m\u001b[0;34m(\u001b[0m\u001b[0mfn\u001b[0m\u001b[0;34m)\u001b[0m\u001b[0;34m\u001b[0m\u001b[0;34m\u001b[0m\u001b[0m\n\u001b[0m\u001b[1;32m    203\u001b[0m \u001b[0;34m\u001b[0m\u001b[0m\n\u001b[1;32m    204\u001b[0m         \u001b[0;32mdef\u001b[0m \u001b[0mcompute_should_use_set_data\u001b[0m\u001b[0;34m(\u001b[0m\u001b[0mtensor\u001b[0m\u001b[0;34m,\u001b[0m \u001b[0mtensor_applied\u001b[0m\u001b[0;34m)\u001b[0m\u001b[0;34m:\u001b[0m\u001b[0;34m\u001b[0m\u001b[0;34m\u001b[0m\u001b[0m\n",
        "\u001b[0;32m/vol/bitbucket/sc5316/miniconda3/lib/python3.7/site-packages/torch/nn/modules/module.py\u001b[0m in \u001b[0;36m_apply\u001b[0;34m(self, fn)\u001b[0m\n\u001b[1;32m    200\u001b[0m     \u001b[0;32mdef\u001b[0m \u001b[0m_apply\u001b[0m\u001b[0;34m(\u001b[0m\u001b[0mself\u001b[0m\u001b[0;34m,\u001b[0m \u001b[0mfn\u001b[0m\u001b[0;34m)\u001b[0m\u001b[0;34m:\u001b[0m\u001b[0;34m\u001b[0m\u001b[0;34m\u001b[0m\u001b[0m\n\u001b[1;32m    201\u001b[0m         \u001b[0;32mfor\u001b[0m \u001b[0mmodule\u001b[0m \u001b[0;32min\u001b[0m \u001b[0mself\u001b[0m\u001b[0;34m.\u001b[0m\u001b[0mchildren\u001b[0m\u001b[0;34m(\u001b[0m\u001b[0;34m)\u001b[0m\u001b[0;34m:\u001b[0m\u001b[0;34m\u001b[0m\u001b[0;34m\u001b[0m\u001b[0m\n\u001b[0;32m--> 202\u001b[0;31m             \u001b[0mmodule\u001b[0m\u001b[0;34m.\u001b[0m\u001b[0m_apply\u001b[0m\u001b[0;34m(\u001b[0m\u001b[0mfn\u001b[0m\u001b[0;34m)\u001b[0m\u001b[0;34m\u001b[0m\u001b[0;34m\u001b[0m\u001b[0m\n\u001b[0m\u001b[1;32m    203\u001b[0m \u001b[0;34m\u001b[0m\u001b[0m\n\u001b[1;32m    204\u001b[0m         \u001b[0;32mdef\u001b[0m \u001b[0mcompute_should_use_set_data\u001b[0m\u001b[0;34m(\u001b[0m\u001b[0mtensor\u001b[0m\u001b[0;34m,\u001b[0m \u001b[0mtensor_applied\u001b[0m\u001b[0;34m)\u001b[0m\u001b[0;34m:\u001b[0m\u001b[0;34m\u001b[0m\u001b[0;34m\u001b[0m\u001b[0m\n",
        "\u001b[0;32m/vol/bitbucket/sc5316/miniconda3/lib/python3.7/site-packages/torch/nn/modules/module.py\u001b[0m in \u001b[0;36m_apply\u001b[0;34m(self, fn)\u001b[0m\n\u001b[1;32m    200\u001b[0m     \u001b[0;32mdef\u001b[0m \u001b[0m_apply\u001b[0m\u001b[0;34m(\u001b[0m\u001b[0mself\u001b[0m\u001b[0;34m,\u001b[0m \u001b[0mfn\u001b[0m\u001b[0;34m)\u001b[0m\u001b[0;34m:\u001b[0m\u001b[0;34m\u001b[0m\u001b[0;34m\u001b[0m\u001b[0m\n\u001b[1;32m    201\u001b[0m         \u001b[0;32mfor\u001b[0m \u001b[0mmodule\u001b[0m \u001b[0;32min\u001b[0m \u001b[0mself\u001b[0m\u001b[0;34m.\u001b[0m\u001b[0mchildren\u001b[0m\u001b[0;34m(\u001b[0m\u001b[0;34m)\u001b[0m\u001b[0;34m:\u001b[0m\u001b[0;34m\u001b[0m\u001b[0;34m\u001b[0m\u001b[0m\n\u001b[0;32m--> 202\u001b[0;31m             \u001b[0mmodule\u001b[0m\u001b[0;34m.\u001b[0m\u001b[0m_apply\u001b[0m\u001b[0;34m(\u001b[0m\u001b[0mfn\u001b[0m\u001b[0;34m)\u001b[0m\u001b[0;34m\u001b[0m\u001b[0;34m\u001b[0m\u001b[0m\n\u001b[0m\u001b[1;32m    203\u001b[0m \u001b[0;34m\u001b[0m\u001b[0m\n\u001b[1;32m    204\u001b[0m         \u001b[0;32mdef\u001b[0m \u001b[0mcompute_should_use_set_data\u001b[0m\u001b[0;34m(\u001b[0m\u001b[0mtensor\u001b[0m\u001b[0;34m,\u001b[0m \u001b[0mtensor_applied\u001b[0m\u001b[0;34m)\u001b[0m\u001b[0;34m:\u001b[0m\u001b[0;34m\u001b[0m\u001b[0;34m\u001b[0m\u001b[0m\n",
        "\u001b[0;32m/vol/bitbucket/sc5316/miniconda3/lib/python3.7/site-packages/torch/nn/modules/module.py\u001b[0m in \u001b[0;36m_apply\u001b[0;34m(self, fn)\u001b[0m\n\u001b[1;32m    222\u001b[0m                 \u001b[0;31m# `with torch.no_grad():`\u001b[0m\u001b[0;34m\u001b[0m\u001b[0;34m\u001b[0m\u001b[0;34m\u001b[0m\u001b[0m\n\u001b[1;32m    223\u001b[0m                 \u001b[0;32mwith\u001b[0m \u001b[0mtorch\u001b[0m\u001b[0;34m.\u001b[0m\u001b[0mno_grad\u001b[0m\u001b[0;34m(\u001b[0m\u001b[0;34m)\u001b[0m\u001b[0;34m:\u001b[0m\u001b[0;34m\u001b[0m\u001b[0;34m\u001b[0m\u001b[0m\n\u001b[0;32m--> 224\u001b[0;31m                     \u001b[0mparam_applied\u001b[0m \u001b[0;34m=\u001b[0m \u001b[0mfn\u001b[0m\u001b[0;34m(\u001b[0m\u001b[0mparam\u001b[0m\u001b[0;34m)\u001b[0m\u001b[0;34m\u001b[0m\u001b[0;34m\u001b[0m\u001b[0m\n\u001b[0m\u001b[1;32m    225\u001b[0m                 \u001b[0mshould_use_set_data\u001b[0m \u001b[0;34m=\u001b[0m \u001b[0mcompute_should_use_set_data\u001b[0m\u001b[0;34m(\u001b[0m\u001b[0mparam\u001b[0m\u001b[0;34m,\u001b[0m \u001b[0mparam_applied\u001b[0m\u001b[0;34m)\u001b[0m\u001b[0;34m\u001b[0m\u001b[0;34m\u001b[0m\u001b[0m\n\u001b[1;32m    226\u001b[0m                 \u001b[0;32mif\u001b[0m \u001b[0mshould_use_set_data\u001b[0m\u001b[0;34m:\u001b[0m\u001b[0;34m\u001b[0m\u001b[0;34m\u001b[0m\u001b[0m\n",
        "\u001b[0;32m/vol/bitbucket/sc5316/miniconda3/lib/python3.7/site-packages/torch/nn/modules/module.py\u001b[0m in \u001b[0;36mconvert\u001b[0;34m(t)\u001b[0m\n\u001b[1;32m    422\u001b[0m \u001b[0;34m\u001b[0m\u001b[0m\n\u001b[1;32m    423\u001b[0m         \u001b[0;32mdef\u001b[0m \u001b[0mconvert\u001b[0m\u001b[0;34m(\u001b[0m\u001b[0mt\u001b[0m\u001b[0;34m)\u001b[0m\u001b[0;34m:\u001b[0m\u001b[0;34m\u001b[0m\u001b[0;34m\u001b[0m\u001b[0m\n\u001b[0;32m--> 424\u001b[0;31m             \u001b[0;32mreturn\u001b[0m \u001b[0mt\u001b[0m\u001b[0;34m.\u001b[0m\u001b[0mto\u001b[0m\u001b[0;34m(\u001b[0m\u001b[0mdevice\u001b[0m\u001b[0;34m,\u001b[0m \u001b[0mdtype\u001b[0m \u001b[0;32mif\u001b[0m \u001b[0mt\u001b[0m\u001b[0;34m.\u001b[0m\u001b[0mis_floating_point\u001b[0m\u001b[0;34m(\u001b[0m\u001b[0;34m)\u001b[0m \u001b[0;32melse\u001b[0m \u001b[0;32mNone\u001b[0m\u001b[0;34m,\u001b[0m \u001b[0mnon_blocking\u001b[0m\u001b[0;34m)\u001b[0m\u001b[0;34m\u001b[0m\u001b[0;34m\u001b[0m\u001b[0m\n\u001b[0m\u001b[1;32m    425\u001b[0m \u001b[0;34m\u001b[0m\u001b[0m\n\u001b[1;32m    426\u001b[0m         \u001b[0;32mreturn\u001b[0m \u001b[0mself\u001b[0m\u001b[0;34m.\u001b[0m\u001b[0m_apply\u001b[0m\u001b[0;34m(\u001b[0m\u001b[0mconvert\u001b[0m\u001b[0;34m)\u001b[0m\u001b[0;34m\u001b[0m\u001b[0;34m\u001b[0m\u001b[0m\n",
        "\u001b[0;31mRuntimeError\u001b[0m: CUDA out of memory. Tried to allocate 20.00 MiB (GPU 3; 11.17 GiB total capacity; 85.88 MiB already allocated; 5.56 MiB free; 12.12 MiB cached)"
       ]
      }
     ],
     "prompt_number": 14
    },
    {
     "cell_type": "markdown",
     "metadata": {},
     "source": [
      "### Testing Normal CIFAR10 on Vanilla ResNet50\n",
      "\n",
      "The below code tests the vanilla ResNet50 model on the normal CIFAR10 test set and prints out the final accuracy of the model."
     ]
    },
    {
     "cell_type": "code",
     "collapsed": false,
     "input": [
      "# # report test set accuracy\n",
      "# vanilla_model_torch = torchvision.models.resnet50().to(device)\n",
      "# vanilla_model_torch.load_state_dict(torch.load('./cifar32_torch.pth'))\n",
      "# vanilla_model_torch.to(device)\n",
      "# check_accuracy(data_loader_test, vanilla_model_torch)"
     ],
     "language": "python",
     "metadata": {},
     "outputs": [
      {
       "output_type": "stream",
       "stream": "stdout",
       "text": [
        "Got 3347 / 10000 correct, accuracy of the dataset is: 33.470 %\n"
       ]
      }
     ],
     "prompt_number": 12
    },
    {
     "cell_type": "markdown",
     "metadata": {},
     "source": [
      "### Testing Stylised CIFAR10 on Vanilla ResNet50\n",
      "\n",
      "The below code tests the vanilla ResNet50 model on the stylised CIFAR10 test set and prints out the final accuracy of the model."
     ]
    },
    {
     "cell_type": "code",
     "collapsed": false,
     "input": [
      "# # report test set accuracy\n",
      "# vanilla_model_torch = torchvision.models.resnet50().to(device)\n",
      "# vanilla_model_torch.load_state_dict(torch.load('./cifar32_torch.pth'))\n",
      "# vanilla_model_torch.to(device)\n",
      "# check_accuracy(data_loader_test_style, vanilla_model_torch)"
     ],
     "language": "python",
     "metadata": {},
     "outputs": [
      {
       "output_type": "stream",
       "stream": "stdout",
       "text": [
        "Got 1078 / 10000 correct, accuracy of the dataset is: 10.780 %\n"
       ]
      }
     ],
     "prompt_number": 13
    },
    {
     "cell_type": "markdown",
     "metadata": {},
     "source": [
      "### Testing Reduced Stylised CIFAR10 on Vanilla ResNet50\n",
      "\n",
      "The below code tests the vanilla ResNet50 model on the reduced stylised CIFAR10 test set and prints out the final accuracy of the model."
     ]
    },
    {
     "cell_type": "code",
     "collapsed": false,
     "input": [
      "# # report test set accuracy\n",
      "# vanilla_model_torch = torchvision.models.resnet50().to(device)\n",
      "# vanilla_model_torch.load_state_dict(torch.load('./cifar32_torch.pth'))\n",
      "# vanilla_model_torch.to(device)\n",
      "# check_accuracy(data_loader_test_style_red, vanilla_model_torch)"
     ],
     "language": "python",
     "metadata": {},
     "outputs": [
      {
       "output_type": "stream",
       "stream": "stdout",
       "text": [
        "Got 1066 / 10000 correct, accuracy of the dataset is: 10.660 %\n"
       ]
      }
     ],
     "prompt_number": 14
    },
    {
     "cell_type": "markdown",
     "metadata": {},
     "source": [
      "### Testing Large Stylised CIFAR10 on Vanilla ResNet50\n",
      "\n",
      "The below code tests the vanilla ResNet50 model on the reduced stylised CIFAR10 test set and prints out the final accuracy of the model."
     ]
    },
    {
     "cell_type": "code",
     "collapsed": false,
     "input": [
      "# # report test set accuracy\n",
      "# vanilla_model_torch = torchvision.models.resnet50().to(device)\n",
      "# vanilla_model_torch.load_state_dict(torch.load('./cifar32_torch.pth'))\n",
      "# vanilla_model_torch.to(device)\n",
      "# check_accuracy(data_loader_test_style_big, vanilla_model_torch)"
     ],
     "language": "python",
     "metadata": {},
     "outputs": [],
     "prompt_number": null
    },
    {
     "cell_type": "markdown",
     "metadata": {},
     "source": [
      "### Testing Normal CIFAR10 on Stylised ResNet50\n",
      "\n",
      "The below code tests the stylised ResNet50 model on the vanilla CIFAR10 test set and prints out the final accuracy of the model."
     ]
    },
    {
     "cell_type": "code",
     "collapsed": false,
     "input": [
      "# # report test set accuracy\n",
      "# stylised_model_torch = torchvision.models.resnet50().to(device)\n",
      "# stylised_model_torch.load_state_dict(torch.load('./cifar32_style_torch.pth'))\n",
      "# stylised_model_torch.to(device)\n",
      "# check_accuracy(data_loader_test, stylised_model_torch)"
     ],
     "language": "python",
     "metadata": {},
     "outputs": [
      {
       "output_type": "stream",
       "stream": "stdout",
       "text": [
        "Accuracy of the dataset is: 37.886111 %\n"
       ]
      }
     ],
     "prompt_number": 8
    },
    {
     "cell_type": "markdown",
     "metadata": {},
     "source": [
      "### Testing Stylised CIFAR10 on Stylised ResNet50\n",
      "\n",
      "The below code tests the stylised ResNet50 model on the stylised CIFAR10 test set and prints out the final accuracy of the model."
     ]
    },
    {
     "cell_type": "code",
     "collapsed": false,
     "input": [
      "# # report test set accuracy\n",
      "# stylised_model_torch = torchvision.models.resnet50().to(device)\n",
      "# stylised_model_torch.load_state_dict(torch.load('./cifar32_style_torch.pth'))\n",
      "# stylised_model_torch.to(device)\n",
      "# check_accuracy(data_loader_test_style, stylised_model_torch)"
     ],
     "language": "python",
     "metadata": {},
     "outputs": [
      {
       "output_type": "stream",
       "stream": "stdout",
       "text": [
        "Accuracy of the dataset is: 37.886111 %\n"
       ]
      }
     ],
     "prompt_number": 8
    },
    {
     "cell_type": "markdown",
     "metadata": {},
     "source": [
      "### Testing Normal CIFAR10 on Reduced Stylised ResNet50\n",
      "\n",
      "The below code tests the stylised ResNet50 model on the stylised CIFAR10 test set and prints out the final accuracy of the model."
     ]
    },
    {
     "cell_type": "code",
     "collapsed": false,
     "input": [
      "# # report test set accuracy\n",
      "# red_stylised_model_torch = torchvision.models.resnet50().to(device)\n",
      "# red_stylised_model_torch.load_state_dict(torch.load('./cifar32_style_red_torch.pth'))\n",
      "# red_stylised_model_torch.to(device)\n",
      "# check_accuracy(data_loader_test, red_stylised_model_torch)"
     ],
     "language": "python",
     "metadata": {},
     "outputs": [],
     "prompt_number": null
    },
    {
     "cell_type": "markdown",
     "metadata": {},
     "source": [
      "### Testing Reduced Stylised CIFAR10 on Reduced Stylised ResNet50\n",
      "\n",
      "The below code tests the stylised ResNet50 model on the stylised CIFAR10 test set and prints out the final accuracy of the model."
     ]
    },
    {
     "cell_type": "code",
     "collapsed": false,
     "input": [
      "# # report test set accuracy\n",
      "# red_stylised_model_torch = torchvision.models.resnet50().to(device)\n",
      "# red_stylised_model_torch.load_state_dict(torch.load('./cifar32_style_red_torch.pth'))\n",
      "# red_stylised_model_torch.to(device)\n",
      "# check_accuracy(data_loader_test_style_red, red_stylised_model_torch)"
     ],
     "language": "python",
     "metadata": {},
     "outputs": [],
     "prompt_number": null
    },
    {
     "cell_type": "markdown",
     "metadata": {},
     "source": [
      "### Testing Normal CIFAR10 on Large Stylised ResNet50\n",
      "\n",
      "The below code tests the stylised ResNet50 model on the stylised CIFAR10 test set and prints out the final accuracy of the model."
     ]
    },
    {
     "cell_type": "code",
     "collapsed": false,
     "input": [
      "# report test set accuracy\n",
      "big_stylised_model_torch = torchvision.models.resnet50().to(device)\n",
      "big_stylised_model_torch.load_state_dict(torch.load('./cifar100_style_torch.pth'))\n",
      "big_stylised_model_torch.to(device)\n",
      "check_accuracy(data_loader_test, big_stylised_model_torch)"
     ],
     "language": "python",
     "metadata": {},
     "outputs": [],
     "prompt_number": null
    },
    {
     "cell_type": "markdown",
     "metadata": {},
     "source": [
      "### Testing Normal CIFAR10 on Large Stylised ResNet50\n",
      "\n",
      "The below code tests the stylised ResNet50 model on the stylised CIFAR10 test set and prints out the final accuracy of the model."
     ]
    },
    {
     "cell_type": "code",
     "collapsed": false,
     "input": [
      "# report test set accuracy\n",
      "big_stylised_model_torch = torchvision.models.resnet50().to(device)\n",
      "big_stylised_model_torch.load_state_dict(torch.load('./cifar100_style_torch.pth'))\n",
      "big_stylised_model_torch.to(device)\n",
      "check_accuracy(data_loader_test_style_big, big_stylised_model_torch)"
     ],
     "language": "python",
     "metadata": {},
     "outputs": [],
     "prompt_number": null
    }
   ],
   "metadata": {}
  }
 ]
}
